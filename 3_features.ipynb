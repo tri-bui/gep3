{
 "cells": [
  {
   "cell_type": "markdown",
   "metadata": {},
   "source": [
    "# Great Energy Predictor - Features"
   ]
  },
  {
   "cell_type": "markdown",
   "metadata": {},
   "source": [
    "<a id='content3'></a>\n",
    "## Content\n",
    "\n",
    "1. [Data Description](#description3)\n",
    "2. [Imports](#imports3)\n",
    "3. [Data Preparation](#prep)\n",
    "4. [Feature Elimination](#elim)\n",
    "5. [Feature Selection](#seln)"
   ]
  },
  {
   "cell_type": "markdown",
   "metadata": {},
   "source": [
    "<a id='description3'></a>\n",
    "## 1. Data Description\n",
    "[Back to top](#content3)"
   ]
  },
  {
   "cell_type": "markdown",
   "metadata": {},
   "source": [
    "The data is a 2016 collection of energy meter readings (from over 1,000 buildings in 16 sites around the world) and weather measurements (from the nearest weather station for each site). It consists of 3 relational files of tabular data with the following features:\n",
    "##### 1. train.csv - contains energy consumption measurements from 4 types of building meters in 2016\n",
    "    - building_id - identifies the building\n",
    "        - There are 1449 buildings in 16 sites around the world in this dataset\n",
    "    - meter - meter type (not all buildings have all meter types)\n",
    "        - 0 - electricity\n",
    "        - 1 - chilldwater\n",
    "        - 2 - steam\n",
    "        - 3 - hotwater\n",
    "    - timestamp - date and time of the meter reading\n",
    "        - This dataset contains measurements over a span of an entire year\n",
    "    - meter_reading - Energy consumption, (this is the target variable)\n",
    "        - Electric meter readings are in kWh\n",
    "            - Electric meter readings for site 0 are in kBTU\n",
    "        - Chilled water meter readings are in tons\n",
    "            - Chilled water meter readings for site 0 are in kBTU\n",
    "        - Steam meter readings are in lbs\n",
    "        - Hot water meter readings are in mmBTU\n",
    "##### 2. weather_train.csv - contains weather measurements in 2016 from the weather station that is closest to the site\n",
    "    - site_id - identifies the site where the building is\n",
    "    - timestamp - date and time of the weather measurements\n",
    "    - air_temperature - air temperature, in degrees Celsius\n",
    "    - cloud_coverage - portion of the sky covered by clouds, in oktas\n",
    "    - dew_temperature - temperature at which dew forms, in degrees Celsius\n",
    "    - precip_depth_1_hr - measure of rainfail in 1 hour, in millimeters (mm)\n",
    "    - sea_level_pressure - atmospheric pressure at sea level, in millibar (mbar) or hectopascals (hPa)\n",
    "    - wind_direction - compass direction of the wind (0 - 360)\n",
    "    - wind_speed - wind speed, in meters per second (m/s)\n",
    "##### 3. building_metadata.csv - contains details about the buildings in the dataset\n",
    "    - site_id - identifies the site where the building is\n",
    "    - building_id - identifies the building\n",
    "    - primary_use - what the building is used for (based on EnergyStar's property types)\n",
    "    - square_feet - gross floor area of the building, in square feet (ft^2)\n",
    "    - year_built - year the building was opened\n",
    "    - floor_count - number of floors the building has\n",
    "    \n",
    "This data was retrieved from a public Kaggle competition hosted by ASHRAE.\n",
    "##### Source: https://www.kaggle.com/c/ashrae-energy-prediction/data"
   ]
  },
  {
   "cell_type": "markdown",
   "metadata": {},
   "source": [
    "<a id='imports3'></a>\n",
    "## 2. Imports\n",
    "[Back to top](#content3)"
   ]
  },
  {
   "cell_type": "markdown",
   "metadata": {},
   "source": [
    "##### Import libraries"
   ]
  },
  {
   "cell_type": "code",
   "execution_count": 1,
   "metadata": {
    "ExecuteTime": {
     "end_time": "2019-11-23T21:27:32.231170Z",
     "start_time": "2019-11-23T21:27:21.617510Z"
    }
   },
   "outputs": [],
   "source": [
    "%matplotlib inline\n",
    "\n",
    "import gc\n",
    "import datetime\n",
    "import numpy as np\n",
    "import pandas as pd\n",
    "import matplotlib.pyplot as plt\n",
    "import seaborn as sns\n",
    "from sklearn.preprocessing import OneHotEncoder\n",
    "from sklearn.model_selection import train_test_split, cross_val_score, GridSearchCV\n",
    "from sklearn.metrics import mean_squared_error, mean_squared_log_error\n",
    "from sklearn.linear_model import LinearRegression, Lasso, Ridge, ElasticNet\n",
    "from sklearn.tree import DecisionTreeRegressor\n",
    "from sklearn.ensemble import RandomForestRegressor\n",
    "\n",
    "# import ray.dataframe as pd"
   ]
  },
  {
   "cell_type": "code",
   "execution_count": 2,
   "metadata": {
    "ExecuteTime": {
     "end_time": "2019-11-23T21:27:32.244831Z",
     "start_time": "2019-11-23T21:27:32.242298Z"
    }
   },
   "outputs": [],
   "source": [
    "# Default plot settings\n",
    "sns.set(rc={'figure.figsize': (16, 6), \n",
    "            'font.size': 12})"
   ]
  },
  {
   "cell_type": "markdown",
   "metadata": {},
   "source": [
    "##### Import data"
   ]
  },
  {
   "cell_type": "code",
   "execution_count": 3,
   "metadata": {},
   "outputs": [],
   "source": [
    "data_path = '../data/output/'"
   ]
  },
  {
   "cell_type": "code",
   "execution_count": 4,
   "metadata": {},
   "outputs": [],
   "source": [
    "dtypes = {\n",
    "    'site_id': 'uint8',\n",
    "    'building_id': 'uint16',\n",
    "    'use_encoded': 'uint8',\n",
    "    'primary_use': 'category',\n",
    "    'year_built': 'uint16',\n",
    "    'floor_count': 'uint8',\n",
    "    'square_feet': 'uint32',\n",
    "    'month': 'uint8',\n",
    "    'day': 'uint8',\n",
    "    'hour': 'uint8',\n",
    "    'weekday': 'uint8',\n",
    "    'meter': 'uint8',\n",
    "    'type': 'category',\n",
    "    'meter_reading': 'float32',\n",
    "    'air_temperature': 'float32',\n",
    "    'dew_temperature': 'float32',\n",
    "    'sea_level_pressure': 'float32',\n",
    "    'cloud_coverage': 'uint8',\n",
    "    'precip_depth_1_hr': 'float32',\n",
    "    'wind_direction': 'uint16',\n",
    "    'wind_speed': 'float32'\n",
    "}"
   ]
  },
  {
   "cell_type": "code",
   "execution_count": 5,
   "metadata": {},
   "outputs": [
    {
     "name": "stdout",
     "output_type": "stream",
     "text": [
      "<class 'pandas.core.frame.DataFrame'>\n",
      "RangeIndex: 20137746 entries, 0 to 20137745\n",
      "Data columns (total 22 columns):\n",
      "site_id               uint8\n",
      "building_id           uint16\n",
      "use_encoded           uint8\n",
      "primary_use           category\n",
      "year_built            uint16\n",
      "floor_count           uint8\n",
      "square_feet           uint32\n",
      "timestamp             datetime64[ns]\n",
      "month                 uint8\n",
      "day                   uint8\n",
      "hour                  uint8\n",
      "weekday               uint8\n",
      "meter                 uint8\n",
      "type                  category\n",
      "meter_reading         float32\n",
      "air_temperature       float32\n",
      "dew_temperature       float32\n",
      "sea_level_pressure    float32\n",
      "cloud_coverage        uint8\n",
      "precip_depth_1_hr     float32\n",
      "wind_direction        uint16\n",
      "wind_speed            float32\n",
      "dtypes: category(2), datetime64[ns](1), float32(6), uint16(3), uint32(1), uint8(9)\n",
      "memory usage: 1017.9 MB\n"
     ]
    }
   ],
   "source": [
    "df = pd.read_csv(f'{data_path}eda_train.csv', dtype=dtypes, parse_dates=['timestamp']).iloc[:, 1:]\n",
    "df.info()"
   ]
  },
  {
   "cell_type": "code",
   "execution_count": 6,
   "metadata": {},
   "outputs": [
    {
     "data": {
      "text/plain": [
       "42"
      ]
     },
     "execution_count": 6,
     "metadata": {},
     "output_type": "execute_result"
    }
   ],
   "source": [
    "del dtypes\n",
    "gc.collect()"
   ]
  },
  {
   "cell_type": "markdown",
   "metadata": {},
   "source": [
    "<a id='prep'></a>\n",
    "## 3. Data Preparation\n",
    "[Back to top](#content3)"
   ]
  },
  {
   "cell_type": "markdown",
   "metadata": {},
   "source": [
    "The `timestamp` column cannot be used in modeling so it will be removed and represented by other numeric columns. The 2 categorical columns `primary_use` and `type` also cannot be used in modeling so they will also be removed. These 2 columns have already been encoded into integers in separate columns. But since these categorical variables have no ordering to their values, it makes more sense to one-hot encode them.\n",
    "\n",
    "##### Prepare the columns for feature selection"
   ]
  },
  {
   "cell_type": "code",
   "execution_count": 7,
   "metadata": {},
   "outputs": [
    {
     "data": {
      "text/html": [
       "<div>\n",
       "<style scoped>\n",
       "    .dataframe tbody tr th:only-of-type {\n",
       "        vertical-align: middle;\n",
       "    }\n",
       "\n",
       "    .dataframe tbody tr th {\n",
       "        vertical-align: top;\n",
       "    }\n",
       "\n",
       "    .dataframe thead th {\n",
       "        text-align: right;\n",
       "    }\n",
       "</style>\n",
       "<table border=\"1\" class=\"dataframe\">\n",
       "  <thead>\n",
       "    <tr style=\"text-align: right;\">\n",
       "      <th></th>\n",
       "      <th>site_id</th>\n",
       "      <th>building_id</th>\n",
       "      <th>use_encoded</th>\n",
       "      <th>primary_use</th>\n",
       "      <th>year_built</th>\n",
       "      <th>floor_count</th>\n",
       "      <th>square_feet</th>\n",
       "      <th>timestamp</th>\n",
       "      <th>month</th>\n",
       "      <th>day</th>\n",
       "      <th>...</th>\n",
       "      <th>type</th>\n",
       "      <th>meter_reading</th>\n",
       "      <th>air_temperature</th>\n",
       "      <th>dew_temperature</th>\n",
       "      <th>sea_level_pressure</th>\n",
       "      <th>cloud_coverage</th>\n",
       "      <th>precip_depth_1_hr</th>\n",
       "      <th>wind_direction</th>\n",
       "      <th>wind_speed</th>\n",
       "      <th>day_of_year</th>\n",
       "    </tr>\n",
       "  </thead>\n",
       "  <tbody>\n",
       "    <tr>\n",
       "      <th>20137741</th>\n",
       "      <td>15</td>\n",
       "      <td>1444</td>\n",
       "      <td>1</td>\n",
       "      <td>Entertainment/public assembly</td>\n",
       "      <td>1914</td>\n",
       "      <td>1</td>\n",
       "      <td>19619</td>\n",
       "      <td>2016-12-31 23:00:00</td>\n",
       "      <td>12</td>\n",
       "      <td>31</td>\n",
       "      <td>...</td>\n",
       "      <td>electricity</td>\n",
       "      <td>8.750000</td>\n",
       "      <td>1.7</td>\n",
       "      <td>-5.6</td>\n",
       "      <td>1008.5</td>\n",
       "      <td>2</td>\n",
       "      <td>0.01</td>\n",
       "      <td>180</td>\n",
       "      <td>8.8</td>\n",
       "      <td>366</td>\n",
       "    </tr>\n",
       "    <tr>\n",
       "      <th>20137742</th>\n",
       "      <td>15</td>\n",
       "      <td>1445</td>\n",
       "      <td>0</td>\n",
       "      <td>Education</td>\n",
       "      <td>1964</td>\n",
       "      <td>1</td>\n",
       "      <td>4298</td>\n",
       "      <td>2016-12-31 23:00:00</td>\n",
       "      <td>12</td>\n",
       "      <td>31</td>\n",
       "      <td>...</td>\n",
       "      <td>electricity</td>\n",
       "      <td>4.825000</td>\n",
       "      <td>1.7</td>\n",
       "      <td>-5.6</td>\n",
       "      <td>1008.5</td>\n",
       "      <td>2</td>\n",
       "      <td>0.01</td>\n",
       "      <td>180</td>\n",
       "      <td>8.8</td>\n",
       "      <td>366</td>\n",
       "    </tr>\n",
       "    <tr>\n",
       "      <th>20137743</th>\n",
       "      <td>15</td>\n",
       "      <td>1446</td>\n",
       "      <td>1</td>\n",
       "      <td>Entertainment/public assembly</td>\n",
       "      <td>1997</td>\n",
       "      <td>1</td>\n",
       "      <td>11265</td>\n",
       "      <td>2016-12-31 23:00:00</td>\n",
       "      <td>12</td>\n",
       "      <td>31</td>\n",
       "      <td>...</td>\n",
       "      <td>electricity</td>\n",
       "      <td>0.000000</td>\n",
       "      <td>1.7</td>\n",
       "      <td>-5.6</td>\n",
       "      <td>1008.5</td>\n",
       "      <td>2</td>\n",
       "      <td>0.01</td>\n",
       "      <td>180</td>\n",
       "      <td>8.8</td>\n",
       "      <td>366</td>\n",
       "    </tr>\n",
       "    <tr>\n",
       "      <th>20137744</th>\n",
       "      <td>15</td>\n",
       "      <td>1447</td>\n",
       "      <td>4</td>\n",
       "      <td>Lodging/residential</td>\n",
       "      <td>2001</td>\n",
       "      <td>1</td>\n",
       "      <td>29775</td>\n",
       "      <td>2016-12-31 23:00:00</td>\n",
       "      <td>12</td>\n",
       "      <td>31</td>\n",
       "      <td>...</td>\n",
       "      <td>electricity</td>\n",
       "      <td>159.574997</td>\n",
       "      <td>1.7</td>\n",
       "      <td>-5.6</td>\n",
       "      <td>1008.5</td>\n",
       "      <td>2</td>\n",
       "      <td>0.01</td>\n",
       "      <td>180</td>\n",
       "      <td>8.8</td>\n",
       "      <td>366</td>\n",
       "    </tr>\n",
       "    <tr>\n",
       "      <th>20137745</th>\n",
       "      <td>15</td>\n",
       "      <td>1448</td>\n",
       "      <td>6</td>\n",
       "      <td>Office</td>\n",
       "      <td>2001</td>\n",
       "      <td>3</td>\n",
       "      <td>92271</td>\n",
       "      <td>2016-12-31 23:00:00</td>\n",
       "      <td>12</td>\n",
       "      <td>31</td>\n",
       "      <td>...</td>\n",
       "      <td>electricity</td>\n",
       "      <td>2.850000</td>\n",
       "      <td>1.7</td>\n",
       "      <td>-5.6</td>\n",
       "      <td>1008.5</td>\n",
       "      <td>2</td>\n",
       "      <td>0.01</td>\n",
       "      <td>180</td>\n",
       "      <td>8.8</td>\n",
       "      <td>366</td>\n",
       "    </tr>\n",
       "  </tbody>\n",
       "</table>\n",
       "<p>5 rows × 23 columns</p>\n",
       "</div>"
      ],
      "text/plain": [
       "          site_id  building_id  use_encoded                    primary_use  \\\n",
       "20137741       15         1444            1  Entertainment/public assembly   \n",
       "20137742       15         1445            0                      Education   \n",
       "20137743       15         1446            1  Entertainment/public assembly   \n",
       "20137744       15         1447            4            Lodging/residential   \n",
       "20137745       15         1448            6                         Office   \n",
       "\n",
       "          year_built  floor_count  square_feet           timestamp  month  \\\n",
       "20137741        1914            1        19619 2016-12-31 23:00:00     12   \n",
       "20137742        1964            1         4298 2016-12-31 23:00:00     12   \n",
       "20137743        1997            1        11265 2016-12-31 23:00:00     12   \n",
       "20137744        2001            1        29775 2016-12-31 23:00:00     12   \n",
       "20137745        2001            3        92271 2016-12-31 23:00:00     12   \n",
       "\n",
       "          day  ...         type  meter_reading  air_temperature  \\\n",
       "20137741   31  ...  electricity       8.750000              1.7   \n",
       "20137742   31  ...  electricity       4.825000              1.7   \n",
       "20137743   31  ...  electricity       0.000000              1.7   \n",
       "20137744   31  ...  electricity     159.574997              1.7   \n",
       "20137745   31  ...  electricity       2.850000              1.7   \n",
       "\n",
       "         dew_temperature  sea_level_pressure  cloud_coverage  \\\n",
       "20137741            -5.6              1008.5               2   \n",
       "20137742            -5.6              1008.5               2   \n",
       "20137743            -5.6              1008.5               2   \n",
       "20137744            -5.6              1008.5               2   \n",
       "20137745            -5.6              1008.5               2   \n",
       "\n",
       "          precip_depth_1_hr  wind_direction  wind_speed  day_of_year  \n",
       "20137741               0.01             180         8.8          366  \n",
       "20137742               0.01             180         8.8          366  \n",
       "20137743               0.01             180         8.8          366  \n",
       "20137744               0.01             180         8.8          366  \n",
       "20137745               0.01             180         8.8          366  \n",
       "\n",
       "[5 rows x 23 columns]"
      ]
     },
     "execution_count": 7,
     "metadata": {},
     "output_type": "execute_result"
    }
   ],
   "source": [
    "# Calculate day of the year\n",
    "df['day_of_year'] = df.timestamp.astype('datetime64[D]') - pd.datetime(2015, 12, 31)\n",
    "df.day_of_year = df.day_of_year.astype('timedelta64[D]').astype('uint16')\n",
    "\n",
    "df.tail()"
   ]
  },
  {
   "cell_type": "code",
   "execution_count": 8,
   "metadata": {},
   "outputs": [
    {
     "data": {
      "text/html": [
       "<div>\n",
       "<style scoped>\n",
       "    .dataframe tbody tr th:only-of-type {\n",
       "        vertical-align: middle;\n",
       "    }\n",
       "\n",
       "    .dataframe tbody tr th {\n",
       "        vertical-align: top;\n",
       "    }\n",
       "\n",
       "    .dataframe thead tr th {\n",
       "        text-align: left;\n",
       "    }\n",
       "</style>\n",
       "<table border=\"1\" class=\"dataframe\">\n",
       "  <thead>\n",
       "    <tr>\n",
       "      <th></th>\n",
       "      <th>Education</th>\n",
       "      <th>Entertainment/public assembly</th>\n",
       "      <th>Food sales and service</th>\n",
       "      <th>Healthcare</th>\n",
       "      <th>Lodging/residential</th>\n",
       "      <th>Manufacturing/industrial</th>\n",
       "      <th>Office</th>\n",
       "      <th>Other</th>\n",
       "      <th>Parking</th>\n",
       "      <th>Public services</th>\n",
       "      <th>Religious worship</th>\n",
       "      <th>Retail</th>\n",
       "      <th>Services</th>\n",
       "      <th>Technology/science</th>\n",
       "      <th>Utility</th>\n",
       "      <th>Warehouse/storage</th>\n",
       "    </tr>\n",
       "  </thead>\n",
       "  <tbody>\n",
       "    <tr>\n",
       "      <th>0</th>\n",
       "      <td>1</td>\n",
       "      <td>0</td>\n",
       "      <td>0</td>\n",
       "      <td>0</td>\n",
       "      <td>0</td>\n",
       "      <td>0</td>\n",
       "      <td>0</td>\n",
       "      <td>0</td>\n",
       "      <td>0</td>\n",
       "      <td>0</td>\n",
       "      <td>0</td>\n",
       "      <td>0</td>\n",
       "      <td>0</td>\n",
       "      <td>0</td>\n",
       "      <td>0</td>\n",
       "      <td>0</td>\n",
       "    </tr>\n",
       "    <tr>\n",
       "      <th>1</th>\n",
       "      <td>1</td>\n",
       "      <td>0</td>\n",
       "      <td>0</td>\n",
       "      <td>0</td>\n",
       "      <td>0</td>\n",
       "      <td>0</td>\n",
       "      <td>0</td>\n",
       "      <td>0</td>\n",
       "      <td>0</td>\n",
       "      <td>0</td>\n",
       "      <td>0</td>\n",
       "      <td>0</td>\n",
       "      <td>0</td>\n",
       "      <td>0</td>\n",
       "      <td>0</td>\n",
       "      <td>0</td>\n",
       "    </tr>\n",
       "    <tr>\n",
       "      <th>2</th>\n",
       "      <td>1</td>\n",
       "      <td>0</td>\n",
       "      <td>0</td>\n",
       "      <td>0</td>\n",
       "      <td>0</td>\n",
       "      <td>0</td>\n",
       "      <td>0</td>\n",
       "      <td>0</td>\n",
       "      <td>0</td>\n",
       "      <td>0</td>\n",
       "      <td>0</td>\n",
       "      <td>0</td>\n",
       "      <td>0</td>\n",
       "      <td>0</td>\n",
       "      <td>0</td>\n",
       "      <td>0</td>\n",
       "    </tr>\n",
       "    <tr>\n",
       "      <th>3</th>\n",
       "      <td>1</td>\n",
       "      <td>0</td>\n",
       "      <td>0</td>\n",
       "      <td>0</td>\n",
       "      <td>0</td>\n",
       "      <td>0</td>\n",
       "      <td>0</td>\n",
       "      <td>0</td>\n",
       "      <td>0</td>\n",
       "      <td>0</td>\n",
       "      <td>0</td>\n",
       "      <td>0</td>\n",
       "      <td>0</td>\n",
       "      <td>0</td>\n",
       "      <td>0</td>\n",
       "      <td>0</td>\n",
       "    </tr>\n",
       "    <tr>\n",
       "      <th>4</th>\n",
       "      <td>1</td>\n",
       "      <td>0</td>\n",
       "      <td>0</td>\n",
       "      <td>0</td>\n",
       "      <td>0</td>\n",
       "      <td>0</td>\n",
       "      <td>0</td>\n",
       "      <td>0</td>\n",
       "      <td>0</td>\n",
       "      <td>0</td>\n",
       "      <td>0</td>\n",
       "      <td>0</td>\n",
       "      <td>0</td>\n",
       "      <td>0</td>\n",
       "      <td>0</td>\n",
       "      <td>0</td>\n",
       "    </tr>\n",
       "  </tbody>\n",
       "</table>\n",
       "</div>"
      ],
      "text/plain": [
       "  Education Entertainment/public assembly Food sales and service Healthcare  \\\n",
       "0         1                             0                      0          0   \n",
       "1         1                             0                      0          0   \n",
       "2         1                             0                      0          0   \n",
       "3         1                             0                      0          0   \n",
       "4         1                             0                      0          0   \n",
       "\n",
       "  Lodging/residential Manufacturing/industrial Office Other Parking  \\\n",
       "0                   0                        0      0     0       0   \n",
       "1                   0                        0      0     0       0   \n",
       "2                   0                        0      0     0       0   \n",
       "3                   0                        0      0     0       0   \n",
       "4                   0                        0      0     0       0   \n",
       "\n",
       "  Public services Religious worship Retail Services Technology/science  \\\n",
       "0               0                 0      0        0                  0   \n",
       "1               0                 0      0        0                  0   \n",
       "2               0                 0      0        0                  0   \n",
       "3               0                 0      0        0                  0   \n",
       "4               0                 0      0        0                  0   \n",
       "\n",
       "  Utility Warehouse/storage  \n",
       "0       0                 0  \n",
       "1       0                 0  \n",
       "2       0                 0  \n",
       "3       0                 0  \n",
       "4       0                 0  "
      ]
     },
     "execution_count": 8,
     "metadata": {},
     "output_type": "execute_result"
    }
   ],
   "source": [
    "# One-hot encode primary_use\n",
    "encoder1 = OneHotEncoder(sparse=False)\n",
    "primary_use_ohe = encoder1.fit_transform(df[['primary_use']])\n",
    "\n",
    "# Convert to dataframe\n",
    "primary_use_ohe = pd.DataFrame(primary_use_ohe, columns=encoder1.categories_)\n",
    "primary_use_ohe = primary_use_ohe.astype('uint8')\n",
    "primary_use_ohe.head()"
   ]
  },
  {
   "cell_type": "code",
   "execution_count": 9,
   "metadata": {},
   "outputs": [
    {
     "data": {
      "text/html": [
       "<div>\n",
       "<style scoped>\n",
       "    .dataframe tbody tr th:only-of-type {\n",
       "        vertical-align: middle;\n",
       "    }\n",
       "\n",
       "    .dataframe tbody tr th {\n",
       "        vertical-align: top;\n",
       "    }\n",
       "\n",
       "    .dataframe thead tr th {\n",
       "        text-align: left;\n",
       "    }\n",
       "</style>\n",
       "<table border=\"1\" class=\"dataframe\">\n",
       "  <thead>\n",
       "    <tr>\n",
       "      <th></th>\n",
       "      <th>chilledwater</th>\n",
       "      <th>electricity</th>\n",
       "      <th>hotwater</th>\n",
       "      <th>steam</th>\n",
       "    </tr>\n",
       "  </thead>\n",
       "  <tbody>\n",
       "    <tr>\n",
       "      <th>0</th>\n",
       "      <td>0</td>\n",
       "      <td>1</td>\n",
       "      <td>0</td>\n",
       "      <td>0</td>\n",
       "    </tr>\n",
       "    <tr>\n",
       "      <th>1</th>\n",
       "      <td>0</td>\n",
       "      <td>1</td>\n",
       "      <td>0</td>\n",
       "      <td>0</td>\n",
       "    </tr>\n",
       "    <tr>\n",
       "      <th>2</th>\n",
       "      <td>0</td>\n",
       "      <td>1</td>\n",
       "      <td>0</td>\n",
       "      <td>0</td>\n",
       "    </tr>\n",
       "    <tr>\n",
       "      <th>3</th>\n",
       "      <td>0</td>\n",
       "      <td>1</td>\n",
       "      <td>0</td>\n",
       "      <td>0</td>\n",
       "    </tr>\n",
       "    <tr>\n",
       "      <th>4</th>\n",
       "      <td>0</td>\n",
       "      <td>1</td>\n",
       "      <td>0</td>\n",
       "      <td>0</td>\n",
       "    </tr>\n",
       "  </tbody>\n",
       "</table>\n",
       "</div>"
      ],
      "text/plain": [
       "  chilledwater electricity hotwater steam\n",
       "0            0           1        0     0\n",
       "1            0           1        0     0\n",
       "2            0           1        0     0\n",
       "3            0           1        0     0\n",
       "4            0           1        0     0"
      ]
     },
     "execution_count": 9,
     "metadata": {},
     "output_type": "execute_result"
    }
   ],
   "source": [
    "# One-hot encode meter type\n",
    "encoder2 = OneHotEncoder(sparse=False)\n",
    "meter_type_ohe = encoder2.fit_transform(df[['type']])\n",
    "\n",
    "# Convert to dataframe\n",
    "meter_type_ohe = pd.DataFrame(meter_type_ohe, columns=encoder2.categories_)\n",
    "meter_type_ohe = meter_type_ohe.astype('uint8')\n",
    "meter_type_ohe.head()"
   ]
  },
  {
   "cell_type": "code",
   "execution_count": 10,
   "metadata": {},
   "outputs": [
    {
     "data": {
      "text/html": [
       "<div>\n",
       "<style scoped>\n",
       "    .dataframe tbody tr th:only-of-type {\n",
       "        vertical-align: middle;\n",
       "    }\n",
       "\n",
       "    .dataframe tbody tr th {\n",
       "        vertical-align: top;\n",
       "    }\n",
       "\n",
       "    .dataframe thead tr th {\n",
       "        text-align: left;\n",
       "    }\n",
       "</style>\n",
       "<table border=\"1\" class=\"dataframe\">\n",
       "  <thead>\n",
       "    <tr>\n",
       "      <th></th>\n",
       "      <th>chilledwater</th>\n",
       "      <th>electricity</th>\n",
       "      <th>hotwater</th>\n",
       "      <th>steam</th>\n",
       "      <th>Education</th>\n",
       "      <th>Entertainment/public assembly</th>\n",
       "      <th>Food sales and service</th>\n",
       "      <th>Healthcare</th>\n",
       "      <th>Lodging/residential</th>\n",
       "      <th>Manufacturing/industrial</th>\n",
       "      <th>Office</th>\n",
       "      <th>Other</th>\n",
       "      <th>Parking</th>\n",
       "      <th>Public services</th>\n",
       "      <th>Religious worship</th>\n",
       "      <th>Retail</th>\n",
       "      <th>Services</th>\n",
       "      <th>Technology/science</th>\n",
       "      <th>Utility</th>\n",
       "      <th>Warehouse/storage</th>\n",
       "    </tr>\n",
       "  </thead>\n",
       "  <tbody>\n",
       "    <tr>\n",
       "      <th>0</th>\n",
       "      <td>0</td>\n",
       "      <td>1</td>\n",
       "      <td>0</td>\n",
       "      <td>0</td>\n",
       "      <td>1</td>\n",
       "      <td>0</td>\n",
       "      <td>0</td>\n",
       "      <td>0</td>\n",
       "      <td>0</td>\n",
       "      <td>0</td>\n",
       "      <td>0</td>\n",
       "      <td>0</td>\n",
       "      <td>0</td>\n",
       "      <td>0</td>\n",
       "      <td>0</td>\n",
       "      <td>0</td>\n",
       "      <td>0</td>\n",
       "      <td>0</td>\n",
       "      <td>0</td>\n",
       "      <td>0</td>\n",
       "    </tr>\n",
       "    <tr>\n",
       "      <th>1</th>\n",
       "      <td>0</td>\n",
       "      <td>1</td>\n",
       "      <td>0</td>\n",
       "      <td>0</td>\n",
       "      <td>1</td>\n",
       "      <td>0</td>\n",
       "      <td>0</td>\n",
       "      <td>0</td>\n",
       "      <td>0</td>\n",
       "      <td>0</td>\n",
       "      <td>0</td>\n",
       "      <td>0</td>\n",
       "      <td>0</td>\n",
       "      <td>0</td>\n",
       "      <td>0</td>\n",
       "      <td>0</td>\n",
       "      <td>0</td>\n",
       "      <td>0</td>\n",
       "      <td>0</td>\n",
       "      <td>0</td>\n",
       "    </tr>\n",
       "    <tr>\n",
       "      <th>2</th>\n",
       "      <td>0</td>\n",
       "      <td>1</td>\n",
       "      <td>0</td>\n",
       "      <td>0</td>\n",
       "      <td>1</td>\n",
       "      <td>0</td>\n",
       "      <td>0</td>\n",
       "      <td>0</td>\n",
       "      <td>0</td>\n",
       "      <td>0</td>\n",
       "      <td>0</td>\n",
       "      <td>0</td>\n",
       "      <td>0</td>\n",
       "      <td>0</td>\n",
       "      <td>0</td>\n",
       "      <td>0</td>\n",
       "      <td>0</td>\n",
       "      <td>0</td>\n",
       "      <td>0</td>\n",
       "      <td>0</td>\n",
       "    </tr>\n",
       "    <tr>\n",
       "      <th>3</th>\n",
       "      <td>0</td>\n",
       "      <td>1</td>\n",
       "      <td>0</td>\n",
       "      <td>0</td>\n",
       "      <td>1</td>\n",
       "      <td>0</td>\n",
       "      <td>0</td>\n",
       "      <td>0</td>\n",
       "      <td>0</td>\n",
       "      <td>0</td>\n",
       "      <td>0</td>\n",
       "      <td>0</td>\n",
       "      <td>0</td>\n",
       "      <td>0</td>\n",
       "      <td>0</td>\n",
       "      <td>0</td>\n",
       "      <td>0</td>\n",
       "      <td>0</td>\n",
       "      <td>0</td>\n",
       "      <td>0</td>\n",
       "    </tr>\n",
       "    <tr>\n",
       "      <th>4</th>\n",
       "      <td>0</td>\n",
       "      <td>1</td>\n",
       "      <td>0</td>\n",
       "      <td>0</td>\n",
       "      <td>1</td>\n",
       "      <td>0</td>\n",
       "      <td>0</td>\n",
       "      <td>0</td>\n",
       "      <td>0</td>\n",
       "      <td>0</td>\n",
       "      <td>0</td>\n",
       "      <td>0</td>\n",
       "      <td>0</td>\n",
       "      <td>0</td>\n",
       "      <td>0</td>\n",
       "      <td>0</td>\n",
       "      <td>0</td>\n",
       "      <td>0</td>\n",
       "      <td>0</td>\n",
       "      <td>0</td>\n",
       "    </tr>\n",
       "  </tbody>\n",
       "</table>\n",
       "</div>"
      ],
      "text/plain": [
       "  chilledwater electricity hotwater steam Education  \\\n",
       "0            0           1        0     0         1   \n",
       "1            0           1        0     0         1   \n",
       "2            0           1        0     0         1   \n",
       "3            0           1        0     0         1   \n",
       "4            0           1        0     0         1   \n",
       "\n",
       "  Entertainment/public assembly Food sales and service Healthcare  \\\n",
       "0                             0                      0          0   \n",
       "1                             0                      0          0   \n",
       "2                             0                      0          0   \n",
       "3                             0                      0          0   \n",
       "4                             0                      0          0   \n",
       "\n",
       "  Lodging/residential Manufacturing/industrial Office Other Parking  \\\n",
       "0                   0                        0      0     0       0   \n",
       "1                   0                        0      0     0       0   \n",
       "2                   0                        0      0     0       0   \n",
       "3                   0                        0      0     0       0   \n",
       "4                   0                        0      0     0       0   \n",
       "\n",
       "  Public services Religious worship Retail Services Technology/science  \\\n",
       "0               0                 0      0        0                  0   \n",
       "1               0                 0      0        0                  0   \n",
       "2               0                 0      0        0                  0   \n",
       "3               0                 0      0        0                  0   \n",
       "4               0                 0      0        0                  0   \n",
       "\n",
       "  Utility Warehouse/storage  \n",
       "0       0                 0  \n",
       "1       0                 0  \n",
       "2       0                 0  \n",
       "3       0                 0  \n",
       "4       0                 0  "
      ]
     },
     "execution_count": 10,
     "metadata": {},
     "output_type": "execute_result"
    }
   ],
   "source": [
    "# Combine the 2 encoded categories\n",
    "cats_ohe = pd.concat([meter_type_ohe, primary_use_ohe], axis=1)\n",
    "cats_ohe.head()"
   ]
  },
  {
   "cell_type": "code",
   "execution_count": 11,
   "metadata": {},
   "outputs": [
    {
     "name": "stdout",
     "output_type": "stream",
     "text": [
      "<class 'pandas.core.frame.DataFrame'>\n",
      "RangeIndex: 20137746 entries, 0 to 20137745\n",
      "Data columns (total 20 columns):\n",
      "site_id               uint8\n",
      "building_id           uint16\n",
      "use_encoded           uint8\n",
      "year_built            uint16\n",
      "floor_count           uint8\n",
      "square_feet           uint32\n",
      "month                 uint8\n",
      "day                   uint8\n",
      "hour                  uint8\n",
      "weekday               uint8\n",
      "meter                 uint8\n",
      "meter_reading         float32\n",
      "air_temperature       float32\n",
      "dew_temperature       float32\n",
      "sea_level_pressure    float32\n",
      "cloud_coverage        uint8\n",
      "precip_depth_1_hr     float32\n",
      "wind_direction        uint16\n",
      "wind_speed            float32\n",
      "day_of_year           uint16\n",
      "dtypes: float32(6), uint16(4), uint32(1), uint8(9)\n",
      "memory usage: 864.2 MB\n"
     ]
    }
   ],
   "source": [
    "# Drop non-numeric columns\n",
    "df.drop(['timestamp', 'primary_use', 'type'], axis=1, inplace=True)\n",
    "df.info()"
   ]
  },
  {
   "cell_type": "code",
   "execution_count": 12,
   "metadata": {},
   "outputs": [],
   "source": [
    "del encoder1, encoder2, primary_use_ohe, meter_type_ohe"
   ]
  },
  {
   "cell_type": "markdown",
   "metadata": {},
   "source": [
    "##### Separate the target variable and split the dataset into a train and test set"
   ]
  },
  {
   "cell_type": "code",
   "execution_count": 13,
   "metadata": {},
   "outputs": [
    {
     "name": "stdout",
     "output_type": "stream",
     "text": [
      "X_train: (16110196, 19)\n",
      "X_test: (4027550, 19)\n",
      "y_train: (16110196,)\n",
      "y_test: (4027550,)\n"
     ]
    }
   ],
   "source": [
    "# Variables and target\n",
    "X = df.drop('meter_reading', axis=1)\n",
    "y = df.meter_reading\n",
    "\n",
    "# Train-test split\n",
    "X_train, X_test, y_train, y_test = train_test_split(X, y, test_size = 0.2, random_state=42)\n",
    "\n",
    "# Train-test split for one-hot encoded categorical variables\n",
    "cat_train, cat_test, lab_train, lab_test = train_test_split(cats_ohe, y, test_size=0.2, random_state=42)\n",
    "\n",
    "print(f'X_train: {X_train.shape}')\n",
    "print(f'X_test: {X_test.shape}')\n",
    "print(f'y_train: {y_train.shape}')\n",
    "print(f'y_test: {y_test.shape}')"
   ]
  },
  {
   "cell_type": "code",
   "execution_count": 14,
   "metadata": {},
   "outputs": [
    {
     "data": {
      "text/plain": [
       "88"
      ]
     },
     "execution_count": 14,
     "metadata": {},
     "output_type": "execute_result"
    }
   ],
   "source": [
    "del df, cats_ohe, lab_train, lab_test\n",
    "gc.collect()"
   ]
  },
  {
   "cell_type": "markdown",
   "metadata": {},
   "source": [
    "Now the data is ready for feature selection. The one-hot encoded categorical variables are kept separate to avoid cluttering the training data. "
   ]
  },
  {
   "cell_type": "markdown",
   "metadata": {},
   "source": [
    "<a id='elim'></a>\n",
    "## 4. Feature Elimination\n",
    "[Back to top](#content3)"
   ]
  },
  {
   "cell_type": "markdown",
   "metadata": {},
   "source": [
    "##### Constant and quasi-constant features"
   ]
  },
  {
   "cell_type": "code",
   "execution_count": 15,
   "metadata": {},
   "outputs": [
    {
     "data": {
      "text/html": [
       "<div>\n",
       "<style scoped>\n",
       "    .dataframe tbody tr th:only-of-type {\n",
       "        vertical-align: middle;\n",
       "    }\n",
       "\n",
       "    .dataframe tbody tr th {\n",
       "        vertical-align: top;\n",
       "    }\n",
       "\n",
       "    .dataframe thead th {\n",
       "        text-align: right;\n",
       "    }\n",
       "</style>\n",
       "<table border=\"1\" class=\"dataframe\">\n",
       "  <thead>\n",
       "    <tr style=\"text-align: right;\">\n",
       "      <th></th>\n",
       "      <th>variance</th>\n",
       "      <th>constant</th>\n",
       "      <th>quasiconstant</th>\n",
       "    </tr>\n",
       "  </thead>\n",
       "  <tbody>\n",
       "    <tr>\n",
       "      <th>site_id</th>\n",
       "      <td>2.589821e+01</td>\n",
       "      <td>False</td>\n",
       "      <td>False</td>\n",
       "    </tr>\n",
       "    <tr>\n",
       "      <th>building_id</th>\n",
       "      <td>1.812953e+05</td>\n",
       "      <td>False</td>\n",
       "      <td>False</td>\n",
       "    </tr>\n",
       "    <tr>\n",
       "      <th>use_encoded</th>\n",
       "      <td>1.187137e+01</td>\n",
       "      <td>False</td>\n",
       "      <td>False</td>\n",
       "    </tr>\n",
       "    <tr>\n",
       "      <th>year_built</th>\n",
       "      <td>3.844191e+02</td>\n",
       "      <td>False</td>\n",
       "      <td>False</td>\n",
       "    </tr>\n",
       "    <tr>\n",
       "      <th>floor_count</th>\n",
       "      <td>1.256733e+01</td>\n",
       "      <td>False</td>\n",
       "      <td>False</td>\n",
       "    </tr>\n",
       "    <tr>\n",
       "      <th>square_feet</th>\n",
       "      <td>1.375616e+10</td>\n",
       "      <td>False</td>\n",
       "      <td>False</td>\n",
       "    </tr>\n",
       "    <tr>\n",
       "      <th>month</th>\n",
       "      <td>1.181234e+01</td>\n",
       "      <td>False</td>\n",
       "      <td>False</td>\n",
       "    </tr>\n",
       "    <tr>\n",
       "      <th>day</th>\n",
       "      <td>7.779519e+01</td>\n",
       "      <td>False</td>\n",
       "      <td>False</td>\n",
       "    </tr>\n",
       "    <tr>\n",
       "      <th>hour</th>\n",
       "      <td>4.792584e+01</td>\n",
       "      <td>False</td>\n",
       "      <td>False</td>\n",
       "    </tr>\n",
       "    <tr>\n",
       "      <th>weekday</th>\n",
       "      <td>3.988601e+00</td>\n",
       "      <td>False</td>\n",
       "      <td>False</td>\n",
       "    </tr>\n",
       "    <tr>\n",
       "      <th>meter</th>\n",
       "      <td>8.688400e-01</td>\n",
       "      <td>False</td>\n",
       "      <td>False</td>\n",
       "    </tr>\n",
       "    <tr>\n",
       "      <th>air_temperature</th>\n",
       "      <td>1.204038e+02</td>\n",
       "      <td>False</td>\n",
       "      <td>False</td>\n",
       "    </tr>\n",
       "    <tr>\n",
       "      <th>dew_temperature</th>\n",
       "      <td>1.037428e+02</td>\n",
       "      <td>False</td>\n",
       "      <td>False</td>\n",
       "    </tr>\n",
       "    <tr>\n",
       "      <th>sea_level_pressure</th>\n",
       "      <td>5.247845e+01</td>\n",
       "      <td>False</td>\n",
       "      <td>False</td>\n",
       "    </tr>\n",
       "    <tr>\n",
       "      <th>cloud_coverage</th>\n",
       "      <td>7.361325e+00</td>\n",
       "      <td>False</td>\n",
       "      <td>False</td>\n",
       "    </tr>\n",
       "    <tr>\n",
       "      <th>precip_depth_1_hr</th>\n",
       "      <td>8.025482e+01</td>\n",
       "      <td>False</td>\n",
       "      <td>False</td>\n",
       "    </tr>\n",
       "    <tr>\n",
       "      <th>wind_direction</th>\n",
       "      <td>1.126765e+04</td>\n",
       "      <td>False</td>\n",
       "      <td>False</td>\n",
       "    </tr>\n",
       "    <tr>\n",
       "      <th>wind_speed</th>\n",
       "      <td>5.128145e+00</td>\n",
       "      <td>False</td>\n",
       "      <td>False</td>\n",
       "    </tr>\n",
       "    <tr>\n",
       "      <th>day_of_year</th>\n",
       "      <td>1.108220e+04</td>\n",
       "      <td>False</td>\n",
       "      <td>False</td>\n",
       "    </tr>\n",
       "  </tbody>\n",
       "</table>\n",
       "</div>"
      ],
      "text/plain": [
       "                        variance  constant  quasiconstant\n",
       "site_id             2.589821e+01     False          False\n",
       "building_id         1.812953e+05     False          False\n",
       "use_encoded         1.187137e+01     False          False\n",
       "year_built          3.844191e+02     False          False\n",
       "floor_count         1.256733e+01     False          False\n",
       "square_feet         1.375616e+10     False          False\n",
       "month               1.181234e+01     False          False\n",
       "day                 7.779519e+01     False          False\n",
       "hour                4.792584e+01     False          False\n",
       "weekday             3.988601e+00     False          False\n",
       "meter               8.688400e-01     False          False\n",
       "air_temperature     1.204038e+02     False          False\n",
       "dew_temperature     1.037428e+02     False          False\n",
       "sea_level_pressure  5.247845e+01     False          False\n",
       "cloud_coverage      7.361325e+00     False          False\n",
       "precip_depth_1_hr   8.025482e+01     False          False\n",
       "wind_direction      1.126765e+04     False          False\n",
       "wind_speed          5.128145e+00     False          False\n",
       "day_of_year         1.108220e+04     False          False"
      ]
     },
     "execution_count": 15,
     "metadata": {},
     "output_type": "execute_result"
    }
   ],
   "source": [
    "# Main data\n",
    "const = pd.DataFrame(X_train.var(), columns=['variance'])\n",
    "const['constant'] = const.variance == 0\n",
    "const['quasiconstant'] = const.variance < 0.01\n",
    "const"
   ]
  },
  {
   "cell_type": "code",
   "execution_count": 16,
   "metadata": {},
   "outputs": [
    {
     "data": {
      "text/html": [
       "<div>\n",
       "<style scoped>\n",
       "    .dataframe tbody tr th:only-of-type {\n",
       "        vertical-align: middle;\n",
       "    }\n",
       "\n",
       "    .dataframe tbody tr th {\n",
       "        vertical-align: top;\n",
       "    }\n",
       "\n",
       "    .dataframe thead th {\n",
       "        text-align: right;\n",
       "    }\n",
       "</style>\n",
       "<table border=\"1\" class=\"dataframe\">\n",
       "  <thead>\n",
       "    <tr style=\"text-align: right;\">\n",
       "      <th></th>\n",
       "      <th>variance</th>\n",
       "      <th>quasiconstant</th>\n",
       "    </tr>\n",
       "  </thead>\n",
       "  <tbody>\n",
       "    <tr>\n",
       "      <th>chilledwater</th>\n",
       "      <td>0.164187</td>\n",
       "      <td>False</td>\n",
       "    </tr>\n",
       "    <tr>\n",
       "      <th>electricity</th>\n",
       "      <td>0.240858</td>\n",
       "      <td>False</td>\n",
       "    </tr>\n",
       "    <tr>\n",
       "      <th>hotwater</th>\n",
       "      <td>0.058870</td>\n",
       "      <td>False</td>\n",
       "    </tr>\n",
       "    <tr>\n",
       "      <th>steam</th>\n",
       "      <td>0.116416</td>\n",
       "      <td>False</td>\n",
       "    </tr>\n",
       "    <tr>\n",
       "      <th>Education</th>\n",
       "      <td>0.240752</td>\n",
       "      <td>False</td>\n",
       "    </tr>\n",
       "    <tr>\n",
       "      <th>Entertainment/public assembly</th>\n",
       "      <td>0.099653</td>\n",
       "      <td>False</td>\n",
       "    </tr>\n",
       "    <tr>\n",
       "      <th>Food sales and service</th>\n",
       "      <td>0.005625</td>\n",
       "      <td>True</td>\n",
       "    </tr>\n",
       "    <tr>\n",
       "      <th>Healthcare</th>\n",
       "      <td>0.019373</td>\n",
       "      <td>False</td>\n",
       "    </tr>\n",
       "    <tr>\n",
       "      <th>Lodging/residential</th>\n",
       "      <td>0.095270</td>\n",
       "      <td>False</td>\n",
       "    </tr>\n",
       "    <tr>\n",
       "      <th>Manufacturing/industrial</th>\n",
       "      <td>0.006203</td>\n",
       "      <td>True</td>\n",
       "    </tr>\n",
       "    <tr>\n",
       "      <th>Office</th>\n",
       "      <td>0.169957</td>\n",
       "      <td>False</td>\n",
       "    </tr>\n",
       "    <tr>\n",
       "      <th>Other</th>\n",
       "      <td>0.011895</td>\n",
       "      <td>False</td>\n",
       "    </tr>\n",
       "    <tr>\n",
       "      <th>Parking</th>\n",
       "      <td>0.010521</td>\n",
       "      <td>False</td>\n",
       "    </tr>\n",
       "    <tr>\n",
       "      <th>Public services</th>\n",
       "      <td>0.075723</td>\n",
       "      <td>False</td>\n",
       "    </tr>\n",
       "    <tr>\n",
       "      <th>Religious worship</th>\n",
       "      <td>0.001606</td>\n",
       "      <td>True</td>\n",
       "    </tr>\n",
       "    <tr>\n",
       "      <th>Retail</th>\n",
       "      <td>0.004703</td>\n",
       "      <td>True</td>\n",
       "    </tr>\n",
       "    <tr>\n",
       "      <th>Services</th>\n",
       "      <td>0.004771</td>\n",
       "      <td>True</td>\n",
       "    </tr>\n",
       "    <tr>\n",
       "      <th>Technology/science</th>\n",
       "      <td>0.003845</td>\n",
       "      <td>True</td>\n",
       "    </tr>\n",
       "    <tr>\n",
       "      <th>Utility</th>\n",
       "      <td>0.002781</td>\n",
       "      <td>True</td>\n",
       "    </tr>\n",
       "    <tr>\n",
       "      <th>Warehouse/storage</th>\n",
       "      <td>0.005508</td>\n",
       "      <td>True</td>\n",
       "    </tr>\n",
       "  </tbody>\n",
       "</table>\n",
       "</div>"
      ],
      "text/plain": [
       "                               variance  quasiconstant\n",
       "chilledwater                   0.164187          False\n",
       "electricity                    0.240858          False\n",
       "hotwater                       0.058870          False\n",
       "steam                          0.116416          False\n",
       "Education                      0.240752          False\n",
       "Entertainment/public assembly  0.099653          False\n",
       "Food sales and service         0.005625           True\n",
       "Healthcare                     0.019373          False\n",
       "Lodging/residential            0.095270          False\n",
       "Manufacturing/industrial       0.006203           True\n",
       "Office                         0.169957          False\n",
       "Other                          0.011895          False\n",
       "Parking                        0.010521          False\n",
       "Public services                0.075723          False\n",
       "Religious worship              0.001606           True\n",
       "Retail                         0.004703           True\n",
       "Services                       0.004771           True\n",
       "Technology/science             0.003845           True\n",
       "Utility                        0.002781           True\n",
       "Warehouse/storage              0.005508           True"
      ]
     },
     "execution_count": 16,
     "metadata": {},
     "output_type": "execute_result"
    }
   ],
   "source": [
    "# Primary use categories\n",
    "const_cat = pd.DataFrame(cat_train.var(), columns=['variance'])\n",
    "const_cat['quasiconstant'] = const_cat.variance < 0.01\n",
    "const_cat"
   ]
  },
  {
   "cell_type": "code",
   "execution_count": 17,
   "metadata": {},
   "outputs": [
    {
     "data": {
      "text/plain": [
       "['Food sales and service',\n",
       " 'Manufacturing/industrial',\n",
       " 'Religious worship',\n",
       " 'Retail',\n",
       " 'Services',\n",
       " 'Technology/science',\n",
       " 'Utility',\n",
       " 'Warehouse/storage']"
      ]
     },
     "execution_count": 17,
     "metadata": {},
     "output_type": "execute_result"
    }
   ],
   "source": [
    "# Quasi-constant\n",
    "qc_cats = [cat[0] for cat in const_cat[const_cat.quasiconstant].index]\n",
    "qc_cats"
   ]
  },
  {
   "cell_type": "markdown",
   "metadata": {},
   "source": [
    "Exactly half of the `primary_use` categories were found to be quasi-constant. As per the variance threshold of 0.01, being quasi-constant means that each of these 8 building types individually make up less than 1% of the total data. For now these will be kept as they are not part of the main data. Aside from this, there are no constant and no other quasi-constant features."
   ]
  },
  {
   "cell_type": "markdown",
   "metadata": {},
   "source": [
    "##### Duplicate features"
   ]
  },
  {
   "cell_type": "code",
   "execution_count": 18,
   "metadata": {},
   "outputs": [],
   "source": [
    "# # Check if columns are pairwise equal\n",
    "# dups = [] \n",
    "# for i, col1 in enumerate(X_train.columns[:-1]):\n",
    "#     for col2 in X_train.columns[i+1:]:\n",
    "#         if X_train[col1].equals(X_train[col2]):\n",
    "#             dups.append((col1, col2))\n",
    "# dups"
   ]
  },
  {
   "cell_type": "markdown",
   "metadata": {},
   "source": [
    "##### Correlated features"
   ]
  },
  {
   "cell_type": "code",
   "execution_count": 19,
   "metadata": {},
   "outputs": [
    {
     "data": {
      "text/html": [
       "<div>\n",
       "<style scoped>\n",
       "    .dataframe tbody tr th:only-of-type {\n",
       "        vertical-align: middle;\n",
       "    }\n",
       "\n",
       "    .dataframe tbody tr th {\n",
       "        vertical-align: top;\n",
       "    }\n",
       "\n",
       "    .dataframe thead th {\n",
       "        text-align: right;\n",
       "    }\n",
       "</style>\n",
       "<table border=\"1\" class=\"dataframe\">\n",
       "  <thead>\n",
       "    <tr style=\"text-align: right;\">\n",
       "      <th></th>\n",
       "      <th>site_id</th>\n",
       "      <th>building_id</th>\n",
       "      <th>use_encoded</th>\n",
       "      <th>year_built</th>\n",
       "      <th>floor_count</th>\n",
       "      <th>square_feet</th>\n",
       "      <th>month</th>\n",
       "      <th>day</th>\n",
       "      <th>hour</th>\n",
       "      <th>weekday</th>\n",
       "      <th>meter</th>\n",
       "      <th>air_temperature</th>\n",
       "      <th>dew_temperature</th>\n",
       "      <th>sea_level_pressure</th>\n",
       "      <th>cloud_coverage</th>\n",
       "      <th>precip_depth_1_hr</th>\n",
       "      <th>wind_direction</th>\n",
       "      <th>wind_speed</th>\n",
       "      <th>day_of_year</th>\n",
       "    </tr>\n",
       "  </thead>\n",
       "  <tbody>\n",
       "    <tr>\n",
       "      <th>site_id</th>\n",
       "      <td>1.000000</td>\n",
       "      <td>0.980861</td>\n",
       "      <td>0.080181</td>\n",
       "      <td>-0.095307</td>\n",
       "      <td>0.017487</td>\n",
       "      <td>0.087738</td>\n",
       "      <td>0.015041</td>\n",
       "      <td>-0.000436</td>\n",
       "      <td>-0.000097</td>\n",
       "      <td>-0.000051</td>\n",
       "      <td>0.252366</td>\n",
       "      <td>-0.306558</td>\n",
       "      <td>-0.132264</td>\n",
       "      <td>0.051948</td>\n",
       "      <td>-0.125185</td>\n",
       "      <td>0.052284</td>\n",
       "      <td>0.067460</td>\n",
       "      <td>0.012111</td>\n",
       "      <td>0.014951</td>\n",
       "    </tr>\n",
       "    <tr>\n",
       "      <th>building_id</th>\n",
       "      <td>0.980861</td>\n",
       "      <td>1.000000</td>\n",
       "      <td>0.061838</td>\n",
       "      <td>-0.135724</td>\n",
       "      <td>0.013682</td>\n",
       "      <td>0.084269</td>\n",
       "      <td>0.015079</td>\n",
       "      <td>-0.000314</td>\n",
       "      <td>-0.000056</td>\n",
       "      <td>-0.000052</td>\n",
       "      <td>0.220563</td>\n",
       "      <td>-0.313527</td>\n",
       "      <td>-0.107007</td>\n",
       "      <td>0.072042</td>\n",
       "      <td>-0.159972</td>\n",
       "      <td>0.055784</td>\n",
       "      <td>0.077153</td>\n",
       "      <td>0.004139</td>\n",
       "      <td>0.014999</td>\n",
       "    </tr>\n",
       "    <tr>\n",
       "      <th>use_encoded</th>\n",
       "      <td>0.080181</td>\n",
       "      <td>0.061838</td>\n",
       "      <td>1.000000</td>\n",
       "      <td>0.065391</td>\n",
       "      <td>-0.087734</td>\n",
       "      <td>-0.085659</td>\n",
       "      <td>-0.002221</td>\n",
       "      <td>0.000117</td>\n",
       "      <td>-0.000179</td>\n",
       "      <td>-0.000277</td>\n",
       "      <td>-0.081101</td>\n",
       "      <td>-0.044185</td>\n",
       "      <td>-0.015018</td>\n",
       "      <td>0.030871</td>\n",
       "      <td>0.143474</td>\n",
       "      <td>-0.022479</td>\n",
       "      <td>-0.013603</td>\n",
       "      <td>0.052509</td>\n",
       "      <td>-0.002198</td>\n",
       "    </tr>\n",
       "    <tr>\n",
       "      <th>year_built</th>\n",
       "      <td>-0.095307</td>\n",
       "      <td>-0.135724</td>\n",
       "      <td>0.065391</td>\n",
       "      <td>1.000000</td>\n",
       "      <td>0.080458</td>\n",
       "      <td>0.098957</td>\n",
       "      <td>-0.000175</td>\n",
       "      <td>0.000052</td>\n",
       "      <td>0.000179</td>\n",
       "      <td>-0.000135</td>\n",
       "      <td>0.011316</td>\n",
       "      <td>0.089907</td>\n",
       "      <td>0.033799</td>\n",
       "      <td>-0.023799</td>\n",
       "      <td>0.053754</td>\n",
       "      <td>-0.014072</td>\n",
       "      <td>-0.020954</td>\n",
       "      <td>-0.019765</td>\n",
       "      <td>-0.000187</td>\n",
       "    </tr>\n",
       "    <tr>\n",
       "      <th>floor_count</th>\n",
       "      <td>0.017487</td>\n",
       "      <td>0.013682</td>\n",
       "      <td>-0.087734</td>\n",
       "      <td>0.080458</td>\n",
       "      <td>1.000000</td>\n",
       "      <td>0.901321</td>\n",
       "      <td>-0.003100</td>\n",
       "      <td>-0.000344</td>\n",
       "      <td>0.000018</td>\n",
       "      <td>0.000057</td>\n",
       "      <td>0.099968</td>\n",
       "      <td>-0.024525</td>\n",
       "      <td>-0.011089</td>\n",
       "      <td>-0.015905</td>\n",
       "      <td>-0.044064</td>\n",
       "      <td>0.024381</td>\n",
       "      <td>0.005642</td>\n",
       "      <td>-0.018905</td>\n",
       "      <td>-0.003112</td>\n",
       "    </tr>\n",
       "    <tr>\n",
       "      <th>square_feet</th>\n",
       "      <td>0.087738</td>\n",
       "      <td>0.084269</td>\n",
       "      <td>-0.085659</td>\n",
       "      <td>0.098957</td>\n",
       "      <td>0.901321</td>\n",
       "      <td>1.000000</td>\n",
       "      <td>-0.002578</td>\n",
       "      <td>-0.000280</td>\n",
       "      <td>0.000101</td>\n",
       "      <td>-0.000024</td>\n",
       "      <td>0.131747</td>\n",
       "      <td>-0.015081</td>\n",
       "      <td>-0.022291</td>\n",
       "      <td>-0.018702</td>\n",
       "      <td>-0.012970</td>\n",
       "      <td>0.038838</td>\n",
       "      <td>0.006305</td>\n",
       "      <td>-0.034542</td>\n",
       "      <td>-0.002587</td>\n",
       "    </tr>\n",
       "    <tr>\n",
       "      <th>month</th>\n",
       "      <td>0.015041</td>\n",
       "      <td>0.015079</td>\n",
       "      <td>-0.002221</td>\n",
       "      <td>-0.000175</td>\n",
       "      <td>-0.003100</td>\n",
       "      <td>-0.002578</td>\n",
       "      <td>1.000000</td>\n",
       "      <td>0.011939</td>\n",
       "      <td>-0.000005</td>\n",
       "      <td>-0.002541</td>\n",
       "      <td>0.005562</td>\n",
       "      <td>0.168821</td>\n",
       "      <td>0.241758</td>\n",
       "      <td>0.123289</td>\n",
       "      <td>-0.020518</td>\n",
       "      <td>0.018231</td>\n",
       "      <td>0.004477</td>\n",
       "      <td>-0.068893</td>\n",
       "      <td>0.996487</td>\n",
       "    </tr>\n",
       "    <tr>\n",
       "      <th>day</th>\n",
       "      <td>-0.000436</td>\n",
       "      <td>-0.000314</td>\n",
       "      <td>0.000117</td>\n",
       "      <td>0.000052</td>\n",
       "      <td>-0.000344</td>\n",
       "      <td>-0.000280</td>\n",
       "      <td>0.011939</td>\n",
       "      <td>1.000000</td>\n",
       "      <td>0.000307</td>\n",
       "      <td>0.003439</td>\n",
       "      <td>-0.000110</td>\n",
       "      <td>0.024450</td>\n",
       "      <td>0.024994</td>\n",
       "      <td>0.010445</td>\n",
       "      <td>0.014201</td>\n",
       "      <td>0.000857</td>\n",
       "      <td>-0.012332</td>\n",
       "      <td>-0.009472</td>\n",
       "      <td>0.095537</td>\n",
       "    </tr>\n",
       "    <tr>\n",
       "      <th>hour</th>\n",
       "      <td>-0.000097</td>\n",
       "      <td>-0.000056</td>\n",
       "      <td>-0.000179</td>\n",
       "      <td>0.000179</td>\n",
       "      <td>0.000018</td>\n",
       "      <td>0.000101</td>\n",
       "      <td>-0.000005</td>\n",
       "      <td>0.000307</td>\n",
       "      <td>1.000000</td>\n",
       "      <td>-0.000029</td>\n",
       "      <td>0.000140</td>\n",
       "      <td>0.141878</td>\n",
       "      <td>-0.006360</td>\n",
       "      <td>-0.032270</td>\n",
       "      <td>0.024394</td>\n",
       "      <td>0.006380</td>\n",
       "      <td>-0.016472</td>\n",
       "      <td>0.122709</td>\n",
       "      <td>0.000019</td>\n",
       "    </tr>\n",
       "    <tr>\n",
       "      <th>weekday</th>\n",
       "      <td>-0.000051</td>\n",
       "      <td>-0.000052</td>\n",
       "      <td>-0.000277</td>\n",
       "      <td>-0.000135</td>\n",
       "      <td>0.000057</td>\n",
       "      <td>-0.000024</td>\n",
       "      <td>-0.002541</td>\n",
       "      <td>0.003439</td>\n",
       "      <td>-0.000029</td>\n",
       "      <td>1.000000</td>\n",
       "      <td>0.000082</td>\n",
       "      <td>-0.006489</td>\n",
       "      <td>-0.005497</td>\n",
       "      <td>-0.003273</td>\n",
       "      <td>-0.001617</td>\n",
       "      <td>-0.008198</td>\n",
       "      <td>0.004272</td>\n",
       "      <td>0.004698</td>\n",
       "      <td>-0.002271</td>\n",
       "    </tr>\n",
       "    <tr>\n",
       "      <th>meter</th>\n",
       "      <td>0.252366</td>\n",
       "      <td>0.220563</td>\n",
       "      <td>-0.081101</td>\n",
       "      <td>0.011316</td>\n",
       "      <td>0.099968</td>\n",
       "      <td>0.131747</td>\n",
       "      <td>0.005562</td>\n",
       "      <td>-0.000110</td>\n",
       "      <td>0.000140</td>\n",
       "      <td>0.000082</td>\n",
       "      <td>1.000000</td>\n",
       "      <td>-0.010970</td>\n",
       "      <td>-0.079513</td>\n",
       "      <td>-0.048402</td>\n",
       "      <td>-0.138985</td>\n",
       "      <td>0.019661</td>\n",
       "      <td>0.025594</td>\n",
       "      <td>-0.080536</td>\n",
       "      <td>0.005522</td>\n",
       "    </tr>\n",
       "    <tr>\n",
       "      <th>air_temperature</th>\n",
       "      <td>-0.306558</td>\n",
       "      <td>-0.313527</td>\n",
       "      <td>-0.044185</td>\n",
       "      <td>0.089907</td>\n",
       "      <td>-0.024525</td>\n",
       "      <td>-0.015081</td>\n",
       "      <td>0.168821</td>\n",
       "      <td>0.024450</td>\n",
       "      <td>0.141878</td>\n",
       "      <td>-0.006489</td>\n",
       "      <td>-0.010970</td>\n",
       "      <td>1.000000</td>\n",
       "      <td>0.751499</td>\n",
       "      <td>-0.294477</td>\n",
       "      <td>-0.003987</td>\n",
       "      <td>0.014572</td>\n",
       "      <td>-0.078483</td>\n",
       "      <td>-0.083023</td>\n",
       "      <td>0.168860</td>\n",
       "    </tr>\n",
       "    <tr>\n",
       "      <th>dew_temperature</th>\n",
       "      <td>-0.132264</td>\n",
       "      <td>-0.107007</td>\n",
       "      <td>-0.015018</td>\n",
       "      <td>0.033799</td>\n",
       "      <td>-0.011089</td>\n",
       "      <td>-0.022291</td>\n",
       "      <td>0.241758</td>\n",
       "      <td>0.024994</td>\n",
       "      <td>-0.006360</td>\n",
       "      <td>-0.005497</td>\n",
       "      <td>-0.079513</td>\n",
       "      <td>0.751499</td>\n",
       "      <td>1.000000</td>\n",
       "      <td>-0.209416</td>\n",
       "      <td>0.067854</td>\n",
       "      <td>0.080584</td>\n",
       "      <td>-0.110713</td>\n",
       "      <td>-0.142693</td>\n",
       "      <td>0.241662</td>\n",
       "    </tr>\n",
       "    <tr>\n",
       "      <th>sea_level_pressure</th>\n",
       "      <td>0.051948</td>\n",
       "      <td>0.072042</td>\n",
       "      <td>0.030871</td>\n",
       "      <td>-0.023799</td>\n",
       "      <td>-0.015905</td>\n",
       "      <td>-0.018702</td>\n",
       "      <td>0.123289</td>\n",
       "      <td>0.010445</td>\n",
       "      <td>-0.032270</td>\n",
       "      <td>-0.003273</td>\n",
       "      <td>-0.048402</td>\n",
       "      <td>-0.294477</td>\n",
       "      <td>-0.209416</td>\n",
       "      <td>1.000000</td>\n",
       "      <td>-0.097730</td>\n",
       "      <td>-0.045505</td>\n",
       "      <td>-0.009408</td>\n",
       "      <td>-0.206974</td>\n",
       "      <td>0.124180</td>\n",
       "    </tr>\n",
       "    <tr>\n",
       "      <th>cloud_coverage</th>\n",
       "      <td>-0.125185</td>\n",
       "      <td>-0.159972</td>\n",
       "      <td>0.143474</td>\n",
       "      <td>0.053754</td>\n",
       "      <td>-0.044064</td>\n",
       "      <td>-0.012970</td>\n",
       "      <td>-0.020518</td>\n",
       "      <td>0.014201</td>\n",
       "      <td>0.024394</td>\n",
       "      <td>-0.001617</td>\n",
       "      <td>-0.138985</td>\n",
       "      <td>-0.003987</td>\n",
       "      <td>0.067854</td>\n",
       "      <td>-0.097730</td>\n",
       "      <td>1.000000</td>\n",
       "      <td>0.037770</td>\n",
       "      <td>-0.107698</td>\n",
       "      <td>0.191645</td>\n",
       "      <td>-0.019285</td>\n",
       "    </tr>\n",
       "    <tr>\n",
       "      <th>precip_depth_1_hr</th>\n",
       "      <td>0.052284</td>\n",
       "      <td>0.055784</td>\n",
       "      <td>-0.022479</td>\n",
       "      <td>-0.014072</td>\n",
       "      <td>0.024381</td>\n",
       "      <td>0.038838</td>\n",
       "      <td>0.018231</td>\n",
       "      <td>0.000857</td>\n",
       "      <td>0.006380</td>\n",
       "      <td>-0.008198</td>\n",
       "      <td>0.019661</td>\n",
       "      <td>0.014572</td>\n",
       "      <td>0.080584</td>\n",
       "      <td>-0.045505</td>\n",
       "      <td>0.037770</td>\n",
       "      <td>1.000000</td>\n",
       "      <td>-0.025663</td>\n",
       "      <td>0.017857</td>\n",
       "      <td>0.018146</td>\n",
       "    </tr>\n",
       "    <tr>\n",
       "      <th>wind_direction</th>\n",
       "      <td>0.067460</td>\n",
       "      <td>0.077153</td>\n",
       "      <td>-0.013603</td>\n",
       "      <td>-0.020954</td>\n",
       "      <td>0.005642</td>\n",
       "      <td>0.006305</td>\n",
       "      <td>0.004477</td>\n",
       "      <td>-0.012332</td>\n",
       "      <td>-0.016472</td>\n",
       "      <td>0.004272</td>\n",
       "      <td>0.025594</td>\n",
       "      <td>-0.078483</td>\n",
       "      <td>-0.110713</td>\n",
       "      <td>-0.009408</td>\n",
       "      <td>-0.107698</td>\n",
       "      <td>-0.025663</td>\n",
       "      <td>1.000000</td>\n",
       "      <td>-0.174914</td>\n",
       "      <td>0.003602</td>\n",
       "    </tr>\n",
       "    <tr>\n",
       "      <th>wind_speed</th>\n",
       "      <td>0.012111</td>\n",
       "      <td>0.004139</td>\n",
       "      <td>0.052509</td>\n",
       "      <td>-0.019765</td>\n",
       "      <td>-0.018905</td>\n",
       "      <td>-0.034542</td>\n",
       "      <td>-0.068893</td>\n",
       "      <td>-0.009472</td>\n",
       "      <td>0.122709</td>\n",
       "      <td>0.004698</td>\n",
       "      <td>-0.080536</td>\n",
       "      <td>-0.083023</td>\n",
       "      <td>-0.142693</td>\n",
       "      <td>-0.206974</td>\n",
       "      <td>0.191645</td>\n",
       "      <td>0.017857</td>\n",
       "      <td>-0.174914</td>\n",
       "      <td>1.000000</td>\n",
       "      <td>-0.069353</td>\n",
       "    </tr>\n",
       "    <tr>\n",
       "      <th>day_of_year</th>\n",
       "      <td>0.014951</td>\n",
       "      <td>0.014999</td>\n",
       "      <td>-0.002198</td>\n",
       "      <td>-0.000187</td>\n",
       "      <td>-0.003112</td>\n",
       "      <td>-0.002587</td>\n",
       "      <td>0.996487</td>\n",
       "      <td>0.095537</td>\n",
       "      <td>0.000019</td>\n",
       "      <td>-0.002271</td>\n",
       "      <td>0.005522</td>\n",
       "      <td>0.168860</td>\n",
       "      <td>0.241662</td>\n",
       "      <td>0.124180</td>\n",
       "      <td>-0.019285</td>\n",
       "      <td>0.018146</td>\n",
       "      <td>0.003602</td>\n",
       "      <td>-0.069353</td>\n",
       "      <td>1.000000</td>\n",
       "    </tr>\n",
       "  </tbody>\n",
       "</table>\n",
       "</div>"
      ],
      "text/plain": [
       "                     site_id  building_id  use_encoded  year_built  \\\n",
       "site_id             1.000000     0.980861     0.080181   -0.095307   \n",
       "building_id         0.980861     1.000000     0.061838   -0.135724   \n",
       "use_encoded         0.080181     0.061838     1.000000    0.065391   \n",
       "year_built         -0.095307    -0.135724     0.065391    1.000000   \n",
       "floor_count         0.017487     0.013682    -0.087734    0.080458   \n",
       "square_feet         0.087738     0.084269    -0.085659    0.098957   \n",
       "month               0.015041     0.015079    -0.002221   -0.000175   \n",
       "day                -0.000436    -0.000314     0.000117    0.000052   \n",
       "hour               -0.000097    -0.000056    -0.000179    0.000179   \n",
       "weekday            -0.000051    -0.000052    -0.000277   -0.000135   \n",
       "meter               0.252366     0.220563    -0.081101    0.011316   \n",
       "air_temperature    -0.306558    -0.313527    -0.044185    0.089907   \n",
       "dew_temperature    -0.132264    -0.107007    -0.015018    0.033799   \n",
       "sea_level_pressure  0.051948     0.072042     0.030871   -0.023799   \n",
       "cloud_coverage     -0.125185    -0.159972     0.143474    0.053754   \n",
       "precip_depth_1_hr   0.052284     0.055784    -0.022479   -0.014072   \n",
       "wind_direction      0.067460     0.077153    -0.013603   -0.020954   \n",
       "wind_speed          0.012111     0.004139     0.052509   -0.019765   \n",
       "day_of_year         0.014951     0.014999    -0.002198   -0.000187   \n",
       "\n",
       "                    floor_count  square_feet     month       day      hour  \\\n",
       "site_id                0.017487     0.087738  0.015041 -0.000436 -0.000097   \n",
       "building_id            0.013682     0.084269  0.015079 -0.000314 -0.000056   \n",
       "use_encoded           -0.087734    -0.085659 -0.002221  0.000117 -0.000179   \n",
       "year_built             0.080458     0.098957 -0.000175  0.000052  0.000179   \n",
       "floor_count            1.000000     0.901321 -0.003100 -0.000344  0.000018   \n",
       "square_feet            0.901321     1.000000 -0.002578 -0.000280  0.000101   \n",
       "month                 -0.003100    -0.002578  1.000000  0.011939 -0.000005   \n",
       "day                   -0.000344    -0.000280  0.011939  1.000000  0.000307   \n",
       "hour                   0.000018     0.000101 -0.000005  0.000307  1.000000   \n",
       "weekday                0.000057    -0.000024 -0.002541  0.003439 -0.000029   \n",
       "meter                  0.099968     0.131747  0.005562 -0.000110  0.000140   \n",
       "air_temperature       -0.024525    -0.015081  0.168821  0.024450  0.141878   \n",
       "dew_temperature       -0.011089    -0.022291  0.241758  0.024994 -0.006360   \n",
       "sea_level_pressure    -0.015905    -0.018702  0.123289  0.010445 -0.032270   \n",
       "cloud_coverage        -0.044064    -0.012970 -0.020518  0.014201  0.024394   \n",
       "precip_depth_1_hr      0.024381     0.038838  0.018231  0.000857  0.006380   \n",
       "wind_direction         0.005642     0.006305  0.004477 -0.012332 -0.016472   \n",
       "wind_speed            -0.018905    -0.034542 -0.068893 -0.009472  0.122709   \n",
       "day_of_year           -0.003112    -0.002587  0.996487  0.095537  0.000019   \n",
       "\n",
       "                     weekday     meter  air_temperature  dew_temperature  \\\n",
       "site_id            -0.000051  0.252366        -0.306558        -0.132264   \n",
       "building_id        -0.000052  0.220563        -0.313527        -0.107007   \n",
       "use_encoded        -0.000277 -0.081101        -0.044185        -0.015018   \n",
       "year_built         -0.000135  0.011316         0.089907         0.033799   \n",
       "floor_count         0.000057  0.099968        -0.024525        -0.011089   \n",
       "square_feet        -0.000024  0.131747        -0.015081        -0.022291   \n",
       "month              -0.002541  0.005562         0.168821         0.241758   \n",
       "day                 0.003439 -0.000110         0.024450         0.024994   \n",
       "hour               -0.000029  0.000140         0.141878        -0.006360   \n",
       "weekday             1.000000  0.000082        -0.006489        -0.005497   \n",
       "meter               0.000082  1.000000        -0.010970        -0.079513   \n",
       "air_temperature    -0.006489 -0.010970         1.000000         0.751499   \n",
       "dew_temperature    -0.005497 -0.079513         0.751499         1.000000   \n",
       "sea_level_pressure -0.003273 -0.048402        -0.294477        -0.209416   \n",
       "cloud_coverage     -0.001617 -0.138985        -0.003987         0.067854   \n",
       "precip_depth_1_hr  -0.008198  0.019661         0.014572         0.080584   \n",
       "wind_direction      0.004272  0.025594        -0.078483        -0.110713   \n",
       "wind_speed          0.004698 -0.080536        -0.083023        -0.142693   \n",
       "day_of_year        -0.002271  0.005522         0.168860         0.241662   \n",
       "\n",
       "                    sea_level_pressure  cloud_coverage  precip_depth_1_hr  \\\n",
       "site_id                       0.051948       -0.125185           0.052284   \n",
       "building_id                   0.072042       -0.159972           0.055784   \n",
       "use_encoded                   0.030871        0.143474          -0.022479   \n",
       "year_built                   -0.023799        0.053754          -0.014072   \n",
       "floor_count                  -0.015905       -0.044064           0.024381   \n",
       "square_feet                  -0.018702       -0.012970           0.038838   \n",
       "month                         0.123289       -0.020518           0.018231   \n",
       "day                           0.010445        0.014201           0.000857   \n",
       "hour                         -0.032270        0.024394           0.006380   \n",
       "weekday                      -0.003273       -0.001617          -0.008198   \n",
       "meter                        -0.048402       -0.138985           0.019661   \n",
       "air_temperature              -0.294477       -0.003987           0.014572   \n",
       "dew_temperature              -0.209416        0.067854           0.080584   \n",
       "sea_level_pressure            1.000000       -0.097730          -0.045505   \n",
       "cloud_coverage               -0.097730        1.000000           0.037770   \n",
       "precip_depth_1_hr            -0.045505        0.037770           1.000000   \n",
       "wind_direction               -0.009408       -0.107698          -0.025663   \n",
       "wind_speed                   -0.206974        0.191645           0.017857   \n",
       "day_of_year                   0.124180       -0.019285           0.018146   \n",
       "\n",
       "                    wind_direction  wind_speed  day_of_year  \n",
       "site_id                   0.067460    0.012111     0.014951  \n",
       "building_id               0.077153    0.004139     0.014999  \n",
       "use_encoded              -0.013603    0.052509    -0.002198  \n",
       "year_built               -0.020954   -0.019765    -0.000187  \n",
       "floor_count               0.005642   -0.018905    -0.003112  \n",
       "square_feet               0.006305   -0.034542    -0.002587  \n",
       "month                     0.004477   -0.068893     0.996487  \n",
       "day                      -0.012332   -0.009472     0.095537  \n",
       "hour                     -0.016472    0.122709     0.000019  \n",
       "weekday                   0.004272    0.004698    -0.002271  \n",
       "meter                     0.025594   -0.080536     0.005522  \n",
       "air_temperature          -0.078483   -0.083023     0.168860  \n",
       "dew_temperature          -0.110713   -0.142693     0.241662  \n",
       "sea_level_pressure       -0.009408   -0.206974     0.124180  \n",
       "cloud_coverage           -0.107698    0.191645    -0.019285  \n",
       "precip_depth_1_hr        -0.025663    0.017857     0.018146  \n",
       "wind_direction            1.000000   -0.174914     0.003602  \n",
       "wind_speed               -0.174914    1.000000    -0.069353  \n",
       "day_of_year               0.003602   -0.069353     1.000000  "
      ]
     },
     "execution_count": 19,
     "metadata": {},
     "output_type": "execute_result"
    }
   ],
   "source": [
    "pearson = X_train.corr()\n",
    "pearson"
   ]
  },
  {
   "cell_type": "code",
   "execution_count": 20,
   "metadata": {},
   "outputs": [
    {
     "data": {
      "text/plain": [
       "(array([ 0.5,  1.5,  2.5,  3.5,  4.5,  5.5,  6.5,  7.5,  8.5,  9.5, 10.5,\n",
       "        11.5, 12.5, 13.5, 14.5, 15.5, 16.5, 17.5, 18.5]),\n",
       " <a list of 19 Text xticklabel objects>)"
      ]
     },
     "execution_count": 20,
     "metadata": {},
     "output_type": "execute_result"
    },
    {
     "data": {
      "image/png": "[encoded data removed]",
      "text/plain": [
       "<Figure size 720x576 with 2 Axes>"
      ]
     },
     "metadata": {},
     "output_type": "display_data"
    }
   ],
   "source": [
    "fig = plt.figure(figsize=(10, 8))\n",
    "sns.heatmap(pearson, cmap=sns.color_palette('Blues', 8))\n",
    "plt.xticks(rotation=45, ha='right')"
   ]
  },
  {
   "cell_type": "code",
   "execution_count": 21,
   "metadata": {},
   "outputs": [
    {
     "data": {
      "text/plain": [
       "[['site_id', 'building_id', 0.9808612793455758],\n",
       " ['floor_count', 'square_feet', 0.9013205573669524],\n",
       " ['month', 'day_of_year', 0.9964867635352562],\n",
       " ['air_temperature', 'dew_temperature', 0.7514988326447333]]"
      ]
     },
     "execution_count": 21,
     "metadata": {},
     "output_type": "execute_result"
    }
   ],
   "source": [
    "# Correlation threshold = 0.7\n",
    "corr = []\n",
    "for i, feat1 in enumerate(pearson.columns[:-1]):\n",
    "    for feat2 in pearson.columns[i+1:]:\n",
    "        p = pearson.loc[feat1, feat2]\n",
    "        if p > 0.7:\n",
    "            corr.append([feat1, feat2, p])\n",
    "corr"
   ]
  },
  {
   "cell_type": "markdown",
   "metadata": {},
   "source": [
    "There are 4 pairs of highly correlated features in the data:\n",
    "- `site_id` and `building_id` - both of these features are actually non-cardinal categorical variables encoded as integers, so the correlation coefficient isn't reliable here\n",
    "    - There is some relationship between `site_id` and `building_id` but the ordered integer encoding makes the relationship appear stronger than it actually is\n",
    "    - These 2 variables are providing different information\n",
    "    - Since `site_id` can be inferred from building and weather information, it wouldn't be necessary to keep it so `site_id` will be removed\n",
    "- `floor_count` and `square_feet` - the majority of `floor_count` values were originally missing and filled based on the `square_feet` in a linear manner so this high correlation isn't completely reliable either\n",
    "    - Before the missing values were filled, there were a lot of outliers that prevented it from being a strong correlation\n",
    "    - Since they were filled in such a way that increased the correlation, only 1 is really needed here\n",
    "    - `floor_count` will be removed because `square_feet` is a more accurate description of a building's size\n",
    "- `month` and `day_of_year` - both of these features were extracted from the `timestamp` along the timeline of the year so it makes sense that there is a strong correlation\n",
    "    - These 2 features actually do provide similar information so it would be redundant to keep both\n",
    "    - `month` will be dropped as `day_of_year` is more fine-grained and may provide more information\n",
    "- `air_temperature` and `dew_temperature` - as seen in the visualizations during the EDA process, these 2 features do track each other quite closely so only 1 is necessary\n",
    "    - `dew_temperature` will be dropped as `air_temperature` is a more concrete measure of the weather\n",
    "    \n",
    "##### Create a list of columns to drop and add the `site_id`, `floor_count`, `month`, and `dew_temperature` columns"
   ]
  },
  {
   "cell_type": "code",
   "execution_count": 22,
   "metadata": {},
   "outputs": [],
   "source": [
    "cols_to_drop = ['site_id', 'floor_count', 'month', 'dew_temperature']"
   ]
  },
  {
   "cell_type": "code",
   "execution_count": 23,
   "metadata": {},
   "outputs": [
    {
     "ename": "NameError",
     "evalue": "name 'col1' is not defined",
     "output_type": "error",
     "traceback": [
      "\u001b[0;31m---------------------------------------------------------------------------\u001b[0m",
      "\u001b[0;31mNameError\u001b[0m                                 Traceback (most recent call last)",
      "\u001b[0;32m<ipython-input-23-f930ea872d53>\u001b[0m in \u001b[0;36m<module>\u001b[0;34m\u001b[0m\n\u001b[0;32m----> 1\u001b[0;31m \u001b[0;32mdel\u001b[0m \u001b[0mconst\u001b[0m\u001b[0;34m,\u001b[0m \u001b[0mconst_cat\u001b[0m\u001b[0;34m,\u001b[0m \u001b[0mpearson\u001b[0m\u001b[0;34m,\u001b[0m \u001b[0mcorr\u001b[0m\u001b[0;34m,\u001b[0m \u001b[0mcol1\u001b[0m\u001b[0;34m,\u001b[0m \u001b[0mcol2\u001b[0m\u001b[0;34m,\u001b[0m \u001b[0mfeat1\u001b[0m\u001b[0;34m,\u001b[0m \u001b[0mfeat2\u001b[0m\u001b[0;34m,\u001b[0m \u001b[0midx\u001b[0m\u001b[0;34m,\u001b[0m \u001b[0mi\u001b[0m\u001b[0;34m,\u001b[0m \u001b[0mp\u001b[0m\u001b[0;34m,\u001b[0m \u001b[0mfig\u001b[0m \u001b[0;31m# , dups\u001b[0m\u001b[0;34m\u001b[0m\u001b[0;34m\u001b[0m\u001b[0m\n\u001b[0m\u001b[1;32m      2\u001b[0m \u001b[0mgc\u001b[0m\u001b[0;34m.\u001b[0m\u001b[0mcollect\u001b[0m\u001b[0;34m(\u001b[0m\u001b[0;34m)\u001b[0m\u001b[0;34m\u001b[0m\u001b[0;34m\u001b[0m\u001b[0m\n",
      "\u001b[0;31mNameError\u001b[0m: name 'col1' is not defined"
     ]
    }
   ],
   "source": [
    "del const, const_cat, pearson, corr, feat1, feat2, i, p, fig # , dups, col1, col2, \n",
    "gc.collect()"
   ]
  },
  {
   "cell_type": "markdown",
   "metadata": {},
   "source": [
    "<a id='seln'></a>\n",
    "## 5. Feature Selection\n",
    "[Back to top](#content3)"
   ]
  },
  {
   "cell_type": "code",
   "execution_count": 24,
   "metadata": {},
   "outputs": [
    {
     "name": "stderr",
     "output_type": "stream",
     "text": [
      "/home/tri/anaconda3/lib/python3.7/site-packages/pandas/core/frame.py:4117: SettingWithCopyWarning: \n",
      "A value is trying to be set on a copy of a slice from a DataFrame\n",
      "\n",
      "See the caveats in the documentation: http://pandas.pydata.org/pandas-docs/stable/user_guide/indexing.html#returning-a-view-versus-a-copy\n",
      "  errors=errors,\n"
     ]
    }
   ],
   "source": [
    "X_train.drop(cols_to_drop, axis=1, inplace=True)\n",
    "X_test.drop(cols_to_drop, axis=1, inplace=True)"
   ]
  },
  {
   "cell_type": "code",
   "execution_count": 25,
   "metadata": {},
   "outputs": [
    {
     "data": {
      "text/html": [
       "<div>\n",
       "<style scoped>\n",
       "    .dataframe tbody tr th:only-of-type {\n",
       "        vertical-align: middle;\n",
       "    }\n",
       "\n",
       "    .dataframe tbody tr th {\n",
       "        vertical-align: top;\n",
       "    }\n",
       "\n",
       "    .dataframe thead th {\n",
       "        text-align: right;\n",
       "    }\n",
       "</style>\n",
       "<table border=\"1\" class=\"dataframe\">\n",
       "  <thead>\n",
       "    <tr style=\"text-align: right;\">\n",
       "      <th></th>\n",
       "      <th>building_id</th>\n",
       "      <th>use_encoded</th>\n",
       "      <th>year_built</th>\n",
       "      <th>square_feet</th>\n",
       "      <th>day</th>\n",
       "      <th>hour</th>\n",
       "      <th>weekday</th>\n",
       "      <th>meter</th>\n",
       "      <th>air_temperature</th>\n",
       "      <th>sea_level_pressure</th>\n",
       "      <th>cloud_coverage</th>\n",
       "      <th>precip_depth_1_hr</th>\n",
       "      <th>wind_direction</th>\n",
       "      <th>wind_speed</th>\n",
       "      <th>day_of_year</th>\n",
       "    </tr>\n",
       "  </thead>\n",
       "  <tbody>\n",
       "    <tr>\n",
       "      <th>11802573</th>\n",
       "      <td>1098</td>\n",
       "      <td>6</td>\n",
       "      <td>1970</td>\n",
       "      <td>131745</td>\n",
       "      <td>4</td>\n",
       "      <td>17</td>\n",
       "      <td>3</td>\n",
       "      <td>2</td>\n",
       "      <td>27.799999</td>\n",
       "      <td>1008.200012</td>\n",
       "      <td>2</td>\n",
       "      <td>0.0</td>\n",
       "      <td>310</td>\n",
       "      <td>8.2</td>\n",
       "      <td>217</td>\n",
       "    </tr>\n",
       "    <tr>\n",
       "      <th>14525952</th>\n",
       "      <td>494</td>\n",
       "      <td>0</td>\n",
       "      <td>1959</td>\n",
       "      <td>72800</td>\n",
       "      <td>22</td>\n",
       "      <td>15</td>\n",
       "      <td>3</td>\n",
       "      <td>0</td>\n",
       "      <td>30.000000</td>\n",
       "      <td>1018.400024</td>\n",
       "      <td>4</td>\n",
       "      <td>0.0</td>\n",
       "      <td>60</td>\n",
       "      <td>4.6</td>\n",
       "      <td>266</td>\n",
       "    </tr>\n",
       "    <tr>\n",
       "      <th>7175581</th>\n",
       "      <td>932</td>\n",
       "      <td>4</td>\n",
       "      <td>1968</td>\n",
       "      <td>233937</td>\n",
       "      <td>14</td>\n",
       "      <td>1</td>\n",
       "      <td>5</td>\n",
       "      <td>2</td>\n",
       "      <td>23.900000</td>\n",
       "      <td>1017.299988</td>\n",
       "      <td>0</td>\n",
       "      <td>0.0</td>\n",
       "      <td>360</td>\n",
       "      <td>0.0</td>\n",
       "      <td>135</td>\n",
       "    </tr>\n",
       "    <tr>\n",
       "      <th>5040632</th>\n",
       "      <td>1220</td>\n",
       "      <td>9</td>\n",
       "      <td>1961</td>\n",
       "      <td>381221</td>\n",
       "      <td>5</td>\n",
       "      <td>22</td>\n",
       "      <td>1</td>\n",
       "      <td>2</td>\n",
       "      <td>2.800000</td>\n",
       "      <td>1008.299988</td>\n",
       "      <td>8</td>\n",
       "      <td>0.0</td>\n",
       "      <td>130</td>\n",
       "      <td>5.1</td>\n",
       "      <td>96</td>\n",
       "    </tr>\n",
       "    <tr>\n",
       "      <th>2485779</th>\n",
       "      <td>908</td>\n",
       "      <td>0</td>\n",
       "      <td>1964</td>\n",
       "      <td>91254</td>\n",
       "      <td>15</td>\n",
       "      <td>17</td>\n",
       "      <td>0</td>\n",
       "      <td>0</td>\n",
       "      <td>22.799999</td>\n",
       "      <td>1011.400024</td>\n",
       "      <td>0</td>\n",
       "      <td>0.0</td>\n",
       "      <td>360</td>\n",
       "      <td>3.6</td>\n",
       "      <td>46</td>\n",
       "    </tr>\n",
       "  </tbody>\n",
       "</table>\n",
       "</div>"
      ],
      "text/plain": [
       "          building_id  use_encoded  year_built  square_feet  day  hour  \\\n",
       "11802573         1098            6        1970       131745    4    17   \n",
       "14525952          494            0        1959        72800   22    15   \n",
       "7175581           932            4        1968       233937   14     1   \n",
       "5040632          1220            9        1961       381221    5    22   \n",
       "2485779           908            0        1964        91254   15    17   \n",
       "\n",
       "          weekday  meter  air_temperature  sea_level_pressure  cloud_coverage  \\\n",
       "11802573        3      2        27.799999         1008.200012               2   \n",
       "14525952        3      0        30.000000         1018.400024               4   \n",
       "7175581         5      2        23.900000         1017.299988               0   \n",
       "5040632         1      2         2.800000         1008.299988               8   \n",
       "2485779         0      0        22.799999         1011.400024               0   \n",
       "\n",
       "          precip_depth_1_hr  wind_direction  wind_speed  day_of_year  \n",
       "11802573                0.0             310         8.2          217  \n",
       "14525952                0.0              60         4.6          266  \n",
       "7175581                 0.0             360         0.0          135  \n",
       "5040632                 0.0             130         5.1           96  \n",
       "2485779                 0.0             360         3.6           46  "
      ]
     },
     "execution_count": 25,
     "metadata": {},
     "output_type": "execute_result"
    }
   ],
   "source": [
    "X_train.head()"
   ]
  },
  {
   "cell_type": "code",
   "execution_count": 103,
   "metadata": {},
   "outputs": [
    {
     "name": "stdout",
     "output_type": "stream",
     "text": [
      "(1611019, 19)\n",
      "(14499177, 19)\n",
      "(1611019,)\n",
      "(14499177,)\n"
     ]
    }
   ],
   "source": [
    "Xtrn, Xtst, ytrn, ytst = train_test_split(X_train, y_train, train_size=0.1, random_state=42)\n",
    "print(Xtrn.shape)\n",
    "print(Xtst.shape)\n",
    "print(ytrn.shape)\n",
    "print(ytst.shape)"
   ]
  },
  {
   "cell_type": "markdown",
   "metadata": {},
   "source": [
    "# 1"
   ]
  },
  {
   "cell_type": "code",
   "execution_count": 106,
   "metadata": {},
   "outputs": [
    {
     "name": "stdout",
     "output_type": "stream",
     "text": [
      "2019-12-13 18:28:31.265695\n",
      "Fitting 4 folds for each of 36 candidates, totalling 144 fits\n"
     ]
    },
    {
     "name": "stderr",
     "output_type": "stream",
     "text": [
      "[Parallel(n_jobs=8)]: Using backend LokyBackend with 8 concurrent workers.\n",
      "[Parallel(n_jobs=8)]: Done  16 tasks      | elapsed:  5.9min\n",
      "[Parallel(n_jobs=8)]: Done 112 tasks      | elapsed: 91.0min\n",
      "[Parallel(n_jobs=8)]: Done 144 out of 144 | elapsed: 124.3min finished\n"
     ]
    },
    {
     "name": "stdout",
     "output_type": "stream",
     "text": [
      "Best score: 0.8787698329329584\n",
      "Best parameters: {'max_depth': 16, 'min_samples_split': 50}\n",
      "2019-12-13 20:38:00.553660\n"
     ]
    }
   ],
   "source": [
    "print(datetime.datetime.now())\n",
    "\n",
    "rf = RandomForestRegressor(n_estimators=32, random_state=0)\n",
    "params = {'max_depth': [4, 8, 16, 32, 64, 128], \n",
    "          'min_samples_split': [50, 100, 300, 500, 700, 900]}\n",
    "\n",
    "search = GridSearchCV(rf, params, cv=4, n_jobs=8, verbose=3)\n",
    "search.fit(Xtrn, ytrn)\n",
    "\n",
    "print('Best score:', search.best_score_)\n",
    "print('Best parameters:', search.best_params_)\n",
    "\n",
    "print(datetime.datetime.now())"
   ]
  },
  {
   "cell_type": "code",
   "execution_count": 109,
   "metadata": {},
   "outputs": [],
   "source": [
    "y_pred = search.best_estimator_.predict(Xtst)"
   ]
  },
  {
   "cell_type": "code",
   "execution_count": 111,
   "metadata": {},
   "outputs": [
    {
     "data": {
      "text/plain": [
       "55881.16621007994"
      ]
     },
     "execution_count": 111,
     "metadata": {},
     "output_type": "execute_result"
    }
   ],
   "source": [
    "rmse = np.sqrt(mean_squared_error(ytst, y_pred))\n",
    "rmse"
   ]
  },
  {
   "cell_type": "code",
   "execution_count": 113,
   "metadata": {},
   "outputs": [
    {
     "data": {
      "text/plain": [
       "1.3068439323584704"
      ]
     },
     "execution_count": 113,
     "metadata": {},
     "output_type": "execute_result"
    }
   ],
   "source": [
    "rmsle = np.sqrt(mean_squared_log_error(ytst, y_pred))\n",
    "rmsle"
   ]
  },
  {
   "cell_type": "markdown",
   "metadata": {},
   "source": [
    "# 2"
   ]
  },
  {
   "cell_type": "code",
   "execution_count": 114,
   "metadata": {},
   "outputs": [
    {
     "name": "stdout",
     "output_type": "stream",
     "text": [
      "2019-12-13 20:51:07.774547\n",
      "Fitting 4 folds for each of 16 candidates, totalling 64 fits\n"
     ]
    },
    {
     "name": "stderr",
     "output_type": "stream",
     "text": [
      "[Parallel(n_jobs=8)]: Using backend LokyBackend with 8 concurrent workers.\n",
      "/home/tri/anaconda3/lib/python3.7/site-packages/joblib/externals/loky/process_executor.py:706: UserWarning: A worker stopped while some jobs were given to the executor. This can be caused by a too short worker timeout or by a memory leak.\n",
      "  \"timeout or by a memory leak.\", UserWarning\n",
      "[Parallel(n_jobs=8)]: Done  16 tasks      | elapsed: 12.7min\n",
      "[Parallel(n_jobs=8)]: Done  64 out of  64 | elapsed: 62.7min finished\n"
     ]
    },
    {
     "name": "stdout",
     "output_type": "stream",
     "text": [
      "Best score: 0.8807152693357829\n",
      "Best parameters: {'max_depth': 15, 'min_samples_split': 40}\n",
      "2019-12-13 21:58:47.583181\n"
     ]
    }
   ],
   "source": [
    "print(datetime.datetime.now())\n",
    "\n",
    "rf = RandomForestRegressor(n_estimators=32, random_state=0)\n",
    "params = {'max_depth': [10, 15, 20, 25], \n",
    "          'min_samples_split': [20, 40, 60, 80]}\n",
    "\n",
    "search2 = GridSearchCV(rf, params, cv=4, n_jobs=8, verbose=3)\n",
    "search2.fit(Xtrn, ytrn)\n",
    "\n",
    "print('Best score:', search2.best_score_)\n",
    "print('Best parameters:', search2.best_params_)\n",
    "\n",
    "print(datetime.datetime.now())"
   ]
  },
  {
   "cell_type": "code",
   "execution_count": 115,
   "metadata": {},
   "outputs": [],
   "source": [
    "y_pred2 = search2.best_estimator_.predict(Xtst)"
   ]
  },
  {
   "cell_type": "code",
   "execution_count": 116,
   "metadata": {},
   "outputs": [
    {
     "data": {
      "text/plain": [
       "55346.7620838393"
      ]
     },
     "execution_count": 116,
     "metadata": {},
     "output_type": "execute_result"
    }
   ],
   "source": [
    "rmse2 = np.sqrt(mean_squared_error(ytst, y_pred2))\n",
    "rmse2"
   ]
  },
  {
   "cell_type": "code",
   "execution_count": 117,
   "metadata": {},
   "outputs": [
    {
     "data": {
      "text/plain": [
       "1.383095357306407"
      ]
     },
     "execution_count": 117,
     "metadata": {},
     "output_type": "execute_result"
    }
   ],
   "source": [
    "rmsle2 = np.sqrt(mean_squared_log_error(ytst, y_pred2))\n",
    "rmsle2"
   ]
  },
  {
   "cell_type": "markdown",
   "metadata": {},
   "source": [
    "# 3"
   ]
  },
  {
   "cell_type": "code",
   "execution_count": 118,
   "metadata": {},
   "outputs": [
    {
     "name": "stdout",
     "output_type": "stream",
     "text": [
      "2019-12-13 21:59:45.363255\n",
      "Fitting 4 folds for each of 8 candidates, totalling 32 fits\n"
     ]
    },
    {
     "name": "stderr",
     "output_type": "stream",
     "text": [
      "[Parallel(n_jobs=8)]: Using backend LokyBackend with 8 concurrent workers.\n",
      "/home/tri/anaconda3/lib/python3.7/site-packages/joblib/externals/loky/process_executor.py:706: UserWarning: A worker stopped while some jobs were given to the executor. This can be caused by a too short worker timeout or by a memory leak.\n",
      "  \"timeout or by a memory leak.\", UserWarning\n",
      "[Parallel(n_jobs=8)]: Done  16 tasks      | elapsed: 16.1min\n",
      "[Parallel(n_jobs=8)]: Done  28 out of  32 | elapsed: 31.9min remaining:  4.6min\n",
      "[Parallel(n_jobs=8)]: Done  32 out of  32 | elapsed: 32.0min finished\n"
     ]
    },
    {
     "name": "stdout",
     "output_type": "stream",
     "text": [
      "Best score: 0.8793346013608176\n",
      "Best parameters: {'min_samples_leaf': 5}\n",
      "2019-12-13 22:36:56.660781\n"
     ]
    }
   ],
   "source": [
    "print(datetime.datetime.now())\n",
    "\n",
    "rf = RandomForestRegressor(n_estimators=32, max_depth=16, min_samples_split=50, random_state=0)\n",
    "params = {'min_samples_leaf': range(5, 45, 5)}\n",
    "\n",
    "search3 = GridSearchCV(rf, params, cv=4, n_jobs=8, verbose=3)\n",
    "search3.fit(Xtrn, ytrn)\n",
    "\n",
    "print('Best score:', search3.best_score_)\n",
    "print('Best parameters:', search3.best_params_)\n",
    "\n",
    "print(datetime.datetime.now())"
   ]
  },
  {
   "cell_type": "code",
   "execution_count": 119,
   "metadata": {},
   "outputs": [],
   "source": [
    "y_pred3 = search3.best_estimator_.predict(Xtst)"
   ]
  },
  {
   "cell_type": "code",
   "execution_count": 120,
   "metadata": {},
   "outputs": [
    {
     "data": {
      "text/plain": [
       "56108.77149025306"
      ]
     },
     "execution_count": 120,
     "metadata": {},
     "output_type": "execute_result"
    }
   ],
   "source": [
    "rmse3 = np.sqrt(mean_squared_error(ytst, y_pred3))\n",
    "rmse3"
   ]
  },
  {
   "cell_type": "code",
   "execution_count": 121,
   "metadata": {},
   "outputs": [
    {
     "data": {
      "text/plain": [
       "1.3061306801257593"
      ]
     },
     "execution_count": 121,
     "metadata": {},
     "output_type": "execute_result"
    }
   ],
   "source": [
    "rmsle3 = np.sqrt(mean_squared_log_error(ytst, y_pred3))\n",
    "rmsle3"
   ]
  },
  {
   "cell_type": "markdown",
   "metadata": {},
   "source": [
    "# 4"
   ]
  },
  {
   "cell_type": "code",
   "execution_count": 122,
   "metadata": {},
   "outputs": [
    {
     "name": "stdout",
     "output_type": "stream",
     "text": [
      "2019-12-14 09:20:32.324892\n",
      "Fitting 4 folds for each of 12 candidates, totalling 48 fits\n"
     ]
    },
    {
     "name": "stderr",
     "output_type": "stream",
     "text": [
      "[Parallel(n_jobs=8)]: Using backend LokyBackend with 8 concurrent workers.\n",
      "/home/tri/anaconda3/lib/python3.7/site-packages/joblib/externals/loky/process_executor.py:706: UserWarning: A worker stopped while some jobs were given to the executor. This can be caused by a too short worker timeout or by a memory leak.\n",
      "  \"timeout or by a memory leak.\", UserWarning\n",
      "[Parallel(n_jobs=8)]: Done  16 tasks      | elapsed: 15.8min\n",
      "[Parallel(n_jobs=8)]: Done  48 out of  48 | elapsed: 46.8min finished\n"
     ]
    },
    {
     "name": "stdout",
     "output_type": "stream",
     "text": [
      "Best score: 0.880427475091644\n",
      "Best parameters: {'min_samples_leaf': 4}\n",
      "2019-12-14 10:12:19.704393\n"
     ]
    }
   ],
   "source": [
    "print(datetime.datetime.now())\n",
    "\n",
    "rf = RandomForestRegressor(n_estimators=32, max_depth=15, min_samples_split=40, random_state=0)\n",
    "params = {'min_samples_leaf': range(2, 25, 2)}\n",
    "\n",
    "search4 = GridSearchCV(rf, params, cv=4, n_jobs=8, verbose=3)\n",
    "search4.fit(Xtrn, ytrn)\n",
    "\n",
    "print('Best score:', search4.best_score_)\n",
    "print('Best parameters:', search4.best_params_)\n",
    "\n",
    "print(datetime.datetime.now())"
   ]
  },
  {
   "cell_type": "code",
   "execution_count": 123,
   "metadata": {},
   "outputs": [],
   "source": [
    "y_pred4 = search4.best_estimator_.predict(Xtst)"
   ]
  },
  {
   "cell_type": "code",
   "execution_count": 124,
   "metadata": {},
   "outputs": [
    {
     "data": {
      "text/plain": [
       "55529.715738555846"
      ]
     },
     "execution_count": 124,
     "metadata": {},
     "output_type": "execute_result"
    }
   ],
   "source": [
    "rmse4 = np.sqrt(mean_squared_error(ytst, y_pred4))\n",
    "rmse4"
   ]
  },
  {
   "cell_type": "code",
   "execution_count": 125,
   "metadata": {},
   "outputs": [
    {
     "data": {
      "text/plain": [
       "1.3827217681208048"
      ]
     },
     "execution_count": 125,
     "metadata": {},
     "output_type": "execute_result"
    }
   ],
   "source": [
    "rmsle4 = np.sqrt(mean_squared_log_error(ytst, y_pred4))\n",
    "rmsle4"
   ]
  },
  {
   "cell_type": "markdown",
   "metadata": {},
   "source": [
    "# Full 1"
   ]
  },
  {
   "cell_type": "code",
   "execution_count": 29,
   "metadata": {},
   "outputs": [
    {
     "name": "stdout",
     "output_type": "stream",
     "text": [
      "2019-12-15 08:39:21.614366\n",
      "Fitting 4 folds for each of 4 candidates, totalling 16 fits\n"
     ]
    },
    {
     "name": "stderr",
     "output_type": "stream",
     "text": [
      "[Parallel(n_jobs=8)]: Using backend LokyBackend with 8 concurrent workers.\n",
      "[Parallel(n_jobs=8)]: Done   7 out of  16 | elapsed: 109.9min remaining: 141.4min\n",
      "[Parallel(n_jobs=8)]: Done  13 out of  16 | elapsed: 249.6min remaining: 57.6min\n",
      "[Parallel(n_jobs=8)]: Done  16 out of  16 | elapsed: 250.0min finished\n"
     ]
    },
    {
     "name": "stdout",
     "output_type": "stream",
     "text": [
      "Best score: 0.9361698619606519\n",
      "Best parameters: {'max_depth': 50, 'min_samples_split': 40}\n",
      "2019-12-15 14:29:12.272096\n"
     ]
    }
   ],
   "source": [
    "print(datetime.datetime.now())\n",
    "\n",
    "rf = RandomForestRegressor(n_estimators=32, random_state=0)\n",
    "params = {'max_depth': [15, 50],\n",
    "          'min_samples_split': [40, 100]}\n",
    "\n",
    "full = GridSearchCV(rf, params, cv=4, n_jobs=8, verbose=3)\n",
    "full.fit(X_train, y_train)\n",
    "\n",
    "print('Best score:', full.best_score_)\n",
    "print('Best parameters:', full.best_params_)\n",
    "\n",
    "print(datetime.datetime.now())"
   ]
  },
  {
   "cell_type": "code",
   "execution_count": 30,
   "metadata": {},
   "outputs": [],
   "source": [
    "y_preds = full.best_estimator_.predict(X_test)"
   ]
  },
  {
   "cell_type": "code",
   "execution_count": 31,
   "metadata": {},
   "outputs": [
    {
     "data": {
      "text/plain": [
       "34321.46061311407"
      ]
     },
     "execution_count": 31,
     "metadata": {},
     "output_type": "execute_result"
    }
   ],
   "source": [
    "r = np.sqrt(mean_squared_error(y_test, y_preds))\n",
    "r"
   ]
  },
  {
   "cell_type": "code",
   "execution_count": 32,
   "metadata": {},
   "outputs": [
    {
     "data": {
      "text/plain": [
       "0.6787057231010526"
      ]
     },
     "execution_count": 32,
     "metadata": {},
     "output_type": "execute_result"
    }
   ],
   "source": [
    "l = np.sqrt(mean_squared_log_error(y_test, y_preds))\n",
    "l"
   ]
  },
  {
   "cell_type": "markdown",
   "metadata": {},
   "source": [
    "# Full 2"
   ]
  },
  {
   "cell_type": "code",
   "execution_count": 30,
   "metadata": {},
   "outputs": [
    {
     "name": "stdout",
     "output_type": "stream",
     "text": [
      "2019-12-16 16:30:45.473657\n",
      "Fitting 4 folds for each of 2 candidates, totalling 8 fits\n"
     ]
    },
    {
     "name": "stderr",
     "output_type": "stream",
     "text": [
      "[Parallel(n_jobs=8)]: Using backend LokyBackend with 8 concurrent workers.\n",
      "[Parallel(n_jobs=8)]: Done   2 out of   8 | elapsed: 118.1min remaining: 354.2min\n",
      "[Parallel(n_jobs=8)]: Done   5 out of   8 | elapsed: 118.2min remaining: 70.9min\n",
      "[Parallel(n_jobs=8)]: Done   8 out of   8 | elapsed: 118.7min remaining:    0.0s\n",
      "[Parallel(n_jobs=8)]: Done   8 out of   8 | elapsed: 118.7min finished\n"
     ]
    },
    {
     "name": "stdout",
     "output_type": "stream",
     "text": [
      "Best score: 0.9381143916042173\n",
      "Best parameters: {'max_depth': 80}\n",
      "2019-12-16 19:49:56.667516\n"
     ]
    }
   ],
   "source": [
    "print(datetime.datetime.now())\n",
    "\n",
    "rf = RandomForestRegressor(n_estimators=32, min_samples_split=40, random_state=0)\n",
    "params = {'max_depth': [60, 80]}\n",
    "\n",
    "full2 = GridSearchCV(rf, params, cv=4, n_jobs=8, verbose=3)\n",
    "full2.fit(X_train, y_train)\n",
    "\n",
    "print('Best score:', full2.best_score_)\n",
    "print('Best parameters:', full2.best_params_)\n",
    "\n",
    "print(datetime.datetime.now())"
   ]
  },
  {
   "cell_type": "code",
   "execution_count": 31,
   "metadata": {},
   "outputs": [],
   "source": [
    "y_preds2 = full2.best_estimator_.predict(X_test)"
   ]
  },
  {
   "cell_type": "code",
   "execution_count": 32,
   "metadata": {},
   "outputs": [
    {
     "data": {
      "text/plain": [
       "34537.516408393814"
      ]
     },
     "execution_count": 32,
     "metadata": {},
     "output_type": "execute_result"
    }
   ],
   "source": [
    "r2 = np.sqrt(mean_squared_error(y_test, y_preds2))\n",
    "r2"
   ]
  },
  {
   "cell_type": "code",
   "execution_count": 33,
   "metadata": {},
   "outputs": [
    {
     "data": {
      "text/plain": [
       "0.6735756462180386"
      ]
     },
     "execution_count": 33,
     "metadata": {},
     "output_type": "execute_result"
    }
   ],
   "source": [
    "l2 = np.sqrt(mean_squared_log_error(y_test, y_preds2))\n",
    "l2"
   ]
  },
  {
   "cell_type": "markdown",
   "metadata": {},
   "source": [
    "# Full 3"
   ]
  },
  {
   "cell_type": "code",
   "execution_count": null,
   "metadata": {},
   "outputs": [
    {
     "name": "stdout",
     "output_type": "stream",
     "text": [
      "2019-12-16 19:58:14.033605\n",
      "Fitting 4 folds for each of 6 candidates, totalling 24 fits\n"
     ]
    },
    {
     "name": "stderr",
     "output_type": "stream",
     "text": [
      "[Parallel(n_jobs=8)]: Using backend LokyBackend with 8 concurrent workers.\n"
     ]
    }
   ],
   "source": [
    "print(datetime.datetime.now())\n",
    "\n",
    "rf = RandomForestRegressor(n_estimators=32, max_depth=80, random_state=0)\n",
    "params = {'min_samples_split': [20, 40, 60], \n",
    "          'min_samples_leaf': [5, 10]}\n",
    "\n",
    "full3 = GridSearchCV(rf, params, cv=4, n_jobs=8, verbose=3)\n",
    "full3.fit(X_train, y_train)\n",
    "\n",
    "print('Best score:', full3.best_score_)\n",
    "print('Best parameters:', full3.best_params_)\n",
    "\n",
    "print(datetime.datetime.now())"
   ]
  },
  {
   "cell_type": "code",
   "execution_count": null,
   "metadata": {},
   "outputs": [],
   "source": [
    "y_preds3 = full3.best_estimator_.predict(X_test)"
   ]
  },
  {
   "cell_type": "code",
   "execution_count": null,
   "metadata": {},
   "outputs": [],
   "source": [
    "r3 = np.sqrt(mean_squared_error(y_test, y_preds3))\n",
    "r3"
   ]
  },
  {
   "cell_type": "code",
   "execution_count": null,
   "metadata": {},
   "outputs": [],
   "source": [
    "l3 = np.sqrt(mean_squared_log_error(y_test, y_preds3))\n",
    "l3"
   ]
  },
  {
   "cell_type": "markdown",
   "metadata": {},
   "source": [
    "# Full 4"
   ]
  },
  {
   "cell_type": "code",
   "execution_count": null,
   "metadata": {},
   "outputs": [
    {
     "name": "stdout",
     "output_type": "stream",
     "text": [
      "2019-12-16 19:57:26.804704\n",
      "Fitting 4 folds for each of 6 candidates, totalling 24 fits\n"
     ]
    },
    {
     "name": "stderr",
     "output_type": "stream",
     "text": [
      "[Parallel(n_jobs=8)]: Using backend LokyBackend with 8 concurrent workers.\n"
     ]
    }
   ],
   "source": [
    "print(datetime.datetime.now())\n",
    "\n",
    "rf = RandomForestRegressor(n_estimators=32, max_depth=80, min_samples_split=40, random_state=0)\n",
    "params = {'min_samples_split': [20, 40, 60], \n",
    "          'min_samples_leaf': [5, 10]}\n",
    "\n",
    "full4 = GridSearchCV(rf, params, cv=4, n_jobs=8, verbose=3)\n",
    "full4.fit(X_train, y_train)\n",
    "\n",
    "print('Best score:', full4.best_score_)\n",
    "print('Best parameters:', full4.best_params_)\n",
    "\n",
    "print(datetime.datetime.now())"
   ]
  },
  {
   "cell_type": "code",
   "execution_count": null,
   "metadata": {},
   "outputs": [],
   "source": [
    "y_preds4 = full4.best_estimator_.predict(X_test)"
   ]
  },
  {
   "cell_type": "code",
   "execution_count": null,
   "metadata": {},
   "outputs": [],
   "source": [
    "r4 = np.sqrt(mean_squared_error(y_test, y_preds4))\n",
    "r4"
   ]
  },
  {
   "cell_type": "code",
   "execution_count": null,
   "metadata": {},
   "outputs": [],
   "source": [
    "l4 = np.sqrt(mean_squared_log_error(y_test, y_preds4))\n",
    "l4"
   ]
  },
  {
   "cell_type": "code",
   "execution_count": 82,
   "metadata": {},
   "outputs": [
    {
     "name": "stderr",
     "output_type": "stream",
     "text": [
      "[Parallel(n_jobs=16)]: Using backend ThreadingBackend with 16 concurrent workers.\n"
     ]
    },
    {
     "name": "stdout",
     "output_type": "stream",
     "text": [
      "building tree 1 of 80building tree 2 of 80\n",
      "building tree 3 of 80\n",
      "building tree 4 of 80\n",
      "building tree 5 of 80\n",
      "building tree 6 of 80\n",
      "building tree 7 of 80\n",
      "building tree 8 of 80\n",
      "building tree 9 of 80\n",
      "building tree 10 of 80\n",
      "building tree 11 of 80\n",
      "building tree 12 of 80\n",
      "building tree 13 of 80\n",
      "building tree 14 of 80\n",
      "building tree 15 of 80\n",
      "building tree 16 of 80\n",
      "\n",
      "building tree 17 of 80\n",
      "building tree 18 of 80\n",
      "building tree 19 of 80building tree 20 of 80\n",
      "building tree 21 of 80\n",
      "\n",
      "building tree 22 of 80\n",
      "building tree 23 of 80\n",
      "building tree 24 of 80\n",
      "building tree 25 of 80\n",
      "building tree 26 of 80\n",
      "building tree 27 of 80building tree 28 of 80\n",
      "\n",
      "building tree 29 of 80\n",
      "building tree 30 of 80\n",
      "building tree 31 of 80\n",
      "building tree 32 of 80\n",
      "building tree 33 of 80\n",
      "building tree 34 of 80\n",
      "building tree 35 of 80\n",
      "building tree 36 of 80\n",
      "building tree 37 of 80\n",
      "building tree 38 of 80\n",
      "building tree 39 of 80\n",
      "building tree 40 of 80\n",
      "building tree 41 of 80\n",
      "building tree 42 of 80\n",
      "building tree 43 of 80\n",
      "building tree 44 of 80\n",
      "building tree 45 of 80\n",
      "building tree 46 of 80\n",
      "building tree 47 of 80\n",
      "building tree 48 of 80\n",
      "building tree 49 of 80\n",
      "building tree 50 of 80\n",
      "building tree 51 of 80\n",
      "building tree 52 of 80\n",
      "building tree 53 of 80\n",
      "building tree 54 of 80\n",
      "building tree 55 of 80\n",
      "building tree 56 of 80\n",
      "building tree 57 of 80\n",
      "building tree 58 of 80\n",
      "building tree 59 of 80\n",
      "building tree 60 of 80\n",
      "building tree 61 of 80\n",
      "building tree 62 of 80\n",
      "building tree 63 of 80\n",
      "building tree 64 of 80\n",
      "building tree 65 of 80\n",
      "building tree 66 of 80\n",
      "building tree 67 of 80\n",
      "building tree 68 of 80\n",
      "building tree 69 of 80\n",
      "building tree 70 of 80\n",
      "building tree 71 of 80\n",
      "building tree 72 of 80\n",
      "building tree 73 of 80\n",
      "building tree 74 of 80\n",
      "building tree 75 of 80\n",
      "building tree 76 of 80\n",
      "building tree 77 of 80\n",
      "building tree 78 of 80\n",
      "building tree 79 of 80\n",
      "building tree 80 of 80\n"
     ]
    },
    {
     "name": "stderr",
     "output_type": "stream",
     "text": [
      "[Parallel(n_jobs=16)]: Done  76 out of  80 | elapsed: 30.9min remaining:  1.6min\n",
      "[Parallel(n_jobs=16)]: Done  80 out of  80 | elapsed: 31.0min finished\n",
      "[Parallel(n_jobs=16)]: Using backend ThreadingBackend with 16 concurrent workers.\n",
      "[Parallel(n_jobs=16)]: Done  76 out of  80 | elapsed:    1.9s remaining:    0.1s\n",
      "[Parallel(n_jobs=16)]: Done  80 out of  80 | elapsed:    2.0s finished\n"
     ]
    },
    {
     "data": {
      "text/plain": [
       "0.9184812627928041"
      ]
     },
     "execution_count": 82,
     "metadata": {},
     "output_type": "execute_result"
    }
   ],
   "source": [
    "rf = RandomForestRegressor(n_estimators=80, max_depth=8, min_samples_split=40, min_samples_leaf=16, random_state=0, n_jobs=16, verbose=3)\n",
    "rf.fit(X_train, y_train)\n",
    "rf.score(X_test, y_test)"
   ]
  },
  {
   "cell_type": "code",
   "execution_count": 83,
   "metadata": {},
   "outputs": [
    {
     "name": "stderr",
     "output_type": "stream",
     "text": [
      "[Parallel(n_jobs=16)]: Using backend ThreadingBackend with 16 concurrent workers.\n",
      "[Parallel(n_jobs=16)]: Done  76 out of  80 | elapsed:    1.5s remaining:    0.1s\n",
      "[Parallel(n_jobs=16)]: Done  80 out of  80 | elapsed:    1.6s finished\n"
     ]
    },
    {
     "data": {
      "text/plain": [
       "45918.01314773768"
      ]
     },
     "execution_count": 83,
     "metadata": {},
     "output_type": "execute_result"
    }
   ],
   "source": [
    "rmse = np.sqrt(mean_squared_error(y_test, rf.predict(X_test)))\n",
    "rmse"
   ]
  },
  {
   "cell_type": "code",
   "execution_count": 84,
   "metadata": {},
   "outputs": [
    {
     "name": "stderr",
     "output_type": "stream",
     "text": [
      "[Parallel(n_jobs=16)]: Using backend ThreadingBackend with 16 concurrent workers.\n",
      "[Parallel(n_jobs=16)]: Done  76 out of  80 | elapsed:    1.6s remaining:    0.1s\n",
      "[Parallel(n_jobs=16)]: Done  80 out of  80 | elapsed:    1.7s finished\n"
     ]
    },
    {
     "data": {
      "text/plain": [
       "2.0377294567569284"
      ]
     },
     "execution_count": 84,
     "metadata": {},
     "output_type": "execute_result"
    }
   ],
   "source": [
    "rmlse = np.sqrt(mean_squared_log_error(y_test, rf.predict(X_test)))\n",
    "rmlse"
   ]
  },
  {
   "cell_type": "code",
   "execution_count": null,
   "metadata": {},
   "outputs": [],
   "source": []
  }
 ],
 "metadata": {
  "kernelspec": {
   "display_name": "Python 3",
   "language": "python",
   "name": "python3"
  },
  "language_info": {
   "codemirror_mode": {
    "name": "ipython",
    "version": 3
   },
   "file_extension": ".py",
   "mimetype": "text/x-python",
   "name": "python",
   "nbconvert_exporter": "python",
   "pygments_lexer": "ipython3",
   "version": "3.7.3"
  },
  "toc": {
   "base_numbering": 1,
   "nav_menu": {},
   "number_sections": true,
   "sideBar": true,
   "skip_h1_title": false,
   "title_cell": "Table of Contents",
   "title_sidebar": "Contents",
   "toc_cell": false,
   "toc_position": {},
   "toc_section_display": true,
   "toc_window_display": true
  },
  "toc-autonumbering": false,
  "toc-showcode": false,
  "toc-showmarkdowntxt": false,
  "toc-showtags": true,
  "varInspector": {
   "cols": {
    "lenName": 16,
    "lenType": 16,
    "lenVar": 40
   },
   "kernels_config": {
    "python": {
     "delete_cmd_postfix": "",
     "delete_cmd_prefix": "del ",
     "library": "var_list.py",
     "varRefreshCmd": "print(var_dic_list())"
    },
    "r": {
     "delete_cmd_postfix": ") ",
     "delete_cmd_prefix": "rm(",
     "library": "var_list.r",
     "varRefreshCmd": "cat(var_dic_list()) "
    }
   },
   "types_to_exclude": [
    "module",
    "function",
    "builtin_function_or_method",
    "instance",
    "_Feature"
   ],
   "window_display": true
  }
 },
 "nbformat": 4,
 "nbformat_minor": 4
}
