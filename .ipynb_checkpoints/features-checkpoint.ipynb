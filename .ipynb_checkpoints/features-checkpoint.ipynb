{
 "cells": [
  {
   "cell_type": "markdown",
   "metadata": {},
   "source": [
    "# Great Energy Predictor - Features\n",
    "#### Hosted by: ASHRAE\n",
    "##### Source: https://www.kaggle.com/c/ashrae-energy-prediction"
   ]
  },
  {
   "cell_type": "markdown",
   "metadata": {},
   "source": [
    "### Dependencies"
   ]
  },
  {
   "cell_type": "code",
   "execution_count": 8,
   "metadata": {},
   "outputs": [],
   "source": [
    "import src.utils as udf\n",
    "\n",
    "import datetime\n",
    "import numpy as np\n",
    "import pandas as pd\n",
    "import matplotlib.pyplot as plt\n",
    "import seaborn as sns\n",
    "import gc\n",
    "\n",
    "# import os\n",
    "\n",
    "# Pandas on dask\n",
    "# os.environ['MODIN_ENGINE'] = 'dask'\n",
    "# import modin.pandas as dd \n",
    "\n",
    "# Pandas on ray\n",
    "# os.environ['MODIN_ENGINE'] = 'ray'\n",
    "# import ray\n",
    "# ray.init()\n",
    "# import modin.pandas as ray"
   ]
  },
  {
   "cell_type": "code",
   "execution_count": 9,
   "metadata": {},
   "outputs": [],
   "source": [
    "# Plot settings\n",
    "sns.set(rc={'figure.figsize': (16, 4),\n",
    "            'font.size': 12})"
   ]
  },
  {
   "cell_type": "code",
   "execution_count": null,
   "metadata": {},
   "outputs": [],
   "source": []
  },
  {
   "cell_type": "code",
   "execution_count": null,
   "metadata": {},
   "outputs": [],
   "source": []
  },
  {
   "cell_type": "markdown",
   "metadata": {},
   "source": [
    "### Load data"
   ]
  },
  {
   "cell_type": "code",
   "execution_count": 10,
   "metadata": {},
   "outputs": [],
   "source": [
    "path = '../data/from_pre/'"
   ]
  },
  {
   "cell_type": "code",
   "execution_count": 11,
   "metadata": {},
   "outputs": [
    {
     "name": "stdout",
     "output_type": "stream",
     "text": [
      "<class 'pandas.core.frame.DataFrame'>\n",
      "RangeIndex: 19974289 entries, 0 to 19974288\n",
      "Data columns (total 18 columns):\n",
      "site_id               int64\n",
      "building_id           int64\n",
      "meter                 int64\n",
      "meter_type            object\n",
      "timestamp             datetime64[ns]\n",
      "meter_reading         float64\n",
      "air_temperature       float64\n",
      "dew_temperature       float64\n",
      "sea_level_pressure    float64\n",
      "wind_direction        int64\n",
      "wind_speed            float64\n",
      "primary_use           object\n",
      "square_feet           int64\n",
      "dayofyear             int64\n",
      "month                 int64\n",
      "day                   int64\n",
      "hour                  int64\n",
      "dayofweek             int64\n",
      "dtypes: datetime64[ns](1), float64(5), int64(10), object(2)\n",
      "memory usage: 2.7+ GB\n"
     ]
    }
   ],
   "source": [
    "train = pd.read_csv(f'{path}train.csv', parse_dates=['timestamp'])\n",
    "train.info()"
   ]
  },
  {
   "cell_type": "code",
   "execution_count": 12,
   "metadata": {},
   "outputs": [
    {
     "name": "stdout",
     "output_type": "stream",
     "text": [
      "<class 'pandas.core.frame.DataFrame'>\n",
      "RangeIndex: 19974289 entries, 0 to 19974288\n",
      "Data columns (total 18 columns):\n",
      "site_id               uint8\n",
      "building_id           uint16\n",
      "meter                 uint8\n",
      "meter_type            category\n",
      "timestamp             datetime64[ns]\n",
      "meter_reading         float32\n",
      "air_temperature       float32\n",
      "dew_temperature       float32\n",
      "sea_level_pressure    float32\n",
      "wind_direction        uint16\n",
      "wind_speed            float32\n",
      "primary_use           category\n",
      "square_feet           uint32\n",
      "dayofyear             uint16\n",
      "month                 uint8\n",
      "day                   uint8\n",
      "hour                  uint8\n",
      "dayofweek             uint8\n",
      "dtypes: category(2), datetime64[ns](1), float32(5), uint16(3), uint32(1), uint8(6)\n",
      "memory usage: 876.3 MB\n"
     ]
    }
   ],
   "source": [
    "train = udf.reduce_mem_usage(train)\n",
    "train.info()"
   ]
  },
  {
   "cell_type": "code",
   "execution_count": 13,
   "metadata": {},
   "outputs": [
    {
     "data": {
      "text/plain": [
       "64"
      ]
     },
     "execution_count": 13,
     "metadata": {},
     "output_type": "execute_result"
    }
   ],
   "source": [
    "del path\n",
    "gc.collect()"
   ]
  },
  {
   "cell_type": "code",
   "execution_count": null,
   "metadata": {},
   "outputs": [],
   "source": []
  },
  {
   "cell_type": "code",
   "execution_count": null,
   "metadata": {},
   "outputs": [],
   "source": []
  },
  {
   "cell_type": "markdown",
   "metadata": {},
   "source": [
    "### Features"
   ]
  },
  {
   "cell_type": "code",
   "execution_count": null,
   "metadata": {},
   "outputs": [],
   "source": []
  }
 ],
 "metadata": {
  "kernelspec": {
   "display_name": "Python 3",
   "language": "python",
   "name": "python3"
  },
  "language_info": {
   "codemirror_mode": {
    "name": "ipython",
    "version": 3
   },
   "file_extension": ".py",
   "mimetype": "text/x-python",
   "name": "python",
   "nbconvert_exporter": "python",
   "pygments_lexer": "ipython3",
   "version": "3.8.0"
  }
 },
 "nbformat": 4,
 "nbformat_minor": 4
}
