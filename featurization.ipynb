{
 "cells": [
  {
   "cell_type": "markdown",
   "metadata": {},
   "source": [
    "# Great Energy Predictor - Featurization"
   ]
  },
  {
   "cell_type": "markdown",
   "metadata": {},
   "source": [
    "<a id='content3'></a>\n",
    "## Content\n",
    "\n",
    "1. [Data Description](#description3)\n",
    "2. [Imports](#imports3)\n",
    "3. [Feature Selection](#eda)"
   ]
  },
  {
   "cell_type": "markdown",
   "metadata": {},
   "source": [
    "<a id='description3'></a>\n",
    "## 1. Data Description\n",
    "[Back to top](#content3)"
   ]
  },
  {
   "cell_type": "markdown",
   "metadata": {},
   "source": [
    "The data is a 2016 collection of energy meter readings (from over 1,000 buildings in 16 sites around the world) and weather measurements (from the nearest weather station for each site). It consists of 3 relational files of tabular data with the following features:\n",
    "##### 1. train.csv - contains energy consumption measurements from 4 types of building meters in 2016\n",
    "    - building_id - identifies the building\n",
    "        - There are 1449 buildings in 16 sites around the world in this dataset\n",
    "    - meter - meter type (not all buildings have all meter types)\n",
    "        - 0 - electricity\n",
    "        - 1 - chilldwater\n",
    "        - 2 - steam\n",
    "        - 3 - hotwater\n",
    "    - timestamp - date and time of the meter reading\n",
    "        - This dataset contains measurements over a span of an entire year\n",
    "    - meter_reading - Energy consumption, in kilowatt-hour (kWh) or equivalent\n",
    "        - This is the target variable\n",
    "##### 2. weather_train.csv - contains weather measurements in 2016 from the weather station that is closest to the site\n",
    "    - site_id - identifies the site where the building is\n",
    "    - timestamp - date and time of the weather measurements\n",
    "    - air_temperature - air temperature, in degrees Celsius\n",
    "    - cloud_coverage - portion of the sky covered by clouds, in oktas\n",
    "    - dew_temperature - temperature at which dew forms, in degrees Celsius\n",
    "    - precip_depth_1_hr - measure of rainfail in 1 hour, in millimeters (mm)\n",
    "    - sea_level_pressure - atmospheric pressure at sea level, in millibar (mbar) or hectopascals (hPa)\n",
    "    - wind_direction - compass direction of the wind (0 - 360)\n",
    "    - wind_speed - wind speed, in meters per second (m/s)\n",
    "##### 3. building_metadata.csv - contains details about the buildings in the dataset\n",
    "    - site_id - identifies the site where the building is\n",
    "    - building_id - identifies the building\n",
    "    - primary_use - what the building is used for (based on EnergyStar's property types)\n",
    "    - square_feet - gross floor area of the building, in square feet (ft^2)\n",
    "    - year_built - year the building was opened\n",
    "    - floor_count - number of floors the building has\n",
    "    \n",
    "This data was retrieved from a public Kaggle competition hosted by ASHRAE.\n",
    "##### Source: https://www.kaggle.com/c/ashrae-energy-prediction/data"
   ]
  },
  {
   "cell_type": "markdown",
   "metadata": {},
   "source": [
    "<a id='imports3'></a>\n",
    "## 2. Imports\n",
    "[Back to top](#content3)"
   ]
  },
  {
   "cell_type": "markdown",
   "metadata": {},
   "source": [
    "##### Import libraries"
   ]
  },
  {
   "cell_type": "code",
   "execution_count": 1,
   "metadata": {
    "ExecuteTime": {
     "end_time": "2019-11-23T21:27:32.231170Z",
     "start_time": "2019-11-23T21:27:21.617510Z"
    }
   },
   "outputs": [],
   "source": [
    "%matplotlib inline\n",
    "\n",
    "import gc\n",
    "import datetime\n",
    "import numpy as np\n",
    "import pandas as pd\n",
    "import matplotlib.pyplot as plt\n",
    "import seaborn as sns\n",
    "\n",
    "# import ray.dataframe as pd"
   ]
  },
  {
   "cell_type": "code",
   "execution_count": 2,
   "metadata": {
    "ExecuteTime": {
     "end_time": "2019-11-23T21:27:32.244831Z",
     "start_time": "2019-11-23T21:27:32.242298Z"
    }
   },
   "outputs": [],
   "source": [
    "# Default plot settings\n",
    "sns.set(rc={'figure.figsize': (16, 6), \n",
    "            'font.size': 12})"
   ]
  },
  {
   "cell_type": "markdown",
   "metadata": {},
   "source": [
    "##### Import data"
   ]
  },
  {
   "cell_type": "code",
   "execution_count": 3,
   "metadata": {},
   "outputs": [],
   "source": [
    "data_path = '../data/output/'"
   ]
  },
  {
   "cell_type": "code",
   "execution_count": 21,
   "metadata": {
    "ExecuteTime": {
     "end_time": "2019-11-23T21:27:32.259391Z",
     "start_time": "2019-11-23T21:27:32.255524Z"
    }
   },
   "outputs": [],
   "source": [
    "# dtypes = {\n",
    "#     'site_id': 'uint8',\n",
    "#     'building_id': 'uint16',\n",
    "#     'primary_use': 'category',\n",
    "#     'square_feet': 'uint32',\n",
    "#     'year_built': 'uint16',\n",
    "#     'floor_count': 'uint8',\n",
    "#     'use_encoded': 'unit8'\n",
    "# }"
   ]
  },
  {
   "cell_type": "code",
   "execution_count": 22,
   "metadata": {},
   "outputs": [],
   "source": [
    "# building = pd.read_csv(f'{data_path}clean_building.csv', dtype=dtypes).iloc[:, 1:]\n",
    "# building.info()"
   ]
  },
  {
   "cell_type": "code",
   "execution_count": 23,
   "metadata": {},
   "outputs": [],
   "source": [
    "# dtypes = {\n",
    "#     'site_id': 'uint8',\n",
    "#     'air_temperature': 'float32',\n",
    "#     'cloud_coverage': 'uint8',\n",
    "#     'dew_temperature': 'float32',\n",
    "#     'precip_depth_1_hr': 'float32',\n",
    "#     'sea_level_pressure': 'float32',\n",
    "#     'wind_direction': 'uint16',\n",
    "#     'wind_speed': 'float32'\n",
    "# }"
   ]
  },
  {
   "cell_type": "code",
   "execution_count": 24,
   "metadata": {},
   "outputs": [
    {
     "name": "stdout",
     "output_type": "stream",
     "text": [
      "<class 'pandas.core.frame.DataFrame'>\n",
      "RangeIndex: 140544 entries, 0 to 140543\n",
      "Data columns (total 9 columns):\n",
      "site_id               140544 non-null uint8\n",
      "timestamp             140544 non-null datetime64[ns]\n",
      "air_temperature       140544 non-null float64\n",
      "cloud_coverage        140544 non-null int64\n",
      "dew_temperature       140544 non-null float64\n",
      "precip_depth_1_hr     140544 non-null float64\n",
      "sea_level_pressure    140544 non-null float64\n",
      "wind_direction        140544 non-null int64\n",
      "wind_speed            140544 non-null float64\n",
      "dtypes: datetime64[ns](1), float64(5), int64(2), uint8(1)\n",
      "memory usage: 8.7 MB\n"
     ]
    }
   ],
   "source": [
    "weather = pd.read_csv(f'{data_path}clean_weather.csv', dtype=dtypes, parse_dates=['timestamp']).iloc[:, 1:]\n",
    "weather.info()"
   ]
  },
  {
   "cell_type": "code",
   "execution_count": 25,
   "metadata": {},
   "outputs": [],
   "source": [
    "# dtypes = {\n",
    "#     'site_id': 'uint8',\n",
    "#     'building_id': 'uint16',\n",
    "#     'meter': 'uint8',\n",
    "#     'type': 'category',\n",
    "#     'meter_reading': 'float32',\n",
    "#     'weekday': 'uint8',\n",
    "#     'hour': 'uint8'\n",
    "# }"
   ]
  },
  {
   "cell_type": "code",
   "execution_count": 26,
   "metadata": {},
   "outputs": [],
   "source": [
    "# meter = pd.read_csv(f'{data_path}eda_meter.csv', dtype=dtypes, parse_dates=['timestamp']).iloc[:, 1:]\n",
    "# meter.info()"
   ]
  },
  {
   "cell_type": "code",
   "execution_count": 29,
   "metadata": {},
   "outputs": [],
   "source": [
    "dtypes = {\n",
    "    'site_id': 'uint8',\n",
    "    'building_id': 'uint16',\n",
    "    'use_encoded': 'uint8',\n",
    "    'primary_use': 'category',\n",
    "    'year_built': 'uint16',\n",
    "    'floor_count': 'uint8',\n",
    "    'square_feet': 'uint32',\n",
    "    'month': 'uint8',\n",
    "    'day': 'uint8',\n",
    "    'hour': 'uint8',\n",
    "    'weekday': 'uint8',\n",
    "    'meter': 'uint8',\n",
    "    'type': 'category',\n",
    "    'meter_reading': 'float32',\n",
    "    'air_temperature': 'float32',\n",
    "    'dew_temperature': 'float32',\n",
    "    'sea_level_pressure': 'float32',\n",
    "    'cloud_coverage': 'uint8',\n",
    "    'precip_depth_1_hr': 'float32',\n",
    "    'wind_direction': 'uint16',\n",
    "    'wind_speed': 'float32'\n",
    "}"
   ]
  },
  {
   "cell_type": "code",
   "execution_count": 30,
   "metadata": {},
   "outputs": [
    {
     "name": "stdout",
     "output_type": "stream",
     "text": [
      "<class 'pandas.core.frame.DataFrame'>\n",
      "RangeIndex: 20137746 entries, 0 to 20137745\n",
      "Data columns (total 22 columns):\n",
      "site_id               uint8\n",
      "building_id           uint16\n",
      "use_encoded           uint8\n",
      "primary_use           category\n",
      "year_built            uint16\n",
      "floor_count           uint8\n",
      "square_feet           uint32\n",
      "timestamp             datetime64[ns]\n",
      "month                 uint8\n",
      "day                   uint8\n",
      "hour                  uint8\n",
      "weekday               uint8\n",
      "meter                 uint8\n",
      "type                  category\n",
      "meter_reading         float32\n",
      "air_temperature       float32\n",
      "dew_temperature       float32\n",
      "sea_level_pressure    float32\n",
      "cloud_coverage        uint8\n",
      "precip_depth_1_hr     float32\n",
      "wind_direction        uint16\n",
      "wind_speed            float32\n",
      "dtypes: category(2), datetime64[ns](1), float32(6), uint16(3), uint32(1), uint8(9)\n",
      "memory usage: 1017.9 MB\n"
     ]
    }
   ],
   "source": [
    "train_df = pd.read_csv(f'{data_path}eda_train.csv', dtype=dtypes, parse_dates=['timestamp']).iloc[:, 1:]\n",
    "train_df.info()"
   ]
  },
  {
   "cell_type": "code",
   "execution_count": 31,
   "metadata": {},
   "outputs": [
    {
     "data": {
      "text/plain": [
       "8877"
      ]
     },
     "execution_count": 31,
     "metadata": {},
     "output_type": "execute_result"
    }
   ],
   "source": [
    "del dtypes\n",
    "gc.collect()"
   ]
  },
  {
   "cell_type": "markdown",
   "metadata": {},
   "source": [
    "<a id='seln'></a>\n",
    "## 3. Feature Selection\n",
    "[Back to top](#content3)"
   ]
  },
  {
   "cell_type": "code",
   "execution_count": null,
   "metadata": {},
   "outputs": [],
   "source": []
  }
 ],
 "metadata": {
  "kernelspec": {
   "display_name": "Python 3",
   "language": "python",
   "name": "python3"
  },
  "language_info": {
   "codemirror_mode": {
    "name": "ipython",
    "version": 3
   },
   "file_extension": ".py",
   "mimetype": "text/x-python",
   "name": "python",
   "nbconvert_exporter": "python",
   "pygments_lexer": "ipython3",
   "version": "3.7.3"
  },
  "toc": {
   "base_numbering": 1,
   "nav_menu": {},
   "number_sections": true,
   "sideBar": true,
   "skip_h1_title": false,
   "title_cell": "Table of Contents",
   "title_sidebar": "Contents",
   "toc_cell": false,
   "toc_position": {},
   "toc_section_display": true,
   "toc_window_display": true
  },
  "toc-autonumbering": false,
  "toc-showcode": false,
  "toc-showmarkdowntxt": false,
  "toc-showtags": true,
  "varInspector": {
   "cols": {
    "lenName": 16,
    "lenType": 16,
    "lenVar": 40
   },
   "kernels_config": {
    "python": {
     "delete_cmd_postfix": "",
     "delete_cmd_prefix": "del ",
     "library": "var_list.py",
     "varRefreshCmd": "print(var_dic_list())"
    },
    "r": {
     "delete_cmd_postfix": ") ",
     "delete_cmd_prefix": "rm(",
     "library": "var_list.r",
     "varRefreshCmd": "cat(var_dic_list()) "
    }
   },
   "types_to_exclude": [
    "module",
    "function",
    "builtin_function_or_method",
    "instance",
    "_Feature"
   ],
   "window_display": true
  }
 },
 "nbformat": 4,
 "nbformat_minor": 2
}
