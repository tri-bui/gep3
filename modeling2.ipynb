{
 "cells": [
  {
   "cell_type": "markdown",
   "metadata": {},
   "source": [
    "# Great Energy Predictor - Modeling\n",
    "#### Hosted by: ASHRAE\n",
    "##### Source: https://www.kaggle.com/c/ashrae-energy-prediction"
   ]
  },
  {
   "cell_type": "markdown",
   "metadata": {},
   "source": [
    "### Dependencies"
   ]
  },
  {
   "cell_type": "code",
   "execution_count": 1,
   "metadata": {},
   "outputs": [],
   "source": [
    "%matplotlib inline\n",
    "\n",
    "import src.utils as udf\n",
    "\n",
    "import gc\n",
    "import joblib\n",
    "import datetime\n",
    "import numpy as np\n",
    "import pandas as pd\n",
    "import matplotlib.pyplot as plt\n",
    "import seaborn as sns\n",
    "\n",
    "from sklearn.preprocessing import StandardScaler\n",
    "from sklearn.model_selection import train_test_split, KFold, cross_val_score, GridSearchCV, RandomizedSearchCV\n",
    "from sklearn.decomposition import PCA\n",
    "from sklearn.metrics import mean_squared_error, mean_squared_log_error\n",
    "from sklearn.linear_model import Lasso\n",
    "from sklearn.ensemble import RandomForestRegressor\n",
    "\n",
    "import lightgbm as lgb\n",
    "import xgboost as xgb\n",
    "import optuna\n",
    "\n",
    "# import os\n",
    "\n",
    "# Pandas on dask\n",
    "# os.environ['MODIN_ENGINE'] = 'dask'\n",
    "# import modin.pandas as dd \n",
    "\n",
    "# Pandas on ray\n",
    "# os.environ['MODIN_ENGINE'] = 'ray'\n",
    "# import ray\n",
    "# ray.init()\n",
    "# import modin.pandas as ray"
   ]
  },
  {
   "cell_type": "code",
   "execution_count": 2,
   "metadata": {},
   "outputs": [],
   "source": [
    "# Plot settings\n",
    "sns.set(rc={'figure.figsize': (16, 4),\n",
    "            'font.size': 16})"
   ]
  },
  {
   "cell_type": "code",
   "execution_count": null,
   "metadata": {},
   "outputs": [],
   "source": []
  },
  {
   "cell_type": "code",
   "execution_count": null,
   "metadata": {},
   "outputs": [],
   "source": []
  },
  {
   "cell_type": "markdown",
   "metadata": {},
   "source": [
    "### Load data"
   ]
  },
  {
   "cell_type": "code",
   "execution_count": 3,
   "metadata": {},
   "outputs": [],
   "source": [
    "path = '../data/from_mod/'"
   ]
  },
  {
   "cell_type": "code",
   "execution_count": 4,
   "metadata": {},
   "outputs": [
    {
     "name": "stdout",
     "output_type": "stream",
     "text": [
      "<class 'pandas.core.frame.DataFrame'>\n",
      "Int64Index: 3518870 entries, 71 to 18264845\n",
      "Data columns (total 17 columns):\n",
      "building_id           uint16\n",
      "meter_reading         float32\n",
      "dew_temperature       float32\n",
      "sea_level_pressure    float32\n",
      "wind_speed            float32\n",
      "primary_use           object\n",
      "square_feet           uint32\n",
      "year_built            uint16\n",
      "missing_year          uint8\n",
      "dayofyear             uint16\n",
      "hour                  uint8\n",
      "wind_direction_x      float32\n",
      "wind_direction_y      float32\n",
      "rel_humidity          float32\n",
      "is_weekend            uint8\n",
      "country               object\n",
      "is_holiday            uint8\n",
      "dtypes: float32(7), object(2), uint16(3), uint32(1), uint8(4)\n",
      "memory usage: 221.5+ MB\n"
     ]
    }
   ],
   "source": [
    "train1 = pd.read_pickle(f'{path}train_meter1.pkl')\n",
    "train1.info()"
   ]
  },
  {
   "cell_type": "code",
   "execution_count": 5,
   "metadata": {},
   "outputs": [
    {
     "name": "stdout",
     "output_type": "stream",
     "text": [
      "<class 'pandas.core.frame.DataFrame'>\n",
      "Int64Index: 3518870 entries, 71 to 18264845\n",
      "Data columns (total 17 columns):\n",
      "building_id           uint16\n",
      "meter_reading         float32\n",
      "dew_temperature       float32\n",
      "sea_level_pressure    float32\n",
      "wind_speed            float32\n",
      "primary_use           object\n",
      "square_feet           uint32\n",
      "year_built            uint16\n",
      "missing_year          uint8\n",
      "dayofyear             uint16\n",
      "hour                  uint8\n",
      "wind_direction_x      float32\n",
      "wind_direction_y      float32\n",
      "rel_humidity          float32\n",
      "is_weekend            uint8\n",
      "country               object\n",
      "is_holiday            uint8\n",
      "dtypes: float32(7), object(2), uint16(3), uint32(1), uint8(4)\n",
      "memory usage: 221.5+ MB\n"
     ]
    }
   ],
   "source": [
    "train1 = udf.reduce_mem_usage(train1)\n",
    "train1.info()"
   ]
  },
  {
   "cell_type": "code",
   "execution_count": 6,
   "metadata": {},
   "outputs": [
    {
     "data": {
      "text/html": [
       "<div>\n",
       "<style scoped>\n",
       "    .dataframe tbody tr th:only-of-type {\n",
       "        vertical-align: middle;\n",
       "    }\n",
       "\n",
       "    .dataframe tbody tr th {\n",
       "        vertical-align: top;\n",
       "    }\n",
       "\n",
       "    .dataframe thead th {\n",
       "        text-align: right;\n",
       "    }\n",
       "</style>\n",
       "<table border=\"1\" class=\"dataframe\">\n",
       "  <thead>\n",
       "    <tr style=\"text-align: right;\">\n",
       "      <th></th>\n",
       "      <th>building_id</th>\n",
       "      <th>meter_reading</th>\n",
       "      <th>dew_temperature</th>\n",
       "      <th>sea_level_pressure</th>\n",
       "      <th>wind_speed</th>\n",
       "      <th>primary_use</th>\n",
       "      <th>square_feet</th>\n",
       "      <th>year_built</th>\n",
       "      <th>missing_year</th>\n",
       "      <th>dayofyear</th>\n",
       "      <th>hour</th>\n",
       "      <th>wind_direction_x</th>\n",
       "      <th>wind_direction_y</th>\n",
       "      <th>rel_humidity</th>\n",
       "      <th>is_weekend</th>\n",
       "      <th>country</th>\n",
       "      <th>is_holiday</th>\n",
       "    </tr>\n",
       "  </thead>\n",
       "  <tbody>\n",
       "    <tr>\n",
       "      <th>71</th>\n",
       "      <td>163</td>\n",
       "      <td>4.571900</td>\n",
       "      <td>-5.6</td>\n",
       "      <td>1017.299988</td>\n",
       "      <td>0.0</td>\n",
       "      <td>Education</td>\n",
       "      <td>72102</td>\n",
       "      <td>1970</td>\n",
       "      <td>0</td>\n",
       "      <td>1</td>\n",
       "      <td>0</td>\n",
       "      <td>0.0</td>\n",
       "      <td>0.0</td>\n",
       "      <td>39.616142</td>\n",
       "      <td>0</td>\n",
       "      <td>US</td>\n",
       "      <td>1</td>\n",
       "    </tr>\n",
       "    <tr>\n",
       "      <th>76</th>\n",
       "      <td>166</td>\n",
       "      <td>209.886002</td>\n",
       "      <td>-5.6</td>\n",
       "      <td>1017.299988</td>\n",
       "      <td>0.0</td>\n",
       "      <td>Lodging/residential</td>\n",
       "      <td>553210</td>\n",
       "      <td>2009</td>\n",
       "      <td>0</td>\n",
       "      <td>1</td>\n",
       "      <td>0</td>\n",
       "      <td>0.0</td>\n",
       "      <td>0.0</td>\n",
       "      <td>39.616142</td>\n",
       "      <td>0</td>\n",
       "      <td>US</td>\n",
       "      <td>1</td>\n",
       "    </tr>\n",
       "    <tr>\n",
       "      <th>81</th>\n",
       "      <td>168</td>\n",
       "      <td>51.556999</td>\n",
       "      <td>-5.6</td>\n",
       "      <td>1017.299988</td>\n",
       "      <td>0.0</td>\n",
       "      <td>Education</td>\n",
       "      <td>183460</td>\n",
       "      <td>2005</td>\n",
       "      <td>0</td>\n",
       "      <td>1</td>\n",
       "      <td>0</td>\n",
       "      <td>0.0</td>\n",
       "      <td>0.0</td>\n",
       "      <td>39.616142</td>\n",
       "      <td>0</td>\n",
       "      <td>US</td>\n",
       "      <td>1</td>\n",
       "    </tr>\n",
       "    <tr>\n",
       "      <th>84</th>\n",
       "      <td>169</td>\n",
       "      <td>176.686005</td>\n",
       "      <td>-5.6</td>\n",
       "      <td>1017.299988</td>\n",
       "      <td>0.0</td>\n",
       "      <td>Education</td>\n",
       "      <td>179559</td>\n",
       "      <td>2006</td>\n",
       "      <td>0</td>\n",
       "      <td>1</td>\n",
       "      <td>0</td>\n",
       "      <td>0.0</td>\n",
       "      <td>0.0</td>\n",
       "      <td>39.616142</td>\n",
       "      <td>0</td>\n",
       "      <td>US</td>\n",
       "      <td>1</td>\n",
       "    </tr>\n",
       "    <tr>\n",
       "      <th>87</th>\n",
       "      <td>170</td>\n",
       "      <td>11.289100</td>\n",
       "      <td>-5.6</td>\n",
       "      <td>1017.299988</td>\n",
       "      <td>0.0</td>\n",
       "      <td>Retail</td>\n",
       "      <td>45224</td>\n",
       "      <td>1982</td>\n",
       "      <td>0</td>\n",
       "      <td>1</td>\n",
       "      <td>0</td>\n",
       "      <td>0.0</td>\n",
       "      <td>0.0</td>\n",
       "      <td>39.616142</td>\n",
       "      <td>0</td>\n",
       "      <td>US</td>\n",
       "      <td>1</td>\n",
       "    </tr>\n",
       "  </tbody>\n",
       "</table>\n",
       "</div>"
      ],
      "text/plain": [
       "    building_id  meter_reading  dew_temperature  sea_level_pressure  \\\n",
       "71          163       4.571900             -5.6         1017.299988   \n",
       "76          166     209.886002             -5.6         1017.299988   \n",
       "81          168      51.556999             -5.6         1017.299988   \n",
       "84          169     176.686005             -5.6         1017.299988   \n",
       "87          170      11.289100             -5.6         1017.299988   \n",
       "\n",
       "    wind_speed          primary_use  square_feet  year_built  missing_year  \\\n",
       "71         0.0            Education        72102        1970             0   \n",
       "76         0.0  Lodging/residential       553210        2009             0   \n",
       "81         0.0            Education       183460        2005             0   \n",
       "84         0.0            Education       179559        2006             0   \n",
       "87         0.0               Retail        45224        1982             0   \n",
       "\n",
       "    dayofyear  hour  wind_direction_x  wind_direction_y  rel_humidity  \\\n",
       "71          1     0               0.0               0.0     39.616142   \n",
       "76          1     0               0.0               0.0     39.616142   \n",
       "81          1     0               0.0               0.0     39.616142   \n",
       "84          1     0               0.0               0.0     39.616142   \n",
       "87          1     0               0.0               0.0     39.616142   \n",
       "\n",
       "    is_weekend country  is_holiday  \n",
       "71           0      US           1  \n",
       "76           0      US           1  \n",
       "81           0      US           1  \n",
       "84           0      US           1  \n",
       "87           0      US           1  "
      ]
     },
     "execution_count": 6,
     "metadata": {},
     "output_type": "execute_result"
    }
   ],
   "source": [
    "train1.head()"
   ]
  },
  {
   "cell_type": "code",
   "execution_count": 7,
   "metadata": {},
   "outputs": [
    {
     "name": "stdout",
     "output_type": "stream",
     "text": [
      "<class 'pandas.core.frame.DataFrame'>\n",
      "Int64Index: 2296049 entries, 765 to 18264889\n",
      "Data columns (total 17 columns):\n",
      "building_id           uint16\n",
      "meter_reading         float32\n",
      "dew_temperature       float32\n",
      "sea_level_pressure    float32\n",
      "wind_speed            float32\n",
      "primary_use           object\n",
      "square_feet           uint32\n",
      "year_built            uint16\n",
      "missing_year          uint8\n",
      "dayofyear             uint16\n",
      "hour                  uint8\n",
      "wind_direction_x      float32\n",
      "wind_direction_y      float32\n",
      "rel_humidity          float32\n",
      "is_weekend            uint8\n",
      "country               object\n",
      "is_holiday            uint8\n",
      "dtypes: float32(7), object(2), uint16(3), uint32(1), uint8(4)\n",
      "memory usage: 144.5+ MB\n"
     ]
    }
   ],
   "source": [
    "train2 = pd.read_pickle(f'{path}train_meter2.pkl')\n",
    "train2.info()"
   ]
  },
  {
   "cell_type": "code",
   "execution_count": 8,
   "metadata": {},
   "outputs": [
    {
     "name": "stdout",
     "output_type": "stream",
     "text": [
      "<class 'pandas.core.frame.DataFrame'>\n",
      "Int64Index: 2296049 entries, 765 to 18264889\n",
      "Data columns (total 17 columns):\n",
      "building_id           uint16\n",
      "meter_reading         float32\n",
      "dew_temperature       float32\n",
      "sea_level_pressure    float32\n",
      "wind_speed            float32\n",
      "primary_use           object\n",
      "square_feet           uint32\n",
      "year_built            uint16\n",
      "missing_year          uint8\n",
      "dayofyear             uint16\n",
      "hour                  uint8\n",
      "wind_direction_x      float32\n",
      "wind_direction_y      float32\n",
      "rel_humidity          float32\n",
      "is_weekend            uint8\n",
      "country               object\n",
      "is_holiday            uint8\n",
      "dtypes: float32(7), object(2), uint16(3), uint32(1), uint8(4)\n",
      "memory usage: 144.5+ MB\n"
     ]
    }
   ],
   "source": [
    "train2 = udf.reduce_mem_usage(train2)\n",
    "train2.info()"
   ]
  },
  {
   "cell_type": "code",
   "execution_count": 9,
   "metadata": {},
   "outputs": [
    {
     "data": {
      "text/html": [
       "<div>\n",
       "<style scoped>\n",
       "    .dataframe tbody tr th:only-of-type {\n",
       "        vertical-align: middle;\n",
       "    }\n",
       "\n",
       "    .dataframe tbody tr th {\n",
       "        vertical-align: top;\n",
       "    }\n",
       "\n",
       "    .dataframe thead th {\n",
       "        text-align: right;\n",
       "    }\n",
       "</style>\n",
       "<table border=\"1\" class=\"dataframe\">\n",
       "  <thead>\n",
       "    <tr style=\"text-align: right;\">\n",
       "      <th></th>\n",
       "      <th>building_id</th>\n",
       "      <th>meter_reading</th>\n",
       "      <th>dew_temperature</th>\n",
       "      <th>sea_level_pressure</th>\n",
       "      <th>wind_speed</th>\n",
       "      <th>primary_use</th>\n",
       "      <th>square_feet</th>\n",
       "      <th>year_built</th>\n",
       "      <th>missing_year</th>\n",
       "      <th>dayofyear</th>\n",
       "      <th>hour</th>\n",
       "      <th>wind_direction_x</th>\n",
       "      <th>wind_direction_y</th>\n",
       "      <th>rel_humidity</th>\n",
       "      <th>is_weekend</th>\n",
       "      <th>country</th>\n",
       "      <th>is_holiday</th>\n",
       "    </tr>\n",
       "  </thead>\n",
       "  <tbody>\n",
       "    <tr>\n",
       "      <th>765</th>\n",
       "      <td>747</td>\n",
       "      <td>120.786003</td>\n",
       "      <td>2.2</td>\n",
       "      <td>1020.0</td>\n",
       "      <td>1.5</td>\n",
       "      <td>Education</td>\n",
       "      <td>30531</td>\n",
       "      <td>1964</td>\n",
       "      <td>1</td>\n",
       "      <td>1</td>\n",
       "      <td>0</td>\n",
       "      <td>0.5</td>\n",
       "      <td>0.866025</td>\n",
       "      <td>70.474915</td>\n",
       "      <td>0</td>\n",
       "      <td>US</td>\n",
       "      <td>1</td>\n",
       "    </tr>\n",
       "    <tr>\n",
       "      <th>769</th>\n",
       "      <td>750</td>\n",
       "      <td>4678.140137</td>\n",
       "      <td>2.2</td>\n",
       "      <td>1020.0</td>\n",
       "      <td>1.5</td>\n",
       "      <td>Education</td>\n",
       "      <td>35990</td>\n",
       "      <td>1964</td>\n",
       "      <td>1</td>\n",
       "      <td>1</td>\n",
       "      <td>0</td>\n",
       "      <td>0.5</td>\n",
       "      <td>0.866025</td>\n",
       "      <td>70.474915</td>\n",
       "      <td>0</td>\n",
       "      <td>US</td>\n",
       "      <td>1</td>\n",
       "    </tr>\n",
       "    <tr>\n",
       "      <th>771</th>\n",
       "      <td>753</td>\n",
       "      <td>324.226013</td>\n",
       "      <td>2.2</td>\n",
       "      <td>1020.0</td>\n",
       "      <td>1.5</td>\n",
       "      <td>Education</td>\n",
       "      <td>39558</td>\n",
       "      <td>1964</td>\n",
       "      <td>1</td>\n",
       "      <td>1</td>\n",
       "      <td>0</td>\n",
       "      <td>0.5</td>\n",
       "      <td>0.866025</td>\n",
       "      <td>70.474915</td>\n",
       "      <td>0</td>\n",
       "      <td>US</td>\n",
       "      <td>1</td>\n",
       "    </tr>\n",
       "    <tr>\n",
       "      <th>774</th>\n",
       "      <td>757</td>\n",
       "      <td>918.984009</td>\n",
       "      <td>2.2</td>\n",
       "      <td>1020.0</td>\n",
       "      <td>1.5</td>\n",
       "      <td>Education</td>\n",
       "      <td>46813</td>\n",
       "      <td>1964</td>\n",
       "      <td>1</td>\n",
       "      <td>1</td>\n",
       "      <td>0</td>\n",
       "      <td>0.5</td>\n",
       "      <td>0.866025</td>\n",
       "      <td>70.474915</td>\n",
       "      <td>0</td>\n",
       "      <td>US</td>\n",
       "      <td>1</td>\n",
       "    </tr>\n",
       "    <tr>\n",
       "      <th>776</th>\n",
       "      <td>758</td>\n",
       "      <td>256.165985</td>\n",
       "      <td>2.2</td>\n",
       "      <td>1020.0</td>\n",
       "      <td>1.5</td>\n",
       "      <td>Lodging/residential</td>\n",
       "      <td>47007</td>\n",
       "      <td>1968</td>\n",
       "      <td>1</td>\n",
       "      <td>1</td>\n",
       "      <td>0</td>\n",
       "      <td>0.5</td>\n",
       "      <td>0.866025</td>\n",
       "      <td>70.474915</td>\n",
       "      <td>0</td>\n",
       "      <td>US</td>\n",
       "      <td>1</td>\n",
       "    </tr>\n",
       "  </tbody>\n",
       "</table>\n",
       "</div>"
      ],
      "text/plain": [
       "     building_id  meter_reading  dew_temperature  sea_level_pressure  \\\n",
       "765          747     120.786003              2.2              1020.0   \n",
       "769          750    4678.140137              2.2              1020.0   \n",
       "771          753     324.226013              2.2              1020.0   \n",
       "774          757     918.984009              2.2              1020.0   \n",
       "776          758     256.165985              2.2              1020.0   \n",
       "\n",
       "     wind_speed          primary_use  square_feet  year_built  missing_year  \\\n",
       "765         1.5            Education        30531        1964             1   \n",
       "769         1.5            Education        35990        1964             1   \n",
       "771         1.5            Education        39558        1964             1   \n",
       "774         1.5            Education        46813        1964             1   \n",
       "776         1.5  Lodging/residential        47007        1968             1   \n",
       "\n",
       "     dayofyear  hour  wind_direction_x  wind_direction_y  rel_humidity  \\\n",
       "765          1     0               0.5          0.866025     70.474915   \n",
       "769          1     0               0.5          0.866025     70.474915   \n",
       "771          1     0               0.5          0.866025     70.474915   \n",
       "774          1     0               0.5          0.866025     70.474915   \n",
       "776          1     0               0.5          0.866025     70.474915   \n",
       "\n",
       "     is_weekend country  is_holiday  \n",
       "765           0      US           1  \n",
       "769           0      US           1  \n",
       "771           0      US           1  \n",
       "774           0      US           1  \n",
       "776           0      US           1  "
      ]
     },
     "execution_count": 9,
     "metadata": {},
     "output_type": "execute_result"
    }
   ],
   "source": [
    "train2.head()"
   ]
  },
  {
   "cell_type": "code",
   "execution_count": 10,
   "metadata": {},
   "outputs": [
    {
     "name": "stdout",
     "output_type": "stream",
     "text": [
      "<class 'pandas.core.frame.DataFrame'>\n",
      "Int64Index: 919708 entries, 11 to 18264677\n",
      "Data columns (total 17 columns):\n",
      "building_id           919708 non-null uint16\n",
      "meter_reading         919708 non-null float32\n",
      "dew_temperature       919708 non-null float32\n",
      "sea_level_pressure    919708 non-null float32\n",
      "wind_speed            919708 non-null float32\n",
      "primary_use           919708 non-null object\n",
      "square_feet           919708 non-null uint32\n",
      "year_built            919708 non-null uint16\n",
      "missing_year          919708 non-null uint8\n",
      "dayofyear             919708 non-null uint16\n",
      "hour                  919708 non-null uint8\n",
      "wind_direction_x      919708 non-null float32\n",
      "wind_direction_y      919708 non-null float32\n",
      "rel_humidity          919708 non-null float32\n",
      "is_weekend            919708 non-null uint8\n",
      "country               919708 non-null object\n",
      "is_holiday            919708 non-null uint8\n",
      "dtypes: float32(7), object(2), uint16(3), uint32(1), uint8(4)\n",
      "memory usage: 57.9+ MB\n"
     ]
    }
   ],
   "source": [
    "train3 = pd.read_pickle(f'{path}train_meter3.pkl')\n",
    "train3.info()"
   ]
  },
  {
   "cell_type": "code",
   "execution_count": 11,
   "metadata": {},
   "outputs": [
    {
     "name": "stdout",
     "output_type": "stream",
     "text": [
      "<class 'pandas.core.frame.DataFrame'>\n",
      "Int64Index: 919708 entries, 11 to 18264677\n",
      "Data columns (total 17 columns):\n",
      "building_id           919708 non-null uint16\n",
      "meter_reading         919708 non-null float32\n",
      "dew_temperature       919708 non-null float32\n",
      "sea_level_pressure    919708 non-null float32\n",
      "wind_speed            919708 non-null float32\n",
      "primary_use           919708 non-null object\n",
      "square_feet           919708 non-null uint32\n",
      "year_built            919708 non-null uint16\n",
      "missing_year          919708 non-null uint8\n",
      "dayofyear             919708 non-null uint16\n",
      "hour                  919708 non-null uint8\n",
      "wind_direction_x      919708 non-null float32\n",
      "wind_direction_y      919708 non-null float32\n",
      "rel_humidity          919708 non-null float32\n",
      "is_weekend            919708 non-null uint8\n",
      "country               919708 non-null object\n",
      "is_holiday            919708 non-null uint8\n",
      "dtypes: float32(7), object(2), uint16(3), uint32(1), uint8(4)\n",
      "memory usage: 57.9+ MB\n"
     ]
    }
   ],
   "source": [
    "train3 = udf.reduce_mem_usage(train3)\n",
    "train3.info()"
   ]
  },
  {
   "cell_type": "code",
   "execution_count": 12,
   "metadata": {},
   "outputs": [
    {
     "data": {
      "text/html": [
       "<div>\n",
       "<style scoped>\n",
       "    .dataframe tbody tr th:only-of-type {\n",
       "        vertical-align: middle;\n",
       "    }\n",
       "\n",
       "    .dataframe tbody tr th {\n",
       "        vertical-align: top;\n",
       "    }\n",
       "\n",
       "    .dataframe thead th {\n",
       "        text-align: right;\n",
       "    }\n",
       "</style>\n",
       "<table border=\"1\" class=\"dataframe\">\n",
       "  <thead>\n",
       "    <tr style=\"text-align: right;\">\n",
       "      <th></th>\n",
       "      <th>building_id</th>\n",
       "      <th>meter_reading</th>\n",
       "      <th>dew_temperature</th>\n",
       "      <th>sea_level_pressure</th>\n",
       "      <th>wind_speed</th>\n",
       "      <th>primary_use</th>\n",
       "      <th>square_feet</th>\n",
       "      <th>year_built</th>\n",
       "      <th>missing_year</th>\n",
       "      <th>dayofyear</th>\n",
       "      <th>hour</th>\n",
       "      <th>wind_direction_x</th>\n",
       "      <th>wind_direction_y</th>\n",
       "      <th>rel_humidity</th>\n",
       "      <th>is_weekend</th>\n",
       "      <th>country</th>\n",
       "      <th>is_holiday</th>\n",
       "    </tr>\n",
       "  </thead>\n",
       "  <tbody>\n",
       "    <tr>\n",
       "      <th>11</th>\n",
       "      <td>112</td>\n",
       "      <td>96.977997</td>\n",
       "      <td>2.4</td>\n",
       "      <td>1020.900024</td>\n",
       "      <td>3.1</td>\n",
       "      <td>Education</td>\n",
       "      <td>32206</td>\n",
       "      <td>1960</td>\n",
       "      <td>1</td>\n",
       "      <td>1</td>\n",
       "      <td>0</td>\n",
       "      <td>-0.5</td>\n",
       "      <td>-0.866025</td>\n",
       "      <td>90.549408</td>\n",
       "      <td>0</td>\n",
       "      <td>UK</td>\n",
       "      <td>1</td>\n",
       "    </tr>\n",
       "    <tr>\n",
       "      <th>13</th>\n",
       "      <td>113</td>\n",
       "      <td>19.597000</td>\n",
       "      <td>2.4</td>\n",
       "      <td>1020.900024</td>\n",
       "      <td>3.1</td>\n",
       "      <td>Education</td>\n",
       "      <td>100481</td>\n",
       "      <td>1958</td>\n",
       "      <td>0</td>\n",
       "      <td>1</td>\n",
       "      <td>0</td>\n",
       "      <td>-0.5</td>\n",
       "      <td>-0.866025</td>\n",
       "      <td>90.549408</td>\n",
       "      <td>0</td>\n",
       "      <td>UK</td>\n",
       "      <td>1</td>\n",
       "    </tr>\n",
       "    <tr>\n",
       "      <th>15</th>\n",
       "      <td>114</td>\n",
       "      <td>100.000000</td>\n",
       "      <td>2.4</td>\n",
       "      <td>1020.900024</td>\n",
       "      <td>3.1</td>\n",
       "      <td>Education</td>\n",
       "      <td>139683</td>\n",
       "      <td>1958</td>\n",
       "      <td>0</td>\n",
       "      <td>1</td>\n",
       "      <td>0</td>\n",
       "      <td>-0.5</td>\n",
       "      <td>-0.866025</td>\n",
       "      <td>90.549408</td>\n",
       "      <td>0</td>\n",
       "      <td>UK</td>\n",
       "      <td>1</td>\n",
       "    </tr>\n",
       "    <tr>\n",
       "      <th>19</th>\n",
       "      <td>117</td>\n",
       "      <td>19.680901</td>\n",
       "      <td>2.4</td>\n",
       "      <td>1020.900024</td>\n",
       "      <td>3.1</td>\n",
       "      <td>Education</td>\n",
       "      <td>15489</td>\n",
       "      <td>2004</td>\n",
       "      <td>0</td>\n",
       "      <td>1</td>\n",
       "      <td>0</td>\n",
       "      <td>-0.5</td>\n",
       "      <td>-0.866025</td>\n",
       "      <td>90.549408</td>\n",
       "      <td>0</td>\n",
       "      <td>UK</td>\n",
       "      <td>1</td>\n",
       "    </tr>\n",
       "    <tr>\n",
       "      <th>22</th>\n",
       "      <td>119</td>\n",
       "      <td>200.000000</td>\n",
       "      <td>2.4</td>\n",
       "      <td>1020.900024</td>\n",
       "      <td>3.1</td>\n",
       "      <td>Education</td>\n",
       "      <td>91149</td>\n",
       "      <td>2007</td>\n",
       "      <td>0</td>\n",
       "      <td>1</td>\n",
       "      <td>0</td>\n",
       "      <td>-0.5</td>\n",
       "      <td>-0.866025</td>\n",
       "      <td>90.549408</td>\n",
       "      <td>0</td>\n",
       "      <td>UK</td>\n",
       "      <td>1</td>\n",
       "    </tr>\n",
       "  </tbody>\n",
       "</table>\n",
       "</div>"
      ],
      "text/plain": [
       "    building_id  meter_reading  dew_temperature  sea_level_pressure  \\\n",
       "11          112      96.977997              2.4         1020.900024   \n",
       "13          113      19.597000              2.4         1020.900024   \n",
       "15          114     100.000000              2.4         1020.900024   \n",
       "19          117      19.680901              2.4         1020.900024   \n",
       "22          119     200.000000              2.4         1020.900024   \n",
       "\n",
       "    wind_speed primary_use  square_feet  year_built  missing_year  dayofyear  \\\n",
       "11         3.1   Education        32206        1960             1          1   \n",
       "13         3.1   Education       100481        1958             0          1   \n",
       "15         3.1   Education       139683        1958             0          1   \n",
       "19         3.1   Education        15489        2004             0          1   \n",
       "22         3.1   Education        91149        2007             0          1   \n",
       "\n",
       "    hour  wind_direction_x  wind_direction_y  rel_humidity  is_weekend  \\\n",
       "11     0              -0.5         -0.866025     90.549408           0   \n",
       "13     0              -0.5         -0.866025     90.549408           0   \n",
       "15     0              -0.5         -0.866025     90.549408           0   \n",
       "19     0              -0.5         -0.866025     90.549408           0   \n",
       "22     0              -0.5         -0.866025     90.549408           0   \n",
       "\n",
       "   country  is_holiday  \n",
       "11      UK           1  \n",
       "13      UK           1  \n",
       "15      UK           1  \n",
       "19      UK           1  \n",
       "22      UK           1  "
      ]
     },
     "execution_count": 12,
     "metadata": {},
     "output_type": "execute_result"
    }
   ],
   "source": [
    "train3.head()"
   ]
  },
  {
   "cell_type": "code",
   "execution_count": 13,
   "metadata": {},
   "outputs": [
    {
     "data": {
      "text/plain": [
       "88"
      ]
     },
     "execution_count": 13,
     "metadata": {},
     "output_type": "execute_result"
    }
   ],
   "source": [
    "del path\n",
    "gc.collect()"
   ]
  },
  {
   "cell_type": "code",
   "execution_count": null,
   "metadata": {},
   "outputs": [],
   "source": []
  },
  {
   "cell_type": "code",
   "execution_count": null,
   "metadata": {},
   "outputs": [],
   "source": []
  },
  {
   "cell_type": "markdown",
   "metadata": {},
   "source": [
    "### Functions"
   ]
  },
  {
   "cell_type": "code",
   "execution_count": 14,
   "metadata": {},
   "outputs": [],
   "source": [
    "# Train/validation/test split\n",
    "def tvt_split(df):\n",
    "    X = df.drop('meter_reading', axis=1)\n",
    "    y = df[['meter_reading']]\n",
    "    y = np.log1p(y)\n",
    "    \n",
    "    X_train, X_test, y_train, y_test = train_test_split(X, y, test_size=0.20, random_state=42)\n",
    "    X_train, X_val, y_train, y_val = train_test_split(X_train, y_train, test_size=0.25, random_state=42)\n",
    "    return X_train, y_train, X_val, y_val, X_test, y_test"
   ]
  },
  {
   "cell_type": "code",
   "execution_count": 15,
   "metadata": {},
   "outputs": [],
   "source": [
    "def transform_feats(X_train, y_train, X_val, X_test):\n",
    "    X_train, X_val, X_test, rare_dict = udf.rare_encoder(X_train, X_test, ['primary_use'], val=X_val)\n",
    "    X_train, X_val, X_test, mean_dict = udf.mean_encoder(X_train, y_train, X_test, ['primary_use', 'country'], X_val=X_val)\n",
    "    X_train_scaled, X_val_scaled, X_test_scaled = udf.scale_feats(X_train, X_test, val=X_val)\n",
    "    \n",
    "    return X_train_scaled, X_val_scaled, X_test_scaled"
   ]
  },
  {
   "cell_type": "code",
   "execution_count": 16,
   "metadata": {},
   "outputs": [],
   "source": [
    "def lgbm_rmsle(X_train, y_train, X_val, y_val, X_test, y_test, params_dict, save_path):\n",
    "    dtrain = lgb.Dataset(X_train, label=y_train)\n",
    "    dval = lgb.Dataset(X_val, label=y_val)\n",
    "    \n",
    "    lgbm = lgb.train(params_dict, dtrain, valid_sets=[dtrain, dval], valid_names=['train', 'valid'], verbose_eval=False)\n",
    "    lgbm.save_model(save_path)\n",
    "    \n",
    "    pred_train = lgbm.predict(X_train)\n",
    "    pred_train[pred_train < 0] = 0\n",
    "    rmsle_train = np.sqrt(mean_squared_log_error(y_train, pred_train))\n",
    "    \n",
    "    pred_val = lgbm.predict(X_val)\n",
    "    pred_val[pred_val < 0] = 0\n",
    "    rmsle_val = np.sqrt(mean_squared_log_error(y_val, pred_val))\n",
    "    \n",
    "    pred_test = lgbm.predict(X_test)\n",
    "    pred_test[pred_test < 0] = 0\n",
    "    rmsle_test = np.sqrt(mean_squared_log_error(y_test, pred_test))\n",
    "    \n",
    "    return rmsle_train, rmsle_val, rmsle_test"
   ]
  },
  {
   "cell_type": "code",
   "execution_count": 17,
   "metadata": {},
   "outputs": [],
   "source": [
    "def xgb_rmsle(X_train, y_train, X_val, y_val, X_test, y_test, params_dict, save_path):\n",
    "    dtrain = xgb.DMatrix(X_train, label=y_train)\n",
    "    dval = xgb.DMatrix(X_val, label=y_val)\n",
    "    dtest = xgb.DMatrix(X_test, label=y_test)\n",
    "    \n",
    "    xg = xgb.train(params_dict, dtrain,\n",
    "                   evals=[(dtrain, 'train'), (dval, 'valid')],\n",
    "                   num_boost_round=1000,\n",
    "                   early_stopping_rounds=10,\n",
    "                   verbose_eval=False)\n",
    "    xg.save_model(save_path)\n",
    "    \n",
    "    pred_train = xg.predict(dtrain)\n",
    "    pred_train[pred_train < 0] = 0\n",
    "    rmsle_train = np.sqrt(mean_squared_log_error(y_train, pred_train))\n",
    "\n",
    "    pred_val = xg.predict(dval)\n",
    "    pred_val[pred_val < 0] = 0\n",
    "    rmsle_val = np.sqrt(mean_squared_log_error(y_val, pred_val))\n",
    "\n",
    "    pred_test = xg.predict(dtest)\n",
    "    pred_test[pred_test < 0] = 0\n",
    "    rmsle_test = np.sqrt(mean_squared_log_error(y_test, pred_test))\n",
    "    \n",
    "    return rmsle_train, rmsle_val, rmsle_test"
   ]
  },
  {
   "cell_type": "code",
   "execution_count": null,
   "metadata": {},
   "outputs": [],
   "source": []
  },
  {
   "cell_type": "code",
   "execution_count": null,
   "metadata": {},
   "outputs": [],
   "source": []
  },
  {
   "cell_type": "markdown",
   "metadata": {},
   "source": [
    "### Train/test split - chilled water"
   ]
  },
  {
   "cell_type": "code",
   "execution_count": 18,
   "metadata": {},
   "outputs": [
    {
     "name": "stdout",
     "output_type": "stream",
     "text": [
      "Train set: (2111322, 16) (2111322, 1)\n",
      "Validation set: (703774, 16) (703774, 1)\n",
      "Test set: (703774, 16) (703774, 1)\n"
     ]
    }
   ],
   "source": [
    "Xc_train, yc_train, Xc_val, yc_val, Xc_test, yc_test = tvt_split(train1)\n",
    "print('Train set:', Xc_train.shape, yc_train.shape)\n",
    "print('Validation set:', Xc_val.shape, yc_val.shape)\n",
    "print('Test set:', Xc_test.shape, yc_test.shape)"
   ]
  },
  {
   "cell_type": "code",
   "execution_count": 19,
   "metadata": {},
   "outputs": [
    {
     "data": {
      "text/plain": [
       "20"
      ]
     },
     "execution_count": 19,
     "metadata": {},
     "output_type": "execute_result"
    }
   ],
   "source": [
    "del train1\n",
    "gc.collect()"
   ]
  },
  {
   "cell_type": "code",
   "execution_count": null,
   "metadata": {},
   "outputs": [],
   "source": []
  },
  {
   "cell_type": "code",
   "execution_count": null,
   "metadata": {},
   "outputs": [],
   "source": []
  },
  {
   "cell_type": "markdown",
   "metadata": {},
   "source": [
    "### Feature transformation - chilled water"
   ]
  },
  {
   "cell_type": "code",
   "execution_count": 20,
   "metadata": {},
   "outputs": [
    {
     "name": "stderr",
     "output_type": "stream",
     "text": [
      "/home/tri/miniconda3/envs/minimal_ds/lib/python3.8/site-packages/sklearn/utils/validation.py:931: FutureWarning: Passing attributes to check_is_fitted is deprecated and will be removed in 0.23. The attributes argument is ignored.\n",
      "  warnings.warn(\"Passing attributes to check_is_fitted is deprecated\"\n"
     ]
    },
    {
     "data": {
      "text/html": [
       "<div>\n",
       "<style scoped>\n",
       "    .dataframe tbody tr th:only-of-type {\n",
       "        vertical-align: middle;\n",
       "    }\n",
       "\n",
       "    .dataframe tbody tr th {\n",
       "        vertical-align: top;\n",
       "    }\n",
       "\n",
       "    .dataframe thead th {\n",
       "        text-align: right;\n",
       "    }\n",
       "</style>\n",
       "<table border=\"1\" class=\"dataframe\">\n",
       "  <thead>\n",
       "    <tr style=\"text-align: right;\">\n",
       "      <th></th>\n",
       "      <th>building_id</th>\n",
       "      <th>dew_temperature</th>\n",
       "      <th>sea_level_pressure</th>\n",
       "      <th>wind_speed</th>\n",
       "      <th>primary_use</th>\n",
       "      <th>square_feet</th>\n",
       "      <th>year_built</th>\n",
       "      <th>missing_year</th>\n",
       "      <th>dayofyear</th>\n",
       "      <th>hour</th>\n",
       "      <th>wind_direction_x</th>\n",
       "      <th>wind_direction_y</th>\n",
       "      <th>rel_humidity</th>\n",
       "      <th>is_weekend</th>\n",
       "      <th>country</th>\n",
       "      <th>is_holiday</th>\n",
       "    </tr>\n",
       "  </thead>\n",
       "  <tbody>\n",
       "    <tr>\n",
       "      <th>0</th>\n",
       "      <td>-1.562845</td>\n",
       "      <td>0.660151</td>\n",
       "      <td>-0.930315</td>\n",
       "      <td>-0.715817</td>\n",
       "      <td>0.756970</td>\n",
       "      <td>-0.142244</td>\n",
       "      <td>1.132501</td>\n",
       "      <td>-1.370127</td>\n",
       "      <td>0.439333</td>\n",
       "      <td>-0.813992</td>\n",
       "      <td>-0.657531</td>\n",
       "      <td>1.325628</td>\n",
       "      <td>-0.537515</td>\n",
       "      <td>1.598019</td>\n",
       "      <td>-0.173728</td>\n",
       "      <td>-0.170191</td>\n",
       "    </tr>\n",
       "    <tr>\n",
       "      <th>1</th>\n",
       "      <td>1.190213</td>\n",
       "      <td>0.920849</td>\n",
       "      <td>0.240857</td>\n",
       "      <td>2.155033</td>\n",
       "      <td>0.611782</td>\n",
       "      <td>-0.951649</td>\n",
       "      <td>1.855347</td>\n",
       "      <td>-1.370127</td>\n",
       "      <td>0.399516</td>\n",
       "      <td>-1.104583</td>\n",
       "      <td>0.814772</td>\n",
       "      <td>-1.381928</td>\n",
       "      <td>1.535949</td>\n",
       "      <td>-0.625775</td>\n",
       "      <td>-0.173728</td>\n",
       "      <td>-0.170191</td>\n",
       "    </tr>\n",
       "    <tr>\n",
       "      <th>2</th>\n",
       "      <td>-1.348291</td>\n",
       "      <td>-1.637593</td>\n",
       "      <td>-1.308255</td>\n",
       "      <td>0.519071</td>\n",
       "      <td>-1.579297</td>\n",
       "      <td>-0.837591</td>\n",
       "      <td>0.242844</td>\n",
       "      <td>0.729859</td>\n",
       "      <td>0.867364</td>\n",
       "      <td>1.074848</td>\n",
       "      <td>-0.413719</td>\n",
       "      <td>-1.456952</td>\n",
       "      <td>-1.983900</td>\n",
       "      <td>-0.625775</td>\n",
       "      <td>-0.173728</td>\n",
       "      <td>-0.170191</td>\n",
       "    </tr>\n",
       "    <tr>\n",
       "      <th>3</th>\n",
       "      <td>-1.743521</td>\n",
       "      <td>1.537830</td>\n",
       "      <td>1.019860</td>\n",
       "      <td>0.519071</td>\n",
       "      <td>-0.341213</td>\n",
       "      <td>0.616311</td>\n",
       "      <td>2.077762</td>\n",
       "      <td>-1.370127</td>\n",
       "      <td>0.090935</td>\n",
       "      <td>0.203075</td>\n",
       "      <td>1.450669</td>\n",
       "      <td>0.761589</td>\n",
       "      <td>0.445447</td>\n",
       "      <td>1.598019</td>\n",
       "      <td>-0.173728</td>\n",
       "      <td>-0.170191</td>\n",
       "    </tr>\n",
       "    <tr>\n",
       "      <th>4</th>\n",
       "      <td>0.591722</td>\n",
       "      <td>0.167073</td>\n",
       "      <td>-0.295374</td>\n",
       "      <td>0.994028</td>\n",
       "      <td>-1.579297</td>\n",
       "      <td>0.040093</td>\n",
       "      <td>0.076033</td>\n",
       "      <td>0.729859</td>\n",
       "      <td>-0.585952</td>\n",
       "      <td>0.057780</td>\n",
       "      <td>-0.153869</td>\n",
       "      <td>1.508670</td>\n",
       "      <td>1.114079</td>\n",
       "      <td>-0.625775</td>\n",
       "      <td>-0.173728</td>\n",
       "      <td>-0.170191</td>\n",
       "    </tr>\n",
       "  </tbody>\n",
       "</table>\n",
       "</div>"
      ],
      "text/plain": [
       "   building_id  dew_temperature  sea_level_pressure  wind_speed  primary_use  \\\n",
       "0    -1.562845         0.660151           -0.930315   -0.715817     0.756970   \n",
       "1     1.190213         0.920849            0.240857    2.155033     0.611782   \n",
       "2    -1.348291        -1.637593           -1.308255    0.519071    -1.579297   \n",
       "3    -1.743521         1.537830            1.019860    0.519071    -0.341213   \n",
       "4     0.591722         0.167073           -0.295374    0.994028    -1.579297   \n",
       "\n",
       "   square_feet  year_built  missing_year  dayofyear      hour  \\\n",
       "0    -0.142244    1.132501     -1.370127   0.439333 -0.813992   \n",
       "1    -0.951649    1.855347     -1.370127   0.399516 -1.104583   \n",
       "2    -0.837591    0.242844      0.729859   0.867364  1.074848   \n",
       "3     0.616311    2.077762     -1.370127   0.090935  0.203075   \n",
       "4     0.040093    0.076033      0.729859  -0.585952  0.057780   \n",
       "\n",
       "   wind_direction_x  wind_direction_y  rel_humidity  is_weekend   country  \\\n",
       "0         -0.657531          1.325628     -0.537515    1.598019 -0.173728   \n",
       "1          0.814772         -1.381928      1.535949   -0.625775 -0.173728   \n",
       "2         -0.413719         -1.456952     -1.983900   -0.625775 -0.173728   \n",
       "3          1.450669          0.761589      0.445447    1.598019 -0.173728   \n",
       "4         -0.153869          1.508670      1.114079   -0.625775 -0.173728   \n",
       "\n",
       "   is_holiday  \n",
       "0   -0.170191  \n",
       "1   -0.170191  \n",
       "2   -0.170191  \n",
       "3   -0.170191  \n",
       "4   -0.170191  "
      ]
     },
     "execution_count": 20,
     "metadata": {},
     "output_type": "execute_result"
    }
   ],
   "source": [
    "Xc_train_scaled, Xc_val_scaled, Xc_test_scaled = transform_feats(Xc_train, yc_train, Xc_val, Xc_test)\n",
    "Xc_train_scaled.head()"
   ]
  },
  {
   "cell_type": "code",
   "execution_count": 21,
   "metadata": {},
   "outputs": [
    {
     "data": {
      "text/plain": [
       "20"
      ]
     },
     "execution_count": 21,
     "metadata": {},
     "output_type": "execute_result"
    }
   ],
   "source": [
    "del Xc_train, Xc_val, Xc_test\n",
    "gc.collect()"
   ]
  },
  {
   "cell_type": "code",
   "execution_count": null,
   "metadata": {},
   "outputs": [],
   "source": []
  },
  {
   "cell_type": "code",
   "execution_count": null,
   "metadata": {},
   "outputs": [],
   "source": []
  },
  {
   "cell_type": "markdown",
   "metadata": {},
   "source": [
    "### LightGBM - chilled water"
   ]
  },
  {
   "cell_type": "code",
   "execution_count": 22,
   "metadata": {},
   "outputs": [],
   "source": [
    "# Objective function for parameter optimization\n",
    "def objective_lgb1(trial):\n",
    "    \n",
    "    joblib.dump(study_lgb1, '../objects/chilledwater/study_lgb1.pkl')\n",
    "    \n",
    "    dtrain = lgb.Dataset(Xc_train_scaled, label=yc_train)\n",
    "    dval = lgb.Dataset(Xc_val_scaled, label=yc_val)\n",
    "\n",
    "    params = {\n",
    "        'learning_rate': trial.suggest_loguniform('learning_rate', 1e-4, 1e-1),\n",
    "        'lambda_l1': trial.suggest_loguniform('lambda_l1', 1e-4, 1e1),\n",
    "        'lambda_l2': trial.suggest_loguniform('lambda_l2', 1e-4, 1e1),\n",
    "        'max_depth': trial.suggest_int('max_depth', 2, 100),\n",
    "        'num_leaves': trial.suggest_int('num_leaves', 2, 2048),\n",
    "        'min_data_in_leaf': trial.suggest_int('min_data_in_leaf', 5, 5000),\n",
    "        'bagging_fraction': trial.suggest_uniform('bagging_fraction', 0.5, 1.0),\n",
    "        'feature_fraction': trial.suggest_uniform('feature_fraction', 0.5, 1.0),\n",
    "        'num_iterations': 5000,\n",
    "        'early_stopping_round': 20,\n",
    "        'metric': 'rmse',\n",
    "        'num_threads': -1,\n",
    "        'seed': 42\n",
    "    }\n",
    "    \n",
    "    lgbm = lgb.train(params, dtrain, valid_sets=[dtrain, dval], valid_names=['train', 'valid'], verbose_eval=False)\n",
    "    pred = lgbm.predict(Xc_val_scaled)\n",
    "    pred[pred < 0] = 0\n",
    "    loss = mean_squared_log_error(yc_val, pred)\n",
    "\n",
    "#     cv = lgb.cv(params, dtrain, folds=KFold(10, shuffle=True, random_state=42), verbose_eval=False)\n",
    "#     loss = cv['rmse-mean'][-1]\n",
    "    \n",
    "    return loss"
   ]
  },
  {
   "cell_type": "code",
   "execution_count": 23,
   "metadata": {},
   "outputs": [],
   "source": [
    "# print(datetime.datetime.now())\n",
    "\n",
    "# # Enable logging\n",
    "# optuna.logging.enable_default_handler()\n",
    "\n",
    "# # Optimize parameters\n",
    "# study_lgb1 = optuna.create_study(direction='minimize')\n",
    "# study_lgb1.optimize(objective_lgb1, n_trials=50)\n",
    "\n",
    "# print(datetime.datetime.now())\n",
    "\n",
    "# print(f'Finished trials: {len(study_lgb1.trials)}')\n",
    "# print(f'Best trial: {study_lgb1.best_trial.value}')\n",
    "# study_lgb1.best_trial.params"
   ]
  },
  {
   "cell_type": "code",
   "execution_count": 24,
   "metadata": {},
   "outputs": [
    {
     "name": "stdout",
     "output_type": "stream",
     "text": [
      "Finished trials: 50\n",
      "Best trial: 0.009449663067638923\n"
     ]
    },
    {
     "data": {
      "text/plain": [
       "{'learning_rate': 0.020424864262841822,\n",
       " 'lambda_l1': 0.27986455703148144,\n",
       " 'lambda_l2': 7.08804479307531,\n",
       " 'max_depth': 32,\n",
       " 'num_leaves': 1293,\n",
       " 'min_data_in_leaf': 23,\n",
       " 'bagging_fraction': 0.9143657877950819,\n",
       " 'feature_fraction': 0.701556769695671}"
      ]
     },
     "execution_count": 24,
     "metadata": {},
     "output_type": "execute_result"
    }
   ],
   "source": [
    "# Study results\n",
    "study_lgb1 = joblib.load('../objects/chilledwater/study_lgb1.pkl')\n",
    "print(f'Finished trials: {len(study_lgb1.trials)}')\n",
    "print(f'Best trial: {study_lgb1.best_trial.value}')\n",
    "study_lgb1.best_trial.params"
   ]
  },
  {
   "cell_type": "code",
   "execution_count": 68,
   "metadata": {},
   "outputs": [
    {
     "name": "stderr",
     "output_type": "stream",
     "text": [
      "/home/tri/miniconda3/envs/minimal_ds/lib/python3.8/site-packages/lightgbm/engine.py:148: UserWarning: Found `num_iterations` in params. Will use it instead of argument\n",
      "  warnings.warn(\"Found `{}` in params. Will use it instead of argument\".format(alias))\n",
      "/home/tri/miniconda3/envs/minimal_ds/lib/python3.8/site-packages/lightgbm/engine.py:153: UserWarning: Found `early_stopping_round` in params. Will use it instead of argument\n",
      "  warnings.warn(\"Found `{}` in params. Will use it instead of argument\".format(alias))\n"
     ]
    },
    {
     "name": "stdout",
     "output_type": "stream",
     "text": [
      "Train RMSLE: 0.05925545877877479\n",
      "Validation RMSLE: 0.09362403376475784\n",
      "Test RMSLE: 0.0943962574506281\n"
     ]
    }
   ],
   "source": [
    "# Parameters from Optuna\n",
    "params_lgb1 = dict(study_lgb1.best_trial.params)\n",
    "params_lgb1['num_iterations'] = 10000\n",
    "params_lgb1['early_stopping_round'] = 20\n",
    "params_lgb1['metric'] = 'rmse'\n",
    "params_lgb1['num_threads'] = -1\n",
    "params_lgb1['seed'] = 42\n",
    "\n",
    "# Root mean squared log error\n",
    "rmsle_train, rmsle_val, rmsle_test = lgbm_rmsle(Xc_train_scaled, yc_train, Xc_val_scaled, yc_val, Xc_test_scaled, yc_test, params_lgb1, '../objects/chilledwater/lgbm1.txt')\n",
    "print('Train RMSLE:', rmsle_train)\n",
    "print('Validation RMSLE:', rmsle_val)\n",
    "print('Test RMSLE:', rmsle_test)"
   ]
  },
  {
   "cell_type": "code",
   "execution_count": null,
   "metadata": {},
   "outputs": [],
   "source": [
    "del rmsle_train, rmsle_val, rmsle_test\n",
    "gc.collect()"
   ]
  },
  {
   "cell_type": "code",
   "execution_count": null,
   "metadata": {},
   "outputs": [],
   "source": []
  },
  {
   "cell_type": "code",
   "execution_count": null,
   "metadata": {},
   "outputs": [],
   "source": []
  },
  {
   "cell_type": "markdown",
   "metadata": {},
   "source": [
    "### XGBoost - chilled water"
   ]
  },
  {
   "cell_type": "code",
   "execution_count": 25,
   "metadata": {},
   "outputs": [],
   "source": [
    "# Objective function for parameter optimization\n",
    "def objective_xgb1(trial):\n",
    "    \n",
    "    joblib.dump(study_xgb1, '../objects/chilledwater/study_xgb1.pkl')\n",
    "    \n",
    "    dtrain = xgb.DMatrix(Xc_val_scaled, label=yc_val)\n",
    "    dval = xgb.DMatrix(Xc_test_scaled, label=yc_test)\n",
    "\n",
    "    params = {\n",
    "        'grow_policy': trial.suggest_categorical('grow_policy', ['depthwise', 'lossguide']),\n",
    "        'learning_rate': trial.suggest_loguniform('learning_rate', 1e-4, 1e-1),\n",
    "        'alpha': trial.suggest_loguniform('alpha', 1e-4, 1e1),\n",
    "        'lambda': trial.suggest_loguniform('lambda', 1e-4, 1e1),\n",
    "        'gamma': trial.suggest_loguniform('gamma', 1e-4, 1e1),\n",
    "        'max_depth': trial.suggest_int('max_depth', 2, 100),\n",
    "        'max_leaves': trial.suggest_int('max_leaves', 2, 2024),\n",
    "        'subsample': trial.suggest_uniform('subsample', 0.5, 1.0),\n",
    "        'colsample_bytree': trial.suggest_uniform('colsample_bytree', 0.5, 1.0),\n",
    "        'eval_metric': 'rmse',\n",
    "        'seed': 42\n",
    "    }\n",
    "    \n",
    "    xg = xgb.train(params, dtrain, \n",
    "                   evals=[(dtrain, 'train'), (dval, 'valid')],\n",
    "                   num_boost_round=1000, \n",
    "                   early_stopping_rounds=10,\n",
    "                   verbose_eval=False)\n",
    "    pred = xg.predict(dval)\n",
    "    pred[pred < 0] = 0\n",
    "    loss = mean_squared_log_error(yc_test, pred)\n",
    "\n",
    "#     cv = xgb.cv(params, dtrain, folds=KFold(10, shuffle=True, random_state=42), verbose_eval=False)\n",
    "#     loss = cv['rmse-mean'][-1]\n",
    "    \n",
    "    return loss"
   ]
  },
  {
   "cell_type": "code",
   "execution_count": 26,
   "metadata": {},
   "outputs": [],
   "source": [
    "# print(f'Start: {datetime.datetime.now()}')\n",
    "\n",
    "# # Optimize parameters\n",
    "# study_xgb1 = optuna.create_study(direction='minimize')\n",
    "# study_xgb1.optimize(objective_xgb1, n_trials=50)\n",
    "\n",
    "# print(f'End: {datetime.datetime.now()}')\n",
    "\n",
    "# print(f'Finished trials: {len(study_xgb1.trials)}')\n",
    "# print(f'Best trial: {study_xgb1.best_trial.value}')\n",
    "# study_xgb1.best_trial.params"
   ]
  },
  {
   "cell_type": "code",
   "execution_count": 27,
   "metadata": {},
   "outputs": [
    {
     "name": "stdout",
     "output_type": "stream",
     "text": [
      "Finished trials: 50\n",
      "Best trial: 0.01182694174349308\n"
     ]
    },
    {
     "data": {
      "text/plain": [
       "{'grow_policy': 'depthwise',\n",
       " 'learning_rate': 0.03801178677708901,\n",
       " 'alpha': 0.051064916441743415,\n",
       " 'lambda': 0.890189928673286,\n",
       " 'gamma': 0.053083931710043705,\n",
       " 'max_depth': 16,\n",
       " 'max_leaves': 1131,\n",
       " 'subsample': 0.7245353487626778,\n",
       " 'colsample_bytree': 0.777530288110325}"
      ]
     },
     "execution_count": 27,
     "metadata": {},
     "output_type": "execute_result"
    }
   ],
   "source": [
    "# Study results\n",
    "study_xgb1 = joblib.load('../objects/chilledwater/study_xgb1.pkl')\n",
    "print(f'Finished trials: {len(study_xgb1.trials)}')\n",
    "print(f'Best trial: {study_xgb1.best_trial.value}')\n",
    "study_xgb1.best_trial.params"
   ]
  },
  {
   "cell_type": "code",
   "execution_count": 70,
   "metadata": {},
   "outputs": [
    {
     "name": "stdout",
     "output_type": "stream",
     "text": [
      "Train RMSLE: 0.037819352\n",
      "Validation RMSLE: 0.08988674\n",
      "Test RMSLE: 0.09077369\n"
     ]
    }
   ],
   "source": [
    "# Parameters from Optuna\n",
    "params_xgb1 = dict(study_xgb1.best_trial.params)\n",
    "params_xgb1['eval_metric'] = 'rmse'\n",
    "params_xgb1['seed'] = 42\n",
    "\n",
    "rmsle_train, rmsle_val, rmsle_test = xgb_rmsle(Xc_train_scaled, yc_train, Xc_val_scaled, yc_val, Xc_test_scaled, yc_test, params_xgb1, '../objects/chilledwater/xg1.txt')\n",
    "print('Train RMSLE:', rmsle_train)\n",
    "print('Validation RMSLE:', rmsle_val)\n",
    "print('Test RMSLE:', rmsle_test)"
   ]
  },
  {
   "cell_type": "code",
   "execution_count": null,
   "metadata": {},
   "outputs": [],
   "source": [
    "del rmsle_train, rmsle_val, rmsle_test\n",
    "gc.collect()"
   ]
  },
  {
   "cell_type": "code",
   "execution_count": null,
   "metadata": {},
   "outputs": [],
   "source": []
  },
  {
   "cell_type": "code",
   "execution_count": null,
   "metadata": {},
   "outputs": [],
   "source": []
  },
  {
   "cell_type": "markdown",
   "metadata": {},
   "source": [
    "### Train/test split - steam"
   ]
  },
  {
   "cell_type": "code",
   "execution_count": 28,
   "metadata": {},
   "outputs": [
    {
     "name": "stdout",
     "output_type": "stream",
     "text": [
      "Train set: (1377629, 16) (1377629, 1)\n",
      "Validation set: (459210, 16) (459210, 1)\n",
      "Test set: (459210, 16) (459210, 1)\n"
     ]
    }
   ],
   "source": [
    "Xs_train, ys_train, Xs_val, ys_val, Xs_test, ys_test = tvt_split(train2)\n",
    "print('Train set:', Xs_train.shape, ys_train.shape)\n",
    "print('Validation set:', Xs_val.shape, ys_val.shape)\n",
    "print('Test set:', Xs_test.shape, ys_test.shape)"
   ]
  },
  {
   "cell_type": "code",
   "execution_count": 29,
   "metadata": {},
   "outputs": [
    {
     "data": {
      "text/plain": [
       "20"
      ]
     },
     "execution_count": 29,
     "metadata": {},
     "output_type": "execute_result"
    }
   ],
   "source": [
    "del train2\n",
    "gc.collect()"
   ]
  },
  {
   "cell_type": "code",
   "execution_count": null,
   "metadata": {},
   "outputs": [],
   "source": []
  },
  {
   "cell_type": "code",
   "execution_count": null,
   "metadata": {},
   "outputs": [],
   "source": []
  },
  {
   "cell_type": "markdown",
   "metadata": {},
   "source": [
    "### Feature transformation - steam"
   ]
  },
  {
   "cell_type": "code",
   "execution_count": 30,
   "metadata": {},
   "outputs": [
    {
     "name": "stderr",
     "output_type": "stream",
     "text": [
      "/home/tri/miniconda3/envs/minimal_ds/lib/python3.8/site-packages/sklearn/utils/validation.py:931: FutureWarning: Passing attributes to check_is_fitted is deprecated and will be removed in 0.23. The attributes argument is ignored.\n",
      "  warnings.warn(\"Passing attributes to check_is_fitted is deprecated\"\n"
     ]
    },
    {
     "data": {
      "text/html": [
       "<div>\n",
       "<style scoped>\n",
       "    .dataframe tbody tr th:only-of-type {\n",
       "        vertical-align: middle;\n",
       "    }\n",
       "\n",
       "    .dataframe tbody tr th {\n",
       "        vertical-align: top;\n",
       "    }\n",
       "\n",
       "    .dataframe thead th {\n",
       "        text-align: right;\n",
       "    }\n",
       "</style>\n",
       "<table border=\"1\" class=\"dataframe\">\n",
       "  <thead>\n",
       "    <tr style=\"text-align: right;\">\n",
       "      <th></th>\n",
       "      <th>building_id</th>\n",
       "      <th>dew_temperature</th>\n",
       "      <th>sea_level_pressure</th>\n",
       "      <th>wind_speed</th>\n",
       "      <th>primary_use</th>\n",
       "      <th>square_feet</th>\n",
       "      <th>year_built</th>\n",
       "      <th>missing_year</th>\n",
       "      <th>dayofyear</th>\n",
       "      <th>hour</th>\n",
       "      <th>wind_direction_x</th>\n",
       "      <th>wind_direction_y</th>\n",
       "      <th>rel_humidity</th>\n",
       "      <th>is_weekend</th>\n",
       "      <th>country</th>\n",
       "      <th>is_holiday</th>\n",
       "    </tr>\n",
       "  </thead>\n",
       "  <tbody>\n",
       "    <tr>\n",
       "      <th>0</th>\n",
       "      <td>-1.162719</td>\n",
       "      <td>-0.286393</td>\n",
       "      <td>0.453574</td>\n",
       "      <td>-0.740216</td>\n",
       "      <td>-1.852592</td>\n",
       "      <td>-0.560811</td>\n",
       "      <td>0.116663</td>\n",
       "      <td>0.535564</td>\n",
       "      <td>-0.857836</td>\n",
       "      <td>-1.086741</td>\n",
       "      <td>-0.157262</td>\n",
       "      <td>1.652178</td>\n",
       "      <td>-0.792023</td>\n",
       "      <td>-0.631759</td>\n",
       "      <td>-0.181878</td>\n",
       "      <td>-0.177634</td>\n",
       "    </tr>\n",
       "    <tr>\n",
       "      <th>1</th>\n",
       "      <td>0.511915</td>\n",
       "      <td>-1.472452</td>\n",
       "      <td>-0.549881</td>\n",
       "      <td>0.198366</td>\n",
       "      <td>-0.474143</td>\n",
       "      <td>1.124846</td>\n",
       "      <td>-0.221431</td>\n",
       "      <td>0.535564</td>\n",
       "      <td>-1.473199</td>\n",
       "      <td>-1.086741</td>\n",
       "      <td>-0.841100</td>\n",
       "      <td>1.293200</td>\n",
       "      <td>0.844909</td>\n",
       "      <td>-0.631759</td>\n",
       "      <td>-0.181878</td>\n",
       "      <td>-0.177634</td>\n",
       "    </tr>\n",
       "    <tr>\n",
       "      <th>2</th>\n",
       "      <td>-1.881141</td>\n",
       "      <td>1.247458</td>\n",
       "      <td>0.105153</td>\n",
       "      <td>-0.472050</td>\n",
       "      <td>-0.188589</td>\n",
       "      <td>-1.037873</td>\n",
       "      <td>-0.153812</td>\n",
       "      <td>0.535564</td>\n",
       "      <td>0.251682</td>\n",
       "      <td>-0.362719</td>\n",
       "      <td>1.531355</td>\n",
       "      <td>0.321111</td>\n",
       "      <td>-0.365016</td>\n",
       "      <td>-0.631759</td>\n",
       "      <td>-0.181878</td>\n",
       "      <td>-0.177634</td>\n",
       "    </tr>\n",
       "    <tr>\n",
       "      <th>3</th>\n",
       "      <td>-0.130618</td>\n",
       "      <td>0.311095</td>\n",
       "      <td>0.760187</td>\n",
       "      <td>-0.248578</td>\n",
       "      <td>-1.852592</td>\n",
       "      <td>0.826786</td>\n",
       "      <td>0.116663</td>\n",
       "      <td>0.535564</td>\n",
       "      <td>0.671248</td>\n",
       "      <td>-1.231545</td>\n",
       "      <td>-0.841100</td>\n",
       "      <td>1.293200</td>\n",
       "      <td>0.516242</td>\n",
       "      <td>-0.631759</td>\n",
       "      <td>-0.181878</td>\n",
       "      <td>-0.177634</td>\n",
       "    </tr>\n",
       "    <tr>\n",
       "      <th>4</th>\n",
       "      <td>0.355076</td>\n",
       "      <td>-0.634185</td>\n",
       "      <td>0.133028</td>\n",
       "      <td>0.198366</td>\n",
       "      <td>0.689930</td>\n",
       "      <td>-0.120070</td>\n",
       "      <td>0.251900</td>\n",
       "      <td>0.535564</td>\n",
       "      <td>-1.240107</td>\n",
       "      <td>-0.073111</td>\n",
       "      <td>-1.339644</td>\n",
       "      <td>0.321111</td>\n",
       "      <td>0.903768</td>\n",
       "      <td>-0.631759</td>\n",
       "      <td>-0.181878</td>\n",
       "      <td>-0.177634</td>\n",
       "    </tr>\n",
       "  </tbody>\n",
       "</table>\n",
       "</div>"
      ],
      "text/plain": [
       "   building_id  dew_temperature  sea_level_pressure  wind_speed  primary_use  \\\n",
       "0    -1.162719        -0.286393            0.453574   -0.740216    -1.852592   \n",
       "1     0.511915        -1.472452           -0.549881    0.198366    -0.474143   \n",
       "2    -1.881141         1.247458            0.105153   -0.472050    -0.188589   \n",
       "3    -0.130618         0.311095            0.760187   -0.248578    -1.852592   \n",
       "4     0.355076        -0.634185            0.133028    0.198366     0.689930   \n",
       "\n",
       "   square_feet  year_built  missing_year  dayofyear      hour  \\\n",
       "0    -0.560811    0.116663      0.535564  -0.857836 -1.086741   \n",
       "1     1.124846   -0.221431      0.535564  -1.473199 -1.086741   \n",
       "2    -1.037873   -0.153812      0.535564   0.251682 -0.362719   \n",
       "3     0.826786    0.116663      0.535564   0.671248 -1.231545   \n",
       "4    -0.120070    0.251900      0.535564  -1.240107 -0.073111   \n",
       "\n",
       "   wind_direction_x  wind_direction_y  rel_humidity  is_weekend   country  \\\n",
       "0         -0.157262          1.652178     -0.792023   -0.631759 -0.181878   \n",
       "1         -0.841100          1.293200      0.844909   -0.631759 -0.181878   \n",
       "2          1.531355          0.321111     -0.365016   -0.631759 -0.181878   \n",
       "3         -0.841100          1.293200      0.516242   -0.631759 -0.181878   \n",
       "4         -1.339644          0.321111      0.903768   -0.631759 -0.181878   \n",
       "\n",
       "   is_holiday  \n",
       "0   -0.177634  \n",
       "1   -0.177634  \n",
       "2   -0.177634  \n",
       "3   -0.177634  \n",
       "4   -0.177634  "
      ]
     },
     "execution_count": 30,
     "metadata": {},
     "output_type": "execute_result"
    }
   ],
   "source": [
    "Xs_train_scaled, Xs_val_scaled, Xs_test_scaled = transform_feats(Xs_train, ys_train, Xs_val, Xs_test)\n",
    "Xs_train_scaled.head()"
   ]
  },
  {
   "cell_type": "code",
   "execution_count": 31,
   "metadata": {},
   "outputs": [
    {
     "data": {
      "text/plain": [
       "20"
      ]
     },
     "execution_count": 31,
     "metadata": {},
     "output_type": "execute_result"
    }
   ],
   "source": [
    "del Xs_train, Xs_val, Xs_test\n",
    "gc.collect()"
   ]
  },
  {
   "cell_type": "code",
   "execution_count": null,
   "metadata": {},
   "outputs": [],
   "source": []
  },
  {
   "cell_type": "code",
   "execution_count": null,
   "metadata": {},
   "outputs": [],
   "source": []
  },
  {
   "cell_type": "markdown",
   "metadata": {},
   "source": [
    "### LightGBM - steam"
   ]
  },
  {
   "cell_type": "code",
   "execution_count": 32,
   "metadata": {},
   "outputs": [],
   "source": [
    "# Objective function for parameter optimization\n",
    "def objective_lgb2(trial):\n",
    "    \n",
    "    joblib.dump(study_lgb2, '../objects/steam/study_lgb2.pkl')\n",
    "    \n",
    "    dtrain = lgb.Dataset(Xs_train_scaled, label=ys_train)\n",
    "    dval = lgb.Dataset(Xs_val_scaled, label=ys_val)\n",
    "\n",
    "    params = {\n",
    "        'learning_rate': trial.suggest_loguniform('learning_rate', 1e-4, 1e-1),\n",
    "        'lambda_l1': trial.suggest_loguniform('lambda_l1', 1e-4, 1e1),\n",
    "        'lambda_l2': trial.suggest_loguniform('lambda_l2', 1e-4, 1e1),\n",
    "        'max_depth': trial.suggest_int('max_depth', 2, 100),\n",
    "        'num_leaves': trial.suggest_int('num_leaves', 2, 2048),\n",
    "        'min_data_in_leaf': trial.suggest_int('min_data_in_leaf', 5, 5000),\n",
    "        'bagging_fraction': trial.suggest_uniform('bagging_fraction', 0.5, 1.0),\n",
    "        'feature_fraction': trial.suggest_uniform('feature_fraction', 0.5, 1.0),\n",
    "        'num_iterations': 5000,\n",
    "        'early_stopping_round': 20,\n",
    "        'metric': 'rmse',\n",
    "        'num_threads': -1,\n",
    "        'seed': 42\n",
    "    }\n",
    "    \n",
    "    lgbm = lgb.train(params, dtrain, valid_sets=[dtrain, dval], valid_names=['train', 'valid'], verbose_eval=False)\n",
    "    pred = lgbm.predict(Xs_val_scaled)\n",
    "    pred[pred < 0] = 0\n",
    "    loss = mean_squared_log_error(ys_val, pred)\n",
    "\n",
    "#     cv = lgb.cv(params, dtrain, folds=KFold(10, shuffle=True, random_state=42), verbose_eval=False)\n",
    "#     loss = cv['rmse-mean'][-1]\n",
    "    \n",
    "    return loss"
   ]
  },
  {
   "cell_type": "code",
   "execution_count": 33,
   "metadata": {},
   "outputs": [
    {
     "name": "stdout",
     "output_type": "stream",
     "text": [
      "2020-02-29 21:07:00.507367\n"
     ]
    },
    {
     "name": "stderr",
     "output_type": "stream",
     "text": [
      "/home/tri/miniconda3/envs/minimal_ds/lib/python3.8/site-packages/lightgbm/engine.py:148: UserWarning: Found `num_iterations` in params. Will use it instead of argument\n",
      "  warnings.warn(\"Found `{}` in params. Will use it instead of argument\".format(alias))\n",
      "/home/tri/miniconda3/envs/minimal_ds/lib/python3.8/site-packages/lightgbm/engine.py:153: UserWarning: Found `early_stopping_round` in params. Will use it instead of argument\n",
      "  warnings.warn(\"Found `{}` in params. Will use it instead of argument\".format(alias))\n",
      "[I 2020-02-29 21:15:42,508] Finished trial#0 resulted in value: 0.010449113490689915. Current best value is 0.010449113490689915 with parameters: {'learning_rate': 0.039629590590521485, 'lambda_l1': 0.7981775439498793, 'lambda_l2': 0.010361648979772535, 'max_depth': 91, 'num_leaves': 1812, 'min_data_in_leaf': 3211, 'bagging_fraction': 0.9057210006544385, 'feature_fraction': 0.9734967590659531}.\n",
      "/home/tri/miniconda3/envs/minimal_ds/lib/python3.8/site-packages/lightgbm/engine.py:148: UserWarning: Found `num_iterations` in params. Will use it instead of argument\n",
      "  warnings.warn(\"Found `{}` in params. Will use it instead of argument\".format(alias))\n",
      "/home/tri/miniconda3/envs/minimal_ds/lib/python3.8/site-packages/lightgbm/engine.py:153: UserWarning: Found `early_stopping_round` in params. Will use it instead of argument\n",
      "  warnings.warn(\"Found `{}` in params. Will use it instead of argument\".format(alias))\n",
      "[I 2020-02-29 21:23:32,536] Finished trial#1 resulted in value: 0.013484139057527092. Current best value is 0.010449113490689915 with parameters: {'learning_rate': 0.039629590590521485, 'lambda_l1': 0.7981775439498793, 'lambda_l2': 0.010361648979772535, 'max_depth': 91, 'num_leaves': 1812, 'min_data_in_leaf': 3211, 'bagging_fraction': 0.9057210006544385, 'feature_fraction': 0.9734967590659531}.\n",
      "/home/tri/miniconda3/envs/minimal_ds/lib/python3.8/site-packages/lightgbm/engine.py:148: UserWarning: Found `num_iterations` in params. Will use it instead of argument\n",
      "  warnings.warn(\"Found `{}` in params. Will use it instead of argument\".format(alias))\n",
      "/home/tri/miniconda3/envs/minimal_ds/lib/python3.8/site-packages/lightgbm/engine.py:153: UserWarning: Found `early_stopping_round` in params. Will use it instead of argument\n",
      "  warnings.warn(\"Found `{}` in params. Will use it instead of argument\".format(alias))\n",
      "[I 2020-02-29 21:26:31,395] Finished trial#2 resulted in value: 0.019752499846276278. Current best value is 0.010449113490689915 with parameters: {'learning_rate': 0.039629590590521485, 'lambda_l1': 0.7981775439498793, 'lambda_l2': 0.010361648979772535, 'max_depth': 91, 'num_leaves': 1812, 'min_data_in_leaf': 3211, 'bagging_fraction': 0.9057210006544385, 'feature_fraction': 0.9734967590659531}.\n",
      "/home/tri/miniconda3/envs/minimal_ds/lib/python3.8/site-packages/lightgbm/engine.py:148: UserWarning: Found `num_iterations` in params. Will use it instead of argument\n",
      "  warnings.warn(\"Found `{}` in params. Will use it instead of argument\".format(alias))\n",
      "/home/tri/miniconda3/envs/minimal_ds/lib/python3.8/site-packages/lightgbm/engine.py:153: UserWarning: Found `early_stopping_round` in params. Will use it instead of argument\n",
      "  warnings.warn(\"Found `{}` in params. Will use it instead of argument\".format(alias))\n",
      "[I 2020-02-29 21:37:03,013] Finished trial#3 resulted in value: 0.010000804014839052. Current best value is 0.010000804014839052 with parameters: {'learning_rate': 0.024698347138324205, 'lambda_l1': 0.8188607075899927, 'lambda_l2': 2.861596362617151, 'max_depth': 67, 'num_leaves': 640, 'min_data_in_leaf': 1675, 'bagging_fraction': 0.8612694620909439, 'feature_fraction': 0.9771111309823279}.\n",
      "/home/tri/miniconda3/envs/minimal_ds/lib/python3.8/site-packages/lightgbm/engine.py:148: UserWarning: Found `num_iterations` in params. Will use it instead of argument\n",
      "  warnings.warn(\"Found `{}` in params. Will use it instead of argument\".format(alias))\n",
      "/home/tri/miniconda3/envs/minimal_ds/lib/python3.8/site-packages/lightgbm/engine.py:153: UserWarning: Found `early_stopping_round` in params. Will use it instead of argument\n",
      "  warnings.warn(\"Found `{}` in params. Will use it instead of argument\".format(alias))\n",
      "[I 2020-02-29 21:41:40,368] Finished trial#4 resulted in value: 0.013581697098793394. Current best value is 0.010000804014839052 with parameters: {'learning_rate': 0.024698347138324205, 'lambda_l1': 0.8188607075899927, 'lambda_l2': 2.861596362617151, 'max_depth': 67, 'num_leaves': 640, 'min_data_in_leaf': 1675, 'bagging_fraction': 0.8612694620909439, 'feature_fraction': 0.9771111309823279}.\n",
      "/home/tri/miniconda3/envs/minimal_ds/lib/python3.8/site-packages/lightgbm/engine.py:148: UserWarning: Found `num_iterations` in params. Will use it instead of argument\n",
      "  warnings.warn(\"Found `{}` in params. Will use it instead of argument\".format(alias))\n",
      "/home/tri/miniconda3/envs/minimal_ds/lib/python3.8/site-packages/lightgbm/engine.py:153: UserWarning: Found `early_stopping_round` in params. Will use it instead of argument\n",
      "  warnings.warn(\"Found `{}` in params. Will use it instead of argument\".format(alias))\n",
      "[I 2020-02-29 21:50:15,991] Finished trial#5 resulted in value: 0.01516192994687137. Current best value is 0.010000804014839052 with parameters: {'learning_rate': 0.024698347138324205, 'lambda_l1': 0.8188607075899927, 'lambda_l2': 2.861596362617151, 'max_depth': 67, 'num_leaves': 640, 'min_data_in_leaf': 1675, 'bagging_fraction': 0.8612694620909439, 'feature_fraction': 0.9771111309823279}.\n",
      "/home/tri/miniconda3/envs/minimal_ds/lib/python3.8/site-packages/lightgbm/engine.py:148: UserWarning: Found `num_iterations` in params. Will use it instead of argument\n",
      "  warnings.warn(\"Found `{}` in params. Will use it instead of argument\".format(alias))\n",
      "/home/tri/miniconda3/envs/minimal_ds/lib/python3.8/site-packages/lightgbm/engine.py:153: UserWarning: Found `early_stopping_round` in params. Will use it instead of argument\n",
      "  warnings.warn(\"Found `{}` in params. Will use it instead of argument\".format(alias))\n",
      "[I 2020-02-29 21:56:48,027] Finished trial#6 resulted in value: 0.017387088010331096. Current best value is 0.010000804014839052 with parameters: {'learning_rate': 0.024698347138324205, 'lambda_l1': 0.8188607075899927, 'lambda_l2': 2.861596362617151, 'max_depth': 67, 'num_leaves': 640, 'min_data_in_leaf': 1675, 'bagging_fraction': 0.8612694620909439, 'feature_fraction': 0.9771111309823279}.\n",
      "/home/tri/miniconda3/envs/minimal_ds/lib/python3.8/site-packages/lightgbm/engine.py:148: UserWarning: Found `num_iterations` in params. Will use it instead of argument\n",
      "  warnings.warn(\"Found `{}` in params. Will use it instead of argument\".format(alias))\n",
      "/home/tri/miniconda3/envs/minimal_ds/lib/python3.8/site-packages/lightgbm/engine.py:153: UserWarning: Found `early_stopping_round` in params. Will use it instead of argument\n",
      "  warnings.warn(\"Found `{}` in params. Will use it instead of argument\".format(alias))\n",
      "[I 2020-02-29 22:03:13,566] Finished trial#7 resulted in value: 0.0564814136836624. Current best value is 0.010000804014839052 with parameters: {'learning_rate': 0.024698347138324205, 'lambda_l1': 0.8188607075899927, 'lambda_l2': 2.861596362617151, 'max_depth': 67, 'num_leaves': 640, 'min_data_in_leaf': 1675, 'bagging_fraction': 0.8612694620909439, 'feature_fraction': 0.9771111309823279}.\n",
      "/home/tri/miniconda3/envs/minimal_ds/lib/python3.8/site-packages/lightgbm/engine.py:148: UserWarning: Found `num_iterations` in params. Will use it instead of argument\n",
      "  warnings.warn(\"Found `{}` in params. Will use it instead of argument\".format(alias))\n",
      "/home/tri/miniconda3/envs/minimal_ds/lib/python3.8/site-packages/lightgbm/engine.py:153: UserWarning: Found `early_stopping_round` in params. Will use it instead of argument\n",
      "  warnings.warn(\"Found `{}` in params. Will use it instead of argument\".format(alias))\n",
      "[I 2020-02-29 22:11:26,257] Finished trial#8 resulted in value: 0.013175120058609496. Current best value is 0.010000804014839052 with parameters: {'learning_rate': 0.024698347138324205, 'lambda_l1': 0.8188607075899927, 'lambda_l2': 2.861596362617151, 'max_depth': 67, 'num_leaves': 640, 'min_data_in_leaf': 1675, 'bagging_fraction': 0.8612694620909439, 'feature_fraction': 0.9771111309823279}.\n",
      "/home/tri/miniconda3/envs/minimal_ds/lib/python3.8/site-packages/lightgbm/engine.py:148: UserWarning: Found `num_iterations` in params. Will use it instead of argument\n",
      "  warnings.warn(\"Found `{}` in params. Will use it instead of argument\".format(alias))\n",
      "/home/tri/miniconda3/envs/minimal_ds/lib/python3.8/site-packages/lightgbm/engine.py:153: UserWarning: Found `early_stopping_round` in params. Will use it instead of argument\n",
      "  warnings.warn(\"Found `{}` in params. Will use it instead of argument\".format(alias))\n",
      "[I 2020-02-29 22:18:19,887] Finished trial#9 resulted in value: 0.011630380850962846. Current best value is 0.010000804014839052 with parameters: {'learning_rate': 0.024698347138324205, 'lambda_l1': 0.8188607075899927, 'lambda_l2': 2.861596362617151, 'max_depth': 67, 'num_leaves': 640, 'min_data_in_leaf': 1675, 'bagging_fraction': 0.8612694620909439, 'feature_fraction': 0.9771111309823279}.\n",
      "/home/tri/miniconda3/envs/minimal_ds/lib/python3.8/site-packages/lightgbm/engine.py:148: UserWarning: Found `num_iterations` in params. Will use it instead of argument\n",
      "  warnings.warn(\"Found `{}` in params. Will use it instead of argument\".format(alias))\n",
      "/home/tri/miniconda3/envs/minimal_ds/lib/python3.8/site-packages/lightgbm/engine.py:153: UserWarning: Found `early_stopping_round` in params. Will use it instead of argument\n",
      "  warnings.warn(\"Found `{}` in params. Will use it instead of argument\".format(alias))\n",
      "[I 2020-02-29 22:19:47,760] Finished trial#10 resulted in value: 0.024091620846910772. Current best value is 0.010000804014839052 with parameters: {'learning_rate': 0.024698347138324205, 'lambda_l1': 0.8188607075899927, 'lambda_l2': 2.861596362617151, 'max_depth': 67, 'num_leaves': 640, 'min_data_in_leaf': 1675, 'bagging_fraction': 0.8612694620909439, 'feature_fraction': 0.9771111309823279}.\n",
      "/home/tri/miniconda3/envs/minimal_ds/lib/python3.8/site-packages/lightgbm/engine.py:148: UserWarning: Found `num_iterations` in params. Will use it instead of argument\n",
      "  warnings.warn(\"Found `{}` in params. Will use it instead of argument\".format(alias))\n",
      "/home/tri/miniconda3/envs/minimal_ds/lib/python3.8/site-packages/lightgbm/engine.py:153: UserWarning: Found `early_stopping_round` in params. Will use it instead of argument\n",
      "  warnings.warn(\"Found `{}` in params. Will use it instead of argument\".format(alias))\n",
      "[I 2020-02-29 22:28:23,818] Finished trial#11 resulted in value: 0.01008638699066135. Current best value is 0.010000804014839052 with parameters: {'learning_rate': 0.024698347138324205, 'lambda_l1': 0.8188607075899927, 'lambda_l2': 2.861596362617151, 'max_depth': 67, 'num_leaves': 640, 'min_data_in_leaf': 1675, 'bagging_fraction': 0.8612694620909439, 'feature_fraction': 0.9771111309823279}.\n",
      "/home/tri/miniconda3/envs/minimal_ds/lib/python3.8/site-packages/lightgbm/engine.py:148: UserWarning: Found `num_iterations` in params. Will use it instead of argument\n",
      "  warnings.warn(\"Found `{}` in params. Will use it instead of argument\".format(alias))\n",
      "/home/tri/miniconda3/envs/minimal_ds/lib/python3.8/site-packages/lightgbm/engine.py:153: UserWarning: Found `early_stopping_round` in params. Will use it instead of argument\n",
      "  warnings.warn(\"Found `{}` in params. Will use it instead of argument\".format(alias))\n",
      "[I 2020-02-29 22:35:58,553] Finished trial#12 resulted in value: 0.010410077885961369. Current best value is 0.010000804014839052 with parameters: {'learning_rate': 0.024698347138324205, 'lambda_l1': 0.8188607075899927, 'lambda_l2': 2.861596362617151, 'max_depth': 67, 'num_leaves': 640, 'min_data_in_leaf': 1675, 'bagging_fraction': 0.8612694620909439, 'feature_fraction': 0.9771111309823279}.\n",
      "/home/tri/miniconda3/envs/minimal_ds/lib/python3.8/site-packages/lightgbm/engine.py:148: UserWarning: Found `num_iterations` in params. Will use it instead of argument\n",
      "  warnings.warn(\"Found `{}` in params. Will use it instead of argument\".format(alias))\n",
      "/home/tri/miniconda3/envs/minimal_ds/lib/python3.8/site-packages/lightgbm/engine.py:153: UserWarning: Found `early_stopping_round` in params. Will use it instead of argument\n",
      "  warnings.warn(\"Found `{}` in params. Will use it instead of argument\".format(alias))\n",
      "[I 2020-02-29 22:43:55,683] Finished trial#13 resulted in value: 0.011065750019043568. Current best value is 0.010000804014839052 with parameters: {'learning_rate': 0.024698347138324205, 'lambda_l1': 0.8188607075899927, 'lambda_l2': 2.861596362617151, 'max_depth': 67, 'num_leaves': 640, 'min_data_in_leaf': 1675, 'bagging_fraction': 0.8612694620909439, 'feature_fraction': 0.9771111309823279}.\n",
      "/home/tri/miniconda3/envs/minimal_ds/lib/python3.8/site-packages/lightgbm/engine.py:148: UserWarning: Found `num_iterations` in params. Will use it instead of argument\n",
      "  warnings.warn(\"Found `{}` in params. Will use it instead of argument\".format(alias))\n",
      "/home/tri/miniconda3/envs/minimal_ds/lib/python3.8/site-packages/lightgbm/engine.py:153: UserWarning: Found `early_stopping_round` in params. Will use it instead of argument\n",
      "  warnings.warn(\"Found `{}` in params. Will use it instead of argument\".format(alias))\n",
      "[I 2020-02-29 22:50:55,691] Finished trial#14 resulted in value: 0.012113910747569788. Current best value is 0.010000804014839052 with parameters: {'learning_rate': 0.024698347138324205, 'lambda_l1': 0.8188607075899927, 'lambda_l2': 2.861596362617151, 'max_depth': 67, 'num_leaves': 640, 'min_data_in_leaf': 1675, 'bagging_fraction': 0.8612694620909439, 'feature_fraction': 0.9771111309823279}.\n",
      "/home/tri/miniconda3/envs/minimal_ds/lib/python3.8/site-packages/lightgbm/engine.py:148: UserWarning: Found `num_iterations` in params. Will use it instead of argument\n",
      "  warnings.warn(\"Found `{}` in params. Will use it instead of argument\".format(alias))\n",
      "/home/tri/miniconda3/envs/minimal_ds/lib/python3.8/site-packages/lightgbm/engine.py:153: UserWarning: Found `early_stopping_round` in params. Will use it instead of argument\n",
      "  warnings.warn(\"Found `{}` in params. Will use it instead of argument\".format(alias))\n",
      "[I 2020-02-29 22:58:15,151] Finished trial#15 resulted in value: 0.00909246884828817. Current best value is 0.00909246884828817 with parameters: {'learning_rate': 0.060158351978438995, 'lambda_l1': 0.006533149820026603, 'lambda_l2': 0.0019106342066726096, 'max_depth': 54, 'num_leaves': 966, 'min_data_in_leaf': 637, 'bagging_fraction': 0.5406133955908837, 'feature_fraction': 0.9963305708305077}.\n",
      "/home/tri/miniconda3/envs/minimal_ds/lib/python3.8/site-packages/lightgbm/engine.py:148: UserWarning: Found `num_iterations` in params. Will use it instead of argument\n",
      "  warnings.warn(\"Found `{}` in params. Will use it instead of argument\".format(alias))\n",
      "/home/tri/miniconda3/envs/minimal_ds/lib/python3.8/site-packages/lightgbm/engine.py:153: UserWarning: Found `early_stopping_round` in params. Will use it instead of argument\n",
      "  warnings.warn(\"Found `{}` in params. Will use it instead of argument\".format(alias))\n",
      "[I 2020-02-29 23:04:31,774] Finished trial#16 resulted in value: 0.008547926843707938. Current best value is 0.008547926843707938 with parameters: {'learning_rate': 0.010791188245777203, 'lambda_l1': 0.14696595431945655, 'lambda_l2': 0.0005177591139334982, 'max_depth': 53, 'num_leaves': 915, 'min_data_in_leaf': 35, 'bagging_fraction': 0.5161701604009208, 'feature_fraction': 0.8693703146776669}.\n",
      "/home/tri/miniconda3/envs/minimal_ds/lib/python3.8/site-packages/lightgbm/engine.py:148: UserWarning: Found `num_iterations` in params. Will use it instead of argument\n",
      "  warnings.warn(\"Found `{}` in params. Will use it instead of argument\".format(alias))\n",
      "/home/tri/miniconda3/envs/minimal_ds/lib/python3.8/site-packages/lightgbm/engine.py:153: UserWarning: Found `early_stopping_round` in params. Will use it instead of argument\n",
      "  warnings.warn(\"Found `{}` in params. Will use it instead of argument\".format(alias))\n",
      "[I 2020-02-29 23:14:31,769] Finished trial#17 resulted in value: 0.009698444113045511. Current best value is 0.008547926843707938 with parameters: {'learning_rate': 0.010791188245777203, 'lambda_l1': 0.14696595431945655, 'lambda_l2': 0.0005177591139334982, 'max_depth': 53, 'num_leaves': 915, 'min_data_in_leaf': 35, 'bagging_fraction': 0.5161701604009208, 'feature_fraction': 0.8693703146776669}.\n",
      "/home/tri/miniconda3/envs/minimal_ds/lib/python3.8/site-packages/lightgbm/engine.py:148: UserWarning: Found `num_iterations` in params. Will use it instead of argument\n",
      "  warnings.warn(\"Found `{}` in params. Will use it instead of argument\".format(alias))\n",
      "/home/tri/miniconda3/envs/minimal_ds/lib/python3.8/site-packages/lightgbm/engine.py:153: UserWarning: Found `early_stopping_round` in params. Will use it instead of argument\n",
      "  warnings.warn(\"Found `{}` in params. Will use it instead of argument\".format(alias))\n",
      "[I 2020-02-29 23:27:10,952] Finished trial#18 resulted in value: 0.042717659750201815. Current best value is 0.008547926843707938 with parameters: {'learning_rate': 0.010791188245777203, 'lambda_l1': 0.14696595431945655, 'lambda_l2': 0.0005177591139334982, 'max_depth': 53, 'num_leaves': 915, 'min_data_in_leaf': 35, 'bagging_fraction': 0.5161701604009208, 'feature_fraction': 0.8693703146776669}.\n",
      "/home/tri/miniconda3/envs/minimal_ds/lib/python3.8/site-packages/lightgbm/engine.py:148: UserWarning: Found `num_iterations` in params. Will use it instead of argument\n",
      "  warnings.warn(\"Found `{}` in params. Will use it instead of argument\".format(alias))\n",
      "/home/tri/miniconda3/envs/minimal_ds/lib/python3.8/site-packages/lightgbm/engine.py:153: UserWarning: Found `early_stopping_round` in params. Will use it instead of argument\n",
      "  warnings.warn(\"Found `{}` in params. Will use it instead of argument\".format(alias))\n",
      "[I 2020-02-29 23:36:37,210] Finished trial#19 resulted in value: 0.010626066905312578. Current best value is 0.008547926843707938 with parameters: {'learning_rate': 0.010791188245777203, 'lambda_l1': 0.14696595431945655, 'lambda_l2': 0.0005177591139334982, 'max_depth': 53, 'num_leaves': 915, 'min_data_in_leaf': 35, 'bagging_fraction': 0.5161701604009208, 'feature_fraction': 0.8693703146776669}.\n",
      "/home/tri/miniconda3/envs/minimal_ds/lib/python3.8/site-packages/lightgbm/engine.py:148: UserWarning: Found `num_iterations` in params. Will use it instead of argument\n",
      "  warnings.warn(\"Found `{}` in params. Will use it instead of argument\".format(alias))\n",
      "/home/tri/miniconda3/envs/minimal_ds/lib/python3.8/site-packages/lightgbm/engine.py:153: UserWarning: Found `early_stopping_round` in params. Will use it instead of argument\n",
      "  warnings.warn(\"Found `{}` in params. Will use it instead of argument\".format(alias))\n",
      "[I 2020-02-29 23:42:05,046] Finished trial#20 resulted in value: 0.009500426396620782. Current best value is 0.008547926843707938 with parameters: {'learning_rate': 0.010791188245777203, 'lambda_l1': 0.14696595431945655, 'lambda_l2': 0.0005177591139334982, 'max_depth': 53, 'num_leaves': 915, 'min_data_in_leaf': 35, 'bagging_fraction': 0.5161701604009208, 'feature_fraction': 0.8693703146776669}.\n",
      "/home/tri/miniconda3/envs/minimal_ds/lib/python3.8/site-packages/lightgbm/engine.py:148: UserWarning: Found `num_iterations` in params. Will use it instead of argument\n",
      "  warnings.warn(\"Found `{}` in params. Will use it instead of argument\".format(alias))\n",
      "/home/tri/miniconda3/envs/minimal_ds/lib/python3.8/site-packages/lightgbm/engine.py:153: UserWarning: Found `early_stopping_round` in params. Will use it instead of argument\n",
      "  warnings.warn(\"Found `{}` in params. Will use it instead of argument\".format(alias))\n",
      "[I 2020-02-29 23:47:06,194] Finished trial#21 resulted in value: 0.009696044794364608. Current best value is 0.008547926843707938 with parameters: {'learning_rate': 0.010791188245777203, 'lambda_l1': 0.14696595431945655, 'lambda_l2': 0.0005177591139334982, 'max_depth': 53, 'num_leaves': 915, 'min_data_in_leaf': 35, 'bagging_fraction': 0.5161701604009208, 'feature_fraction': 0.8693703146776669}.\n",
      "/home/tri/miniconda3/envs/minimal_ds/lib/python3.8/site-packages/lightgbm/engine.py:148: UserWarning: Found `num_iterations` in params. Will use it instead of argument\n",
      "  warnings.warn(\"Found `{}` in params. Will use it instead of argument\".format(alias))\n",
      "/home/tri/miniconda3/envs/minimal_ds/lib/python3.8/site-packages/lightgbm/engine.py:153: UserWarning: Found `early_stopping_round` in params. Will use it instead of argument\n",
      "  warnings.warn(\"Found `{}` in params. Will use it instead of argument\".format(alias))\n",
      "[I 2020-02-29 23:49:37,658] Finished trial#22 resulted in value: 0.008178677525527289. Current best value is 0.008178677525527289 with parameters: {'learning_rate': 0.04854268157540762, 'lambda_l1': 0.0028266466239996284, 'lambda_l2': 0.00010211303918218761, 'max_depth': 56, 'num_leaves': 409, 'min_data_in_leaf': 8, 'bagging_fraction': 0.5012612103606688, 'feature_fraction': 0.8537936823847498}.\n",
      "/home/tri/miniconda3/envs/minimal_ds/lib/python3.8/site-packages/lightgbm/engine.py:148: UserWarning: Found `num_iterations` in params. Will use it instead of argument\n",
      "  warnings.warn(\"Found `{}` in params. Will use it instead of argument\".format(alias))\n",
      "/home/tri/miniconda3/envs/minimal_ds/lib/python3.8/site-packages/lightgbm/engine.py:153: UserWarning: Found `early_stopping_round` in params. Will use it instead of argument\n",
      "  warnings.warn(\"Found `{}` in params. Will use it instead of argument\".format(alias))\n",
      "[I 2020-02-29 23:51:45,540] Finished trial#23 resulted in value: 0.011319350615155984. Current best value is 0.008178677525527289 with parameters: {'learning_rate': 0.04854268157540762, 'lambda_l1': 0.0028266466239996284, 'lambda_l2': 0.00010211303918218761, 'max_depth': 56, 'num_leaves': 409, 'min_data_in_leaf': 8, 'bagging_fraction': 0.5012612103606688, 'feature_fraction': 0.8537936823847498}.\n",
      "/home/tri/miniconda3/envs/minimal_ds/lib/python3.8/site-packages/lightgbm/engine.py:148: UserWarning: Found `num_iterations` in params. Will use it instead of argument\n",
      "  warnings.warn(\"Found `{}` in params. Will use it instead of argument\".format(alias))\n",
      "/home/tri/miniconda3/envs/minimal_ds/lib/python3.8/site-packages/lightgbm/engine.py:153: UserWarning: Found `early_stopping_round` in params. Will use it instead of argument\n",
      "  warnings.warn(\"Found `{}` in params. Will use it instead of argument\".format(alias))\n",
      "[I 2020-03-01 00:02:16,022] Finished trial#24 resulted in value: 0.0201830540628482. Current best value is 0.008178677525527289 with parameters: {'learning_rate': 0.04854268157540762, 'lambda_l1': 0.0028266466239996284, 'lambda_l2': 0.00010211303918218761, 'max_depth': 56, 'num_leaves': 409, 'min_data_in_leaf': 8, 'bagging_fraction': 0.5012612103606688, 'feature_fraction': 0.8537936823847498}.\n",
      "/home/tri/miniconda3/envs/minimal_ds/lib/python3.8/site-packages/lightgbm/engine.py:148: UserWarning: Found `num_iterations` in params. Will use it instead of argument\n",
      "  warnings.warn(\"Found `{}` in params. Will use it instead of argument\".format(alias))\n",
      "/home/tri/miniconda3/envs/minimal_ds/lib/python3.8/site-packages/lightgbm/engine.py:153: UserWarning: Found `early_stopping_round` in params. Will use it instead of argument\n",
      "  warnings.warn(\"Found `{}` in params. Will use it instead of argument\".format(alias))\n",
      "[I 2020-03-01 00:07:10,576] Finished trial#25 resulted in value: 0.009171017806488279. Current best value is 0.008178677525527289 with parameters: {'learning_rate': 0.04854268157540762, 'lambda_l1': 0.0028266466239996284, 'lambda_l2': 0.00010211303918218761, 'max_depth': 56, 'num_leaves': 409, 'min_data_in_leaf': 8, 'bagging_fraction': 0.5012612103606688, 'feature_fraction': 0.8537936823847498}.\n",
      "/home/tri/miniconda3/envs/minimal_ds/lib/python3.8/site-packages/lightgbm/engine.py:148: UserWarning: Found `num_iterations` in params. Will use it instead of argument\n",
      "  warnings.warn(\"Found `{}` in params. Will use it instead of argument\".format(alias))\n",
      "/home/tri/miniconda3/envs/minimal_ds/lib/python3.8/site-packages/lightgbm/engine.py:153: UserWarning: Found `early_stopping_round` in params. Will use it instead of argument\n",
      "  warnings.warn(\"Found `{}` in params. Will use it instead of argument\".format(alias))\n",
      "[I 2020-03-01 00:13:40,366] Finished trial#26 resulted in value: 0.008853996389956808. Current best value is 0.008178677525527289 with parameters: {'learning_rate': 0.04854268157540762, 'lambda_l1': 0.0028266466239996284, 'lambda_l2': 0.00010211303918218761, 'max_depth': 56, 'num_leaves': 409, 'min_data_in_leaf': 8, 'bagging_fraction': 0.5012612103606688, 'feature_fraction': 0.8537936823847498}.\n",
      "/home/tri/miniconda3/envs/minimal_ds/lib/python3.8/site-packages/lightgbm/engine.py:148: UserWarning: Found `num_iterations` in params. Will use it instead of argument\n",
      "  warnings.warn(\"Found `{}` in params. Will use it instead of argument\".format(alias))\n",
      "/home/tri/miniconda3/envs/minimal_ds/lib/python3.8/site-packages/lightgbm/engine.py:153: UserWarning: Found `early_stopping_round` in params. Will use it instead of argument\n",
      "  warnings.warn(\"Found `{}` in params. Will use it instead of argument\".format(alias))\n",
      "[I 2020-03-01 00:19:54,521] Finished trial#27 resulted in value: 0.008661023696179057. Current best value is 0.008178677525527289 with parameters: {'learning_rate': 0.04854268157540762, 'lambda_l1': 0.0028266466239996284, 'lambda_l2': 0.00010211303918218761, 'max_depth': 56, 'num_leaves': 409, 'min_data_in_leaf': 8, 'bagging_fraction': 0.5012612103606688, 'feature_fraction': 0.8537936823847498}.\n",
      "/home/tri/miniconda3/envs/minimal_ds/lib/python3.8/site-packages/lightgbm/engine.py:148: UserWarning: Found `num_iterations` in params. Will use it instead of argument\n",
      "  warnings.warn(\"Found `{}` in params. Will use it instead of argument\".format(alias))\n",
      "/home/tri/miniconda3/envs/minimal_ds/lib/python3.8/site-packages/lightgbm/engine.py:153: UserWarning: Found `early_stopping_round` in params. Will use it instead of argument\n",
      "  warnings.warn(\"Found `{}` in params. Will use it instead of argument\".format(alias))\n",
      "[I 2020-03-01 00:28:26,651] Finished trial#28 resulted in value: 0.013736346231239777. Current best value is 0.008178677525527289 with parameters: {'learning_rate': 0.04854268157540762, 'lambda_l1': 0.0028266466239996284, 'lambda_l2': 0.00010211303918218761, 'max_depth': 56, 'num_leaves': 409, 'min_data_in_leaf': 8, 'bagging_fraction': 0.5012612103606688, 'feature_fraction': 0.8537936823847498}.\n",
      "/home/tri/miniconda3/envs/minimal_ds/lib/python3.8/site-packages/lightgbm/engine.py:148: UserWarning: Found `num_iterations` in params. Will use it instead of argument\n",
      "  warnings.warn(\"Found `{}` in params. Will use it instead of argument\".format(alias))\n",
      "/home/tri/miniconda3/envs/minimal_ds/lib/python3.8/site-packages/lightgbm/engine.py:153: UserWarning: Found `early_stopping_round` in params. Will use it instead of argument\n",
      "  warnings.warn(\"Found `{}` in params. Will use it instead of argument\".format(alias))\n",
      "[I 2020-03-01 00:31:24,646] Finished trial#29 resulted in value: 0.009203246219414549. Current best value is 0.008178677525527289 with parameters: {'learning_rate': 0.04854268157540762, 'lambda_l1': 0.0028266466239996284, 'lambda_l2': 0.00010211303918218761, 'max_depth': 56, 'num_leaves': 409, 'min_data_in_leaf': 8, 'bagging_fraction': 0.5012612103606688, 'feature_fraction': 0.8537936823847498}.\n",
      "/home/tri/miniconda3/envs/minimal_ds/lib/python3.8/site-packages/lightgbm/engine.py:148: UserWarning: Found `num_iterations` in params. Will use it instead of argument\n",
      "  warnings.warn(\"Found `{}` in params. Will use it instead of argument\".format(alias))\n",
      "/home/tri/miniconda3/envs/minimal_ds/lib/python3.8/site-packages/lightgbm/engine.py:153: UserWarning: Found `early_stopping_round` in params. Will use it instead of argument\n",
      "  warnings.warn(\"Found `{}` in params. Will use it instead of argument\".format(alias))\n",
      "[I 2020-03-01 00:40:59,974] Finished trial#30 resulted in value: 0.0101763693906979. Current best value is 0.008178677525527289 with parameters: {'learning_rate': 0.04854268157540762, 'lambda_l1': 0.0028266466239996284, 'lambda_l2': 0.00010211303918218761, 'max_depth': 56, 'num_leaves': 409, 'min_data_in_leaf': 8, 'bagging_fraction': 0.5012612103606688, 'feature_fraction': 0.8537936823847498}.\n",
      "/home/tri/miniconda3/envs/minimal_ds/lib/python3.8/site-packages/lightgbm/engine.py:148: UserWarning: Found `num_iterations` in params. Will use it instead of argument\n",
      "  warnings.warn(\"Found `{}` in params. Will use it instead of argument\".format(alias))\n",
      "/home/tri/miniconda3/envs/minimal_ds/lib/python3.8/site-packages/lightgbm/engine.py:153: UserWarning: Found `early_stopping_round` in params. Will use it instead of argument\n",
      "  warnings.warn(\"Found `{}` in params. Will use it instead of argument\".format(alias))\n",
      "[I 2020-03-01 00:47:34,350] Finished trial#31 resulted in value: 0.008954706103254806. Current best value is 0.008178677525527289 with parameters: {'learning_rate': 0.04854268157540762, 'lambda_l1': 0.0028266466239996284, 'lambda_l2': 0.00010211303918218761, 'max_depth': 56, 'num_leaves': 409, 'min_data_in_leaf': 8, 'bagging_fraction': 0.5012612103606688, 'feature_fraction': 0.8537936823847498}.\n",
      "/home/tri/miniconda3/envs/minimal_ds/lib/python3.8/site-packages/lightgbm/engine.py:148: UserWarning: Found `num_iterations` in params. Will use it instead of argument\n",
      "  warnings.warn(\"Found `{}` in params. Will use it instead of argument\".format(alias))\n",
      "/home/tri/miniconda3/envs/minimal_ds/lib/python3.8/site-packages/lightgbm/engine.py:153: UserWarning: Found `early_stopping_round` in params. Will use it instead of argument\n",
      "  warnings.warn(\"Found `{}` in params. Will use it instead of argument\".format(alias))\n",
      "[I 2020-03-01 00:54:26,952] Finished trial#32 resulted in value: 0.00874916449497269. Current best value is 0.008178677525527289 with parameters: {'learning_rate': 0.04854268157540762, 'lambda_l1': 0.0028266466239996284, 'lambda_l2': 0.00010211303918218761, 'max_depth': 56, 'num_leaves': 409, 'min_data_in_leaf': 8, 'bagging_fraction': 0.5012612103606688, 'feature_fraction': 0.8537936823847498}.\n",
      "/home/tri/miniconda3/envs/minimal_ds/lib/python3.8/site-packages/lightgbm/engine.py:148: UserWarning: Found `num_iterations` in params. Will use it instead of argument\n",
      "  warnings.warn(\"Found `{}` in params. Will use it instead of argument\".format(alias))\n",
      "/home/tri/miniconda3/envs/minimal_ds/lib/python3.8/site-packages/lightgbm/engine.py:153: UserWarning: Found `early_stopping_round` in params. Will use it instead of argument\n",
      "  warnings.warn(\"Found `{}` in params. Will use it instead of argument\".format(alias))\n",
      "[I 2020-03-01 01:04:09,604] Finished trial#33 resulted in value: 0.012836384988154578. Current best value is 0.008178677525527289 with parameters: {'learning_rate': 0.04854268157540762, 'lambda_l1': 0.0028266466239996284, 'lambda_l2': 0.00010211303918218761, 'max_depth': 56, 'num_leaves': 409, 'min_data_in_leaf': 8, 'bagging_fraction': 0.5012612103606688, 'feature_fraction': 0.8537936823847498}.\n",
      "/home/tri/miniconda3/envs/minimal_ds/lib/python3.8/site-packages/lightgbm/engine.py:148: UserWarning: Found `num_iterations` in params. Will use it instead of argument\n",
      "  warnings.warn(\"Found `{}` in params. Will use it instead of argument\".format(alias))\n",
      "/home/tri/miniconda3/envs/minimal_ds/lib/python3.8/site-packages/lightgbm/engine.py:153: UserWarning: Found `early_stopping_round` in params. Will use it instead of argument\n",
      "  warnings.warn(\"Found `{}` in params. Will use it instead of argument\".format(alias))\n",
      "[I 2020-03-01 01:12:41,814] Finished trial#34 resulted in value: 0.010512988245086924. Current best value is 0.008178677525527289 with parameters: {'learning_rate': 0.04854268157540762, 'lambda_l1': 0.0028266466239996284, 'lambda_l2': 0.00010211303918218761, 'max_depth': 56, 'num_leaves': 409, 'min_data_in_leaf': 8, 'bagging_fraction': 0.5012612103606688, 'feature_fraction': 0.8537936823847498}.\n",
      "/home/tri/miniconda3/envs/minimal_ds/lib/python3.8/site-packages/lightgbm/engine.py:148: UserWarning: Found `num_iterations` in params. Will use it instead of argument\n",
      "  warnings.warn(\"Found `{}` in params. Will use it instead of argument\".format(alias))\n",
      "/home/tri/miniconda3/envs/minimal_ds/lib/python3.8/site-packages/lightgbm/engine.py:153: UserWarning: Found `early_stopping_round` in params. Will use it instead of argument\n",
      "  warnings.warn(\"Found `{}` in params. Will use it instead of argument\".format(alias))\n",
      "[I 2020-03-01 01:21:23,940] Finished trial#35 resulted in value: 0.013359576415977572. Current best value is 0.008178677525527289 with parameters: {'learning_rate': 0.04854268157540762, 'lambda_l1': 0.0028266466239996284, 'lambda_l2': 0.00010211303918218761, 'max_depth': 56, 'num_leaves': 409, 'min_data_in_leaf': 8, 'bagging_fraction': 0.5012612103606688, 'feature_fraction': 0.8537936823847498}.\n",
      "/home/tri/miniconda3/envs/minimal_ds/lib/python3.8/site-packages/lightgbm/engine.py:148: UserWarning: Found `num_iterations` in params. Will use it instead of argument\n",
      "  warnings.warn(\"Found `{}` in params. Will use it instead of argument\".format(alias))\n",
      "/home/tri/miniconda3/envs/minimal_ds/lib/python3.8/site-packages/lightgbm/engine.py:153: UserWarning: Found `early_stopping_round` in params. Will use it instead of argument\n",
      "  warnings.warn(\"Found `{}` in params. Will use it instead of argument\".format(alias))\n",
      "[I 2020-03-01 01:29:52,331] Finished trial#36 resulted in value: 0.011107331403063837. Current best value is 0.008178677525527289 with parameters: {'learning_rate': 0.04854268157540762, 'lambda_l1': 0.0028266466239996284, 'lambda_l2': 0.00010211303918218761, 'max_depth': 56, 'num_leaves': 409, 'min_data_in_leaf': 8, 'bagging_fraction': 0.5012612103606688, 'feature_fraction': 0.8537936823847498}.\n",
      "/home/tri/miniconda3/envs/minimal_ds/lib/python3.8/site-packages/lightgbm/engine.py:148: UserWarning: Found `num_iterations` in params. Will use it instead of argument\n",
      "  warnings.warn(\"Found `{}` in params. Will use it instead of argument\".format(alias))\n",
      "/home/tri/miniconda3/envs/minimal_ds/lib/python3.8/site-packages/lightgbm/engine.py:153: UserWarning: Found `early_stopping_round` in params. Will use it instead of argument\n",
      "  warnings.warn(\"Found `{}` in params. Will use it instead of argument\".format(alias))\n",
      "[I 2020-03-01 01:42:20,579] Finished trial#37 resulted in value: 0.009208309319167027. Current best value is 0.008178677525527289 with parameters: {'learning_rate': 0.04854268157540762, 'lambda_l1': 0.0028266466239996284, 'lambda_l2': 0.00010211303918218761, 'max_depth': 56, 'num_leaves': 409, 'min_data_in_leaf': 8, 'bagging_fraction': 0.5012612103606688, 'feature_fraction': 0.8537936823847498}.\n",
      "/home/tri/miniconda3/envs/minimal_ds/lib/python3.8/site-packages/lightgbm/engine.py:148: UserWarning: Found `num_iterations` in params. Will use it instead of argument\n",
      "  warnings.warn(\"Found `{}` in params. Will use it instead of argument\".format(alias))\n",
      "/home/tri/miniconda3/envs/minimal_ds/lib/python3.8/site-packages/lightgbm/engine.py:153: UserWarning: Found `early_stopping_round` in params. Will use it instead of argument\n",
      "  warnings.warn(\"Found `{}` in params. Will use it instead of argument\".format(alias))\n",
      "[I 2020-03-01 01:53:23,847] Finished trial#38 resulted in value: 0.015033941033138732. Current best value is 0.008178677525527289 with parameters: {'learning_rate': 0.04854268157540762, 'lambda_l1': 0.0028266466239996284, 'lambda_l2': 0.00010211303918218761, 'max_depth': 56, 'num_leaves': 409, 'min_data_in_leaf': 8, 'bagging_fraction': 0.5012612103606688, 'feature_fraction': 0.8537936823847498}.\n",
      "/home/tri/miniconda3/envs/minimal_ds/lib/python3.8/site-packages/lightgbm/engine.py:148: UserWarning: Found `num_iterations` in params. Will use it instead of argument\n",
      "  warnings.warn(\"Found `{}` in params. Will use it instead of argument\".format(alias))\n",
      "/home/tri/miniconda3/envs/minimal_ds/lib/python3.8/site-packages/lightgbm/engine.py:153: UserWarning: Found `early_stopping_round` in params. Will use it instead of argument\n",
      "  warnings.warn(\"Found `{}` in params. Will use it instead of argument\".format(alias))\n",
      "[I 2020-03-01 02:02:54,791] Finished trial#39 resulted in value: 0.010557067597117643. Current best value is 0.008178677525527289 with parameters: {'learning_rate': 0.04854268157540762, 'lambda_l1': 0.0028266466239996284, 'lambda_l2': 0.00010211303918218761, 'max_depth': 56, 'num_leaves': 409, 'min_data_in_leaf': 8, 'bagging_fraction': 0.5012612103606688, 'feature_fraction': 0.8537936823847498}.\n",
      "/home/tri/miniconda3/envs/minimal_ds/lib/python3.8/site-packages/lightgbm/engine.py:148: UserWarning: Found `num_iterations` in params. Will use it instead of argument\n",
      "  warnings.warn(\"Found `{}` in params. Will use it instead of argument\".format(alias))\n",
      "/home/tri/miniconda3/envs/minimal_ds/lib/python3.8/site-packages/lightgbm/engine.py:153: UserWarning: Found `early_stopping_round` in params. Will use it instead of argument\n",
      "  warnings.warn(\"Found `{}` in params. Will use it instead of argument\".format(alias))\n",
      "[I 2020-03-01 02:11:00,721] Finished trial#40 resulted in value: 0.014911813772706452. Current best value is 0.008178677525527289 with parameters: {'learning_rate': 0.04854268157540762, 'lambda_l1': 0.0028266466239996284, 'lambda_l2': 0.00010211303918218761, 'max_depth': 56, 'num_leaves': 409, 'min_data_in_leaf': 8, 'bagging_fraction': 0.5012612103606688, 'feature_fraction': 0.8537936823847498}.\n",
      "/home/tri/miniconda3/envs/minimal_ds/lib/python3.8/site-packages/lightgbm/engine.py:148: UserWarning: Found `num_iterations` in params. Will use it instead of argument\n",
      "  warnings.warn(\"Found `{}` in params. Will use it instead of argument\".format(alias))\n",
      "/home/tri/miniconda3/envs/minimal_ds/lib/python3.8/site-packages/lightgbm/engine.py:153: UserWarning: Found `early_stopping_round` in params. Will use it instead of argument\n",
      "  warnings.warn(\"Found `{}` in params. Will use it instead of argument\".format(alias))\n",
      "[I 2020-03-01 02:17:38,261] Finished trial#41 resulted in value: 0.008997175727443248. Current best value is 0.008178677525527289 with parameters: {'learning_rate': 0.04854268157540762, 'lambda_l1': 0.0028266466239996284, 'lambda_l2': 0.00010211303918218761, 'max_depth': 56, 'num_leaves': 409, 'min_data_in_leaf': 8, 'bagging_fraction': 0.5012612103606688, 'feature_fraction': 0.8537936823847498}.\n",
      "/home/tri/miniconda3/envs/minimal_ds/lib/python3.8/site-packages/lightgbm/engine.py:148: UserWarning: Found `num_iterations` in params. Will use it instead of argument\n",
      "  warnings.warn(\"Found `{}` in params. Will use it instead of argument\".format(alias))\n",
      "/home/tri/miniconda3/envs/minimal_ds/lib/python3.8/site-packages/lightgbm/engine.py:153: UserWarning: Found `early_stopping_round` in params. Will use it instead of argument\n",
      "  warnings.warn(\"Found `{}` in params. Will use it instead of argument\".format(alias))\n",
      "[I 2020-03-01 02:23:36,421] Finished trial#42 resulted in value: 0.009306230891419192. Current best value is 0.008178677525527289 with parameters: {'learning_rate': 0.04854268157540762, 'lambda_l1': 0.0028266466239996284, 'lambda_l2': 0.00010211303918218761, 'max_depth': 56, 'num_leaves': 409, 'min_data_in_leaf': 8, 'bagging_fraction': 0.5012612103606688, 'feature_fraction': 0.8537936823847498}.\n",
      "/home/tri/miniconda3/envs/minimal_ds/lib/python3.8/site-packages/lightgbm/engine.py:148: UserWarning: Found `num_iterations` in params. Will use it instead of argument\n",
      "  warnings.warn(\"Found `{}` in params. Will use it instead of argument\".format(alias))\n",
      "/home/tri/miniconda3/envs/minimal_ds/lib/python3.8/site-packages/lightgbm/engine.py:153: UserWarning: Found `early_stopping_round` in params. Will use it instead of argument\n",
      "  warnings.warn(\"Found `{}` in params. Will use it instead of argument\".format(alias))\n",
      "[I 2020-03-01 02:29:31,268] Finished trial#43 resulted in value: 0.008836433409071065. Current best value is 0.008178677525527289 with parameters: {'learning_rate': 0.04854268157540762, 'lambda_l1': 0.0028266466239996284, 'lambda_l2': 0.00010211303918218761, 'max_depth': 56, 'num_leaves': 409, 'min_data_in_leaf': 8, 'bagging_fraction': 0.5012612103606688, 'feature_fraction': 0.8537936823847498}.\n",
      "/home/tri/miniconda3/envs/minimal_ds/lib/python3.8/site-packages/lightgbm/engine.py:148: UserWarning: Found `num_iterations` in params. Will use it instead of argument\n",
      "  warnings.warn(\"Found `{}` in params. Will use it instead of argument\".format(alias))\n",
      "/home/tri/miniconda3/envs/minimal_ds/lib/python3.8/site-packages/lightgbm/engine.py:153: UserWarning: Found `early_stopping_round` in params. Will use it instead of argument\n",
      "  warnings.warn(\"Found `{}` in params. Will use it instead of argument\".format(alias))\n",
      "[I 2020-03-01 02:36:01,276] Finished trial#44 resulted in value: 0.011501893705595043. Current best value is 0.008178677525527289 with parameters: {'learning_rate': 0.04854268157540762, 'lambda_l1': 0.0028266466239996284, 'lambda_l2': 0.00010211303918218761, 'max_depth': 56, 'num_leaves': 409, 'min_data_in_leaf': 8, 'bagging_fraction': 0.5012612103606688, 'feature_fraction': 0.8537936823847498}.\n",
      "/home/tri/miniconda3/envs/minimal_ds/lib/python3.8/site-packages/lightgbm/engine.py:148: UserWarning: Found `num_iterations` in params. Will use it instead of argument\n",
      "  warnings.warn(\"Found `{}` in params. Will use it instead of argument\".format(alias))\n",
      "/home/tri/miniconda3/envs/minimal_ds/lib/python3.8/site-packages/lightgbm/engine.py:153: UserWarning: Found `early_stopping_round` in params. Will use it instead of argument\n",
      "  warnings.warn(\"Found `{}` in params. Will use it instead of argument\".format(alias))\n",
      "[I 2020-03-01 02:44:07,171] Finished trial#45 resulted in value: 0.009684003061803071. Current best value is 0.008178677525527289 with parameters: {'learning_rate': 0.04854268157540762, 'lambda_l1': 0.0028266466239996284, 'lambda_l2': 0.00010211303918218761, 'max_depth': 56, 'num_leaves': 409, 'min_data_in_leaf': 8, 'bagging_fraction': 0.5012612103606688, 'feature_fraction': 0.8537936823847498}.\n",
      "/home/tri/miniconda3/envs/minimal_ds/lib/python3.8/site-packages/lightgbm/engine.py:148: UserWarning: Found `num_iterations` in params. Will use it instead of argument\n",
      "  warnings.warn(\"Found `{}` in params. Will use it instead of argument\".format(alias))\n",
      "/home/tri/miniconda3/envs/minimal_ds/lib/python3.8/site-packages/lightgbm/engine.py:153: UserWarning: Found `early_stopping_round` in params. Will use it instead of argument\n",
      "  warnings.warn(\"Found `{}` in params. Will use it instead of argument\".format(alias))\n",
      "[I 2020-03-01 02:52:44,524] Finished trial#46 resulted in value: 0.010948268654852114. Current best value is 0.008178677525527289 with parameters: {'learning_rate': 0.04854268157540762, 'lambda_l1': 0.0028266466239996284, 'lambda_l2': 0.00010211303918218761, 'max_depth': 56, 'num_leaves': 409, 'min_data_in_leaf': 8, 'bagging_fraction': 0.5012612103606688, 'feature_fraction': 0.8537936823847498}.\n",
      "/home/tri/miniconda3/envs/minimal_ds/lib/python3.8/site-packages/lightgbm/engine.py:148: UserWarning: Found `num_iterations` in params. Will use it instead of argument\n",
      "  warnings.warn(\"Found `{}` in params. Will use it instead of argument\".format(alias))\n",
      "/home/tri/miniconda3/envs/minimal_ds/lib/python3.8/site-packages/lightgbm/engine.py:153: UserWarning: Found `early_stopping_round` in params. Will use it instead of argument\n",
      "  warnings.warn(\"Found `{}` in params. Will use it instead of argument\".format(alias))\n",
      "[I 2020-03-01 02:56:41,012] Finished trial#47 resulted in value: 0.012366554808638212. Current best value is 0.008178677525527289 with parameters: {'learning_rate': 0.04854268157540762, 'lambda_l1': 0.0028266466239996284, 'lambda_l2': 0.00010211303918218761, 'max_depth': 56, 'num_leaves': 409, 'min_data_in_leaf': 8, 'bagging_fraction': 0.5012612103606688, 'feature_fraction': 0.8537936823847498}.\n",
      "/home/tri/miniconda3/envs/minimal_ds/lib/python3.8/site-packages/lightgbm/engine.py:148: UserWarning: Found `num_iterations` in params. Will use it instead of argument\n",
      "  warnings.warn(\"Found `{}` in params. Will use it instead of argument\".format(alias))\n",
      "/home/tri/miniconda3/envs/minimal_ds/lib/python3.8/site-packages/lightgbm/engine.py:153: UserWarning: Found `early_stopping_round` in params. Will use it instead of argument\n",
      "  warnings.warn(\"Found `{}` in params. Will use it instead of argument\".format(alias))\n",
      "[I 2020-03-01 03:04:13,662] Finished trial#48 resulted in value: 0.009114324603048746. Current best value is 0.008178677525527289 with parameters: {'learning_rate': 0.04854268157540762, 'lambda_l1': 0.0028266466239996284, 'lambda_l2': 0.00010211303918218761, 'max_depth': 56, 'num_leaves': 409, 'min_data_in_leaf': 8, 'bagging_fraction': 0.5012612103606688, 'feature_fraction': 0.8537936823847498}.\n",
      "/home/tri/miniconda3/envs/minimal_ds/lib/python3.8/site-packages/lightgbm/engine.py:148: UserWarning: Found `num_iterations` in params. Will use it instead of argument\n",
      "  warnings.warn(\"Found `{}` in params. Will use it instead of argument\".format(alias))\n",
      "/home/tri/miniconda3/envs/minimal_ds/lib/python3.8/site-packages/lightgbm/engine.py:153: UserWarning: Found `early_stopping_round` in params. Will use it instead of argument\n",
      "  warnings.warn(\"Found `{}` in params. Will use it instead of argument\".format(alias))\n",
      "[I 2020-03-01 03:15:29,281] Finished trial#49 resulted in value: 0.011912769336156644. Current best value is 0.008178677525527289 with parameters: {'learning_rate': 0.04854268157540762, 'lambda_l1': 0.0028266466239996284, 'lambda_l2': 0.00010211303918218761, 'max_depth': 56, 'num_leaves': 409, 'min_data_in_leaf': 8, 'bagging_fraction': 0.5012612103606688, 'feature_fraction': 0.8537936823847498}.\n"
     ]
    },
    {
     "name": "stdout",
     "output_type": "stream",
     "text": [
      "2020-03-01 03:15:29.284585\n",
      "Finished trials: 50\n",
      "Best trial: 0.008178677525527289\n"
     ]
    },
    {
     "data": {
      "text/plain": [
       "{'learning_rate': 0.04854268157540762,\n",
       " 'lambda_l1': 0.0028266466239996284,\n",
       " 'lambda_l2': 0.00010211303918218761,\n",
       " 'max_depth': 56,\n",
       " 'num_leaves': 409,\n",
       " 'min_data_in_leaf': 8,\n",
       " 'bagging_fraction': 0.5012612103606688,\n",
       " 'feature_fraction': 0.8537936823847498}"
      ]
     },
     "execution_count": 33,
     "metadata": {},
     "output_type": "execute_result"
    }
   ],
   "source": [
    "# print(datetime.datetime.now())\n",
    "\n",
    "# # Enable logging\n",
    "# optuna.logging.enable_default_handler()\n",
    "\n",
    "# # Optimize parameters\n",
    "# study_lgb2 = optuna.create_study(direction='minimize')\n",
    "# study_lgb2.optimize(objective_lgb2, n_trials=50)\n",
    "\n",
    "# print(datetime.datetime.now())\n",
    "\n",
    "# print(f'Finished trials: {len(study_lgb2.trials)}')\n",
    "# print(f'Best trial: {study_lgb2.best_trial.value}')\n",
    "# study_lgb2.best_trial.params"
   ]
  },
  {
   "cell_type": "code",
   "execution_count": 34,
   "metadata": {},
   "outputs": [
    {
     "name": "stdout",
     "output_type": "stream",
     "text": [
      "Finished trials: 50\n",
      "Best trial: 0.008178677525527289\n"
     ]
    },
    {
     "data": {
      "text/plain": [
       "{'learning_rate': 0.04854268157540762,\n",
       " 'lambda_l1': 0.0028266466239996284,\n",
       " 'lambda_l2': 0.00010211303918218761,\n",
       " 'max_depth': 56,\n",
       " 'num_leaves': 409,\n",
       " 'min_data_in_leaf': 8,\n",
       " 'bagging_fraction': 0.5012612103606688,\n",
       " 'feature_fraction': 0.8537936823847498}"
      ]
     },
     "execution_count": 34,
     "metadata": {},
     "output_type": "execute_result"
    }
   ],
   "source": [
    "# Study results\n",
    "study_lgb2 = joblib.load('../objects/steam/study_lgb2.pkl')\n",
    "print(f'Finished trials: {len(study_lgb2.trials)}')\n",
    "print(f'Best trial: {study_lgb2.best_trial.value}')\n",
    "study_lgb2.best_trial.params"
   ]
  },
  {
   "cell_type": "code",
   "execution_count": 35,
   "metadata": {},
   "outputs": [
    {
     "name": "stderr",
     "output_type": "stream",
     "text": [
      "/home/tri/miniconda3/envs/minimal_ds/lib/python3.8/site-packages/lightgbm/engine.py:148: UserWarning: Found `num_iterations` in params. Will use it instead of argument\n",
      "  warnings.warn(\"Found `{}` in params. Will use it instead of argument\".format(alias))\n",
      "/home/tri/miniconda3/envs/minimal_ds/lib/python3.8/site-packages/lightgbm/engine.py:153: UserWarning: Found `early_stopping_round` in params. Will use it instead of argument\n",
      "  warnings.warn(\"Found `{}` in params. Will use it instead of argument\".format(alias))\n"
     ]
    },
    {
     "name": "stdout",
     "output_type": "stream",
     "text": [
      "Train RMSLE: 0.05803045259033331\n",
      "Validation RMSLE: 0.09043599169296251\n",
      "Test RMSLE: 0.09134125124560871\n"
     ]
    }
   ],
   "source": [
    "# Parameters from Optuna\n",
    "params_lgb2 = dict(study_lgb2.best_trial.params)\n",
    "params_lgb2['num_iterations'] = 10000\n",
    "params_lgb2['early_stopping_round'] = 20\n",
    "params_lgb2['metric'] = 'rmse'\n",
    "params_lgb2['num_threads'] = -1\n",
    "params_lgb2['seed'] = 42\n",
    "\n",
    "# Root mean squared log error\n",
    "rmsle_train, rmsle_val, rmsle_test = lgbm_rmsle(Xs_train_scaled, ys_train, Xs_val_scaled, ys_val, Xs_test_scaled, ys_test, params_lgb2, '../objects/steam/lgbm2.txt')\n",
    "print('Train RMSLE:', rmsle_train)\n",
    "print('Validation RMSLE:', rmsle_val)\n",
    "print('Test RMSLE:', rmsle_test)"
   ]
  },
  {
   "cell_type": "code",
   "execution_count": 36,
   "metadata": {},
   "outputs": [
    {
     "data": {
      "text/plain": [
       "46"
      ]
     },
     "execution_count": 36,
     "metadata": {},
     "output_type": "execute_result"
    }
   ],
   "source": [
    "del rmsle_train, rmsle_val, rmsle_test\n",
    "gc.collect()"
   ]
  },
  {
   "cell_type": "code",
   "execution_count": null,
   "metadata": {},
   "outputs": [],
   "source": []
  },
  {
   "cell_type": "code",
   "execution_count": null,
   "metadata": {},
   "outputs": [],
   "source": []
  },
  {
   "cell_type": "markdown",
   "metadata": {},
   "source": [
    "### XGBoost - steam"
   ]
  },
  {
   "cell_type": "code",
   "execution_count": 37,
   "metadata": {},
   "outputs": [],
   "source": [
    "# Objective function for parameter optimization\n",
    "def objective_xgb2(trial):\n",
    "    \n",
    "    joblib.dump(study_xgb2, '../objects/steam/study_xgb2.pkl')\n",
    "    \n",
    "    dtrain = xgb.DMatrix(Xs_val_scaled, label=ys_val)\n",
    "    dval = xgb.DMatrix(Xs_test_scaled, label=ys_test)\n",
    "\n",
    "    params = {\n",
    "        'grow_policy': trial.suggest_categorical('grow_policy', ['depthwise', 'lossguide']),\n",
    "        'learning_rate': trial.suggest_loguniform('learning_rate', 1e-4, 1e-1),\n",
    "        'alpha': trial.suggest_loguniform('alpha', 1e-4, 1e1),\n",
    "        'lambda': trial.suggest_loguniform('lambda', 1e-4, 1e1),\n",
    "        'gamma': trial.suggest_loguniform('gamma', 1e-4, 1e1),\n",
    "        'max_depth': trial.suggest_int('max_depth', 2, 100),\n",
    "        'max_leaves': trial.suggest_int('max_leaves', 2, 2024),\n",
    "        'subsample': trial.suggest_uniform('subsample', 0.5, 1.0),\n",
    "        'colsample_bytree': trial.suggest_uniform('colsample_bytree', 0.5, 1.0),\n",
    "        'eval_metric': 'rmse',\n",
    "        'seed': 42\n",
    "    }\n",
    "    \n",
    "    xg = xgb.train(params, dtrain, \n",
    "                   evals=[(dtrain, 'train'), (dval, 'valid')],\n",
    "                   num_boost_round=1000, \n",
    "                   early_stopping_rounds=10,\n",
    "                   verbose_eval=False)\n",
    "    pred = xg.predict(dval)\n",
    "    pred[pred < 0] = 0\n",
    "    loss = mean_squared_log_error(ys_test, pred)\n",
    "\n",
    "#     cv = xgb.cv(params, dtrain, folds=KFold(10, shuffle=True, random_state=42), verbose_eval=False)\n",
    "#     loss = cv['rmse-mean'][-1]\n",
    "    \n",
    "    return loss"
   ]
  },
  {
   "cell_type": "code",
   "execution_count": 38,
   "metadata": {},
   "outputs": [
    {
     "name": "stdout",
     "output_type": "stream",
     "text": [
      "Start: 2020-03-01 03:19:11.014601\n"
     ]
    },
    {
     "name": "stderr",
     "output_type": "stream",
     "text": [
      "[I 2020-03-01 03:30:51,261] Finished trial#0 resulted in value: 0.010800790973007679. Current best value is 0.010800790973007679 with parameters: {'grow_policy': 'lossguide', 'learning_rate': 0.008348995614531675, 'alpha': 0.2011455810495437, 'lambda': 0.6119299116240078, 'gamma': 0.0004875887875056406, 'max_depth': 97, 'max_leaves': 1363, 'subsample': 0.7852152232739738, 'colsample_bytree': 0.577339250758133}.\n",
      "[I 2020-03-01 03:44:59,889] Finished trial#1 resulted in value: 0.01167634129524231. Current best value is 0.010800790973007679 with parameters: {'grow_policy': 'lossguide', 'learning_rate': 0.008348995614531675, 'alpha': 0.2011455810495437, 'lambda': 0.6119299116240078, 'gamma': 0.0004875887875056406, 'max_depth': 97, 'max_leaves': 1363, 'subsample': 0.7852152232739738, 'colsample_bytree': 0.577339250758133}.\n",
      "[I 2020-03-01 03:47:18,094] Finished trial#2 resulted in value: 0.01127639040350914. Current best value is 0.010800790973007679 with parameters: {'grow_policy': 'lossguide', 'learning_rate': 0.008348995614531675, 'alpha': 0.2011455810495437, 'lambda': 0.6119299116240078, 'gamma': 0.0004875887875056406, 'max_depth': 97, 'max_leaves': 1363, 'subsample': 0.7852152232739738, 'colsample_bytree': 0.577339250758133}.\n",
      "[I 2020-03-01 03:52:57,321] Finished trial#3 resulted in value: 0.9035609364509583. Current best value is 0.010800790973007679 with parameters: {'grow_policy': 'lossguide', 'learning_rate': 0.008348995614531675, 'alpha': 0.2011455810495437, 'lambda': 0.6119299116240078, 'gamma': 0.0004875887875056406, 'max_depth': 97, 'max_leaves': 1363, 'subsample': 0.7852152232739738, 'colsample_bytree': 0.577339250758133}.\n",
      "[I 2020-03-01 03:56:52,363] Finished trial#4 resulted in value: 1.2556285858154297. Current best value is 0.010800790973007679 with parameters: {'grow_policy': 'lossguide', 'learning_rate': 0.008348995614531675, 'alpha': 0.2011455810495437, 'lambda': 0.6119299116240078, 'gamma': 0.0004875887875056406, 'max_depth': 97, 'max_leaves': 1363, 'subsample': 0.7852152232739738, 'colsample_bytree': 0.577339250758133}.\n",
      "[I 2020-03-01 04:13:19,202] Finished trial#5 resulted in value: 0.013709024526178837. Current best value is 0.010800790973007679 with parameters: {'grow_policy': 'lossguide', 'learning_rate': 0.008348995614531675, 'alpha': 0.2011455810495437, 'lambda': 0.6119299116240078, 'gamma': 0.0004875887875056406, 'max_depth': 97, 'max_leaves': 1363, 'subsample': 0.7852152232739738, 'colsample_bytree': 0.577339250758133}.\n",
      "[I 2020-03-01 04:30:56,357] Finished trial#6 resulted in value: 0.01017624419182539. Current best value is 0.01017624419182539 with parameters: {'grow_policy': 'depthwise', 'learning_rate': 0.03942718025931772, 'alpha': 0.07472700267386757, 'lambda': 0.0005931242572115527, 'gamma': 3.4454650385550964, 'max_depth': 39, 'max_leaves': 54, 'subsample': 0.7355766838319144, 'colsample_bytree': 0.9101969159319678}.\n",
      "[I 2020-03-01 04:48:17,645] Finished trial#7 resulted in value: 0.010883883573114872. Current best value is 0.01017624419182539 with parameters: {'grow_policy': 'depthwise', 'learning_rate': 0.03942718025931772, 'alpha': 0.07472700267386757, 'lambda': 0.0005931242572115527, 'gamma': 3.4454650385550964, 'max_depth': 39, 'max_leaves': 54, 'subsample': 0.7355766838319144, 'colsample_bytree': 0.9101969159319678}.\n",
      "[I 2020-03-01 04:50:30,891] Finished trial#8 resulted in value: 1.3793069124221802. Current best value is 0.01017624419182539 with parameters: {'grow_policy': 'depthwise', 'learning_rate': 0.03942718025931772, 'alpha': 0.07472700267386757, 'lambda': 0.0005931242572115527, 'gamma': 3.4454650385550964, 'max_depth': 39, 'max_leaves': 54, 'subsample': 0.7355766838319144, 'colsample_bytree': 0.9101969159319678}.\n",
      "[I 2020-03-01 04:58:01,098] Finished trial#9 resulted in value: 1.4152538776397705. Current best value is 0.01017624419182539 with parameters: {'grow_policy': 'depthwise', 'learning_rate': 0.03942718025931772, 'alpha': 0.07472700267386757, 'lambda': 0.0005931242572115527, 'gamma': 3.4454650385550964, 'max_depth': 39, 'max_leaves': 54, 'subsample': 0.7355766838319144, 'colsample_bytree': 0.9101969159319678}.\n",
      "[I 2020-03-01 05:10:27,394] Finished trial#10 resulted in value: 0.01046719215810299. Current best value is 0.01017624419182539 with parameters: {'grow_policy': 'depthwise', 'learning_rate': 0.03942718025931772, 'alpha': 0.07472700267386757, 'lambda': 0.0005931242572115527, 'gamma': 3.4454650385550964, 'max_depth': 39, 'max_leaves': 54, 'subsample': 0.7355766838319144, 'colsample_bytree': 0.9101969159319678}.\n",
      "[I 2020-03-01 05:22:19,498] Finished trial#11 resulted in value: 0.010882623493671417. Current best value is 0.01017624419182539 with parameters: {'grow_policy': 'depthwise', 'learning_rate': 0.03942718025931772, 'alpha': 0.07472700267386757, 'lambda': 0.0005931242572115527, 'gamma': 3.4454650385550964, 'max_depth': 39, 'max_leaves': 54, 'subsample': 0.7355766838319144, 'colsample_bytree': 0.9101969159319678}.\n",
      "[I 2020-03-01 05:34:15,174] Finished trial#12 resulted in value: 0.010264637880027294. Current best value is 0.01017624419182539 with parameters: {'grow_policy': 'depthwise', 'learning_rate': 0.03942718025931772, 'alpha': 0.07472700267386757, 'lambda': 0.0005931242572115527, 'gamma': 3.4454650385550964, 'max_depth': 39, 'max_leaves': 54, 'subsample': 0.7355766838319144, 'colsample_bytree': 0.9101969159319678}.\n",
      "[I 2020-03-01 05:47:54,531] Finished trial#13 resulted in value: 0.00977852288633585. Current best value is 0.00977852288633585 with parameters: {'grow_policy': 'depthwise', 'learning_rate': 0.02733224265048274, 'alpha': 2.037342303559396, 'lambda': 0.0005071408149561609, 'gamma': 1.3520447098015476, 'max_depth': 55, 'max_leaves': 1546, 'subsample': 0.861707371395266, 'colsample_bytree': 0.8480162276705446}.\n",
      "[I 2020-03-01 05:54:13,892] Finished trial#14 resulted in value: 0.025998355820775032. Current best value is 0.00977852288633585 with parameters: {'grow_policy': 'depthwise', 'learning_rate': 0.02733224265048274, 'alpha': 2.037342303559396, 'lambda': 0.0005071408149561609, 'gamma': 1.3520447098015476, 'max_depth': 55, 'max_leaves': 1546, 'subsample': 0.861707371395266, 'colsample_bytree': 0.8480162276705446}.\n",
      "[I 2020-03-01 06:18:22,849] Finished trial#15 resulted in value: 0.010160609148442745. Current best value is 0.00977852288633585 with parameters: {'grow_policy': 'depthwise', 'learning_rate': 0.02733224265048274, 'alpha': 2.037342303559396, 'lambda': 0.0005071408149561609, 'gamma': 1.3520447098015476, 'max_depth': 55, 'max_leaves': 1546, 'subsample': 0.861707371395266, 'colsample_bytree': 0.8480162276705446}.\n",
      "[I 2020-03-01 06:27:05,445] Finished trial#16 resulted in value: 0.009789288975298405. Current best value is 0.00977852288633585 with parameters: {'grow_policy': 'depthwise', 'learning_rate': 0.02733224265048274, 'alpha': 2.037342303559396, 'lambda': 0.0005071408149561609, 'gamma': 1.3520447098015476, 'max_depth': 55, 'max_leaves': 1546, 'subsample': 0.861707371395266, 'colsample_bytree': 0.8480162276705446}.\n",
      "[I 2020-03-01 06:34:09,175] Finished trial#17 resulted in value: 0.10105161368846893. Current best value is 0.00977852288633585 with parameters: {'grow_policy': 'depthwise', 'learning_rate': 0.02733224265048274, 'alpha': 2.037342303559396, 'lambda': 0.0005071408149561609, 'gamma': 1.3520447098015476, 'max_depth': 55, 'max_leaves': 1546, 'subsample': 0.861707371395266, 'colsample_bytree': 0.8480162276705446}.\n",
      "[I 2020-03-01 06:45:08,703] Finished trial#18 resulted in value: 0.009777524508535862. Current best value is 0.009777524508535862 with parameters: {'grow_policy': 'depthwise', 'learning_rate': 0.008469747404469537, 'alpha': 1.8377590717661367, 'lambda': 0.0032777605619591236, 'gamma': 0.00023906484288884077, 'max_depth': 75, 'max_leaves': 1715, 'subsample': 0.922246200841995, 'colsample_bytree': 0.8652828530469395}.\n",
      "[I 2020-03-01 06:56:55,418] Finished trial#19 resulted in value: 0.009901250712573528. Current best value is 0.009777524508535862 with parameters: {'grow_policy': 'depthwise', 'learning_rate': 0.008469747404469537, 'alpha': 1.8377590717661367, 'lambda': 0.0032777605619591236, 'gamma': 0.00023906484288884077, 'max_depth': 75, 'max_leaves': 1715, 'subsample': 0.922246200841995, 'colsample_bytree': 0.8652828530469395}.\n",
      "[I 2020-03-01 07:14:33,985] Finished trial#20 resulted in value: 0.48674875497817993. Current best value is 0.009777524508535862 with parameters: {'grow_policy': 'depthwise', 'learning_rate': 0.008469747404469537, 'alpha': 1.8377590717661367, 'lambda': 0.0032777605619591236, 'gamma': 0.00023906484288884077, 'max_depth': 75, 'max_leaves': 1715, 'subsample': 0.922246200841995, 'colsample_bytree': 0.8652828530469395}.\n",
      "[I 2020-03-01 07:23:12,494] Finished trial#21 resulted in value: 0.00985240750014782. Current best value is 0.009777524508535862 with parameters: {'grow_policy': 'depthwise', 'learning_rate': 0.008469747404469537, 'alpha': 1.8377590717661367, 'lambda': 0.0032777605619591236, 'gamma': 0.00023906484288884077, 'max_depth': 75, 'max_leaves': 1715, 'subsample': 0.922246200841995, 'colsample_bytree': 0.8652828530469395}.\n",
      "[I 2020-03-01 07:31:45,182] Finished trial#22 resulted in value: 0.010238909162580967. Current best value is 0.009777524508535862 with parameters: {'grow_policy': 'depthwise', 'learning_rate': 0.008469747404469537, 'alpha': 1.8377590717661367, 'lambda': 0.0032777605619591236, 'gamma': 0.00023906484288884077, 'max_depth': 75, 'max_leaves': 1715, 'subsample': 0.922246200841995, 'colsample_bytree': 0.8652828530469395}.\n",
      "[I 2020-03-01 07:42:28,002] Finished trial#23 resulted in value: 0.009970150887966156. Current best value is 0.009777524508535862 with parameters: {'grow_policy': 'depthwise', 'learning_rate': 0.008469747404469537, 'alpha': 1.8377590717661367, 'lambda': 0.0032777605619591236, 'gamma': 0.00023906484288884077, 'max_depth': 75, 'max_leaves': 1715, 'subsample': 0.922246200841995, 'colsample_bytree': 0.8652828530469395}.\n",
      "[I 2020-03-01 07:47:16,162] Finished trial#24 resulted in value: 0.009904985316097736. Current best value is 0.009777524508535862 with parameters: {'grow_policy': 'depthwise', 'learning_rate': 0.008469747404469537, 'alpha': 1.8377590717661367, 'lambda': 0.0032777605619591236, 'gamma': 0.00023906484288884077, 'max_depth': 75, 'max_leaves': 1715, 'subsample': 0.922246200841995, 'colsample_bytree': 0.8652828530469395}.\n",
      "[I 2020-03-01 07:57:00,222] Finished trial#25 resulted in value: 0.010192539542913437. Current best value is 0.009777524508535862 with parameters: {'grow_policy': 'depthwise', 'learning_rate': 0.008469747404469537, 'alpha': 1.8377590717661367, 'lambda': 0.0032777605619591236, 'gamma': 0.00023906484288884077, 'max_depth': 75, 'max_leaves': 1715, 'subsample': 0.922246200841995, 'colsample_bytree': 0.8652828530469395}.\n",
      "[I 2020-03-01 08:09:25,300] Finished trial#26 resulted in value: 0.009975164197385311. Current best value is 0.009777524508535862 with parameters: {'grow_policy': 'depthwise', 'learning_rate': 0.008469747404469537, 'alpha': 1.8377590717661367, 'lambda': 0.0032777605619591236, 'gamma': 0.00023906484288884077, 'max_depth': 75, 'max_leaves': 1715, 'subsample': 0.922246200841995, 'colsample_bytree': 0.8652828530469395}.\n",
      "[I 2020-03-01 08:16:27,727] Finished trial#27 resulted in value: 0.01320585235953331. Current best value is 0.009777524508535862 with parameters: {'grow_policy': 'depthwise', 'learning_rate': 0.008469747404469537, 'alpha': 1.8377590717661367, 'lambda': 0.0032777605619591236, 'gamma': 0.00023906484288884077, 'max_depth': 75, 'max_leaves': 1715, 'subsample': 0.922246200841995, 'colsample_bytree': 0.8652828530469395}.\n",
      "[I 2020-03-01 08:30:57,001] Finished trial#28 resulted in value: 0.013993549160659313. Current best value is 0.009777524508535862 with parameters: {'grow_policy': 'depthwise', 'learning_rate': 0.008469747404469537, 'alpha': 1.8377590717661367, 'lambda': 0.0032777605619591236, 'gamma': 0.00023906484288884077, 'max_depth': 75, 'max_leaves': 1715, 'subsample': 0.922246200841995, 'colsample_bytree': 0.8652828530469395}.\n",
      "[I 2020-03-01 08:44:53,452] Finished trial#29 resulted in value: 0.01012039091438055. Current best value is 0.009777524508535862 with parameters: {'grow_policy': 'depthwise', 'learning_rate': 0.008469747404469537, 'alpha': 1.8377590717661367, 'lambda': 0.0032777605619591236, 'gamma': 0.00023906484288884077, 'max_depth': 75, 'max_leaves': 1715, 'subsample': 0.922246200841995, 'colsample_bytree': 0.8652828530469395}.\n",
      "[I 2020-03-01 08:58:46,030] Finished trial#30 resulted in value: 0.043731145560741425. Current best value is 0.009777524508535862 with parameters: {'grow_policy': 'depthwise', 'learning_rate': 0.008469747404469537, 'alpha': 1.8377590717661367, 'lambda': 0.0032777605619591236, 'gamma': 0.00023906484288884077, 'max_depth': 75, 'max_leaves': 1715, 'subsample': 0.922246200841995, 'colsample_bytree': 0.8652828530469395}.\n",
      "[I 2020-03-01 09:07:06,395] Finished trial#31 resulted in value: 0.009848535060882568. Current best value is 0.009777524508535862 with parameters: {'grow_policy': 'depthwise', 'learning_rate': 0.008469747404469537, 'alpha': 1.8377590717661367, 'lambda': 0.0032777605619591236, 'gamma': 0.00023906484288884077, 'max_depth': 75, 'max_leaves': 1715, 'subsample': 0.922246200841995, 'colsample_bytree': 0.8652828530469395}.\n",
      "[I 2020-03-01 09:15:35,039] Finished trial#32 resulted in value: 0.010144860483705997. Current best value is 0.009777524508535862 with parameters: {'grow_policy': 'depthwise', 'learning_rate': 0.008469747404469537, 'alpha': 1.8377590717661367, 'lambda': 0.0032777605619591236, 'gamma': 0.00023906484288884077, 'max_depth': 75, 'max_leaves': 1715, 'subsample': 0.922246200841995, 'colsample_bytree': 0.8652828530469395}.\n",
      "[I 2020-03-01 09:18:16,246] Finished trial#33 resulted in value: 0.009921843186020851. Current best value is 0.009777524508535862 with parameters: {'grow_policy': 'depthwise', 'learning_rate': 0.008469747404469537, 'alpha': 1.8377590717661367, 'lambda': 0.0032777605619591236, 'gamma': 0.00023906484288884077, 'max_depth': 75, 'max_leaves': 1715, 'subsample': 0.922246200841995, 'colsample_bytree': 0.8652828530469395}.\n",
      "[I 2020-03-01 09:27:22,592] Finished trial#34 resulted in value: 0.010028607212007046. Current best value is 0.009777524508535862 with parameters: {'grow_policy': 'depthwise', 'learning_rate': 0.008469747404469537, 'alpha': 1.8377590717661367, 'lambda': 0.0032777605619591236, 'gamma': 0.00023906484288884077, 'max_depth': 75, 'max_leaves': 1715, 'subsample': 0.922246200841995, 'colsample_bytree': 0.8652828530469395}.\n",
      "[I 2020-03-01 09:38:54,394] Finished trial#35 resulted in value: 0.009892434813082218. Current best value is 0.009777524508535862 with parameters: {'grow_policy': 'depthwise', 'learning_rate': 0.008469747404469537, 'alpha': 1.8377590717661367, 'lambda': 0.0032777605619591236, 'gamma': 0.00023906484288884077, 'max_depth': 75, 'max_leaves': 1715, 'subsample': 0.922246200841995, 'colsample_bytree': 0.8652828530469395}.\n",
      "[I 2020-03-01 09:49:34,027] Finished trial#36 resulted in value: 0.010060296393930912. Current best value is 0.009777524508535862 with parameters: {'grow_policy': 'depthwise', 'learning_rate': 0.008469747404469537, 'alpha': 1.8377590717661367, 'lambda': 0.0032777605619591236, 'gamma': 0.00023906484288884077, 'max_depth': 75, 'max_leaves': 1715, 'subsample': 0.922246200841995, 'colsample_bytree': 0.8652828530469395}.\n",
      "[I 2020-03-01 09:53:58,105] Finished trial#37 resulted in value: 0.010326208546757698. Current best value is 0.009777524508535862 with parameters: {'grow_policy': 'depthwise', 'learning_rate': 0.008469747404469537, 'alpha': 1.8377590717661367, 'lambda': 0.0032777605619591236, 'gamma': 0.00023906484288884077, 'max_depth': 75, 'max_leaves': 1715, 'subsample': 0.922246200841995, 'colsample_bytree': 0.8652828530469395}.\n",
      "[I 2020-03-01 10:20:43,256] Finished trial#38 resulted in value: 0.0106594143435359. Current best value is 0.009777524508535862 with parameters: {'grow_policy': 'depthwise', 'learning_rate': 0.008469747404469537, 'alpha': 1.8377590717661367, 'lambda': 0.0032777605619591236, 'gamma': 0.00023906484288884077, 'max_depth': 75, 'max_leaves': 1715, 'subsample': 0.922246200841995, 'colsample_bytree': 0.8652828530469395}.\n",
      "[I 2020-03-01 10:25:44,155] Finished trial#39 resulted in value: 0.010145423002541065. Current best value is 0.009777524508535862 with parameters: {'grow_policy': 'depthwise', 'learning_rate': 0.008469747404469537, 'alpha': 1.8377590717661367, 'lambda': 0.0032777605619591236, 'gamma': 0.00023906484288884077, 'max_depth': 75, 'max_leaves': 1715, 'subsample': 0.922246200841995, 'colsample_bytree': 0.8652828530469395}.\n",
      "[I 2020-03-01 10:45:00,505] Finished trial#40 resulted in value: 0.010909399017691612. Current best value is 0.009777524508535862 with parameters: {'grow_policy': 'depthwise', 'learning_rate': 0.008469747404469537, 'alpha': 1.8377590717661367, 'lambda': 0.0032777605619591236, 'gamma': 0.00023906484288884077, 'max_depth': 75, 'max_leaves': 1715, 'subsample': 0.922246200841995, 'colsample_bytree': 0.8652828530469395}.\n",
      "[I 2020-03-01 10:53:10,688] Finished trial#41 resulted in value: 0.009868648834526539. Current best value is 0.009777524508535862 with parameters: {'grow_policy': 'depthwise', 'learning_rate': 0.008469747404469537, 'alpha': 1.8377590717661367, 'lambda': 0.0032777605619591236, 'gamma': 0.00023906484288884077, 'max_depth': 75, 'max_leaves': 1715, 'subsample': 0.922246200841995, 'colsample_bytree': 0.8652828530469395}.\n",
      "[I 2020-03-01 11:03:12,928] Finished trial#42 resulted in value: 0.009824973531067371. Current best value is 0.009777524508535862 with parameters: {'grow_policy': 'depthwise', 'learning_rate': 0.008469747404469537, 'alpha': 1.8377590717661367, 'lambda': 0.0032777605619591236, 'gamma': 0.00023906484288884077, 'max_depth': 75, 'max_leaves': 1715, 'subsample': 0.922246200841995, 'colsample_bytree': 0.8652828530469395}.\n",
      "[I 2020-03-01 11:14:43,337] Finished trial#43 resulted in value: 0.009911286644637585. Current best value is 0.009777524508535862 with parameters: {'grow_policy': 'depthwise', 'learning_rate': 0.008469747404469537, 'alpha': 1.8377590717661367, 'lambda': 0.0032777605619591236, 'gamma': 0.00023906484288884077, 'max_depth': 75, 'max_leaves': 1715, 'subsample': 0.922246200841995, 'colsample_bytree': 0.8652828530469395}.\n",
      "[I 2020-03-01 11:30:32,015] Finished trial#44 resulted in value: 0.010231760330498219. Current best value is 0.009777524508535862 with parameters: {'grow_policy': 'depthwise', 'learning_rate': 0.008469747404469537, 'alpha': 1.8377590717661367, 'lambda': 0.0032777605619591236, 'gamma': 0.00023906484288884077, 'max_depth': 75, 'max_leaves': 1715, 'subsample': 0.922246200841995, 'colsample_bytree': 0.8652828530469395}.\n",
      "[I 2020-03-01 11:41:54,793] Finished trial#45 resulted in value: 0.011307707987725735. Current best value is 0.009777524508535862 with parameters: {'grow_policy': 'depthwise', 'learning_rate': 0.008469747404469537, 'alpha': 1.8377590717661367, 'lambda': 0.0032777605619591236, 'gamma': 0.00023906484288884077, 'max_depth': 75, 'max_leaves': 1715, 'subsample': 0.922246200841995, 'colsample_bytree': 0.8652828530469395}.\n",
      "[I 2020-03-01 11:49:47,789] Finished trial#46 resulted in value: 0.009739160537719727. Current best value is 0.009739160537719727 with parameters: {'grow_policy': 'depthwise', 'learning_rate': 0.045664576584020004, 'alpha': 1.9071087639650297, 'lambda': 0.00021496551872384197, 'gamma': 0.15536767802205387, 'max_depth': 59, 'max_leaves': 1626, 'subsample': 0.926581683911481, 'colsample_bytree': 0.8620824662132568}.\n",
      "[I 2020-03-01 11:55:26,294] Finished trial#47 resulted in value: 0.009776053950190544. Current best value is 0.009739160537719727 with parameters: {'grow_policy': 'depthwise', 'learning_rate': 0.045664576584020004, 'alpha': 1.9071087639650297, 'lambda': 0.00021496551872384197, 'gamma': 0.15536767802205387, 'max_depth': 59, 'max_leaves': 1626, 'subsample': 0.926581683911481, 'colsample_bytree': 0.8620824662132568}.\n",
      "[I 2020-03-01 12:00:06,933] Finished trial#48 resulted in value: 0.00977837573736906. Current best value is 0.009739160537719727 with parameters: {'grow_policy': 'depthwise', 'learning_rate': 0.045664576584020004, 'alpha': 1.9071087639650297, 'lambda': 0.00021496551872384197, 'gamma': 0.15536767802205387, 'max_depth': 59, 'max_leaves': 1626, 'subsample': 0.926581683911481, 'colsample_bytree': 0.8620824662132568}.\n",
      "[I 2020-03-01 12:08:18,073] Finished trial#49 resulted in value: 0.00999449659138918. Current best value is 0.009739160537719727 with parameters: {'grow_policy': 'depthwise', 'learning_rate': 0.045664576584020004, 'alpha': 1.9071087639650297, 'lambda': 0.00021496551872384197, 'gamma': 0.15536767802205387, 'max_depth': 59, 'max_leaves': 1626, 'subsample': 0.926581683911481, 'colsample_bytree': 0.8620824662132568}.\n"
     ]
    },
    {
     "name": "stdout",
     "output_type": "stream",
     "text": [
      "End: 2020-03-01 12:08:18.075011\n",
      "Finished trials: 50\n",
      "Best trial: 0.009739160537719727\n"
     ]
    },
    {
     "data": {
      "text/plain": [
       "{'grow_policy': 'depthwise',\n",
       " 'learning_rate': 0.045664576584020004,\n",
       " 'alpha': 1.9071087639650297,\n",
       " 'lambda': 0.00021496551872384197,\n",
       " 'gamma': 0.15536767802205387,\n",
       " 'max_depth': 59,\n",
       " 'max_leaves': 1626,\n",
       " 'subsample': 0.926581683911481,\n",
       " 'colsample_bytree': 0.8620824662132568}"
      ]
     },
     "execution_count": 38,
     "metadata": {},
     "output_type": "execute_result"
    }
   ],
   "source": [
    "# print(f'Start: {datetime.datetime.now()}')\n",
    "\n",
    "# # Optimize parameters\n",
    "# study_xgb2 = optuna.create_study(direction='minimize')\n",
    "# study_xgb2.optimize(objective_xgb2, n_trials=50)\n",
    "\n",
    "# print(f'End: {datetime.datetime.now()}')\n",
    "\n",
    "# print(f'Finished trials: {len(study_xgb2.trials)}')\n",
    "# print(f'Best trial: {study_xgb2.best_trial.value}')\n",
    "# study_xgb2.best_trial.params"
   ]
  },
  {
   "cell_type": "code",
   "execution_count": 39,
   "metadata": {},
   "outputs": [
    {
     "name": "stdout",
     "output_type": "stream",
     "text": [
      "Finished trials: 50\n",
      "Best trial: 0.009739160537719727\n"
     ]
    },
    {
     "data": {
      "text/plain": [
       "{'grow_policy': 'depthwise',\n",
       " 'learning_rate': 0.045664576584020004,\n",
       " 'alpha': 1.9071087639650297,\n",
       " 'lambda': 0.00021496551872384197,\n",
       " 'gamma': 0.15536767802205387,\n",
       " 'max_depth': 59,\n",
       " 'max_leaves': 1626,\n",
       " 'subsample': 0.926581683911481,\n",
       " 'colsample_bytree': 0.8620824662132568}"
      ]
     },
     "execution_count": 39,
     "metadata": {},
     "output_type": "execute_result"
    }
   ],
   "source": [
    "# Study results\n",
    "study_xgb2 = joblib.load('../objects/steam/study_xgb2.pkl')\n",
    "print(f'Finished trials: {len(study_xgb2.trials)}')\n",
    "print(f'Best trial: {study_xgb2.best_trial.value}')\n",
    "study_xgb2.best_trial.params"
   ]
  },
  {
   "cell_type": "code",
   "execution_count": 40,
   "metadata": {},
   "outputs": [
    {
     "name": "stdout",
     "output_type": "stream",
     "text": [
      "Train RMSLE: 0.038833246\n",
      "Validation RMSLE: 0.0891143\n",
      "Test RMSLE: 0.08991938\n"
     ]
    }
   ],
   "source": [
    "# Parameters from Optuna\n",
    "params_xgb2 = dict(study_xgb2.best_trial.params)\n",
    "params_xgb2['eval_metric'] = 'rmse'\n",
    "params_xgb2['seed'] = 42\n",
    "\n",
    "rmsle_train, rmsle_val, rmsle_test = xgb_rmsle(Xs_train_scaled, ys_train, Xs_val_scaled, ys_val, Xs_test_scaled, ys_test, params_xgb2, '../objects/steam/xg2.txt')\n",
    "print('Train RMSLE:', rmsle_train)\n",
    "print('Validation RMSLE:', rmsle_val)\n",
    "print('Test RMSLE:', rmsle_test)"
   ]
  },
  {
   "cell_type": "code",
   "execution_count": 41,
   "metadata": {},
   "outputs": [
    {
     "data": {
      "text/plain": [
       "116"
      ]
     },
     "execution_count": 41,
     "metadata": {},
     "output_type": "execute_result"
    }
   ],
   "source": [
    "del rmsle_train, rmsle_val, rmsle_test\n",
    "gc.collect()"
   ]
  },
  {
   "cell_type": "code",
   "execution_count": null,
   "metadata": {},
   "outputs": [],
   "source": []
  },
  {
   "cell_type": "code",
   "execution_count": null,
   "metadata": {},
   "outputs": [],
   "source": []
  },
  {
   "cell_type": "markdown",
   "metadata": {},
   "source": [
    "### Train/test split - hot water"
   ]
  },
  {
   "cell_type": "code",
   "execution_count": 28,
   "metadata": {},
   "outputs": [
    {
     "name": "stdout",
     "output_type": "stream",
     "text": [
      "Train set: (1377629, 16) (1377629, 1)\n",
      "Validation set: (459210, 16) (459210, 1)\n",
      "Test set: (459210, 16) (459210, 1)\n"
     ]
    }
   ],
   "source": [
    "Xh_train, yh_train, Xh_val, yh_val, Xh_test, yh_test = tvt_split(train3)\n",
    "print('Train set:', Xh_train.shape, yh_train.shape)\n",
    "print('Validation set:', Xh_val.shape, yh_val.shape)\n",
    "print('Test set:', Xh_test.shape, yh_test.shape)"
   ]
  },
  {
   "cell_type": "code",
   "execution_count": 29,
   "metadata": {},
   "outputs": [
    {
     "data": {
      "text/plain": [
       "20"
      ]
     },
     "execution_count": 29,
     "metadata": {},
     "output_type": "execute_result"
    }
   ],
   "source": [
    "del train3\n",
    "gc.collect()"
   ]
  },
  {
   "cell_type": "code",
   "execution_count": null,
   "metadata": {},
   "outputs": [],
   "source": []
  },
  {
   "cell_type": "code",
   "execution_count": null,
   "metadata": {},
   "outputs": [],
   "source": []
  },
  {
   "cell_type": "markdown",
   "metadata": {},
   "source": [
    "### Feature transformation - hot water"
   ]
  },
  {
   "cell_type": "code",
   "execution_count": 30,
   "metadata": {},
   "outputs": [
    {
     "name": "stderr",
     "output_type": "stream",
     "text": [
      "/home/tri/miniconda3/envs/minimal_ds/lib/python3.8/site-packages/sklearn/utils/validation.py:931: FutureWarning: Passing attributes to check_is_fitted is deprecated and will be removed in 0.23. The attributes argument is ignored.\n",
      "  warnings.warn(\"Passing attributes to check_is_fitted is deprecated\"\n"
     ]
    },
    {
     "data": {
      "text/html": [
       "<div>\n",
       "<style scoped>\n",
       "    .dataframe tbody tr th:only-of-type {\n",
       "        vertical-align: middle;\n",
       "    }\n",
       "\n",
       "    .dataframe tbody tr th {\n",
       "        vertical-align: top;\n",
       "    }\n",
       "\n",
       "    .dataframe thead th {\n",
       "        text-align: right;\n",
       "    }\n",
       "</style>\n",
       "<table border=\"1\" class=\"dataframe\">\n",
       "  <thead>\n",
       "    <tr style=\"text-align: right;\">\n",
       "      <th></th>\n",
       "      <th>building_id</th>\n",
       "      <th>dew_temperature</th>\n",
       "      <th>sea_level_pressure</th>\n",
       "      <th>wind_speed</th>\n",
       "      <th>primary_use</th>\n",
       "      <th>square_feet</th>\n",
       "      <th>year_built</th>\n",
       "      <th>missing_year</th>\n",
       "      <th>dayofyear</th>\n",
       "      <th>hour</th>\n",
       "      <th>wind_direction_x</th>\n",
       "      <th>wind_direction_y</th>\n",
       "      <th>rel_humidity</th>\n",
       "      <th>is_weekend</th>\n",
       "      <th>country</th>\n",
       "      <th>is_holiday</th>\n",
       "    </tr>\n",
       "  </thead>\n",
       "  <tbody>\n",
       "    <tr>\n",
       "      <th>0</th>\n",
       "      <td>-1.162719</td>\n",
       "      <td>-0.286393</td>\n",
       "      <td>0.453574</td>\n",
       "      <td>-0.740216</td>\n",
       "      <td>-1.852592</td>\n",
       "      <td>-0.560811</td>\n",
       "      <td>0.116663</td>\n",
       "      <td>0.535564</td>\n",
       "      <td>-0.857836</td>\n",
       "      <td>-1.086741</td>\n",
       "      <td>-0.157262</td>\n",
       "      <td>1.652178</td>\n",
       "      <td>-0.792023</td>\n",
       "      <td>-0.631759</td>\n",
       "      <td>-0.181878</td>\n",
       "      <td>-0.177634</td>\n",
       "    </tr>\n",
       "    <tr>\n",
       "      <th>1</th>\n",
       "      <td>0.511915</td>\n",
       "      <td>-1.472452</td>\n",
       "      <td>-0.549881</td>\n",
       "      <td>0.198366</td>\n",
       "      <td>-0.474143</td>\n",
       "      <td>1.124846</td>\n",
       "      <td>-0.221431</td>\n",
       "      <td>0.535564</td>\n",
       "      <td>-1.473199</td>\n",
       "      <td>-1.086741</td>\n",
       "      <td>-0.841100</td>\n",
       "      <td>1.293200</td>\n",
       "      <td>0.844909</td>\n",
       "      <td>-0.631759</td>\n",
       "      <td>-0.181878</td>\n",
       "      <td>-0.177634</td>\n",
       "    </tr>\n",
       "    <tr>\n",
       "      <th>2</th>\n",
       "      <td>-1.881141</td>\n",
       "      <td>1.247458</td>\n",
       "      <td>0.105153</td>\n",
       "      <td>-0.472050</td>\n",
       "      <td>-0.188589</td>\n",
       "      <td>-1.037873</td>\n",
       "      <td>-0.153812</td>\n",
       "      <td>0.535564</td>\n",
       "      <td>0.251682</td>\n",
       "      <td>-0.362719</td>\n",
       "      <td>1.531355</td>\n",
       "      <td>0.321111</td>\n",
       "      <td>-0.365016</td>\n",
       "      <td>-0.631759</td>\n",
       "      <td>-0.181878</td>\n",
       "      <td>-0.177634</td>\n",
       "    </tr>\n",
       "    <tr>\n",
       "      <th>3</th>\n",
       "      <td>-0.130618</td>\n",
       "      <td>0.311095</td>\n",
       "      <td>0.760187</td>\n",
       "      <td>-0.248578</td>\n",
       "      <td>-1.852592</td>\n",
       "      <td>0.826786</td>\n",
       "      <td>0.116663</td>\n",
       "      <td>0.535564</td>\n",
       "      <td>0.671248</td>\n",
       "      <td>-1.231545</td>\n",
       "      <td>-0.841100</td>\n",
       "      <td>1.293200</td>\n",
       "      <td>0.516242</td>\n",
       "      <td>-0.631759</td>\n",
       "      <td>-0.181878</td>\n",
       "      <td>-0.177634</td>\n",
       "    </tr>\n",
       "    <tr>\n",
       "      <th>4</th>\n",
       "      <td>0.355076</td>\n",
       "      <td>-0.634185</td>\n",
       "      <td>0.133028</td>\n",
       "      <td>0.198366</td>\n",
       "      <td>0.689930</td>\n",
       "      <td>-0.120070</td>\n",
       "      <td>0.251900</td>\n",
       "      <td>0.535564</td>\n",
       "      <td>-1.240107</td>\n",
       "      <td>-0.073111</td>\n",
       "      <td>-1.339644</td>\n",
       "      <td>0.321111</td>\n",
       "      <td>0.903768</td>\n",
       "      <td>-0.631759</td>\n",
       "      <td>-0.181878</td>\n",
       "      <td>-0.177634</td>\n",
       "    </tr>\n",
       "  </tbody>\n",
       "</table>\n",
       "</div>"
      ],
      "text/plain": [
       "   building_id  dew_temperature  sea_level_pressure  wind_speed  primary_use  \\\n",
       "0    -1.162719        -0.286393            0.453574   -0.740216    -1.852592   \n",
       "1     0.511915        -1.472452           -0.549881    0.198366    -0.474143   \n",
       "2    -1.881141         1.247458            0.105153   -0.472050    -0.188589   \n",
       "3    -0.130618         0.311095            0.760187   -0.248578    -1.852592   \n",
       "4     0.355076        -0.634185            0.133028    0.198366     0.689930   \n",
       "\n",
       "   square_feet  year_built  missing_year  dayofyear      hour  \\\n",
       "0    -0.560811    0.116663      0.535564  -0.857836 -1.086741   \n",
       "1     1.124846   -0.221431      0.535564  -1.473199 -1.086741   \n",
       "2    -1.037873   -0.153812      0.535564   0.251682 -0.362719   \n",
       "3     0.826786    0.116663      0.535564   0.671248 -1.231545   \n",
       "4    -0.120070    0.251900      0.535564  -1.240107 -0.073111   \n",
       "\n",
       "   wind_direction_x  wind_direction_y  rel_humidity  is_weekend   country  \\\n",
       "0         -0.157262          1.652178     -0.792023   -0.631759 -0.181878   \n",
       "1         -0.841100          1.293200      0.844909   -0.631759 -0.181878   \n",
       "2          1.531355          0.321111     -0.365016   -0.631759 -0.181878   \n",
       "3         -0.841100          1.293200      0.516242   -0.631759 -0.181878   \n",
       "4         -1.339644          0.321111      0.903768   -0.631759 -0.181878   \n",
       "\n",
       "   is_holiday  \n",
       "0   -0.177634  \n",
       "1   -0.177634  \n",
       "2   -0.177634  \n",
       "3   -0.177634  \n",
       "4   -0.177634  "
      ]
     },
     "execution_count": 30,
     "metadata": {},
     "output_type": "execute_result"
    }
   ],
   "source": [
    "Xh_train_scaled, Xh_val_scaled, Xh_test_scaled = transform_feats(Xh_train, yh_train, Xh_val, Xh_test)\n",
    "Xh_train_scaled.head()"
   ]
  },
  {
   "cell_type": "code",
   "execution_count": 31,
   "metadata": {},
   "outputs": [
    {
     "data": {
      "text/plain": [
       "20"
      ]
     },
     "execution_count": 31,
     "metadata": {},
     "output_type": "execute_result"
    }
   ],
   "source": [
    "del Xh_train, Xh_val, Xh_test\n",
    "gc.collect()"
   ]
  },
  {
   "cell_type": "code",
   "execution_count": null,
   "metadata": {},
   "outputs": [],
   "source": []
  },
  {
   "cell_type": "code",
   "execution_count": null,
   "metadata": {},
   "outputs": [],
   "source": []
  },
  {
   "cell_type": "markdown",
   "metadata": {},
   "source": [
    "### LightGBM - hot water"
   ]
  },
  {
   "cell_type": "code",
   "execution_count": 32,
   "metadata": {},
   "outputs": [],
   "source": [
    "# Objective function for parameter optimization\n",
    "def objective_lgb3(trial):\n",
    "    \n",
    "    joblib.dump(study_lgb3, '../objects/hotwater/study_lgb3.pkl')\n",
    "    \n",
    "    dtrain = lgb.Dataset(Xh_train_scaled, label=yh_train)\n",
    "    dval = lgb.Dataset(Xh_val_scaled, label=yh_val)\n",
    "\n",
    "    params = {\n",
    "        'learning_rate': trial.suggest_loguniform('learning_rate', 1e-4, 1e-1),\n",
    "        'lambda_l1': trial.suggest_loguniform('lambda_l1', 1e-4, 1e1),\n",
    "        'lambda_l2': trial.suggest_loguniform('lambda_l2', 1e-4, 1e1),\n",
    "        'max_depth': trial.suggest_int('max_depth', 2, 100),\n",
    "        'num_leaves': trial.suggest_int('num_leaves', 2, 2048),\n",
    "        'min_data_in_leaf': trial.suggest_int('min_data_in_leaf', 5, 5000),\n",
    "        'bagging_fraction': trial.suggest_uniform('bagging_fraction', 0.5, 1.0),\n",
    "        'feature_fraction': trial.suggest_uniform('feature_fraction', 0.5, 1.0),\n",
    "        'num_iterations': 5000,\n",
    "        'early_stopping_round': 20,\n",
    "        'metric': 'rmse',\n",
    "        'num_threads': -1,\n",
    "        'seed': 42\n",
    "    }\n",
    "    \n",
    "    lgbm = lgb.train(params, dtrain, valid_sets=[dtrain, dval], valid_names=['train', 'valid'], verbose_eval=False)\n",
    "    pred = lgbm.predict(Xh_val_scaled)\n",
    "    pred[pred < 0] = 0\n",
    "    loss = mean_squared_log_error(yh_val, pred)\n",
    "\n",
    "#     cv = lgb.cv(params, dtrain, folds=KFold(10, shuffle=True, random_state=42), verbose_eval=False)\n",
    "#     loss = cv['rmse-mean'][-1]\n",
    "    \n",
    "    return loss"
   ]
  },
  {
   "cell_type": "code",
   "execution_count": 43,
   "metadata": {},
   "outputs": [],
   "source": [
    "print(datetime.datetime.now())\n",
    "\n",
    "# Enable logging\n",
    "optuna.logging.enable_default_handler()\n",
    "\n",
    "# Optimize parameters\n",
    "study_lgb3 = optuna.create_study(direction='minimize')\n",
    "study_lgb3.optimize(objective_lgb3, n_trials=50)\n",
    "\n",
    "print(datetime.datetime.now())\n",
    "\n",
    "print(f'Finished trials: {len(study_lgb3.trials)}')\n",
    "print(f'Best trial: {study_lgb3.best_trial.value}')\n",
    "study_lgb3.best_trial.params"
   ]
  },
  {
   "cell_type": "code",
   "execution_count": 34,
   "metadata": {},
   "outputs": [
    {
     "name": "stdout",
     "output_type": "stream",
     "text": [
      "Finished trials: 50\n",
      "Best trial: 0.008178677525527289\n"
     ]
    },
    {
     "data": {
      "text/plain": [
       "{'learning_rate': 0.04854268157540762,\n",
       " 'lambda_l1': 0.0028266466239996284,\n",
       " 'lambda_l2': 0.00010211303918218761,\n",
       " 'max_depth': 56,\n",
       " 'num_leaves': 409,\n",
       " 'min_data_in_leaf': 8,\n",
       " 'bagging_fraction': 0.5012612103606688,\n",
       " 'feature_fraction': 0.8537936823847498}"
      ]
     },
     "execution_count": 34,
     "metadata": {},
     "output_type": "execute_result"
    }
   ],
   "source": [
    "# Study results\n",
    "study_lgb3 = joblib.load('../objects/hotwater/study_lgb3.pkl')\n",
    "print(f'Finished trials: {len(study_lgb3.trials)}')\n",
    "print(f'Best trial: {study_lgb3.best_trial.value}')\n",
    "study_lgb3.best_trial.params"
   ]
  },
  {
   "cell_type": "code",
   "execution_count": 35,
   "metadata": {},
   "outputs": [
    {
     "name": "stderr",
     "output_type": "stream",
     "text": [
      "/home/tri/miniconda3/envs/minimal_ds/lib/python3.8/site-packages/lightgbm/engine.py:148: UserWarning: Found `num_iterations` in params. Will use it instead of argument\n",
      "  warnings.warn(\"Found `{}` in params. Will use it instead of argument\".format(alias))\n",
      "/home/tri/miniconda3/envs/minimal_ds/lib/python3.8/site-packages/lightgbm/engine.py:153: UserWarning: Found `early_stopping_round` in params. Will use it instead of argument\n",
      "  warnings.warn(\"Found `{}` in params. Will use it instead of argument\".format(alias))\n"
     ]
    },
    {
     "name": "stdout",
     "output_type": "stream",
     "text": [
      "Train RMSLE: 0.05803045259033331\n",
      "Validation RMSLE: 0.09043599169296251\n",
      "Test RMSLE: 0.09134125124560871\n"
     ]
    }
   ],
   "source": [
    "# Parameters from Optuna\n",
    "params_lgb3 = dict(study_lgb3.best_trial.params)\n",
    "params_lgb3['num_iterations'] = 10000\n",
    "params_lgb3['early_stopping_round'] = 20\n",
    "params_lgb3['metric'] = 'rmse'\n",
    "params_lgb3['num_threads'] = -1\n",
    "params_lgb3['seed'] = 42\n",
    "\n",
    "# Root mean squared log error\n",
    "rmsle_train, rmsle_val, rmsle_test = lgbm_rmsle(Xh_train_scaled, yh_train, Xh_val_scaled, yh_val, Xh_test_scaled, yh_test, params_lgb3, '../objects/hotwater/lgbm3.txt')\n",
    "print('Train RMSLE:', rmsle_train)\n",
    "print('Validation RMSLE:', rmsle_val)\n",
    "print('Test RMSLE:', rmsle_test)"
   ]
  },
  {
   "cell_type": "code",
   "execution_count": 36,
   "metadata": {},
   "outputs": [
    {
     "data": {
      "text/plain": [
       "46"
      ]
     },
     "execution_count": 36,
     "metadata": {},
     "output_type": "execute_result"
    }
   ],
   "source": [
    "del rmsle_train, rmsle_val, rmsle_test\n",
    "gc.collect()"
   ]
  },
  {
   "cell_type": "code",
   "execution_count": null,
   "metadata": {},
   "outputs": [],
   "source": []
  },
  {
   "cell_type": "code",
   "execution_count": null,
   "metadata": {},
   "outputs": [],
   "source": []
  },
  {
   "cell_type": "markdown",
   "metadata": {},
   "source": [
    "### XGBoost - hot water"
   ]
  },
  {
   "cell_type": "code",
   "execution_count": 37,
   "metadata": {},
   "outputs": [],
   "source": [
    "# Objective function for parameter optimization\n",
    "def objective_xgb3(trial):\n",
    "    \n",
    "    joblib.dump(study_xgb3, '../objects/hotwater/study_xgb3.pkl')\n",
    "    \n",
    "    dtrain = xgb.DMatrix(Xh_val_scaled, label=yh_val)\n",
    "    dval = xgb.DMatrix(Xh_test_scaled, label=yh_test)\n",
    "\n",
    "    params = {\n",
    "        'grow_policy': trial.suggest_categorical('grow_policy', ['depthwise', 'lossguide']),\n",
    "        'learning_rate': trial.suggest_loguniform('learning_rate', 1e-4, 1e-1),\n",
    "        'alpha': trial.suggest_loguniform('alpha', 1e-4, 1e1),\n",
    "        'lambda': trial.suggest_loguniform('lambda', 1e-4, 1e1),\n",
    "        'gamma': trial.suggest_loguniform('gamma', 1e-4, 1e1),\n",
    "        'max_depth': trial.suggest_int('max_depth', 2, 100),\n",
    "        'max_leaves': trial.suggest_int('max_leaves', 2, 2024),\n",
    "        'subsample': trial.suggest_uniform('subsample', 0.5, 1.0),\n",
    "        'colsample_bytree': trial.suggest_uniform('colsample_bytree', 0.5, 1.0),\n",
    "        'eval_metric': 'rmse',\n",
    "        'seed': 42\n",
    "    }\n",
    "    \n",
    "    xg = xgb.train(params, dtrain, \n",
    "                   evals=[(dtrain, 'train'), (dval, 'valid')],\n",
    "                   num_boost_round=1000, \n",
    "                   early_stopping_rounds=10,\n",
    "                   verbose_eval=False)\n",
    "    pred = xg.predict(dval)\n",
    "    pred[pred < 0] = 0\n",
    "    loss = mean_squared_log_error(yh_test, pred)\n",
    "\n",
    "#     cv = xgb.cv(params, dtrain, folds=KFold(10, shuffle=True, random_state=42), verbose_eval=False)\n",
    "#     loss = cv['rmse-mean'][-1]\n",
    "    \n",
    "    return loss"
   ]
  },
  {
   "cell_type": "code",
   "execution_count": 42,
   "metadata": {},
   "outputs": [],
   "source": [
    "print(f'Start: {datetime.datetime.now()}')\n",
    "\n",
    "# Optimize parameters\n",
    "study_xgb3 = optuna.create_study(direction='minimize')\n",
    "study_xgb3.optimize(objective_xgb3, n_trials=50)\n",
    "\n",
    "print(f'End: {datetime.datetime.now()}')\n",
    "\n",
    "print(f'Finished trials: {len(study_xgb3.trials)}')\n",
    "print(f'Best trial: {study_xgb3.best_trial.value}')\n",
    "study_xgb3.best_trial.params"
   ]
  },
  {
   "cell_type": "code",
   "execution_count": 39,
   "metadata": {},
   "outputs": [
    {
     "name": "stdout",
     "output_type": "stream",
     "text": [
      "Finished trials: 50\n",
      "Best trial: 0.009739160537719727\n"
     ]
    },
    {
     "data": {
      "text/plain": [
       "{'grow_policy': 'depthwise',\n",
       " 'learning_rate': 0.045664576584020004,\n",
       " 'alpha': 1.9071087639650297,\n",
       " 'lambda': 0.00021496551872384197,\n",
       " 'gamma': 0.15536767802205387,\n",
       " 'max_depth': 59,\n",
       " 'max_leaves': 1626,\n",
       " 'subsample': 0.926581683911481,\n",
       " 'colsample_bytree': 0.8620824662132568}"
      ]
     },
     "execution_count": 39,
     "metadata": {},
     "output_type": "execute_result"
    }
   ],
   "source": [
    "# Study results\n",
    "study_xgb3 = joblib.load('../objects/hotwater/study_xgb3.pkl')\n",
    "print(f'Finished trials: {len(study_xgb3.trials)}')\n",
    "print(f'Best trial: {study_xgb3.best_trial.value}')\n",
    "study_xgb3.best_trial.params"
   ]
  },
  {
   "cell_type": "code",
   "execution_count": 40,
   "metadata": {},
   "outputs": [
    {
     "name": "stdout",
     "output_type": "stream",
     "text": [
      "Train RMSLE: 0.038833246\n",
      "Validation RMSLE: 0.0891143\n",
      "Test RMSLE: 0.08991938\n"
     ]
    }
   ],
   "source": [
    "# Parameters from Optuna\n",
    "params_xgb3 = dict(study_xgb3.best_trial.params)\n",
    "params_xgb3['eval_metric'] = 'rmse'\n",
    "params_xgb3['seed'] = 42\n",
    "\n",
    "rmsle_train, rmsle_val, rmsle_test = xgb_rmsle(Xh_train_scaled, yh_train, Xh_val_scaled, yh_val, Xh_test_scaled, yh_test, params_xgb3, '../objects/hotwater/xg3.txt')\n",
    "print('Train RMSLE:', rmsle_train)\n",
    "print('Validation RMSLE:', rmsle_val)\n",
    "print('Test RMSLE:', rmsle_test)"
   ]
  },
  {
   "cell_type": "code",
   "execution_count": 41,
   "metadata": {},
   "outputs": [
    {
     "data": {
      "text/plain": [
       "116"
      ]
     },
     "execution_count": 41,
     "metadata": {},
     "output_type": "execute_result"
    }
   ],
   "source": [
    "del rmsle_train, rmsle_val, rmsle_test\n",
    "gc.collect()"
   ]
  },
  {
   "cell_type": "code",
   "execution_count": null,
   "metadata": {},
   "outputs": [],
   "source": []
  },
  {
   "cell_type": "code",
   "execution_count": null,
   "metadata": {},
   "outputs": [],
   "source": []
  }
 ],
 "metadata": {
  "kernelspec": {
   "display_name": "Python 3",
   "language": "python",
   "name": "python3"
  },
  "language_info": {
   "codemirror_mode": {
    "name": "ipython",
    "version": 3
   },
   "file_extension": ".py",
   "mimetype": "text/x-python",
   "name": "python",
   "nbconvert_exporter": "python",
   "pygments_lexer": "ipython3",
   "version": "3.8.0"
  }
 },
 "nbformat": 4,
 "nbformat_minor": 4
}
