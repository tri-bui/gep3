{
 "cells": [
  {
   "cell_type": "markdown",
   "metadata": {},
   "source": [
    "# Imports"
   ]
  },
  {
   "cell_type": "code",
   "execution_count": 1,
   "metadata": {},
   "outputs": [],
   "source": [
    "%matplotlib inline\n",
    "\n",
    "import src.utils as udf\n",
    "\n",
    "import gc\n",
    "import joblib\n",
    "import numpy as np\n",
    "import pandas as pd\n",
    "\n",
    "from sklearn.model_selection import train_test_split\n",
    "from sklearn.metrics import mean_squared_error, mean_squared_log_error\n",
    "from sklearn.linear_model import Lasso\n",
    "\n",
    "import lightgbm as lgb\n",
    "import xgboost as xgb"
   ]
  },
  {
   "cell_type": "code",
   "execution_count": null,
   "metadata": {},
   "outputs": [],
   "source": []
  },
  {
   "cell_type": "code",
   "execution_count": null,
   "metadata": {},
   "outputs": [],
   "source": []
  },
  {
   "cell_type": "markdown",
   "metadata": {},
   "source": [
    "# Data"
   ]
  },
  {
   "cell_type": "code",
   "execution_count": 2,
   "metadata": {},
   "outputs": [],
   "source": [
    "path = '../data/'"
   ]
  },
  {
   "cell_type": "code",
   "execution_count": 3,
   "metadata": {},
   "outputs": [
    {
     "name": "stdout",
     "output_type": "stream",
     "text": [
      "<class 'pandas.core.frame.DataFrame'>\n",
      "Int64Index: 18264895 entries, 0 to 18264894\n",
      "Data columns (total 18 columns):\n",
      "building_id           uint16\n",
      "meter                 uint8\n",
      "meter_reading         float32\n",
      "dew_temperature       float32\n",
      "sea_level_pressure    float32\n",
      "wind_speed            float32\n",
      "primary_use           object\n",
      "square_feet           uint32\n",
      "year_built            uint16\n",
      "missing_year          uint8\n",
      "dayofyear             uint16\n",
      "hour                  uint8\n",
      "wind_direction_x      float32\n",
      "wind_direction_y      float32\n",
      "rel_humidity          float32\n",
      "is_weekend            uint8\n",
      "country               object\n",
      "is_holiday            uint8\n",
      "dtypes: float32(7), object(2), uint16(3), uint32(1), uint8(5)\n",
      "memory usage: 1.1+ GB\n"
     ]
    }
   ],
   "source": [
    "train = pd.read_pickle(f'{path}from_mod/train.pkl')\n",
    "train.info()"
   ]
  },
  {
   "cell_type": "code",
   "execution_count": 4,
   "metadata": {},
   "outputs": [
    {
     "name": "stdout",
     "output_type": "stream",
     "text": [
      "<class 'pandas.core.frame.DataFrame'>\n",
      "Int64Index: 18264895 entries, 0 to 18264894\n",
      "Data columns (total 18 columns):\n",
      "building_id           uint16\n",
      "meter                 uint8\n",
      "meter_reading         float32\n",
      "dew_temperature       float32\n",
      "sea_level_pressure    float32\n",
      "wind_speed            float32\n",
      "primary_use           object\n",
      "square_feet           uint32\n",
      "year_built            uint16\n",
      "missing_year          uint8\n",
      "dayofyear             uint16\n",
      "hour                  uint8\n",
      "wind_direction_x      float32\n",
      "wind_direction_y      float32\n",
      "rel_humidity          float32\n",
      "is_weekend            uint8\n",
      "country               object\n",
      "is_holiday            uint8\n",
      "dtypes: float32(7), object(2), uint16(3), uint32(1), uint8(5)\n",
      "memory usage: 1.1+ GB\n"
     ]
    }
   ],
   "source": [
    "train = udf.reduce_mem_usage(train)\n",
    "train.info()"
   ]
  },
  {
   "cell_type": "code",
   "execution_count": 5,
   "metadata": {},
   "outputs": [
    {
     "name": "stdout",
     "output_type": "stream",
     "text": [
      "<class 'pandas.core.frame.DataFrame'>\n",
      "Int64Index: 41697600 entries, 0 to 41697599\n",
      "Data columns (total 17 columns):\n",
      "building_id           uint16\n",
      "meter                 uint8\n",
      "dew_temperature       float32\n",
      "sea_level_pressure    float32\n",
      "wind_speed            float32\n",
      "primary_use           object\n",
      "square_feet           uint32\n",
      "year_built            uint16\n",
      "missing_year          uint8\n",
      "dayofyear             int64\n",
      "hour                  int64\n",
      "wind_direction_x      float32\n",
      "wind_direction_y      float32\n",
      "rel_humidity          float32\n",
      "is_weekend            int64\n",
      "country               object\n",
      "is_holiday            int64\n",
      "dtypes: float32(6), int64(4), object(2), uint16(2), uint32(1), uint8(2)\n",
      "memory usage: 3.5+ GB\n"
     ]
    }
   ],
   "source": [
    "test = pd.read_pickle(f'{path}from_sub/test.pkl')\n",
    "test.info()"
   ]
  },
  {
   "cell_type": "code",
   "execution_count": 6,
   "metadata": {},
   "outputs": [
    {
     "name": "stdout",
     "output_type": "stream",
     "text": [
      "<class 'pandas.core.frame.DataFrame'>\n",
      "Int64Index: 41697600 entries, 0 to 41697599\n",
      "Data columns (total 17 columns):\n",
      "building_id           uint16\n",
      "meter                 uint8\n",
      "dew_temperature       float32\n",
      "sea_level_pressure    float32\n",
      "wind_speed            float32\n",
      "primary_use           object\n",
      "square_feet           uint32\n",
      "year_built            uint16\n",
      "missing_year          uint8\n",
      "dayofyear             uint16\n",
      "hour                  uint8\n",
      "wind_direction_x      float32\n",
      "wind_direction_y      float32\n",
      "rel_humidity          float32\n",
      "is_weekend            uint8\n",
      "country               object\n",
      "is_holiday            uint8\n",
      "dtypes: float32(6), object(2), uint16(3), uint32(1), uint8(5)\n",
      "memory usage: 2.4+ GB\n"
     ]
    }
   ],
   "source": [
    "test = udf.reduce_mem_usage(test)\n",
    "test.info()"
   ]
  },
  {
   "cell_type": "code",
   "execution_count": 7,
   "metadata": {},
   "outputs": [
    {
     "name": "stdout",
     "output_type": "stream",
     "text": [
      "<class 'pandas.core.frame.DataFrame'>\n",
      "RangeIndex: 41697600 entries, 0 to 41697599\n",
      "Data columns (total 2 columns):\n",
      "row_id           int64\n",
      "meter_reading    int64\n",
      "dtypes: int64(2)\n",
      "memory usage: 636.3 MB\n"
     ]
    }
   ],
   "source": [
    "submission = pd.read_csv(f'{path}raw/test/sample_submission.csv')\n",
    "submission.info()"
   ]
  },
  {
   "cell_type": "code",
   "execution_count": 8,
   "metadata": {},
   "outputs": [
    {
     "name": "stdout",
     "output_type": "stream",
     "text": [
      "<class 'pandas.core.frame.DataFrame'>\n",
      "RangeIndex: 41697600 entries, 0 to 41697599\n",
      "Data columns (total 2 columns):\n",
      "row_id           uint32\n",
      "meter_reading    uint8\n",
      "dtypes: uint32(1), uint8(1)\n",
      "memory usage: 198.8 MB\n"
     ]
    }
   ],
   "source": [
    "submission = udf.reduce_mem_usage(submission)\n",
    "submission.info()"
   ]
  },
  {
   "cell_type": "code",
   "execution_count": 9,
   "metadata": {},
   "outputs": [
    {
     "name": "stdout",
     "output_type": "stream",
     "text": [
      "<class 'pandas.core.frame.DataFrame'>\n",
      "Int64Index: 41697600 entries, 0 to 41697599\n",
      "Data columns (total 9 columns):\n",
      "row_id          uint32\n",
      "building_id     uint16\n",
      "meter           uint8\n",
      "timestamp       datetime64[ns]\n",
      "site_id         uint8\n",
      "primary_use     object\n",
      "square_feet     uint32\n",
      "year_built      uint16\n",
      "missing_year    uint8\n",
      "dtypes: datetime64[ns](1), object(1), uint16(2), uint32(2), uint8(3)\n",
      "memory usage: 1.5+ GB\n"
     ]
    }
   ],
   "source": [
    "mb = pd.read_pickle(f'{path}from_sub/mb.pkl')\n",
    "mb.info()"
   ]
  },
  {
   "cell_type": "code",
   "execution_count": 10,
   "metadata": {},
   "outputs": [
    {
     "name": "stdout",
     "output_type": "stream",
     "text": [
      "<class 'pandas.core.frame.DataFrame'>\n",
      "Int64Index: 41697600 entries, 0 to 41697599\n",
      "Data columns (total 9 columns):\n",
      "row_id          uint32\n",
      "building_id     uint16\n",
      "meter           uint8\n",
      "timestamp       datetime64[ns]\n",
      "site_id         uint8\n",
      "primary_use     object\n",
      "square_feet     uint32\n",
      "year_built      uint16\n",
      "missing_year    uint8\n",
      "dtypes: datetime64[ns](1), object(1), uint16(2), uint32(2), uint8(3)\n",
      "memory usage: 1.5+ GB\n"
     ]
    }
   ],
   "source": [
    "mb = udf.reduce_mem_usage(mb)\n",
    "mb.info()"
   ]
  },
  {
   "cell_type": "code",
   "execution_count": 11,
   "metadata": {},
   "outputs": [
    {
     "data": {
      "text/plain": [
       "44"
      ]
     },
     "execution_count": 11,
     "metadata": {},
     "output_type": "execute_result"
    }
   ],
   "source": [
    "del path\n",
    "gc.collect()"
   ]
  },
  {
   "cell_type": "code",
   "execution_count": null,
   "metadata": {},
   "outputs": [],
   "source": []
  },
  {
   "cell_type": "code",
   "execution_count": null,
   "metadata": {},
   "outputs": [],
   "source": []
  },
  {
   "cell_type": "markdown",
   "metadata": {},
   "source": [
    "# Features"
   ]
  },
  {
   "cell_type": "code",
   "execution_count": 12,
   "metadata": {},
   "outputs": [
    {
     "data": {
      "text/html": [
       "<div>\n",
       "<style scoped>\n",
       "    .dataframe tbody tr th:only-of-type {\n",
       "        vertical-align: middle;\n",
       "    }\n",
       "\n",
       "    .dataframe tbody tr th {\n",
       "        vertical-align: top;\n",
       "    }\n",
       "\n",
       "    .dataframe thead th {\n",
       "        text-align: right;\n",
       "    }\n",
       "</style>\n",
       "<table border=\"1\" class=\"dataframe\">\n",
       "  <thead>\n",
       "    <tr style=\"text-align: right;\">\n",
       "      <th></th>\n",
       "      <th>building_id</th>\n",
       "      <th>meter</th>\n",
       "      <th>meter_reading</th>\n",
       "      <th>dew_temperature</th>\n",
       "      <th>sea_level_pressure</th>\n",
       "      <th>wind_speed</th>\n",
       "      <th>primary_use</th>\n",
       "      <th>square_feet</th>\n",
       "      <th>year_built</th>\n",
       "      <th>missing_year</th>\n",
       "      <th>dayofyear</th>\n",
       "      <th>hour</th>\n",
       "      <th>wind_direction_x</th>\n",
       "      <th>wind_direction_y</th>\n",
       "      <th>rel_humidity</th>\n",
       "      <th>is_weekend</th>\n",
       "      <th>country</th>\n",
       "      <th>is_holiday</th>\n",
       "    </tr>\n",
       "  </thead>\n",
       "  <tbody>\n",
       "    <tr>\n",
       "      <th>0</th>\n",
       "      <td>46</td>\n",
       "      <td>0</td>\n",
       "      <td>15.604556</td>\n",
       "      <td>19.4</td>\n",
       "      <td>1019.400024</td>\n",
       "      <td>0.0</td>\n",
       "      <td>Retail</td>\n",
       "      <td>9045</td>\n",
       "      <td>2016</td>\n",
       "      <td>0</td>\n",
       "      <td>1</td>\n",
       "      <td>0</td>\n",
       "      <td>0.0</td>\n",
       "      <td>0.000000</td>\n",
       "      <td>100.000000</td>\n",
       "      <td>0</td>\n",
       "      <td>US</td>\n",
       "      <td>1</td>\n",
       "    </tr>\n",
       "    <tr>\n",
       "      <th>1</th>\n",
       "      <td>74</td>\n",
       "      <td>0</td>\n",
       "      <td>12.603682</td>\n",
       "      <td>19.4</td>\n",
       "      <td>1019.400024</td>\n",
       "      <td>0.0</td>\n",
       "      <td>Parking</td>\n",
       "      <td>387638</td>\n",
       "      <td>1997</td>\n",
       "      <td>0</td>\n",
       "      <td>1</td>\n",
       "      <td>0</td>\n",
       "      <td>0.0</td>\n",
       "      <td>0.000000</td>\n",
       "      <td>100.000000</td>\n",
       "      <td>0</td>\n",
       "      <td>US</td>\n",
       "      <td>1</td>\n",
       "    </tr>\n",
       "    <tr>\n",
       "      <th>2</th>\n",
       "      <td>93</td>\n",
       "      <td>0</td>\n",
       "      <td>15.364478</td>\n",
       "      <td>19.4</td>\n",
       "      <td>1019.400024</td>\n",
       "      <td>0.0</td>\n",
       "      <td>Office</td>\n",
       "      <td>33370</td>\n",
       "      <td>1982</td>\n",
       "      <td>0</td>\n",
       "      <td>1</td>\n",
       "      <td>0</td>\n",
       "      <td>0.0</td>\n",
       "      <td>0.000000</td>\n",
       "      <td>100.000000</td>\n",
       "      <td>0</td>\n",
       "      <td>US</td>\n",
       "      <td>1</td>\n",
       "    </tr>\n",
       "    <tr>\n",
       "      <th>3</th>\n",
       "      <td>105</td>\n",
       "      <td>0</td>\n",
       "      <td>23.303600</td>\n",
       "      <td>2.4</td>\n",
       "      <td>1020.900024</td>\n",
       "      <td>3.1</td>\n",
       "      <td>Education</td>\n",
       "      <td>50623</td>\n",
       "      <td>1960</td>\n",
       "      <td>1</td>\n",
       "      <td>1</td>\n",
       "      <td>0</td>\n",
       "      <td>-0.5</td>\n",
       "      <td>-0.866025</td>\n",
       "      <td>90.549408</td>\n",
       "      <td>0</td>\n",
       "      <td>UK</td>\n",
       "      <td>1</td>\n",
       "    </tr>\n",
       "    <tr>\n",
       "      <th>4</th>\n",
       "      <td>106</td>\n",
       "      <td>0</td>\n",
       "      <td>0.374600</td>\n",
       "      <td>2.4</td>\n",
       "      <td>1020.900024</td>\n",
       "      <td>3.1</td>\n",
       "      <td>Education</td>\n",
       "      <td>5374</td>\n",
       "      <td>1960</td>\n",
       "      <td>1</td>\n",
       "      <td>1</td>\n",
       "      <td>0</td>\n",
       "      <td>-0.5</td>\n",
       "      <td>-0.866025</td>\n",
       "      <td>90.549408</td>\n",
       "      <td>0</td>\n",
       "      <td>UK</td>\n",
       "      <td>1</td>\n",
       "    </tr>\n",
       "  </tbody>\n",
       "</table>\n",
       "</div>"
      ],
      "text/plain": [
       "   building_id  meter  meter_reading  dew_temperature  sea_level_pressure  \\\n",
       "0           46      0      15.604556             19.4         1019.400024   \n",
       "1           74      0      12.603682             19.4         1019.400024   \n",
       "2           93      0      15.364478             19.4         1019.400024   \n",
       "3          105      0      23.303600              2.4         1020.900024   \n",
       "4          106      0       0.374600              2.4         1020.900024   \n",
       "\n",
       "   wind_speed primary_use  square_feet  year_built  missing_year  dayofyear  \\\n",
       "0         0.0      Retail         9045        2016             0          1   \n",
       "1         0.0     Parking       387638        1997             0          1   \n",
       "2         0.0      Office        33370        1982             0          1   \n",
       "3         3.1   Education        50623        1960             1          1   \n",
       "4         3.1   Education         5374        1960             1          1   \n",
       "\n",
       "   hour  wind_direction_x  wind_direction_y  rel_humidity  is_weekend country  \\\n",
       "0     0               0.0          0.000000    100.000000           0      US   \n",
       "1     0               0.0          0.000000    100.000000           0      US   \n",
       "2     0               0.0          0.000000    100.000000           0      US   \n",
       "3     0              -0.5         -0.866025     90.549408           0      UK   \n",
       "4     0              -0.5         -0.866025     90.549408           0      UK   \n",
       "\n",
       "   is_holiday  \n",
       "0           1  \n",
       "1           1  \n",
       "2           1  \n",
       "3           1  \n",
       "4           1  "
      ]
     },
     "execution_count": 12,
     "metadata": {},
     "output_type": "execute_result"
    }
   ],
   "source": [
    "train.head()"
   ]
  },
  {
   "cell_type": "code",
   "execution_count": 13,
   "metadata": {},
   "outputs": [
    {
     "data": {
      "text/html": [
       "<div>\n",
       "<style scoped>\n",
       "    .dataframe tbody tr th:only-of-type {\n",
       "        vertical-align: middle;\n",
       "    }\n",
       "\n",
       "    .dataframe tbody tr th {\n",
       "        vertical-align: top;\n",
       "    }\n",
       "\n",
       "    .dataframe thead th {\n",
       "        text-align: right;\n",
       "    }\n",
       "</style>\n",
       "<table border=\"1\" class=\"dataframe\">\n",
       "  <thead>\n",
       "    <tr style=\"text-align: right;\">\n",
       "      <th></th>\n",
       "      <th>building_id</th>\n",
       "      <th>meter</th>\n",
       "      <th>dew_temperature</th>\n",
       "      <th>sea_level_pressure</th>\n",
       "      <th>wind_speed</th>\n",
       "      <th>primary_use</th>\n",
       "      <th>square_feet</th>\n",
       "      <th>year_built</th>\n",
       "      <th>missing_year</th>\n",
       "      <th>dayofyear</th>\n",
       "      <th>hour</th>\n",
       "      <th>wind_direction_x</th>\n",
       "      <th>wind_direction_y</th>\n",
       "      <th>rel_humidity</th>\n",
       "      <th>is_weekend</th>\n",
       "      <th>country</th>\n",
       "      <th>is_holiday</th>\n",
       "    </tr>\n",
       "  </thead>\n",
       "  <tbody>\n",
       "    <tr>\n",
       "      <th>0</th>\n",
       "      <td>0</td>\n",
       "      <td>0</td>\n",
       "      <td>12.8</td>\n",
       "      <td>1022.099976</td>\n",
       "      <td>2.1</td>\n",
       "      <td>Education</td>\n",
       "      <td>7432</td>\n",
       "      <td>2008</td>\n",
       "      <td>0</td>\n",
       "      <td>1</td>\n",
       "      <td>0</td>\n",
       "      <td>-0.642788</td>\n",
       "      <td>0.766044</td>\n",
       "      <td>83.409012</td>\n",
       "      <td>1</td>\n",
       "      <td>US</td>\n",
       "      <td>1</td>\n",
       "    </tr>\n",
       "    <tr>\n",
       "      <th>1</th>\n",
       "      <td>1</td>\n",
       "      <td>0</td>\n",
       "      <td>12.8</td>\n",
       "      <td>1022.099976</td>\n",
       "      <td>2.1</td>\n",
       "      <td>Education</td>\n",
       "      <td>2720</td>\n",
       "      <td>2004</td>\n",
       "      <td>0</td>\n",
       "      <td>1</td>\n",
       "      <td>0</td>\n",
       "      <td>-0.642788</td>\n",
       "      <td>0.766044</td>\n",
       "      <td>83.409012</td>\n",
       "      <td>1</td>\n",
       "      <td>US</td>\n",
       "      <td>1</td>\n",
       "    </tr>\n",
       "    <tr>\n",
       "      <th>2</th>\n",
       "      <td>2</td>\n",
       "      <td>0</td>\n",
       "      <td>12.8</td>\n",
       "      <td>1022.099976</td>\n",
       "      <td>2.1</td>\n",
       "      <td>Education</td>\n",
       "      <td>5376</td>\n",
       "      <td>1991</td>\n",
       "      <td>0</td>\n",
       "      <td>1</td>\n",
       "      <td>0</td>\n",
       "      <td>-0.642788</td>\n",
       "      <td>0.766044</td>\n",
       "      <td>83.409012</td>\n",
       "      <td>1</td>\n",
       "      <td>US</td>\n",
       "      <td>1</td>\n",
       "    </tr>\n",
       "    <tr>\n",
       "      <th>3</th>\n",
       "      <td>3</td>\n",
       "      <td>0</td>\n",
       "      <td>12.8</td>\n",
       "      <td>1022.099976</td>\n",
       "      <td>2.1</td>\n",
       "      <td>Education</td>\n",
       "      <td>23685</td>\n",
       "      <td>2002</td>\n",
       "      <td>0</td>\n",
       "      <td>1</td>\n",
       "      <td>0</td>\n",
       "      <td>-0.642788</td>\n",
       "      <td>0.766044</td>\n",
       "      <td>83.409012</td>\n",
       "      <td>1</td>\n",
       "      <td>US</td>\n",
       "      <td>1</td>\n",
       "    </tr>\n",
       "    <tr>\n",
       "      <th>4</th>\n",
       "      <td>4</td>\n",
       "      <td>0</td>\n",
       "      <td>12.8</td>\n",
       "      <td>1022.099976</td>\n",
       "      <td>2.1</td>\n",
       "      <td>Education</td>\n",
       "      <td>116607</td>\n",
       "      <td>1975</td>\n",
       "      <td>0</td>\n",
       "      <td>1</td>\n",
       "      <td>0</td>\n",
       "      <td>-0.642788</td>\n",
       "      <td>0.766044</td>\n",
       "      <td>83.409012</td>\n",
       "      <td>1</td>\n",
       "      <td>US</td>\n",
       "      <td>1</td>\n",
       "    </tr>\n",
       "  </tbody>\n",
       "</table>\n",
       "</div>"
      ],
      "text/plain": [
       "   building_id  meter  dew_temperature  sea_level_pressure  wind_speed  \\\n",
       "0            0      0             12.8         1022.099976         2.1   \n",
       "1            1      0             12.8         1022.099976         2.1   \n",
       "2            2      0             12.8         1022.099976         2.1   \n",
       "3            3      0             12.8         1022.099976         2.1   \n",
       "4            4      0             12.8         1022.099976         2.1   \n",
       "\n",
       "  primary_use  square_feet  year_built  missing_year  dayofyear  hour  \\\n",
       "0   Education         7432        2008             0          1     0   \n",
       "1   Education         2720        2004             0          1     0   \n",
       "2   Education         5376        1991             0          1     0   \n",
       "3   Education        23685        2002             0          1     0   \n",
       "4   Education       116607        1975             0          1     0   \n",
       "\n",
       "   wind_direction_x  wind_direction_y  rel_humidity  is_weekend country  \\\n",
       "0         -0.642788          0.766044     83.409012           1      US   \n",
       "1         -0.642788          0.766044     83.409012           1      US   \n",
       "2         -0.642788          0.766044     83.409012           1      US   \n",
       "3         -0.642788          0.766044     83.409012           1      US   \n",
       "4         -0.642788          0.766044     83.409012           1      US   \n",
       "\n",
       "   is_holiday  \n",
       "0           1  \n",
       "1           1  \n",
       "2           1  \n",
       "3           1  \n",
       "4           1  "
      ]
     },
     "execution_count": 13,
     "metadata": {},
     "output_type": "execute_result"
    }
   ],
   "source": [
    "test.head()"
   ]
  },
  {
   "cell_type": "code",
   "execution_count": 15,
   "metadata": {},
   "outputs": [
    {
     "data": {
      "text/html": [
       "<div>\n",
       "<style scoped>\n",
       "    .dataframe tbody tr th:only-of-type {\n",
       "        vertical-align: middle;\n",
       "    }\n",
       "\n",
       "    .dataframe tbody tr th {\n",
       "        vertical-align: top;\n",
       "    }\n",
       "\n",
       "    .dataframe thead th {\n",
       "        text-align: right;\n",
       "    }\n",
       "</style>\n",
       "<table border=\"1\" class=\"dataframe\">\n",
       "  <thead>\n",
       "    <tr style=\"text-align: right;\">\n",
       "      <th></th>\n",
       "      <th>building_id</th>\n",
       "      <th>meter</th>\n",
       "      <th>dew_temperature</th>\n",
       "      <th>wind_speed</th>\n",
       "      <th>primary_use</th>\n",
       "      <th>square_feet</th>\n",
       "      <th>year_built</th>\n",
       "      <th>dayofyear</th>\n",
       "      <th>hour</th>\n",
       "      <th>wind_direction_y</th>\n",
       "      <th>is_weekend</th>\n",
       "      <th>country</th>\n",
       "      <th>is_holiday</th>\n",
       "    </tr>\n",
       "  </thead>\n",
       "  <tbody>\n",
       "    <tr>\n",
       "      <th>0</th>\n",
       "      <td>0</td>\n",
       "      <td>0</td>\n",
       "      <td>12.8</td>\n",
       "      <td>2.1</td>\n",
       "      <td>Education</td>\n",
       "      <td>7432</td>\n",
       "      <td>2008</td>\n",
       "      <td>1</td>\n",
       "      <td>0</td>\n",
       "      <td>0.766044</td>\n",
       "      <td>1</td>\n",
       "      <td>US</td>\n",
       "      <td>1</td>\n",
       "    </tr>\n",
       "    <tr>\n",
       "      <th>1</th>\n",
       "      <td>1</td>\n",
       "      <td>0</td>\n",
       "      <td>12.8</td>\n",
       "      <td>2.1</td>\n",
       "      <td>Education</td>\n",
       "      <td>2720</td>\n",
       "      <td>2004</td>\n",
       "      <td>1</td>\n",
       "      <td>0</td>\n",
       "      <td>0.766044</td>\n",
       "      <td>1</td>\n",
       "      <td>US</td>\n",
       "      <td>1</td>\n",
       "    </tr>\n",
       "    <tr>\n",
       "      <th>2</th>\n",
       "      <td>2</td>\n",
       "      <td>0</td>\n",
       "      <td>12.8</td>\n",
       "      <td>2.1</td>\n",
       "      <td>Education</td>\n",
       "      <td>5376</td>\n",
       "      <td>1991</td>\n",
       "      <td>1</td>\n",
       "      <td>0</td>\n",
       "      <td>0.766044</td>\n",
       "      <td>1</td>\n",
       "      <td>US</td>\n",
       "      <td>1</td>\n",
       "    </tr>\n",
       "    <tr>\n",
       "      <th>3</th>\n",
       "      <td>3</td>\n",
       "      <td>0</td>\n",
       "      <td>12.8</td>\n",
       "      <td>2.1</td>\n",
       "      <td>Education</td>\n",
       "      <td>23685</td>\n",
       "      <td>2002</td>\n",
       "      <td>1</td>\n",
       "      <td>0</td>\n",
       "      <td>0.766044</td>\n",
       "      <td>1</td>\n",
       "      <td>US</td>\n",
       "      <td>1</td>\n",
       "    </tr>\n",
       "    <tr>\n",
       "      <th>4</th>\n",
       "      <td>4</td>\n",
       "      <td>0</td>\n",
       "      <td>12.8</td>\n",
       "      <td>2.1</td>\n",
       "      <td>Education</td>\n",
       "      <td>116607</td>\n",
       "      <td>1975</td>\n",
       "      <td>1</td>\n",
       "      <td>0</td>\n",
       "      <td>0.766044</td>\n",
       "      <td>1</td>\n",
       "      <td>US</td>\n",
       "      <td>1</td>\n",
       "    </tr>\n",
       "  </tbody>\n",
       "</table>\n",
       "</div>"
      ],
      "text/plain": [
       "   building_id  meter  dew_temperature  wind_speed primary_use  square_feet  \\\n",
       "0            0      0             12.8         2.1   Education         7432   \n",
       "1            1      0             12.8         2.1   Education         2720   \n",
       "2            2      0             12.8         2.1   Education         5376   \n",
       "3            3      0             12.8         2.1   Education        23685   \n",
       "4            4      0             12.8         2.1   Education       116607   \n",
       "\n",
       "   year_built  dayofyear  hour  wind_direction_y  is_weekend country  \\\n",
       "0        2008          1     0          0.766044           1      US   \n",
       "1        2004          1     0          0.766044           1      US   \n",
       "2        1991          1     0          0.766044           1      US   \n",
       "3        2002          1     0          0.766044           1      US   \n",
       "4        1975          1     0          0.766044           1      US   \n",
       "\n",
       "   is_holiday  \n",
       "0           1  \n",
       "1           1  \n",
       "2           1  \n",
       "3           1  \n",
       "4           1  "
      ]
     },
     "execution_count": 15,
     "metadata": {},
     "output_type": "execute_result"
    }
   ],
   "source": [
    "train.drop(['missing_year', 'wind_direction_x','sea_level_pressure', 'rel_humidity'], axis=1, inplace=True)\n",
    "feats = train.drop('meter_reading', axis=1).columns\n",
    "test = test[feats]\n",
    "test.head()"
   ]
  },
  {
   "cell_type": "code",
   "execution_count": 16,
   "metadata": {},
   "outputs": [
    {
     "data": {
      "text/plain": [
       "182"
      ]
     },
     "execution_count": 16,
     "metadata": {},
     "output_type": "execute_result"
    }
   ],
   "source": [
    "del feats\n",
    "gc.collect()"
   ]
  },
  {
   "cell_type": "code",
   "execution_count": null,
   "metadata": {},
   "outputs": [],
   "source": []
  },
  {
   "cell_type": "code",
   "execution_count": null,
   "metadata": {},
   "outputs": [],
   "source": []
  },
  {
   "cell_type": "markdown",
   "metadata": {},
   "source": [
    "# Split data"
   ]
  },
  {
   "cell_type": "code",
   "execution_count": 17,
   "metadata": {},
   "outputs": [
    {
     "name": "stdout",
     "output_type": "stream",
     "text": [
      "Meter 0: (11530268, 13) (24755760, 12)\n",
      "Meter 1: (3518870, 13) (8724960, 12)\n",
      "Meter 2: (2296049, 13) (5676480, 12)\n",
      "Meter 3: (919708, 13) (2540400, 12)\n"
     ]
    }
   ],
   "source": [
    "train_df = []\n",
    "test_df = []\n",
    "\n",
    "for m in range(4):\n",
    "    df_train = train[train.meter == m].drop('meter', axis=1)\n",
    "    df_test = test[test.meter == m].drop('meter', axis=1)\n",
    "    train_df.append(df_train)\n",
    "    test_df.append(df_test)\n",
    "    print(f'Meter {m}:', df_train.shape, df_test.shape)"
   ]
  },
  {
   "cell_type": "code",
   "execution_count": 18,
   "metadata": {},
   "outputs": [
    {
     "data": {
      "text/plain": [
       "20"
      ]
     },
     "execution_count": 18,
     "metadata": {},
     "output_type": "execute_result"
    }
   ],
   "source": [
    "del m, df_train, df_test\n",
    "gc.collect()"
   ]
  },
  {
   "cell_type": "code",
   "execution_count": null,
   "metadata": {},
   "outputs": [],
   "source": []
  },
  {
   "cell_type": "code",
   "execution_count": null,
   "metadata": {},
   "outputs": [],
   "source": []
  },
  {
   "cell_type": "markdown",
   "metadata": {},
   "source": [
    "# Functions"
   ]
  },
  {
   "cell_type": "code",
   "execution_count": 19,
   "metadata": {},
   "outputs": [],
   "source": [
    "def transform_data(df_train, df_test):\n",
    "    X_train = df_train.drop('meter_reading', axis=1)\n",
    "    y_train = df_train[['meter_reading']]\n",
    "    y_train = np.log1p(y_train)\n",
    "    \n",
    "    X_train, X_val, X_test, rare_dict = udf.rare_encoder(X_train, df_test, ['primary_use'])\n",
    "    X_train, X_val, X_test, mean_dict = udf.mean_encoder(X_train, y_train, X_test, ['primary_use', 'country'])\n",
    "    X_train_scaled, X_val, X_test_scaled = udf.scale_feats(X_train, X_test)\n",
    "    \n",
    "    X_train_scaled, X_val_scaled, y_train, y_val = train_test_split(X_train_scaled, y_train, test_size=0.25, random_state=42)\n",
    "    \n",
    "    print('Train: ', X_train_scaled.shape, y_train.shape)\n",
    "    print('Validation: ', X_val_scaled.shape, y_val.shape)\n",
    "    print('Train: ', X_test_scaled.shape)\n",
    "    \n",
    "    return X_train_scaled, X_val_scaled, X_test_scaled, y_train, y_val"
   ]
  },
  {
   "cell_type": "code",
   "execution_count": 20,
   "metadata": {},
   "outputs": [],
   "source": [
    "def predict_lgb(X_train, y_train, X_val, y_val, X_test, params_dict, save_path):\n",
    "    dtrain = lgb.Dataset(X_train, label=y_train)\n",
    "    dval = lgb.Dataset(X_val, label=y_val)\n",
    "    lgbm = lgb.train(params_dict, dtrain, valid_sets=[dtrain, dval], valid_names=['train', 'val'], verbose_eval=False)\n",
    "    lgbm.save_model(save_path)\n",
    "    \n",
    "    pred = lgbm.predict(X_test)\n",
    "    pred[pred < 0] = 0\n",
    "    return pred"
   ]
  },
  {
   "cell_type": "code",
   "execution_count": 21,
   "metadata": {},
   "outputs": [],
   "source": [
    "def predict_xgb(X_train, y_train, X_val, y_val, X_test, params_dict, save_path):\n",
    "    dtrain = xgb.DMatrix(X_train, label=y_train)\n",
    "    dval = xgb.DMatrix(X_val, label=y_val)\n",
    "    dtest = xgb.DMatrix(X_test)\n",
    "    xg = xgb.train(params_dict, dtrain, evals=[(dtrain, 'train'), (dval, 'val')], num_boost_round=1000, early_stopping_rounds=10, verbose_eval=False)\n",
    "    xg.save_model(save_path)\n",
    "    \n",
    "    pred = xg.predict(dtest)\n",
    "    pred[pred < 0] = 0\n",
    "    return pred"
   ]
  },
  {
   "cell_type": "code",
   "execution_count": 22,
   "metadata": {},
   "outputs": [
    {
     "data": {
      "text/plain": [
       "22"
      ]
     },
     "execution_count": 22,
     "metadata": {},
     "output_type": "execute_result"
    }
   ],
   "source": [
    "gc.collect()"
   ]
  },
  {
   "cell_type": "code",
   "execution_count": null,
   "metadata": {},
   "outputs": [],
   "source": []
  },
  {
   "cell_type": "code",
   "execution_count": null,
   "metadata": {},
   "outputs": [],
   "source": []
  },
  {
   "cell_type": "markdown",
   "metadata": {},
   "source": [
    "# Electricity meter"
   ]
  },
  {
   "cell_type": "markdown",
   "metadata": {},
   "source": [
    "### Transform data"
   ]
  },
  {
   "cell_type": "code",
   "execution_count": 23,
   "metadata": {},
   "outputs": [
    {
     "name": "stderr",
     "output_type": "stream",
     "text": [
      "/home/tri/miniconda3/envs/minimal_ds/lib/python3.8/site-packages/sklearn/utils/validation.py:931: FutureWarning: Passing attributes to check_is_fitted is deprecated and will be removed in 0.23. The attributes argument is ignored.\n",
      "  warnings.warn(\"Passing attributes to check_is_fitted is deprecated\"\n"
     ]
    },
    {
     "name": "stdout",
     "output_type": "stream",
     "text": [
      "Train:  (8647701, 12) (8647701, 1)\n",
      "Validation:  (2882567, 12) (2882567, 1)\n",
      "Train:  (24755760, 12)\n"
     ]
    },
    {
     "data": {
      "text/html": [
       "<div>\n",
       "<style scoped>\n",
       "    .dataframe tbody tr th:only-of-type {\n",
       "        vertical-align: middle;\n",
       "    }\n",
       "\n",
       "    .dataframe tbody tr th {\n",
       "        vertical-align: top;\n",
       "    }\n",
       "\n",
       "    .dataframe thead th {\n",
       "        text-align: right;\n",
       "    }\n",
       "</style>\n",
       "<table border=\"1\" class=\"dataframe\">\n",
       "  <thead>\n",
       "    <tr style=\"text-align: right;\">\n",
       "      <th></th>\n",
       "      <th>building_id</th>\n",
       "      <th>dew_temperature</th>\n",
       "      <th>wind_speed</th>\n",
       "      <th>primary_use</th>\n",
       "      <th>square_feet</th>\n",
       "      <th>year_built</th>\n",
       "      <th>dayofyear</th>\n",
       "      <th>hour</th>\n",
       "      <th>wind_direction_y</th>\n",
       "      <th>is_weekend</th>\n",
       "      <th>country</th>\n",
       "      <th>is_holiday</th>\n",
       "    </tr>\n",
       "  </thead>\n",
       "  <tbody>\n",
       "    <tr>\n",
       "      <th>3820751</th>\n",
       "      <td>1.660735</td>\n",
       "      <td>-0.714804</td>\n",
       "      <td>0.663585</td>\n",
       "      <td>-0.364128</td>\n",
       "      <td>0.032242</td>\n",
       "      <td>-2.496025</td>\n",
       "      <td>-0.553622</td>\n",
       "      <td>0.794318</td>\n",
       "      <td>-0.425474</td>\n",
       "      <td>-0.633757</td>\n",
       "      <td>0.18362</td>\n",
       "      <td>-0.180316</td>\n",
       "    </tr>\n",
       "    <tr>\n",
       "      <th>5192151</th>\n",
       "      <td>-1.138221</td>\n",
       "      <td>0.185423</td>\n",
       "      <td>-0.197577</td>\n",
       "      <td>1.047964</td>\n",
       "      <td>0.306161</td>\n",
       "      <td>0.586150</td>\n",
       "      <td>-0.144126</td>\n",
       "      <td>-0.650406</td>\n",
       "      <td>1.588679</td>\n",
       "      <td>-0.633757</td>\n",
       "      <td>0.18362</td>\n",
       "      <td>-0.180316</td>\n",
       "    </tr>\n",
       "    <tr>\n",
       "      <th>10784538</th>\n",
       "      <td>-0.288186</td>\n",
       "      <td>0.519215</td>\n",
       "      <td>-0.886506</td>\n",
       "      <td>1.047964</td>\n",
       "      <td>-0.372759</td>\n",
       "      <td>-1.982329</td>\n",
       "      <td>1.484338</td>\n",
       "      <td>0.505373</td>\n",
       "      <td>-1.401239</td>\n",
       "      <td>-0.633757</td>\n",
       "      <td>0.18362</td>\n",
       "      <td>-0.180316</td>\n",
       "    </tr>\n",
       "    <tr>\n",
       "      <th>3949783</th>\n",
       "      <td>1.724795</td>\n",
       "      <td>-0.097795</td>\n",
       "      <td>-1.532377</td>\n",
       "      <td>-0.364128</td>\n",
       "      <td>-0.651102</td>\n",
       "      <td>-1.608732</td>\n",
       "      <td>-0.515530</td>\n",
       "      <td>1.661153</td>\n",
       "      <td>0.093720</td>\n",
       "      <td>-0.633757</td>\n",
       "      <td>0.18362</td>\n",
       "      <td>-0.180316</td>\n",
       "    </tr>\n",
       "    <tr>\n",
       "      <th>2900643</th>\n",
       "      <td>-1.071696</td>\n",
       "      <td>-0.209059</td>\n",
       "      <td>-0.197577</td>\n",
       "      <td>0.252910</td>\n",
       "      <td>-0.527437</td>\n",
       "      <td>-0.487941</td>\n",
       "      <td>-0.839318</td>\n",
       "      <td>0.505373</td>\n",
       "      <td>-0.941568</td>\n",
       "      <td>1.577891</td>\n",
       "      <td>0.18362</td>\n",
       "      <td>-0.180316</td>\n",
       "    </tr>\n",
       "  </tbody>\n",
       "</table>\n",
       "</div>"
      ],
      "text/plain": [
       "          building_id  dew_temperature  wind_speed  primary_use  square_feet  \\\n",
       "3820751      1.660735        -0.714804    0.663585    -0.364128     0.032242   \n",
       "5192151     -1.138221         0.185423   -0.197577     1.047964     0.306161   \n",
       "10784538    -0.288186         0.519215   -0.886506     1.047964    -0.372759   \n",
       "3949783      1.724795        -0.097795   -1.532377    -0.364128    -0.651102   \n",
       "2900643     -1.071696        -0.209059   -0.197577     0.252910    -0.527437   \n",
       "\n",
       "          year_built  dayofyear      hour  wind_direction_y  is_weekend  \\\n",
       "3820751    -2.496025  -0.553622  0.794318         -0.425474   -0.633757   \n",
       "5192151     0.586150  -0.144126 -0.650406          1.588679   -0.633757   \n",
       "10784538   -1.982329   1.484338  0.505373         -1.401239   -0.633757   \n",
       "3949783    -1.608732  -0.515530  1.661153          0.093720   -0.633757   \n",
       "2900643    -0.487941  -0.839318  0.505373         -0.941568    1.577891   \n",
       "\n",
       "          country  is_holiday  \n",
       "3820751   0.18362   -0.180316  \n",
       "5192151   0.18362   -0.180316  \n",
       "10784538  0.18362   -0.180316  \n",
       "3949783   0.18362   -0.180316  \n",
       "2900643   0.18362   -0.180316  "
      ]
     },
     "execution_count": 23,
     "metadata": {},
     "output_type": "execute_result"
    }
   ],
   "source": [
    "Xe_train_scaled, Xe_val_scaled, Xe_test_scaled, ye_train, ye_val = transform_data(train_df[0], test_df[0])\n",
    "Xe_train_scaled.head()"
   ]
  },
  {
   "cell_type": "code",
   "execution_count": null,
   "metadata": {},
   "outputs": [],
   "source": []
  },
  {
   "cell_type": "code",
   "execution_count": null,
   "metadata": {},
   "outputs": [],
   "source": []
  },
  {
   "cell_type": "markdown",
   "metadata": {},
   "source": [
    "### Lasso Regression"
   ]
  },
  {
   "cell_type": "code",
   "execution_count": 24,
   "metadata": {},
   "outputs": [
    {
     "name": "stdout",
     "output_type": "stream",
     "text": [
      "0.43324185493903133\n",
      "0.28364623098847\n"
     ]
    },
    {
     "data": {
      "text/plain": [
       "array([3.62139544, 3.5598328 , 3.48999142, ..., 3.37445649, 3.91047342,\n",
       "       4.54247601])"
      ]
     },
     "execution_count": 24,
     "metadata": {},
     "output_type": "execute_result"
    }
   ],
   "source": [
    "lasso = Lasso(alpha=1e-6, random_state=42)\n",
    "lasso.fit(Xe_train_scaled, ye_train)\n",
    "\n",
    "val0 = lasso.predict(Xe_val_scaled)\n",
    "print(lasso.score(Xe_val_scaled, ye_val))\n",
    "print(np.sqrt(mean_squared_log_error(ye_val, val0)))\n",
    "\n",
    "lasso0 = lasso.predict(Xe_test_scaled)\n",
    "lasso0[lasso0 < 0] = 0\n",
    "lasso0"
   ]
  },
  {
   "cell_type": "code",
   "execution_count": null,
   "metadata": {},
   "outputs": [],
   "source": []
  },
  {
   "cell_type": "code",
   "execution_count": null,
   "metadata": {},
   "outputs": [],
   "source": []
  },
  {
   "cell_type": "markdown",
   "metadata": {},
   "source": [
    "### LightGBM"
   ]
  },
  {
   "cell_type": "code",
   "execution_count": 25,
   "metadata": {},
   "outputs": [
    {
     "data": {
      "text/plain": [
       "{'learning_rate': 0.07916336777546343,\n",
       " 'lambda_l1': 0.008557356431137609,\n",
       " 'lambda_l2': 0.0006037228650908533,\n",
       " 'max_depth': 51,\n",
       " 'num_leaves': 923,\n",
       " 'min_child_samples': 7,\n",
       " 'subsample': 0.7399597912518232,\n",
       " 'feature_fraction': 0.7310599981838332}"
      ]
     },
     "execution_count": 25,
     "metadata": {},
     "output_type": "execute_result"
    }
   ],
   "source": [
    "study_lgb0 = joblib.load('../objects/electricity/study_lgb.pkl')\n",
    "params_lgb0 = study_lgb0.best_trial.params\n",
    "params_lgb0"
   ]
  },
  {
   "cell_type": "code",
   "execution_count": 26,
   "metadata": {},
   "outputs": [
    {
     "data": {
      "text/plain": [
       "{'learning_rate': 0.07916336777546343,\n",
       " 'lambda_l1': 0.008557356431137609,\n",
       " 'lambda_l2': 0.0006037228650908533,\n",
       " 'max_depth': 51,\n",
       " 'num_leaves': 923,\n",
       " 'min_child_samples': 7,\n",
       " 'subsample': 0.7399597912518232,\n",
       " 'feature_fraction': 0.7310599981838332,\n",
       " 'num_iterations': 10000,\n",
       " 'early_stopping_round': 10,\n",
       " 'metric': 'rmse',\n",
       " 'num_threads': -1,\n",
       " 'seed': 42}"
      ]
     },
     "execution_count": 26,
     "metadata": {},
     "output_type": "execute_result"
    }
   ],
   "source": [
    "params_lgb0['num_iterations'] = 10000\n",
    "params_lgb0['early_stopping_round'] = 10\n",
    "params_lgb0['metric'] = 'rmse'\n",
    "params_lgb0['num_threads'] = -1\n",
    "params_lgb0['seed'] = 42\n",
    "params_lgb0"
   ]
  },
  {
   "cell_type": "code",
   "execution_count": null,
   "metadata": {},
   "outputs": [
    {
     "name": "stderr",
     "output_type": "stream",
     "text": [
      "/home/tri/miniconda3/envs/minimal_ds/lib/python3.8/site-packages/lightgbm/engine.py:148: UserWarning: Found `num_iterations` in params. Will use it instead of argument\n",
      "  warnings.warn(\"Found `{}` in params. Will use it instead of argument\".format(alias))\n",
      "/home/tri/miniconda3/envs/minimal_ds/lib/python3.8/site-packages/lightgbm/engine.py:153: UserWarning: Found `early_stopping_round` in params. Will use it instead of argument\n",
      "  warnings.warn(\"Found `{}` in params. Will use it instead of argument\".format(alias))\n"
     ]
    }
   ],
   "source": [
    "lgbm0 = predict_lgb(Xe_train_scaled, ye_train, Xe_val_scaled, ye_val, Xe_test_scaled, params_lgb0, '../objects/submission4/lgb0.pkl') # .txt')\n",
    "lgbm0"
   ]
  },
  {
   "cell_type": "code",
   "execution_count": null,
   "metadata": {},
   "outputs": [],
   "source": []
  },
  {
   "cell_type": "code",
   "execution_count": null,
   "metadata": {},
   "outputs": [],
   "source": []
  },
  {
   "cell_type": "markdown",
   "metadata": {},
   "source": [
    "### XGBoost"
   ]
  },
  {
   "cell_type": "code",
   "execution_count": null,
   "metadata": {},
   "outputs": [],
   "source": [
    "study_xgb0 = joblib.load('../objects/electricity/study_xgb.pkl')\n",
    "params_xgb0 = study_xgb0.best_trial.params\n",
    "params_xgb0['eval_metric'] = 'rmse'\n",
    "params_xgb0['seed'] = 42\n",
    "params_xgb0"
   ]
  },
  {
   "cell_type": "code",
   "execution_count": null,
   "metadata": {},
   "outputs": [],
   "source": [
    "xg0 = predict_xgb(Xe_train_scaled, ye_train, Xe_val_scaled, ye_val, Xe_test_scaled, params_xgb0, '../objects/submission4/xgb0.pkl') # .txt')\n",
    "xg0"
   ]
  },
  {
   "cell_type": "code",
   "execution_count": null,
   "metadata": {},
   "outputs": [],
   "source": [
    "del lasso, val0, study_lgb0\n",
    "gc.collect()"
   ]
  },
  {
   "cell_type": "code",
   "execution_count": null,
   "metadata": {},
   "outputs": [],
   "source": []
  },
  {
   "cell_type": "code",
   "execution_count": null,
   "metadata": {},
   "outputs": [],
   "source": []
  },
  {
   "cell_type": "markdown",
   "metadata": {},
   "source": [
    "# Chilled water meter"
   ]
  },
  {
   "cell_type": "markdown",
   "metadata": {},
   "source": [
    "### Transform data"
   ]
  },
  {
   "cell_type": "code",
   "execution_count": null,
   "metadata": {},
   "outputs": [],
   "source": [
    "Xc_train_scaled, Xc_val_scaled, Xc_test_scaled, yc_train, yc_val = transform_data(train_df[1], test_df[1])\n",
    "Xc_train_scaled.head()"
   ]
  },
  {
   "cell_type": "code",
   "execution_count": null,
   "metadata": {},
   "outputs": [],
   "source": []
  },
  {
   "cell_type": "code",
   "execution_count": null,
   "metadata": {},
   "outputs": [],
   "source": []
  },
  {
   "cell_type": "markdown",
   "metadata": {},
   "source": [
    "### Lasso Regression"
   ]
  },
  {
   "cell_type": "code",
   "execution_count": null,
   "metadata": {},
   "outputs": [],
   "source": [
    "lasso = Lasso(alpha=1e-6, random_state=42)\n",
    "lasso.fit(Xc_train_scaled, yc_train)\n",
    "\n",
    "val1 = lasso.predict(Xc_val_scaled)\n",
    "print(lasso.score(Xc_val_scaled, yc_val))\n",
    "print(np.sqrt(mean_squared_log_error(yc_val, val1)))\n",
    "\n",
    "lasso1 = lasso.predict(Xc_test_scaled)\n",
    "lasso1[lasso1 < 0] = 0\n",
    "lasso1"
   ]
  },
  {
   "cell_type": "code",
   "execution_count": null,
   "metadata": {},
   "outputs": [],
   "source": []
  },
  {
   "cell_type": "code",
   "execution_count": null,
   "metadata": {},
   "outputs": [],
   "source": []
  },
  {
   "cell_type": "markdown",
   "metadata": {},
   "source": [
    "### LightGBM"
   ]
  },
  {
   "cell_type": "code",
   "execution_count": null,
   "metadata": {},
   "outputs": [],
   "source": [
    "study_lgb1 = joblib.load('../objects/chilledwater/study_lgb1.pkl')\n",
    "params_lgb1 = study_lgb1.best_trial.params\n",
    "params_lgb1"
   ]
  },
  {
   "cell_type": "code",
   "execution_count": null,
   "metadata": {},
   "outputs": [],
   "source": [
    "params_lgb1['num_iterations'] = 10000\n",
    "params_lgb1['early_stopping_round'] = 20\n",
    "params_lgb1['metric'] = 'rmse'\n",
    "params_lgb1['num_threads'] = -1\n",
    "params_lgb1['seed'] = 42\n",
    "params_lgb1"
   ]
  },
  {
   "cell_type": "code",
   "execution_count": null,
   "metadata": {},
   "outputs": [],
   "source": [
    "lgbm1 = predict_lgb(Xc_train_scaled, yc_train, Xc_val_scaled, yc_val, Xc_test_scaled, params_lgb1, '../objects/submission4/lgb1.pkl') # .txt')\n",
    "lgbm1"
   ]
  },
  {
   "cell_type": "code",
   "execution_count": null,
   "metadata": {},
   "outputs": [],
   "source": []
  },
  {
   "cell_type": "code",
   "execution_count": null,
   "metadata": {},
   "outputs": [],
   "source": []
  },
  {
   "cell_type": "markdown",
   "metadata": {},
   "source": [
    "### XGBoost"
   ]
  },
  {
   "cell_type": "code",
   "execution_count": null,
   "metadata": {},
   "outputs": [],
   "source": [
    "study_xgb1 = joblib.load('../objects/chilledwater/study_xgb1.pkl')\n",
    "params_xgb1 = study_xgb1.best_trial.params\n",
    "params_xgb1['eval_metric'] = 'rmse'\n",
    "params_xgb1['seed'] = 42\n",
    "params_xgb1"
   ]
  },
  {
   "cell_type": "code",
   "execution_count": null,
   "metadata": {},
   "outputs": [],
   "source": [
    "xg1 = predict_xgb(Xc_train_scaled, yc_train, Xc_val_scaled, yc_val, Xc_test_scaled, params_xgb1, '../objects/submission4/xgb1.pkl') # .txt')\n",
    "xg1"
   ]
  },
  {
   "cell_type": "code",
   "execution_count": null,
   "metadata": {},
   "outputs": [],
   "source": [
    "del lasso, val1, study_lgb1\n",
    "gc.collect()"
   ]
  },
  {
   "cell_type": "code",
   "execution_count": null,
   "metadata": {},
   "outputs": [],
   "source": []
  },
  {
   "cell_type": "code",
   "execution_count": null,
   "metadata": {},
   "outputs": [],
   "source": []
  },
  {
   "cell_type": "markdown",
   "metadata": {},
   "source": [
    "# Steam meter"
   ]
  },
  {
   "cell_type": "markdown",
   "metadata": {},
   "source": [
    "### Transform data"
   ]
  },
  {
   "cell_type": "code",
   "execution_count": null,
   "metadata": {},
   "outputs": [],
   "source": [
    "Xs_train_scaled, Xs_val_scaled, Xs_test_scaled, ys_train, ys_val = transform_data(train_df[2], test_df[2])\n",
    "Xs_train_scaled.head()"
   ]
  },
  {
   "cell_type": "code",
   "execution_count": null,
   "metadata": {},
   "outputs": [],
   "source": []
  },
  {
   "cell_type": "code",
   "execution_count": null,
   "metadata": {},
   "outputs": [],
   "source": []
  },
  {
   "cell_type": "markdown",
   "metadata": {},
   "source": [
    "### Lasso Regression"
   ]
  },
  {
   "cell_type": "code",
   "execution_count": null,
   "metadata": {},
   "outputs": [],
   "source": [
    "lasso = Lasso(alpha=1e-6, random_state=42)\n",
    "lasso.fit(Xs_train_scaled, ys_train)\n",
    "\n",
    "val2 = lasso.predict(Xs_val_scaled)\n",
    "print(lasso.score(Xs_val_scaled, ys_val))\n",
    "print(np.sqrt(mean_squared_log_error(ys_val, val2)))\n",
    "\n",
    "lasso2 = lasso.predict(Xs_test_scaled)\n",
    "lasso2[lasso2 < 0] = 0\n",
    "lasso2"
   ]
  },
  {
   "cell_type": "code",
   "execution_count": null,
   "metadata": {},
   "outputs": [],
   "source": []
  },
  {
   "cell_type": "code",
   "execution_count": null,
   "metadata": {},
   "outputs": [],
   "source": []
  },
  {
   "cell_type": "markdown",
   "metadata": {},
   "source": [
    "### LightGBM"
   ]
  },
  {
   "cell_type": "code",
   "execution_count": null,
   "metadata": {},
   "outputs": [],
   "source": [
    "study_lgb2 = joblib.load('../objects/steam/study_lgb2.pkl')\n",
    "params_lgb2 = study_lgb2.best_trial.params\n",
    "params_lgb2"
   ]
  },
  {
   "cell_type": "code",
   "execution_count": null,
   "metadata": {},
   "outputs": [],
   "source": [
    "params_lgb2['num_iterations'] = 10000\n",
    "params_lgb2['early_stopping_round'] = 20\n",
    "params_lgb2['metric'] = 'rmse'\n",
    "params_lgb2['num_threads'] = -1\n",
    "params_lgb2['seed'] = 42\n",
    "params_lgb2"
   ]
  },
  {
   "cell_type": "code",
   "execution_count": null,
   "metadata": {},
   "outputs": [],
   "source": [
    "lgbm2 = predict_lgb(Xs_train_scaled, ys_train, Xs_val_scaled, ys_val, Xs_test_scaled, params_lgb2, '../objects/submission4/lgb2.pkl') # .txt')\n",
    "lgbm2"
   ]
  },
  {
   "cell_type": "code",
   "execution_count": null,
   "metadata": {},
   "outputs": [],
   "source": []
  },
  {
   "cell_type": "code",
   "execution_count": null,
   "metadata": {},
   "outputs": [],
   "source": []
  },
  {
   "cell_type": "markdown",
   "metadata": {},
   "source": [
    "### XGBoost"
   ]
  },
  {
   "cell_type": "code",
   "execution_count": null,
   "metadata": {},
   "outputs": [],
   "source": [
    "study_xgb2 = joblib.load('../objects/steam/study_xgb2.pkl')\n",
    "params_xgb2 = study_xgb2.best_trial.params\n",
    "params_xgb2['eval_metric'] = 'rmse'\n",
    "params_xgb2['seed'] = 42\n",
    "params_xgb2"
   ]
  },
  {
   "cell_type": "code",
   "execution_count": null,
   "metadata": {},
   "outputs": [],
   "source": [
    "xg2 = predict_xgb(Xs_train_scaled, ys_train, Xs_val_scaled, ys_val, Xs_test_scaled, params_xgb2, '../objects/submission4/xgb2.pkl') # .txt')\n",
    "xg2"
   ]
  },
  {
   "cell_type": "code",
   "execution_count": null,
   "metadata": {},
   "outputs": [],
   "source": [
    "del lasso, val2, study_lgb2\n",
    "gc.collect()"
   ]
  },
  {
   "cell_type": "code",
   "execution_count": null,
   "metadata": {},
   "outputs": [],
   "source": []
  },
  {
   "cell_type": "code",
   "execution_count": null,
   "metadata": {},
   "outputs": [],
   "source": []
  },
  {
   "cell_type": "markdown",
   "metadata": {},
   "source": [
    "# Hot water meter"
   ]
  },
  {
   "cell_type": "markdown",
   "metadata": {},
   "source": [
    "### Transform data"
   ]
  },
  {
   "cell_type": "code",
   "execution_count": null,
   "metadata": {},
   "outputs": [],
   "source": [
    "Xh_train_scaled, Xh_val_scaled, Xh_test_scaled, yh_train, yh_val = transform_data(train_df[3], test_df[3])\n",
    "Xh_train_scaled.head()"
   ]
  },
  {
   "cell_type": "code",
   "execution_count": null,
   "metadata": {},
   "outputs": [],
   "source": []
  },
  {
   "cell_type": "code",
   "execution_count": null,
   "metadata": {},
   "outputs": [],
   "source": []
  },
  {
   "cell_type": "markdown",
   "metadata": {},
   "source": [
    "### Lasso Regression"
   ]
  },
  {
   "cell_type": "code",
   "execution_count": null,
   "metadata": {},
   "outputs": [],
   "source": [
    "lasso = Lasso(alpha=1e-6, random_state=42)\n",
    "lasso.fit(Xh_train_scaled, yh_train)\n",
    "\n",
    "val3 = lasso.predict(Xh_val_scaled)\n",
    "print(lasso.score(Xh_val_scaled, yh_val))\n",
    "print(np.sqrt(mean_squared_log_error(yh_val, val3)))\n",
    "\n",
    "lasso3 = lasso.predict(Xh_test_scaled)\n",
    "lasso3[lasso3 < 0] = 0\n",
    "lasso3"
   ]
  },
  {
   "cell_type": "code",
   "execution_count": null,
   "metadata": {},
   "outputs": [],
   "source": []
  },
  {
   "cell_type": "code",
   "execution_count": null,
   "metadata": {},
   "outputs": [],
   "source": []
  },
  {
   "cell_type": "markdown",
   "metadata": {},
   "source": [
    "### LightGBM"
   ]
  },
  {
   "cell_type": "code",
   "execution_count": null,
   "metadata": {},
   "outputs": [],
   "source": [
    "study_lgb3 = joblib.load('../objects/hotwater/study_lgb3.pkl')\n",
    "params_lgb3 = study_lgb3.best_trial.params\n",
    "params_lgb3"
   ]
  },
  {
   "cell_type": "code",
   "execution_count": null,
   "metadata": {},
   "outputs": [],
   "source": [
    "params_lgb3['num_iterations'] = 10000\n",
    "params_lgb3['early_stopping_round'] = 20\n",
    "params_lgb3['metric'] = 'rmse'\n",
    "params_lgb3['num_threads'] = -1\n",
    "params_lgb3['seed'] = 42"
   ]
  },
  {
   "cell_type": "code",
   "execution_count": null,
   "metadata": {},
   "outputs": [],
   "source": [
    "lgbm3 = predict_lgb(Xh_train_scaled, yh_train, Xh_val_scaled, yh_val, Xh_test_scaled, params_lgb3, '../objects/submission4/lgb3.pkl') # .txt')\n",
    "lgbm3"
   ]
  },
  {
   "cell_type": "code",
   "execution_count": null,
   "metadata": {},
   "outputs": [],
   "source": []
  },
  {
   "cell_type": "code",
   "execution_count": null,
   "metadata": {},
   "outputs": [],
   "source": []
  },
  {
   "cell_type": "markdown",
   "metadata": {},
   "source": [
    "### XGBoost"
   ]
  },
  {
   "cell_type": "code",
   "execution_count": null,
   "metadata": {},
   "outputs": [],
   "source": [
    "study_xgb3 = joblib.load('../objects/hotwater/study_xgb3.pkl')\n",
    "params_xgb3 = study_xgb3.best_trial.params\n",
    "params_xgb3['eval_metric'] = 'rmse'\n",
    "params_xgb3['seed'] = 42\n",
    "params_xgb3"
   ]
  },
  {
   "cell_type": "code",
   "execution_count": null,
   "metadata": {},
   "outputs": [],
   "source": [
    "xg3 = predict_xgb(Xh_train_scaled, yh_train, Xh_val_scaled, yh_val, Xh_test_scaled, params_xgb3, '../objects/submission4/xgb3.pkl') # .txt')\n",
    "xg3"
   ]
  },
  {
   "cell_type": "code",
   "execution_count": null,
   "metadata": {},
   "outputs": [],
   "source": [
    "del lasso, val3, study_lgb3\n",
    "gc.collect()"
   ]
  },
  {
   "cell_type": "code",
   "execution_count": null,
   "metadata": {},
   "outputs": [],
   "source": []
  },
  {
   "cell_type": "code",
   "execution_count": null,
   "metadata": {},
   "outputs": [],
   "source": []
  },
  {
   "cell_type": "markdown",
   "metadata": {},
   "source": [
    "# Combine predictions"
   ]
  },
  {
   "cell_type": "code",
   "execution_count": null,
   "metadata": {},
   "outputs": [],
   "source": [
    "print('Test observations: ', [df.shape[0] for df in test_df])\n",
    "print('Lasso predictions: ', list(map(len, [lasso0, lasso1, lasso2, lasso3])))\n",
    "print('LightGBM predictions: ', list(map(len, [lgbm0, lgbm1, lgbm2, lgbm3])))\n",
    "print('XGBoost predictions: ', list(map(len, [xg0, xg1, xg2, xg3])))"
   ]
  },
  {
   "cell_type": "code",
   "execution_count": null,
   "metadata": {},
   "outputs": [],
   "source": [
    "# Electricity meter\n",
    "pred0 = test_df[0][['building_id']].copy()\n",
    "pred0['lasso'] = lasso0\n",
    "pred0['lgb'] = lgbm0\n",
    "pred0['xgb'] = xg0\n",
    "pred0.drop('building_id', axis=1, inplace=True)\n",
    "pred0"
   ]
  },
  {
   "cell_type": "code",
   "execution_count": null,
   "metadata": {},
   "outputs": [],
   "source": [
    "# Chilled water meter\n",
    "pred1 = test_df[1][['building_id']].copy()\n",
    "pred1['lasso'] = lasso1\n",
    "pred1['lgb'] = lgbm1\n",
    "pred1['xgb'] = xg1\n",
    "pred1.drop('building_id', axis=1, inplace=True)\n",
    "pred1"
   ]
  },
  {
   "cell_type": "code",
   "execution_count": null,
   "metadata": {},
   "outputs": [],
   "source": [
    "# Steam meter\n",
    "pred2 = test_df[2][['building_id']].copy()\n",
    "pred2['lasso'] = lasso2\n",
    "pred2['lgb'] = lgbm2\n",
    "pred2['xgb'] = xg2\n",
    "pred2.drop('building_id', axis=1, inplace=True)\n",
    "pred2"
   ]
  },
  {
   "cell_type": "code",
   "execution_count": null,
   "metadata": {},
   "outputs": [],
   "source": [
    "# Hot water meter\n",
    "pred3 = test_df[3][['building_id']].copy()\n",
    "pred3['lasso'] = lasso3\n",
    "pred3['lgb'] = lgbm3\n",
    "pred3['xgb'] = xg3\n",
    "pred3.drop('building_id', axis=1, inplace=True)\n",
    "pred3"
   ]
  },
  {
   "cell_type": "code",
   "execution_count": null,
   "metadata": {},
   "outputs": [],
   "source": [
    "# Log-transformed predictions\n",
    "pred_transformed = pd.concat([pred0, pred1, pred2, pred3]).sort_index()\n",
    "pred_transformed"
   ]
  },
  {
   "cell_type": "code",
   "execution_count": null,
   "metadata": {},
   "outputs": [],
   "source": [
    "del pred0, pred1, pred2, pred3\n",
    "gc.collect()"
   ]
  },
  {
   "cell_type": "code",
   "execution_count": null,
   "metadata": {},
   "outputs": [],
   "source": []
  },
  {
   "cell_type": "code",
   "execution_count": null,
   "metadata": {},
   "outputs": [],
   "source": []
  },
  {
   "cell_type": "markdown",
   "metadata": {},
   "source": [
    "# Transform predictions back to normal scale (and units for site 0)"
   ]
  },
  {
   "cell_type": "code",
   "execution_count": null,
   "metadata": {},
   "outputs": [],
   "source": [
    "# Transform back to normal scale\n",
    "pred = pred_transformed.copy()\n",
    "pred['lasso'] = np.expm1(pred.lasso)\n",
    "pred['lgb'] = np.expm1(pred.lgb)\n",
    "pred['xgb'] = np.expm1(pred.xgb)\n",
    "pred.reset_index(inplace=True)\n",
    "pred.columns = ['row_id', 'lasso', 'lgb', 'xgb']\n",
    "pred"
   ]
  },
  {
   "cell_type": "code",
   "execution_count": null,
   "metadata": {},
   "outputs": [],
   "source": [
    "pred = pd.merge(mb[['row_id', 'site_id', 'meter']], pred, on='row_id', how='left')\n",
    "pred"
   ]
  },
  {
   "cell_type": "code",
   "execution_count": null,
   "metadata": {},
   "outputs": [],
   "source": [
    "# Site 0 meter 0 predictions in kWh\n",
    "pred[(pred.site_id == 0) & (pred.meter == 0)].head()"
   ]
  },
  {
   "cell_type": "code",
   "execution_count": null,
   "metadata": {},
   "outputs": [],
   "source": [
    "# Convert from kWh back to kBTU\n",
    "pred = udf.convert_readings(pred, site_num=0, meter_type=0, conversion='kwh_to_kbtu', reading_col='lasso')\n",
    "pred = udf.convert_readings(pred, site_num=0, meter_type=0, conversion='kwh_to_kbtu', reading_col='lgb')\n",
    "pred = udf.convert_readings(pred, site_num=0, meter_type=0, conversion='kwh_to_kbtu', reading_col='xgb')\n",
    "pred[(pred.site_id == 0) & (pred.meter == 0)].head()"
   ]
  },
  {
   "cell_type": "code",
   "execution_count": null,
   "metadata": {},
   "outputs": [],
   "source": [
    "# Site 0 meter 1 predictions in tons\n",
    "pred[(pred.site_id == 0) & (pred.meter == 1)].head()"
   ]
  },
  {
   "cell_type": "code",
   "execution_count": null,
   "metadata": {},
   "outputs": [],
   "source": [
    "# Convert from kWh back to kBTU\n",
    "pred = udf.convert_readings(pred, site_num=0, meter_type=1, conversion='ton_to_kbtu', reading_col='lasso')\n",
    "pred = udf.convert_readings(pred, site_num=0, meter_type=1, conversion='ton_to_kbtu', reading_col='lgb')\n",
    "pred = udf.convert_readings(pred, site_num=0, meter_type=1, conversion='ton_to_kbtu', reading_col='xgb')\n",
    "pred[(pred.site_id == 0) & (pred.meter == 1)].head()"
   ]
  },
  {
   "cell_type": "code",
   "execution_count": null,
   "metadata": {},
   "outputs": [],
   "source": [
    "del mb\n",
    "gc.collect()"
   ]
  },
  {
   "cell_type": "code",
   "execution_count": null,
   "metadata": {},
   "outputs": [],
   "source": []
  },
  {
   "cell_type": "code",
   "execution_count": null,
   "metadata": {},
   "outputs": [],
   "source": []
  },
  {
   "cell_type": "markdown",
   "metadata": {},
   "source": [
    "# Save Predictions"
   ]
  },
  {
   "cell_type": "code",
   "execution_count": null,
   "metadata": {},
   "outputs": [],
   "source": [
    "pred.describe()"
   ]
  },
  {
   "cell_type": "code",
   "execution_count": null,
   "metadata": {},
   "outputs": [],
   "source": [
    "path = '../submissions/sub4/'\n",
    "pred.to_pickle(f'{path}preds.pkl')\n",
    "pred = pd.read_pickle(f'{path}preds.pkl')\n",
    "pred"
   ]
  },
  {
   "cell_type": "code",
   "execution_count": null,
   "metadata": {},
   "outputs": [],
   "source": [
    "submission"
   ]
  },
  {
   "cell_type": "code",
   "execution_count": null,
   "metadata": {},
   "outputs": [],
   "source": [
    "# Lasso predictions\n",
    "lasso_pred = submission.copy()\n",
    "lasso_pred['meter_reading'] = pred['lasso']\n",
    "lasso_pred"
   ]
  },
  {
   "cell_type": "code",
   "execution_count": null,
   "metadata": {},
   "outputs": [],
   "source": [
    "# Lasso predictions\n",
    "lgb_pred = submission.copy()\n",
    "lgb_pred['meter_reading'] = pred['lgb']\n",
    "lgb_pred"
   ]
  },
  {
   "cell_type": "code",
   "execution_count": null,
   "metadata": {},
   "outputs": [],
   "source": [
    "# Lasso predictions\n",
    "xgb_pred = submission.copy()\n",
    "xgb_pred['meter_reading'] = pred['xgb']\n",
    "xgb_pred"
   ]
  },
  {
   "cell_type": "code",
   "execution_count": null,
   "metadata": {},
   "outputs": [],
   "source": [
    "lasso_pred.to_csv(f'{path}l1r.csv', index=False)\n",
    "lasso_pred = pd.read_csv(f'{path}l1r.csv')\n",
    "lasso_pred"
   ]
  },
  {
   "cell_type": "code",
   "execution_count": null,
   "metadata": {},
   "outputs": [],
   "source": [
    "lgb_pred.to_csv(f'{path}lgb.csv', index=False)\n",
    "lgb_pred = pd.read_csv(f'{path}lgb.csv')\n",
    "lgb_pred"
   ]
  },
  {
   "cell_type": "code",
   "execution_count": null,
   "metadata": {},
   "outputs": [],
   "source": [
    "xgb_pred.to_csv(f'{path}xgb.csv', index=False)\n",
    "xgb_pred = pd.read_csv(f'{path}xgb.csv')\n",
    "xgb_pred"
   ]
  },
  {
   "cell_type": "markdown",
   "metadata": {},
   "source": [
    "### Test RMSLE:\n",
    "##### Lasso regression:  (Public),  (Private)\n",
    "##### LightGBM:  (Public),  (Private)\n",
    "##### XGBoost:  (Public),  (Private)"
   ]
  },
  {
   "cell_type": "code",
   "execution_count": null,
   "metadata": {},
   "outputs": [],
   "source": []
  },
  {
   "cell_type": "code",
   "execution_count": null,
   "metadata": {},
   "outputs": [],
   "source": []
  },
  {
   "cell_type": "markdown",
   "metadata": {},
   "source": [
    "# Combine LightGBM and XGBoost predictions"
   ]
  },
  {
   "cell_type": "code",
   "execution_count": 8,
   "metadata": {},
   "outputs": [
    {
     "data": {
      "text/html": [
       "<div>\n",
       "<style scoped>\n",
       "    .dataframe tbody tr th:only-of-type {\n",
       "        vertical-align: middle;\n",
       "    }\n",
       "\n",
       "    .dataframe tbody tr th {\n",
       "        vertical-align: top;\n",
       "    }\n",
       "\n",
       "    .dataframe thead th {\n",
       "        text-align: right;\n",
       "    }\n",
       "</style>\n",
       "<table border=\"1\" class=\"dataframe\">\n",
       "  <thead>\n",
       "    <tr style=\"text-align: right;\">\n",
       "      <th></th>\n",
       "      <th>row_id</th>\n",
       "      <th>lgb</th>\n",
       "      <th>xgb</th>\n",
       "    </tr>\n",
       "  </thead>\n",
       "  <tbody>\n",
       "    <tr>\n",
       "      <th>0</th>\n",
       "      <td>0</td>\n",
       "      <td>54.809699</td>\n",
       "      <td>51.882465</td>\n",
       "    </tr>\n",
       "    <tr>\n",
       "      <th>1</th>\n",
       "      <td>1</td>\n",
       "      <td>17.976733</td>\n",
       "      <td>16.754257</td>\n",
       "    </tr>\n",
       "    <tr>\n",
       "      <th>2</th>\n",
       "      <td>2</td>\n",
       "      <td>1.477563</td>\n",
       "      <td>3.712897</td>\n",
       "    </tr>\n",
       "    <tr>\n",
       "      <th>3</th>\n",
       "      <td>3</td>\n",
       "      <td>71.624491</td>\n",
       "      <td>373.013920</td>\n",
       "    </tr>\n",
       "    <tr>\n",
       "      <th>4</th>\n",
       "      <td>4</td>\n",
       "      <td>142.167250</td>\n",
       "      <td>117.079580</td>\n",
       "    </tr>\n",
       "  </tbody>\n",
       "</table>\n",
       "</div>"
      ],
      "text/plain": [
       "   row_id         lgb         xgb\n",
       "0       0   54.809699   51.882465\n",
       "1       1   17.976733   16.754257\n",
       "2       2    1.477563    3.712897\n",
       "3       3   71.624491  373.013920\n",
       "4       4  142.167250  117.079580"
      ]
     },
     "execution_count": 8,
     "metadata": {},
     "output_type": "execute_result"
    }
   ],
   "source": [
    "xl = pd.merge(lgb_pred, xgb_pred, on='row_id', how='left')\n",
    "xl.columns = ['row_id', 'lgb', 'xgb']\n",
    "xl.head()"
   ]
  },
  {
   "cell_type": "code",
   "execution_count": 11,
   "metadata": {},
   "outputs": [
    {
     "data": {
      "text/html": [
       "<div>\n",
       "<style scoped>\n",
       "    .dataframe tbody tr th:only-of-type {\n",
       "        vertical-align: middle;\n",
       "    }\n",
       "\n",
       "    .dataframe tbody tr th {\n",
       "        vertical-align: top;\n",
       "    }\n",
       "\n",
       "    .dataframe thead th {\n",
       "        text-align: right;\n",
       "    }\n",
       "</style>\n",
       "<table border=\"1\" class=\"dataframe\">\n",
       "  <thead>\n",
       "    <tr style=\"text-align: right;\">\n",
       "      <th></th>\n",
       "      <th>row_id</th>\n",
       "      <th>lgb</th>\n",
       "      <th>xgb</th>\n",
       "      <th>xl55</th>\n",
       "    </tr>\n",
       "  </thead>\n",
       "  <tbody>\n",
       "    <tr>\n",
       "      <th>0</th>\n",
       "      <td>0</td>\n",
       "      <td>54.809699</td>\n",
       "      <td>51.882465</td>\n",
       "      <td>53.346082</td>\n",
       "    </tr>\n",
       "    <tr>\n",
       "      <th>1</th>\n",
       "      <td>1</td>\n",
       "      <td>17.976733</td>\n",
       "      <td>16.754257</td>\n",
       "      <td>17.365495</td>\n",
       "    </tr>\n",
       "    <tr>\n",
       "      <th>2</th>\n",
       "      <td>2</td>\n",
       "      <td>1.477563</td>\n",
       "      <td>3.712897</td>\n",
       "      <td>2.595230</td>\n",
       "    </tr>\n",
       "    <tr>\n",
       "      <th>3</th>\n",
       "      <td>3</td>\n",
       "      <td>71.624491</td>\n",
       "      <td>373.013920</td>\n",
       "      <td>222.319205</td>\n",
       "    </tr>\n",
       "    <tr>\n",
       "      <th>4</th>\n",
       "      <td>4</td>\n",
       "      <td>142.167250</td>\n",
       "      <td>117.079580</td>\n",
       "      <td>129.623415</td>\n",
       "    </tr>\n",
       "  </tbody>\n",
       "</table>\n",
       "</div>"
      ],
      "text/plain": [
       "   row_id         lgb         xgb        xl55\n",
       "0       0   54.809699   51.882465   53.346082\n",
       "1       1   17.976733   16.754257   17.365495\n",
       "2       2    1.477563    3.712897    2.595230\n",
       "3       3   71.624491  373.013920  222.319205\n",
       "4       4  142.167250  117.079580  129.623415"
      ]
     },
     "execution_count": 11,
     "metadata": {},
     "output_type": "execute_result"
    }
   ],
   "source": [
    "xl['xl55'] = xl[['lgb', 'xgb']].mean(axis=1)\n",
    "xl['xl46'] = (xl.lgb * 0.4) + (xl.xgb * 0.6)\n",
    "xl['xl2575'] = (xl.lgb * 0.25) + (xl.xgb * 0.75)\n",
    "xl.head()"
   ]
  },
  {
   "cell_type": "code",
   "execution_count": 16,
   "metadata": {},
   "outputs": [
    {
     "data": {
      "text/html": [
       "<div>\n",
       "<style scoped>\n",
       "    .dataframe tbody tr th:only-of-type {\n",
       "        vertical-align: middle;\n",
       "    }\n",
       "\n",
       "    .dataframe tbody tr th {\n",
       "        vertical-align: top;\n",
       "    }\n",
       "\n",
       "    .dataframe thead th {\n",
       "        text-align: right;\n",
       "    }\n",
       "</style>\n",
       "<table border=\"1\" class=\"dataframe\">\n",
       "  <thead>\n",
       "    <tr style=\"text-align: right;\">\n",
       "      <th></th>\n",
       "      <th>row_id</th>\n",
       "      <th>meter_reading</th>\n",
       "    </tr>\n",
       "  </thead>\n",
       "  <tbody>\n",
       "    <tr>\n",
       "      <th>0</th>\n",
       "      <td>0</td>\n",
       "      <td>53.346082</td>\n",
       "    </tr>\n",
       "    <tr>\n",
       "      <th>1</th>\n",
       "      <td>1</td>\n",
       "      <td>17.365495</td>\n",
       "    </tr>\n",
       "    <tr>\n",
       "      <th>2</th>\n",
       "      <td>2</td>\n",
       "      <td>2.595230</td>\n",
       "    </tr>\n",
       "    <tr>\n",
       "      <th>3</th>\n",
       "      <td>3</td>\n",
       "      <td>222.319205</td>\n",
       "    </tr>\n",
       "    <tr>\n",
       "      <th>4</th>\n",
       "      <td>4</td>\n",
       "      <td>129.623415</td>\n",
       "    </tr>\n",
       "    <tr>\n",
       "      <th>...</th>\n",
       "      <td>...</td>\n",
       "      <td>...</td>\n",
       "    </tr>\n",
       "    <tr>\n",
       "      <th>41697595</th>\n",
       "      <td>41697595</td>\n",
       "      <td>4.897745</td>\n",
       "    </tr>\n",
       "    <tr>\n",
       "      <th>41697596</th>\n",
       "      <td>41697596</td>\n",
       "      <td>5.232897</td>\n",
       "    </tr>\n",
       "    <tr>\n",
       "      <th>41697597</th>\n",
       "      <td>41697597</td>\n",
       "      <td>7.730367</td>\n",
       "    </tr>\n",
       "    <tr>\n",
       "      <th>41697598</th>\n",
       "      <td>41697598</td>\n",
       "      <td>172.912913</td>\n",
       "    </tr>\n",
       "    <tr>\n",
       "      <th>41697599</th>\n",
       "      <td>41697599</td>\n",
       "      <td>4.040385</td>\n",
       "    </tr>\n",
       "  </tbody>\n",
       "</table>\n",
       "<p>41697600 rows × 2 columns</p>\n",
       "</div>"
      ],
      "text/plain": [
       "            row_id  meter_reading\n",
       "0                0      53.346082\n",
       "1                1      17.365495\n",
       "2                2       2.595230\n",
       "3                3     222.319205\n",
       "4                4     129.623415\n",
       "...            ...            ...\n",
       "41697595  41697595       4.897745\n",
       "41697596  41697596       5.232897\n",
       "41697597  41697597       7.730367\n",
       "41697598  41697598     172.912913\n",
       "41697599  41697599       4.040385\n",
       "\n",
       "[41697600 rows x 2 columns]"
      ]
     },
     "execution_count": 16,
     "metadata": {},
     "output_type": "execute_result"
    }
   ],
   "source": [
    "xl1 = xl[['row_id', 'xl55']]\n",
    "xl1.columns = ['row_id', 'meter_reading']\n",
    "\n",
    "xl1.to_csv(f'{path}xl1.csv', index=False)\n",
    "xl1 = pd.read_csv(f'{path}xl1.csv')\n",
    "xl1"
   ]
  },
  {
   "cell_type": "code",
   "execution_count": 17,
   "metadata": {},
   "outputs": [
    {
     "data": {
      "text/html": [
       "<div>\n",
       "<style scoped>\n",
       "    .dataframe tbody tr th:only-of-type {\n",
       "        vertical-align: middle;\n",
       "    }\n",
       "\n",
       "    .dataframe tbody tr th {\n",
       "        vertical-align: top;\n",
       "    }\n",
       "\n",
       "    .dataframe thead th {\n",
       "        text-align: right;\n",
       "    }\n",
       "</style>\n",
       "<table border=\"1\" class=\"dataframe\">\n",
       "  <thead>\n",
       "    <tr style=\"text-align: right;\">\n",
       "      <th></th>\n",
       "      <th>row_id</th>\n",
       "      <th>meter_reading</th>\n",
       "    </tr>\n",
       "  </thead>\n",
       "  <tbody>\n",
       "    <tr>\n",
       "      <th>0</th>\n",
       "      <td>0</td>\n",
       "      <td>53.053358</td>\n",
       "    </tr>\n",
       "    <tr>\n",
       "      <th>1</th>\n",
       "      <td>1</td>\n",
       "      <td>17.243247</td>\n",
       "    </tr>\n",
       "    <tr>\n",
       "      <th>2</th>\n",
       "      <td>2</td>\n",
       "      <td>2.818763</td>\n",
       "    </tr>\n",
       "    <tr>\n",
       "      <th>3</th>\n",
       "      <td>3</td>\n",
       "      <td>252.458148</td>\n",
       "    </tr>\n",
       "    <tr>\n",
       "      <th>4</th>\n",
       "      <td>4</td>\n",
       "      <td>127.114648</td>\n",
       "    </tr>\n",
       "    <tr>\n",
       "      <th>...</th>\n",
       "      <td>...</td>\n",
       "      <td>...</td>\n",
       "    </tr>\n",
       "    <tr>\n",
       "      <th>41697595</th>\n",
       "      <td>41697595</td>\n",
       "      <td>4.863569</td>\n",
       "    </tr>\n",
       "    <tr>\n",
       "      <th>41697596</th>\n",
       "      <td>41697596</td>\n",
       "      <td>5.207736</td>\n",
       "    </tr>\n",
       "    <tr>\n",
       "      <th>41697597</th>\n",
       "      <td>41697597</td>\n",
       "      <td>7.822719</td>\n",
       "    </tr>\n",
       "    <tr>\n",
       "      <th>41697598</th>\n",
       "      <td>41697598</td>\n",
       "      <td>172.888550</td>\n",
       "    </tr>\n",
       "    <tr>\n",
       "      <th>41697599</th>\n",
       "      <td>41697599</td>\n",
       "      <td>4.060803</td>\n",
       "    </tr>\n",
       "  </tbody>\n",
       "</table>\n",
       "<p>41697600 rows × 2 columns</p>\n",
       "</div>"
      ],
      "text/plain": [
       "            row_id  meter_reading\n",
       "0                0      53.053358\n",
       "1                1      17.243247\n",
       "2                2       2.818763\n",
       "3                3     252.458148\n",
       "4                4     127.114648\n",
       "...            ...            ...\n",
       "41697595  41697595       4.863569\n",
       "41697596  41697596       5.207736\n",
       "41697597  41697597       7.822719\n",
       "41697598  41697598     172.888550\n",
       "41697599  41697599       4.060803\n",
       "\n",
       "[41697600 rows x 2 columns]"
      ]
     },
     "execution_count": 17,
     "metadata": {},
     "output_type": "execute_result"
    }
   ],
   "source": [
    "xl2 = xl[['row_id', 'xl46']]\n",
    "xl2.columns = ['row_id', 'meter_reading']\n",
    "\n",
    "xl2.to_csv(f'{path}xl2.csv', index=False)\n",
    "xl2 = pd.read_csv(f'{path}xl2.csv')\n",
    "xl2"
   ]
  },
  {
   "cell_type": "code",
   "execution_count": 18,
   "metadata": {},
   "outputs": [
    {
     "data": {
      "text/html": [
       "<div>\n",
       "<style scoped>\n",
       "    .dataframe tbody tr th:only-of-type {\n",
       "        vertical-align: middle;\n",
       "    }\n",
       "\n",
       "    .dataframe tbody tr th {\n",
       "        vertical-align: top;\n",
       "    }\n",
       "\n",
       "    .dataframe thead th {\n",
       "        text-align: right;\n",
       "    }\n",
       "</style>\n",
       "<table border=\"1\" class=\"dataframe\">\n",
       "  <thead>\n",
       "    <tr style=\"text-align: right;\">\n",
       "      <th></th>\n",
       "      <th>row_id</th>\n",
       "      <th>meter_reading</th>\n",
       "    </tr>\n",
       "  </thead>\n",
       "  <tbody>\n",
       "    <tr>\n",
       "      <th>0</th>\n",
       "      <td>0</td>\n",
       "      <td>52.614273</td>\n",
       "    </tr>\n",
       "    <tr>\n",
       "      <th>1</th>\n",
       "      <td>1</td>\n",
       "      <td>17.059876</td>\n",
       "    </tr>\n",
       "    <tr>\n",
       "      <th>2</th>\n",
       "      <td>2</td>\n",
       "      <td>3.154063</td>\n",
       "    </tr>\n",
       "    <tr>\n",
       "      <th>3</th>\n",
       "      <td>3</td>\n",
       "      <td>297.666563</td>\n",
       "    </tr>\n",
       "    <tr>\n",
       "      <th>4</th>\n",
       "      <td>4</td>\n",
       "      <td>123.351498</td>\n",
       "    </tr>\n",
       "    <tr>\n",
       "      <th>...</th>\n",
       "      <td>...</td>\n",
       "      <td>...</td>\n",
       "    </tr>\n",
       "    <tr>\n",
       "      <th>41697595</th>\n",
       "      <td>41697595</td>\n",
       "      <td>4.812304</td>\n",
       "    </tr>\n",
       "    <tr>\n",
       "      <th>41697596</th>\n",
       "      <td>41697596</td>\n",
       "      <td>5.169994</td>\n",
       "    </tr>\n",
       "    <tr>\n",
       "      <th>41697597</th>\n",
       "      <td>41697597</td>\n",
       "      <td>7.961248</td>\n",
       "    </tr>\n",
       "    <tr>\n",
       "      <th>41697598</th>\n",
       "      <td>41697598</td>\n",
       "      <td>172.852006</td>\n",
       "    </tr>\n",
       "    <tr>\n",
       "      <th>41697599</th>\n",
       "      <td>41697599</td>\n",
       "      <td>4.091430</td>\n",
       "    </tr>\n",
       "  </tbody>\n",
       "</table>\n",
       "<p>41697600 rows × 2 columns</p>\n",
       "</div>"
      ],
      "text/plain": [
       "            row_id  meter_reading\n",
       "0                0      52.614273\n",
       "1                1      17.059876\n",
       "2                2       3.154063\n",
       "3                3     297.666563\n",
       "4                4     123.351498\n",
       "...            ...            ...\n",
       "41697595  41697595       4.812304\n",
       "41697596  41697596       5.169994\n",
       "41697597  41697597       7.961248\n",
       "41697598  41697598     172.852006\n",
       "41697599  41697599       4.091430\n",
       "\n",
       "[41697600 rows x 2 columns]"
      ]
     },
     "execution_count": 18,
     "metadata": {},
     "output_type": "execute_result"
    }
   ],
   "source": [
    "xl3 = xl[['row_id', 'xl2575']]\n",
    "xl3.columns = ['row_id', 'meter_reading']\n",
    "\n",
    "xl3.to_csv(f'{path}xl3.csv', index=False)\n",
    "xl3 = pd.read_csv(f'{path}xl3.csv')\n",
    "xl3"
   ]
  },
  {
   "cell_type": "code",
   "execution_count": null,
   "metadata": {},
   "outputs": [],
   "source": []
  },
  {
   "cell_type": "code",
   "execution_count": null,
   "metadata": {},
   "outputs": [],
   "source": []
  }
 ],
 "metadata": {
  "kernelspec": {
   "display_name": "Python 3",
   "language": "python",
   "name": "python3"
  },
  "language_info": {
   "codemirror_mode": {
    "name": "ipython",
    "version": 3
   },
   "file_extension": ".py",
   "mimetype": "text/x-python",
   "name": "python",
   "nbconvert_exporter": "python",
   "pygments_lexer": "ipython3",
   "version": "3.8.0"
  }
 },
 "nbformat": 4,
 "nbformat_minor": 4
}
