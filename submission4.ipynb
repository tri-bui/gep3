{
 "cells": [
  {
   "cell_type": "markdown",
   "metadata": {},
   "source": [
    "# Imports"
   ]
  },
  {
   "cell_type": "code",
   "execution_count": 1,
   "metadata": {},
   "outputs": [],
   "source": [
    "%matplotlib inline\n",
    "\n",
    "import src.utils as udf\n",
    "\n",
    "import gc\n",
    "import joblib\n",
    "import numpy as np\n",
    "import pandas as pd\n",
    "\n",
    "from sklearn.model_selection import train_test_split\n",
    "from sklearn.metrics import mean_squared_error, mean_squared_log_error\n",
    "from sklearn.linear_model import Lasso\n",
    "\n",
    "import lightgbm as lgb\n",
    "import xgboost as xgb"
   ]
  },
  {
   "cell_type": "code",
   "execution_count": null,
   "metadata": {},
   "outputs": [],
   "source": []
  },
  {
   "cell_type": "code",
   "execution_count": null,
   "metadata": {},
   "outputs": [],
   "source": []
  },
  {
   "cell_type": "markdown",
   "metadata": {},
   "source": [
    "# Data"
   ]
  },
  {
   "cell_type": "code",
   "execution_count": 2,
   "metadata": {},
   "outputs": [],
   "source": [
    "path = '../data/'"
   ]
  },
  {
   "cell_type": "code",
   "execution_count": 3,
   "metadata": {},
   "outputs": [
    {
     "name": "stdout",
     "output_type": "stream",
     "text": [
      "<class 'pandas.core.frame.DataFrame'>\n",
      "Int64Index: 18264895 entries, 0 to 18264894\n",
      "Data columns (total 18 columns):\n",
      "building_id           uint16\n",
      "meter                 uint8\n",
      "meter_reading         float32\n",
      "dew_temperature       float32\n",
      "sea_level_pressure    float32\n",
      "wind_speed            float32\n",
      "primary_use           object\n",
      "square_feet           uint32\n",
      "year_built            uint16\n",
      "missing_year          uint8\n",
      "dayofyear             uint16\n",
      "hour                  uint8\n",
      "wind_direction_x      float32\n",
      "wind_direction_y      float32\n",
      "rel_humidity          float32\n",
      "is_weekend            uint8\n",
      "country               object\n",
      "is_holiday            uint8\n",
      "dtypes: float32(7), object(2), uint16(3), uint32(1), uint8(5)\n",
      "memory usage: 1.1+ GB\n"
     ]
    }
   ],
   "source": [
    "train = pd.read_pickle(f'{path}from_mod/train.pkl')\n",
    "train.info()"
   ]
  },
  {
   "cell_type": "code",
   "execution_count": 4,
   "metadata": {},
   "outputs": [
    {
     "name": "stdout",
     "output_type": "stream",
     "text": [
      "<class 'pandas.core.frame.DataFrame'>\n",
      "Int64Index: 18264895 entries, 0 to 18264894\n",
      "Data columns (total 18 columns):\n",
      "building_id           uint16\n",
      "meter                 uint8\n",
      "meter_reading         float32\n",
      "dew_temperature       float32\n",
      "sea_level_pressure    float32\n",
      "wind_speed            float32\n",
      "primary_use           object\n",
      "square_feet           uint32\n",
      "year_built            uint16\n",
      "missing_year          uint8\n",
      "dayofyear             uint16\n",
      "hour                  uint8\n",
      "wind_direction_x      float32\n",
      "wind_direction_y      float32\n",
      "rel_humidity          float32\n",
      "is_weekend            uint8\n",
      "country               object\n",
      "is_holiday            uint8\n",
      "dtypes: float32(7), object(2), uint16(3), uint32(1), uint8(5)\n",
      "memory usage: 1.1+ GB\n"
     ]
    }
   ],
   "source": [
    "train = udf.reduce_mem_usage(train)\n",
    "train.info()"
   ]
  },
  {
   "cell_type": "code",
   "execution_count": 5,
   "metadata": {},
   "outputs": [
    {
     "name": "stdout",
     "output_type": "stream",
     "text": [
      "<class 'pandas.core.frame.DataFrame'>\n",
      "Int64Index: 41697600 entries, 0 to 41697599\n",
      "Data columns (total 17 columns):\n",
      "building_id           uint16\n",
      "meter                 uint8\n",
      "dew_temperature       float32\n",
      "sea_level_pressure    float32\n",
      "wind_speed            float32\n",
      "primary_use           object\n",
      "square_feet           uint32\n",
      "year_built            uint16\n",
      "missing_year          uint8\n",
      "dayofyear             int64\n",
      "hour                  int64\n",
      "wind_direction_x      float32\n",
      "wind_direction_y      float32\n",
      "rel_humidity          float32\n",
      "is_weekend            int64\n",
      "country               object\n",
      "is_holiday            int64\n",
      "dtypes: float32(6), int64(4), object(2), uint16(2), uint32(1), uint8(2)\n",
      "memory usage: 3.5+ GB\n"
     ]
    }
   ],
   "source": [
    "test = pd.read_pickle(f'{path}from_sub/test.pkl')\n",
    "test.info()"
   ]
  },
  {
   "cell_type": "code",
   "execution_count": 6,
   "metadata": {},
   "outputs": [
    {
     "name": "stdout",
     "output_type": "stream",
     "text": [
      "<class 'pandas.core.frame.DataFrame'>\n",
      "Int64Index: 41697600 entries, 0 to 41697599\n",
      "Data columns (total 17 columns):\n",
      "building_id           uint16\n",
      "meter                 uint8\n",
      "dew_temperature       float32\n",
      "sea_level_pressure    float32\n",
      "wind_speed            float32\n",
      "primary_use           object\n",
      "square_feet           uint32\n",
      "year_built            uint16\n",
      "missing_year          uint8\n",
      "dayofyear             uint16\n",
      "hour                  uint8\n",
      "wind_direction_x      float32\n",
      "wind_direction_y      float32\n",
      "rel_humidity          float32\n",
      "is_weekend            uint8\n",
      "country               object\n",
      "is_holiday            uint8\n",
      "dtypes: float32(6), object(2), uint16(3), uint32(1), uint8(5)\n",
      "memory usage: 2.4+ GB\n"
     ]
    }
   ],
   "source": [
    "test = udf.reduce_mem_usage(test)\n",
    "test.info()"
   ]
  },
  {
   "cell_type": "code",
   "execution_count": 7,
   "metadata": {},
   "outputs": [
    {
     "name": "stdout",
     "output_type": "stream",
     "text": [
      "<class 'pandas.core.frame.DataFrame'>\n",
      "RangeIndex: 41697600 entries, 0 to 41697599\n",
      "Data columns (total 2 columns):\n",
      "row_id           int64\n",
      "meter_reading    int64\n",
      "dtypes: int64(2)\n",
      "memory usage: 636.3 MB\n"
     ]
    }
   ],
   "source": [
    "submission = pd.read_csv(f'{path}raw/test/sample_submission.csv')\n",
    "submission.info()"
   ]
  },
  {
   "cell_type": "code",
   "execution_count": 8,
   "metadata": {},
   "outputs": [
    {
     "name": "stdout",
     "output_type": "stream",
     "text": [
      "<class 'pandas.core.frame.DataFrame'>\n",
      "RangeIndex: 41697600 entries, 0 to 41697599\n",
      "Data columns (total 2 columns):\n",
      "row_id           uint32\n",
      "meter_reading    uint8\n",
      "dtypes: uint32(1), uint8(1)\n",
      "memory usage: 198.8 MB\n"
     ]
    }
   ],
   "source": [
    "submission = udf.reduce_mem_usage(submission)\n",
    "submission.info()"
   ]
  },
  {
   "cell_type": "code",
   "execution_count": 9,
   "metadata": {},
   "outputs": [
    {
     "name": "stdout",
     "output_type": "stream",
     "text": [
      "<class 'pandas.core.frame.DataFrame'>\n",
      "Int64Index: 41697600 entries, 0 to 41697599\n",
      "Data columns (total 9 columns):\n",
      "row_id          uint32\n",
      "building_id     uint16\n",
      "meter           uint8\n",
      "timestamp       datetime64[ns]\n",
      "site_id         uint8\n",
      "primary_use     object\n",
      "square_feet     uint32\n",
      "year_built      uint16\n",
      "missing_year    uint8\n",
      "dtypes: datetime64[ns](1), object(1), uint16(2), uint32(2), uint8(3)\n",
      "memory usage: 1.5+ GB\n"
     ]
    }
   ],
   "source": [
    "mb = pd.read_pickle(f'{path}from_sub/mb.pkl')\n",
    "mb.info()"
   ]
  },
  {
   "cell_type": "code",
   "execution_count": 10,
   "metadata": {},
   "outputs": [
    {
     "name": "stdout",
     "output_type": "stream",
     "text": [
      "<class 'pandas.core.frame.DataFrame'>\n",
      "Int64Index: 41697600 entries, 0 to 41697599\n",
      "Data columns (total 9 columns):\n",
      "row_id          uint32\n",
      "building_id     uint16\n",
      "meter           uint8\n",
      "timestamp       datetime64[ns]\n",
      "site_id         uint8\n",
      "primary_use     object\n",
      "square_feet     uint32\n",
      "year_built      uint16\n",
      "missing_year    uint8\n",
      "dtypes: datetime64[ns](1), object(1), uint16(2), uint32(2), uint8(3)\n",
      "memory usage: 1.5+ GB\n"
     ]
    }
   ],
   "source": [
    "mb = udf.reduce_mem_usage(mb)\n",
    "mb.info()"
   ]
  },
  {
   "cell_type": "code",
   "execution_count": 11,
   "metadata": {},
   "outputs": [
    {
     "data": {
      "text/plain": [
       "44"
      ]
     },
     "execution_count": 11,
     "metadata": {},
     "output_type": "execute_result"
    }
   ],
   "source": [
    "del path\n",
    "gc.collect()"
   ]
  },
  {
   "cell_type": "code",
   "execution_count": null,
   "metadata": {},
   "outputs": [],
   "source": []
  },
  {
   "cell_type": "code",
   "execution_count": null,
   "metadata": {},
   "outputs": [],
   "source": []
  },
  {
   "cell_type": "markdown",
   "metadata": {},
   "source": [
    "# Features"
   ]
  },
  {
   "cell_type": "code",
   "execution_count": 12,
   "metadata": {},
   "outputs": [
    {
     "data": {
      "text/html": [
       "<div>\n",
       "<style scoped>\n",
       "    .dataframe tbody tr th:only-of-type {\n",
       "        vertical-align: middle;\n",
       "    }\n",
       "\n",
       "    .dataframe tbody tr th {\n",
       "        vertical-align: top;\n",
       "    }\n",
       "\n",
       "    .dataframe thead th {\n",
       "        text-align: right;\n",
       "    }\n",
       "</style>\n",
       "<table border=\"1\" class=\"dataframe\">\n",
       "  <thead>\n",
       "    <tr style=\"text-align: right;\">\n",
       "      <th></th>\n",
       "      <th>building_id</th>\n",
       "      <th>meter</th>\n",
       "      <th>meter_reading</th>\n",
       "      <th>dew_temperature</th>\n",
       "      <th>sea_level_pressure</th>\n",
       "      <th>wind_speed</th>\n",
       "      <th>primary_use</th>\n",
       "      <th>square_feet</th>\n",
       "      <th>year_built</th>\n",
       "      <th>missing_year</th>\n",
       "      <th>dayofyear</th>\n",
       "      <th>hour</th>\n",
       "      <th>wind_direction_x</th>\n",
       "      <th>wind_direction_y</th>\n",
       "      <th>rel_humidity</th>\n",
       "      <th>is_weekend</th>\n",
       "      <th>country</th>\n",
       "      <th>is_holiday</th>\n",
       "    </tr>\n",
       "  </thead>\n",
       "  <tbody>\n",
       "    <tr>\n",
       "      <th>0</th>\n",
       "      <td>46</td>\n",
       "      <td>0</td>\n",
       "      <td>15.604556</td>\n",
       "      <td>19.4</td>\n",
       "      <td>1019.400024</td>\n",
       "      <td>0.0</td>\n",
       "      <td>Retail</td>\n",
       "      <td>9045</td>\n",
       "      <td>2016</td>\n",
       "      <td>0</td>\n",
       "      <td>1</td>\n",
       "      <td>0</td>\n",
       "      <td>0.0</td>\n",
       "      <td>0.000000</td>\n",
       "      <td>100.000000</td>\n",
       "      <td>0</td>\n",
       "      <td>US</td>\n",
       "      <td>1</td>\n",
       "    </tr>\n",
       "    <tr>\n",
       "      <th>1</th>\n",
       "      <td>74</td>\n",
       "      <td>0</td>\n",
       "      <td>12.603682</td>\n",
       "      <td>19.4</td>\n",
       "      <td>1019.400024</td>\n",
       "      <td>0.0</td>\n",
       "      <td>Parking</td>\n",
       "      <td>387638</td>\n",
       "      <td>1997</td>\n",
       "      <td>0</td>\n",
       "      <td>1</td>\n",
       "      <td>0</td>\n",
       "      <td>0.0</td>\n",
       "      <td>0.000000</td>\n",
       "      <td>100.000000</td>\n",
       "      <td>0</td>\n",
       "      <td>US</td>\n",
       "      <td>1</td>\n",
       "    </tr>\n",
       "    <tr>\n",
       "      <th>2</th>\n",
       "      <td>93</td>\n",
       "      <td>0</td>\n",
       "      <td>15.364478</td>\n",
       "      <td>19.4</td>\n",
       "      <td>1019.400024</td>\n",
       "      <td>0.0</td>\n",
       "      <td>Office</td>\n",
       "      <td>33370</td>\n",
       "      <td>1982</td>\n",
       "      <td>0</td>\n",
       "      <td>1</td>\n",
       "      <td>0</td>\n",
       "      <td>0.0</td>\n",
       "      <td>0.000000</td>\n",
       "      <td>100.000000</td>\n",
       "      <td>0</td>\n",
       "      <td>US</td>\n",
       "      <td>1</td>\n",
       "    </tr>\n",
       "    <tr>\n",
       "      <th>3</th>\n",
       "      <td>105</td>\n",
       "      <td>0</td>\n",
       "      <td>23.303600</td>\n",
       "      <td>2.4</td>\n",
       "      <td>1020.900024</td>\n",
       "      <td>3.1</td>\n",
       "      <td>Education</td>\n",
       "      <td>50623</td>\n",
       "      <td>1960</td>\n",
       "      <td>1</td>\n",
       "      <td>1</td>\n",
       "      <td>0</td>\n",
       "      <td>-0.5</td>\n",
       "      <td>-0.866025</td>\n",
       "      <td>90.549408</td>\n",
       "      <td>0</td>\n",
       "      <td>UK</td>\n",
       "      <td>1</td>\n",
       "    </tr>\n",
       "    <tr>\n",
       "      <th>4</th>\n",
       "      <td>106</td>\n",
       "      <td>0</td>\n",
       "      <td>0.374600</td>\n",
       "      <td>2.4</td>\n",
       "      <td>1020.900024</td>\n",
       "      <td>3.1</td>\n",
       "      <td>Education</td>\n",
       "      <td>5374</td>\n",
       "      <td>1960</td>\n",
       "      <td>1</td>\n",
       "      <td>1</td>\n",
       "      <td>0</td>\n",
       "      <td>-0.5</td>\n",
       "      <td>-0.866025</td>\n",
       "      <td>90.549408</td>\n",
       "      <td>0</td>\n",
       "      <td>UK</td>\n",
       "      <td>1</td>\n",
       "    </tr>\n",
       "  </tbody>\n",
       "</table>\n",
       "</div>"
      ],
      "text/plain": [
       "   building_id  meter  meter_reading  dew_temperature  sea_level_pressure  \\\n",
       "0           46      0      15.604556             19.4         1019.400024   \n",
       "1           74      0      12.603682             19.4         1019.400024   \n",
       "2           93      0      15.364478             19.4         1019.400024   \n",
       "3          105      0      23.303600              2.4         1020.900024   \n",
       "4          106      0       0.374600              2.4         1020.900024   \n",
       "\n",
       "   wind_speed primary_use  square_feet  year_built  missing_year  dayofyear  \\\n",
       "0         0.0      Retail         9045        2016             0          1   \n",
       "1         0.0     Parking       387638        1997             0          1   \n",
       "2         0.0      Office        33370        1982             0          1   \n",
       "3         3.1   Education        50623        1960             1          1   \n",
       "4         3.1   Education         5374        1960             1          1   \n",
       "\n",
       "   hour  wind_direction_x  wind_direction_y  rel_humidity  is_weekend country  \\\n",
       "0     0               0.0          0.000000    100.000000           0      US   \n",
       "1     0               0.0          0.000000    100.000000           0      US   \n",
       "2     0               0.0          0.000000    100.000000           0      US   \n",
       "3     0              -0.5         -0.866025     90.549408           0      UK   \n",
       "4     0              -0.5         -0.866025     90.549408           0      UK   \n",
       "\n",
       "   is_holiday  \n",
       "0           1  \n",
       "1           1  \n",
       "2           1  \n",
       "3           1  \n",
       "4           1  "
      ]
     },
     "execution_count": 12,
     "metadata": {},
     "output_type": "execute_result"
    }
   ],
   "source": [
    "train.head()"
   ]
  },
  {
   "cell_type": "code",
   "execution_count": 13,
   "metadata": {},
   "outputs": [
    {
     "data": {
      "text/html": [
       "<div>\n",
       "<style scoped>\n",
       "    .dataframe tbody tr th:only-of-type {\n",
       "        vertical-align: middle;\n",
       "    }\n",
       "\n",
       "    .dataframe tbody tr th {\n",
       "        vertical-align: top;\n",
       "    }\n",
       "\n",
       "    .dataframe thead th {\n",
       "        text-align: right;\n",
       "    }\n",
       "</style>\n",
       "<table border=\"1\" class=\"dataframe\">\n",
       "  <thead>\n",
       "    <tr style=\"text-align: right;\">\n",
       "      <th></th>\n",
       "      <th>building_id</th>\n",
       "      <th>meter</th>\n",
       "      <th>dew_temperature</th>\n",
       "      <th>sea_level_pressure</th>\n",
       "      <th>wind_speed</th>\n",
       "      <th>primary_use</th>\n",
       "      <th>square_feet</th>\n",
       "      <th>year_built</th>\n",
       "      <th>missing_year</th>\n",
       "      <th>dayofyear</th>\n",
       "      <th>hour</th>\n",
       "      <th>wind_direction_x</th>\n",
       "      <th>wind_direction_y</th>\n",
       "      <th>rel_humidity</th>\n",
       "      <th>is_weekend</th>\n",
       "      <th>country</th>\n",
       "      <th>is_holiday</th>\n",
       "    </tr>\n",
       "  </thead>\n",
       "  <tbody>\n",
       "    <tr>\n",
       "      <th>0</th>\n",
       "      <td>0</td>\n",
       "      <td>0</td>\n",
       "      <td>12.8</td>\n",
       "      <td>1022.099976</td>\n",
       "      <td>2.1</td>\n",
       "      <td>Education</td>\n",
       "      <td>7432</td>\n",
       "      <td>2008</td>\n",
       "      <td>0</td>\n",
       "      <td>1</td>\n",
       "      <td>0</td>\n",
       "      <td>-0.642788</td>\n",
       "      <td>0.766044</td>\n",
       "      <td>83.409012</td>\n",
       "      <td>1</td>\n",
       "      <td>US</td>\n",
       "      <td>1</td>\n",
       "    </tr>\n",
       "    <tr>\n",
       "      <th>1</th>\n",
       "      <td>1</td>\n",
       "      <td>0</td>\n",
       "      <td>12.8</td>\n",
       "      <td>1022.099976</td>\n",
       "      <td>2.1</td>\n",
       "      <td>Education</td>\n",
       "      <td>2720</td>\n",
       "      <td>2004</td>\n",
       "      <td>0</td>\n",
       "      <td>1</td>\n",
       "      <td>0</td>\n",
       "      <td>-0.642788</td>\n",
       "      <td>0.766044</td>\n",
       "      <td>83.409012</td>\n",
       "      <td>1</td>\n",
       "      <td>US</td>\n",
       "      <td>1</td>\n",
       "    </tr>\n",
       "    <tr>\n",
       "      <th>2</th>\n",
       "      <td>2</td>\n",
       "      <td>0</td>\n",
       "      <td>12.8</td>\n",
       "      <td>1022.099976</td>\n",
       "      <td>2.1</td>\n",
       "      <td>Education</td>\n",
       "      <td>5376</td>\n",
       "      <td>1991</td>\n",
       "      <td>0</td>\n",
       "      <td>1</td>\n",
       "      <td>0</td>\n",
       "      <td>-0.642788</td>\n",
       "      <td>0.766044</td>\n",
       "      <td>83.409012</td>\n",
       "      <td>1</td>\n",
       "      <td>US</td>\n",
       "      <td>1</td>\n",
       "    </tr>\n",
       "    <tr>\n",
       "      <th>3</th>\n",
       "      <td>3</td>\n",
       "      <td>0</td>\n",
       "      <td>12.8</td>\n",
       "      <td>1022.099976</td>\n",
       "      <td>2.1</td>\n",
       "      <td>Education</td>\n",
       "      <td>23685</td>\n",
       "      <td>2002</td>\n",
       "      <td>0</td>\n",
       "      <td>1</td>\n",
       "      <td>0</td>\n",
       "      <td>-0.642788</td>\n",
       "      <td>0.766044</td>\n",
       "      <td>83.409012</td>\n",
       "      <td>1</td>\n",
       "      <td>US</td>\n",
       "      <td>1</td>\n",
       "    </tr>\n",
       "    <tr>\n",
       "      <th>4</th>\n",
       "      <td>4</td>\n",
       "      <td>0</td>\n",
       "      <td>12.8</td>\n",
       "      <td>1022.099976</td>\n",
       "      <td>2.1</td>\n",
       "      <td>Education</td>\n",
       "      <td>116607</td>\n",
       "      <td>1975</td>\n",
       "      <td>0</td>\n",
       "      <td>1</td>\n",
       "      <td>0</td>\n",
       "      <td>-0.642788</td>\n",
       "      <td>0.766044</td>\n",
       "      <td>83.409012</td>\n",
       "      <td>1</td>\n",
       "      <td>US</td>\n",
       "      <td>1</td>\n",
       "    </tr>\n",
       "  </tbody>\n",
       "</table>\n",
       "</div>"
      ],
      "text/plain": [
       "   building_id  meter  dew_temperature  sea_level_pressure  wind_speed  \\\n",
       "0            0      0             12.8         1022.099976         2.1   \n",
       "1            1      0             12.8         1022.099976         2.1   \n",
       "2            2      0             12.8         1022.099976         2.1   \n",
       "3            3      0             12.8         1022.099976         2.1   \n",
       "4            4      0             12.8         1022.099976         2.1   \n",
       "\n",
       "  primary_use  square_feet  year_built  missing_year  dayofyear  hour  \\\n",
       "0   Education         7432        2008             0          1     0   \n",
       "1   Education         2720        2004             0          1     0   \n",
       "2   Education         5376        1991             0          1     0   \n",
       "3   Education        23685        2002             0          1     0   \n",
       "4   Education       116607        1975             0          1     0   \n",
       "\n",
       "   wind_direction_x  wind_direction_y  rel_humidity  is_weekend country  \\\n",
       "0         -0.642788          0.766044     83.409012           1      US   \n",
       "1         -0.642788          0.766044     83.409012           1      US   \n",
       "2         -0.642788          0.766044     83.409012           1      US   \n",
       "3         -0.642788          0.766044     83.409012           1      US   \n",
       "4         -0.642788          0.766044     83.409012           1      US   \n",
       "\n",
       "   is_holiday  \n",
       "0           1  \n",
       "1           1  \n",
       "2           1  \n",
       "3           1  \n",
       "4           1  "
      ]
     },
     "execution_count": 13,
     "metadata": {},
     "output_type": "execute_result"
    }
   ],
   "source": [
    "test.head()"
   ]
  },
  {
   "cell_type": "code",
   "execution_count": 15,
   "metadata": {},
   "outputs": [
    {
     "data": {
      "text/html": [
       "<div>\n",
       "<style scoped>\n",
       "    .dataframe tbody tr th:only-of-type {\n",
       "        vertical-align: middle;\n",
       "    }\n",
       "\n",
       "    .dataframe tbody tr th {\n",
       "        vertical-align: top;\n",
       "    }\n",
       "\n",
       "    .dataframe thead th {\n",
       "        text-align: right;\n",
       "    }\n",
       "</style>\n",
       "<table border=\"1\" class=\"dataframe\">\n",
       "  <thead>\n",
       "    <tr style=\"text-align: right;\">\n",
       "      <th></th>\n",
       "      <th>building_id</th>\n",
       "      <th>meter</th>\n",
       "      <th>dew_temperature</th>\n",
       "      <th>wind_speed</th>\n",
       "      <th>primary_use</th>\n",
       "      <th>square_feet</th>\n",
       "      <th>year_built</th>\n",
       "      <th>dayofyear</th>\n",
       "      <th>hour</th>\n",
       "      <th>wind_direction_y</th>\n",
       "      <th>is_weekend</th>\n",
       "      <th>country</th>\n",
       "      <th>is_holiday</th>\n",
       "    </tr>\n",
       "  </thead>\n",
       "  <tbody>\n",
       "    <tr>\n",
       "      <th>0</th>\n",
       "      <td>0</td>\n",
       "      <td>0</td>\n",
       "      <td>12.8</td>\n",
       "      <td>2.1</td>\n",
       "      <td>Education</td>\n",
       "      <td>7432</td>\n",
       "      <td>2008</td>\n",
       "      <td>1</td>\n",
       "      <td>0</td>\n",
       "      <td>0.766044</td>\n",
       "      <td>1</td>\n",
       "      <td>US</td>\n",
       "      <td>1</td>\n",
       "    </tr>\n",
       "    <tr>\n",
       "      <th>1</th>\n",
       "      <td>1</td>\n",
       "      <td>0</td>\n",
       "      <td>12.8</td>\n",
       "      <td>2.1</td>\n",
       "      <td>Education</td>\n",
       "      <td>2720</td>\n",
       "      <td>2004</td>\n",
       "      <td>1</td>\n",
       "      <td>0</td>\n",
       "      <td>0.766044</td>\n",
       "      <td>1</td>\n",
       "      <td>US</td>\n",
       "      <td>1</td>\n",
       "    </tr>\n",
       "    <tr>\n",
       "      <th>2</th>\n",
       "      <td>2</td>\n",
       "      <td>0</td>\n",
       "      <td>12.8</td>\n",
       "      <td>2.1</td>\n",
       "      <td>Education</td>\n",
       "      <td>5376</td>\n",
       "      <td>1991</td>\n",
       "      <td>1</td>\n",
       "      <td>0</td>\n",
       "      <td>0.766044</td>\n",
       "      <td>1</td>\n",
       "      <td>US</td>\n",
       "      <td>1</td>\n",
       "    </tr>\n",
       "    <tr>\n",
       "      <th>3</th>\n",
       "      <td>3</td>\n",
       "      <td>0</td>\n",
       "      <td>12.8</td>\n",
       "      <td>2.1</td>\n",
       "      <td>Education</td>\n",
       "      <td>23685</td>\n",
       "      <td>2002</td>\n",
       "      <td>1</td>\n",
       "      <td>0</td>\n",
       "      <td>0.766044</td>\n",
       "      <td>1</td>\n",
       "      <td>US</td>\n",
       "      <td>1</td>\n",
       "    </tr>\n",
       "    <tr>\n",
       "      <th>4</th>\n",
       "      <td>4</td>\n",
       "      <td>0</td>\n",
       "      <td>12.8</td>\n",
       "      <td>2.1</td>\n",
       "      <td>Education</td>\n",
       "      <td>116607</td>\n",
       "      <td>1975</td>\n",
       "      <td>1</td>\n",
       "      <td>0</td>\n",
       "      <td>0.766044</td>\n",
       "      <td>1</td>\n",
       "      <td>US</td>\n",
       "      <td>1</td>\n",
       "    </tr>\n",
       "  </tbody>\n",
       "</table>\n",
       "</div>"
      ],
      "text/plain": [
       "   building_id  meter  dew_temperature  wind_speed primary_use  square_feet  \\\n",
       "0            0      0             12.8         2.1   Education         7432   \n",
       "1            1      0             12.8         2.1   Education         2720   \n",
       "2            2      0             12.8         2.1   Education         5376   \n",
       "3            3      0             12.8         2.1   Education        23685   \n",
       "4            4      0             12.8         2.1   Education       116607   \n",
       "\n",
       "   year_built  dayofyear  hour  wind_direction_y  is_weekend country  \\\n",
       "0        2008          1     0          0.766044           1      US   \n",
       "1        2004          1     0          0.766044           1      US   \n",
       "2        1991          1     0          0.766044           1      US   \n",
       "3        2002          1     0          0.766044           1      US   \n",
       "4        1975          1     0          0.766044           1      US   \n",
       "\n",
       "   is_holiday  \n",
       "0           1  \n",
       "1           1  \n",
       "2           1  \n",
       "3           1  \n",
       "4           1  "
      ]
     },
     "execution_count": 15,
     "metadata": {},
     "output_type": "execute_result"
    }
   ],
   "source": [
    "train.drop(['missing_year', 'wind_direction_x','sea_level_pressure', 'rel_humidity'], axis=1, inplace=True)\n",
    "feats = train.drop('meter_reading', axis=1).columns\n",
    "test = test[feats]\n",
    "test.head()"
   ]
  },
  {
   "cell_type": "code",
   "execution_count": 16,
   "metadata": {},
   "outputs": [
    {
     "data": {
      "text/plain": [
       "182"
      ]
     },
     "execution_count": 16,
     "metadata": {},
     "output_type": "execute_result"
    }
   ],
   "source": [
    "del feats\n",
    "gc.collect()"
   ]
  },
  {
   "cell_type": "code",
   "execution_count": null,
   "metadata": {},
   "outputs": [],
   "source": []
  },
  {
   "cell_type": "code",
   "execution_count": null,
   "metadata": {},
   "outputs": [],
   "source": []
  },
  {
   "cell_type": "markdown",
   "metadata": {},
   "source": [
    "# Split data"
   ]
  },
  {
   "cell_type": "code",
   "execution_count": 17,
   "metadata": {},
   "outputs": [
    {
     "name": "stdout",
     "output_type": "stream",
     "text": [
      "Meter 0: (11530268, 13) (24755760, 12)\n",
      "Meter 1: (3518870, 13) (8724960, 12)\n",
      "Meter 2: (2296049, 13) (5676480, 12)\n",
      "Meter 3: (919708, 13) (2540400, 12)\n"
     ]
    }
   ],
   "source": [
    "train_df = []\n",
    "test_df = []\n",
    "\n",
    "for m in range(4):\n",
    "    df_train = train[train.meter == m].drop('meter', axis=1)\n",
    "    df_test = test[test.meter == m].drop('meter', axis=1)\n",
    "    train_df.append(df_train)\n",
    "    test_df.append(df_test)\n",
    "    print(f'Meter {m}:', df_train.shape, df_test.shape)"
   ]
  },
  {
   "cell_type": "code",
   "execution_count": 18,
   "metadata": {},
   "outputs": [
    {
     "data": {
      "text/plain": [
       "20"
      ]
     },
     "execution_count": 18,
     "metadata": {},
     "output_type": "execute_result"
    }
   ],
   "source": [
    "del m, df_train, df_test\n",
    "gc.collect()"
   ]
  },
  {
   "cell_type": "code",
   "execution_count": null,
   "metadata": {},
   "outputs": [],
   "source": []
  },
  {
   "cell_type": "code",
   "execution_count": null,
   "metadata": {},
   "outputs": [],
   "source": []
  },
  {
   "cell_type": "markdown",
   "metadata": {},
   "source": [
    "# Functions"
   ]
  },
  {
   "cell_type": "code",
   "execution_count": 19,
   "metadata": {},
   "outputs": [],
   "source": [
    "def transform_data(df_train, df_test):\n",
    "    X_train = df_train.drop('meter_reading', axis=1)\n",
    "    y_train = df_train[['meter_reading']]\n",
    "    y_train = np.log1p(y_train)\n",
    "    \n",
    "    X_train, X_val, X_test, rare_dict = udf.rare_encoder(X_train, df_test, ['primary_use'])\n",
    "    X_train, X_val, X_test, mean_dict = udf.mean_encoder(X_train, y_train, X_test, ['primary_use', 'country'])\n",
    "    X_train_scaled, X_val, X_test_scaled = udf.scale_feats(X_train, X_test)\n",
    "    \n",
    "    X_train_scaled, X_val_scaled, y_train, y_val = train_test_split(X_train_scaled, y_train, test_size=0.25, random_state=42)\n",
    "    \n",
    "    print('Train: ', X_train_scaled.shape, y_train.shape)\n",
    "    print('Validation: ', X_val_scaled.shape, y_val.shape)\n",
    "    print('Train: ', X_test_scaled.shape)\n",
    "    \n",
    "    return X_train_scaled, X_val_scaled, X_test_scaled, y_train, y_val"
   ]
  },
  {
   "cell_type": "code",
   "execution_count": 20,
   "metadata": {},
   "outputs": [],
   "source": [
    "def predict_lgb(X_train, y_train, X_val, y_val, X_test, params_dict, save_path):\n",
    "    dtrain = lgb.Dataset(X_train, label=y_train)\n",
    "    dval = lgb.Dataset(X_val, label=y_val)\n",
    "    lgbm = lgb.train(params_dict, dtrain, valid_sets=[dtrain, dval], valid_names=['train', 'val'], verbose_eval=False)\n",
    "    lgbm.save_model(save_path)\n",
    "    \n",
    "    pred = lgbm.predict(X_test)\n",
    "    pred[pred < 0] = 0\n",
    "    return pred"
   ]
  },
  {
   "cell_type": "code",
   "execution_count": 21,
   "metadata": {},
   "outputs": [],
   "source": [
    "def predict_xgb(X_train, y_train, X_val, y_val, X_test, params_dict, save_path):\n",
    "    dtrain = xgb.DMatrix(X_train, label=y_train)\n",
    "    dval = xgb.DMatrix(X_val, label=y_val)\n",
    "    dtest = xgb.DMatrix(X_test)\n",
    "    xg = xgb.train(params_dict, dtrain, evals=[(dtrain, 'train'), (dval, 'val')], num_boost_round=1000, early_stopping_rounds=10, verbose_eval=False)\n",
    "    xg.save_model(save_path)\n",
    "    \n",
    "    pred = xg.predict(dtest)\n",
    "    pred[pred < 0] = 0\n",
    "    return pred"
   ]
  },
  {
   "cell_type": "code",
   "execution_count": 22,
   "metadata": {},
   "outputs": [
    {
     "data": {
      "text/plain": [
       "22"
      ]
     },
     "execution_count": 22,
     "metadata": {},
     "output_type": "execute_result"
    }
   ],
   "source": [
    "gc.collect()"
   ]
  },
  {
   "cell_type": "code",
   "execution_count": null,
   "metadata": {},
   "outputs": [],
   "source": []
  },
  {
   "cell_type": "code",
   "execution_count": null,
   "metadata": {},
   "outputs": [],
   "source": []
  },
  {
   "cell_type": "markdown",
   "metadata": {},
   "source": [
    "# Electricity meter"
   ]
  },
  {
   "cell_type": "markdown",
   "metadata": {},
   "source": [
    "### Transform data"
   ]
  },
  {
   "cell_type": "code",
   "execution_count": 23,
   "metadata": {},
   "outputs": [
    {
     "name": "stderr",
     "output_type": "stream",
     "text": [
      "/home/tri/miniconda3/envs/minimal_ds/lib/python3.8/site-packages/sklearn/utils/validation.py:931: FutureWarning: Passing attributes to check_is_fitted is deprecated and will be removed in 0.23. The attributes argument is ignored.\n",
      "  warnings.warn(\"Passing attributes to check_is_fitted is deprecated\"\n"
     ]
    },
    {
     "name": "stdout",
     "output_type": "stream",
     "text": [
      "Train:  (8647701, 12) (8647701, 1)\n",
      "Validation:  (2882567, 12) (2882567, 1)\n",
      "Train:  (24755760, 12)\n"
     ]
    },
    {
     "data": {
      "text/html": [
       "<div>\n",
       "<style scoped>\n",
       "    .dataframe tbody tr th:only-of-type {\n",
       "        vertical-align: middle;\n",
       "    }\n",
       "\n",
       "    .dataframe tbody tr th {\n",
       "        vertical-align: top;\n",
       "    }\n",
       "\n",
       "    .dataframe thead th {\n",
       "        text-align: right;\n",
       "    }\n",
       "</style>\n",
       "<table border=\"1\" class=\"dataframe\">\n",
       "  <thead>\n",
       "    <tr style=\"text-align: right;\">\n",
       "      <th></th>\n",
       "      <th>building_id</th>\n",
       "      <th>dew_temperature</th>\n",
       "      <th>wind_speed</th>\n",
       "      <th>primary_use</th>\n",
       "      <th>square_feet</th>\n",
       "      <th>year_built</th>\n",
       "      <th>dayofyear</th>\n",
       "      <th>hour</th>\n",
       "      <th>wind_direction_y</th>\n",
       "      <th>is_weekend</th>\n",
       "      <th>country</th>\n",
       "      <th>is_holiday</th>\n",
       "    </tr>\n",
       "  </thead>\n",
       "  <tbody>\n",
       "    <tr>\n",
       "      <th>3820751</th>\n",
       "      <td>1.660735</td>\n",
       "      <td>-0.714804</td>\n",
       "      <td>0.663585</td>\n",
       "      <td>-0.364128</td>\n",
       "      <td>0.032242</td>\n",
       "      <td>-2.496025</td>\n",
       "      <td>-0.553622</td>\n",
       "      <td>0.794318</td>\n",
       "      <td>-0.425474</td>\n",
       "      <td>-0.633757</td>\n",
       "      <td>0.18362</td>\n",
       "      <td>-0.180316</td>\n",
       "    </tr>\n",
       "    <tr>\n",
       "      <th>5192151</th>\n",
       "      <td>-1.138221</td>\n",
       "      <td>0.185423</td>\n",
       "      <td>-0.197577</td>\n",
       "      <td>1.047964</td>\n",
       "      <td>0.306161</td>\n",
       "      <td>0.586150</td>\n",
       "      <td>-0.144126</td>\n",
       "      <td>-0.650406</td>\n",
       "      <td>1.588679</td>\n",
       "      <td>-0.633757</td>\n",
       "      <td>0.18362</td>\n",
       "      <td>-0.180316</td>\n",
       "    </tr>\n",
       "    <tr>\n",
       "      <th>10784538</th>\n",
       "      <td>-0.288186</td>\n",
       "      <td>0.519215</td>\n",
       "      <td>-0.886506</td>\n",
       "      <td>1.047964</td>\n",
       "      <td>-0.372759</td>\n",
       "      <td>-1.982329</td>\n",
       "      <td>1.484338</td>\n",
       "      <td>0.505373</td>\n",
       "      <td>-1.401239</td>\n",
       "      <td>-0.633757</td>\n",
       "      <td>0.18362</td>\n",
       "      <td>-0.180316</td>\n",
       "    </tr>\n",
       "    <tr>\n",
       "      <th>3949783</th>\n",
       "      <td>1.724795</td>\n",
       "      <td>-0.097795</td>\n",
       "      <td>-1.532377</td>\n",
       "      <td>-0.364128</td>\n",
       "      <td>-0.651102</td>\n",
       "      <td>-1.608732</td>\n",
       "      <td>-0.515530</td>\n",
       "      <td>1.661153</td>\n",
       "      <td>0.093720</td>\n",
       "      <td>-0.633757</td>\n",
       "      <td>0.18362</td>\n",
       "      <td>-0.180316</td>\n",
       "    </tr>\n",
       "    <tr>\n",
       "      <th>2900643</th>\n",
       "      <td>-1.071696</td>\n",
       "      <td>-0.209059</td>\n",
       "      <td>-0.197577</td>\n",
       "      <td>0.252910</td>\n",
       "      <td>-0.527437</td>\n",
       "      <td>-0.487941</td>\n",
       "      <td>-0.839318</td>\n",
       "      <td>0.505373</td>\n",
       "      <td>-0.941568</td>\n",
       "      <td>1.577891</td>\n",
       "      <td>0.18362</td>\n",
       "      <td>-0.180316</td>\n",
       "    </tr>\n",
       "  </tbody>\n",
       "</table>\n",
       "</div>"
      ],
      "text/plain": [
       "          building_id  dew_temperature  wind_speed  primary_use  square_feet  \\\n",
       "3820751      1.660735        -0.714804    0.663585    -0.364128     0.032242   \n",
       "5192151     -1.138221         0.185423   -0.197577     1.047964     0.306161   \n",
       "10784538    -0.288186         0.519215   -0.886506     1.047964    -0.372759   \n",
       "3949783      1.724795        -0.097795   -1.532377    -0.364128    -0.651102   \n",
       "2900643     -1.071696        -0.209059   -0.197577     0.252910    -0.527437   \n",
       "\n",
       "          year_built  dayofyear      hour  wind_direction_y  is_weekend  \\\n",
       "3820751    -2.496025  -0.553622  0.794318         -0.425474   -0.633757   \n",
       "5192151     0.586150  -0.144126 -0.650406          1.588679   -0.633757   \n",
       "10784538   -1.982329   1.484338  0.505373         -1.401239   -0.633757   \n",
       "3949783    -1.608732  -0.515530  1.661153          0.093720   -0.633757   \n",
       "2900643    -0.487941  -0.839318  0.505373         -0.941568    1.577891   \n",
       "\n",
       "          country  is_holiday  \n",
       "3820751   0.18362   -0.180316  \n",
       "5192151   0.18362   -0.180316  \n",
       "10784538  0.18362   -0.180316  \n",
       "3949783   0.18362   -0.180316  \n",
       "2900643   0.18362   -0.180316  "
      ]
     },
     "execution_count": 23,
     "metadata": {},
     "output_type": "execute_result"
    }
   ],
   "source": [
    "Xe_train_scaled, Xe_val_scaled, Xe_test_scaled, ye_train, ye_val = transform_data(train_df[0], test_df[0])\n",
    "Xe_train_scaled.head()"
   ]
  },
  {
   "cell_type": "code",
   "execution_count": null,
   "metadata": {},
   "outputs": [],
   "source": []
  },
  {
   "cell_type": "code",
   "execution_count": null,
   "metadata": {},
   "outputs": [],
   "source": []
  },
  {
   "cell_type": "markdown",
   "metadata": {},
   "source": [
    "### Lasso Regression"
   ]
  },
  {
   "cell_type": "code",
   "execution_count": 24,
   "metadata": {},
   "outputs": [
    {
     "name": "stdout",
     "output_type": "stream",
     "text": [
      "0.43324185493903133\n",
      "0.28364623098847\n"
     ]
    },
    {
     "data": {
      "text/plain": [
       "array([3.62139544, 3.5598328 , 3.48999142, ..., 3.37445649, 3.91047342,\n",
       "       4.54247601])"
      ]
     },
     "execution_count": 24,
     "metadata": {},
     "output_type": "execute_result"
    }
   ],
   "source": [
    "lasso = Lasso(alpha=1e-6, random_state=42)\n",
    "lasso.fit(Xe_train_scaled, ye_train)\n",
    "\n",
    "val0 = lasso.predict(Xe_val_scaled)\n",
    "print(lasso.score(Xe_val_scaled, ye_val))\n",
    "print(np.sqrt(mean_squared_log_error(ye_val, val0)))\n",
    "\n",
    "lasso0 = lasso.predict(Xe_test_scaled)\n",
    "lasso0[lasso0 < 0] = 0\n",
    "lasso0"
   ]
  },
  {
   "cell_type": "code",
   "execution_count": null,
   "metadata": {},
   "outputs": [],
   "source": []
  },
  {
   "cell_type": "code",
   "execution_count": null,
   "metadata": {},
   "outputs": [],
   "source": []
  },
  {
   "cell_type": "markdown",
   "metadata": {},
   "source": [
    "### LightGBM"
   ]
  },
  {
   "cell_type": "code",
   "execution_count": 25,
   "metadata": {},
   "outputs": [
    {
     "data": {
      "text/plain": [
       "{'learning_rate': 0.07916336777546343,\n",
       " 'lambda_l1': 0.008557356431137609,\n",
       " 'lambda_l2': 0.0006037228650908533,\n",
       " 'max_depth': 51,\n",
       " 'num_leaves': 923,\n",
       " 'min_child_samples': 7,\n",
       " 'subsample': 0.7399597912518232,\n",
       " 'feature_fraction': 0.7310599981838332}"
      ]
     },
     "execution_count": 25,
     "metadata": {},
     "output_type": "execute_result"
    }
   ],
   "source": [
    "study_lgb0 = joblib.load('../objects/electricity/study_lgb.pkl')\n",
    "params_lgb0 = study_lgb0.best_trial.params\n",
    "params_lgb0"
   ]
  },
  {
   "cell_type": "code",
   "execution_count": 26,
   "metadata": {},
   "outputs": [
    {
     "data": {
      "text/plain": [
       "{'learning_rate': 0.07916336777546343,\n",
       " 'lambda_l1': 0.008557356431137609,\n",
       " 'lambda_l2': 0.0006037228650908533,\n",
       " 'max_depth': 51,\n",
       " 'num_leaves': 923,\n",
       " 'min_child_samples': 7,\n",
       " 'subsample': 0.7399597912518232,\n",
       " 'feature_fraction': 0.7310599981838332,\n",
       " 'num_iterations': 10000,\n",
       " 'early_stopping_round': 10,\n",
       " 'metric': 'rmse',\n",
       " 'num_threads': -1,\n",
       " 'seed': 42}"
      ]
     },
     "execution_count": 26,
     "metadata": {},
     "output_type": "execute_result"
    }
   ],
   "source": [
    "params_lgb0['num_iterations'] = 10000\n",
    "params_lgb0['early_stopping_round'] = 10\n",
    "params_lgb0['metric'] = 'rmse'\n",
    "params_lgb0['num_threads'] = -1\n",
    "params_lgb0['seed'] = 42\n",
    "params_lgb0"
   ]
  },
  {
   "cell_type": "code",
   "execution_count": 27,
   "metadata": {},
   "outputs": [
    {
     "name": "stderr",
     "output_type": "stream",
     "text": [
      "/home/tri/miniconda3/envs/minimal_ds/lib/python3.8/site-packages/lightgbm/engine.py:148: UserWarning: Found `num_iterations` in params. Will use it instead of argument\n",
      "  warnings.warn(\"Found `{}` in params. Will use it instead of argument\".format(alias))\n",
      "/home/tri/miniconda3/envs/minimal_ds/lib/python3.8/site-packages/lightgbm/engine.py:153: UserWarning: Found `early_stopping_round` in params. Will use it instead of argument\n",
      "  warnings.warn(\"Found `{}` in params. Will use it instead of argument\".format(alias))\n"
     ]
    },
    {
     "data": {
      "text/plain": [
       "array([2.83301704, 1.71664249, 0.41793999, ..., 2.29911009, 5.20340237,\n",
       "       1.66345259])"
      ]
     },
     "execution_count": 27,
     "metadata": {},
     "output_type": "execute_result"
    }
   ],
   "source": [
    "lgbm0 = predict_lgb(Xe_train_scaled, ye_train, Xe_val_scaled, ye_val, Xe_test_scaled, params_lgb0, '../objects/submission4/lgb0.pkl') # .txt')\n",
    "lgbm0"
   ]
  },
  {
   "cell_type": "code",
   "execution_count": null,
   "metadata": {},
   "outputs": [],
   "source": []
  },
  {
   "cell_type": "code",
   "execution_count": null,
   "metadata": {},
   "outputs": [],
   "source": []
  },
  {
   "cell_type": "markdown",
   "metadata": {},
   "source": [
    "### XGBoost"
   ]
  },
  {
   "cell_type": "code",
   "execution_count": 28,
   "metadata": {},
   "outputs": [
    {
     "data": {
      "text/plain": [
       "{'grow_policy': 'lossguide',\n",
       " 'learning_rate': 0.014754037383886122,\n",
       " 'alpha': 0.005261717289274988,\n",
       " 'lambda': 0.10981652452119427,\n",
       " 'gamma': 0.00015007710756172543,\n",
       " 'max_depth': 23,\n",
       " 'max_leaves': 1598,\n",
       " 'subsample': 0.8406224713599797,\n",
       " 'colsample_bytree': 0.9175035245877109,\n",
       " 'eval_metric': 'rmse',\n",
       " 'seed': 42}"
      ]
     },
     "execution_count": 28,
     "metadata": {},
     "output_type": "execute_result"
    }
   ],
   "source": [
    "study_xgb0 = joblib.load('../objects/electricity/study_xgb.pkl')\n",
    "params_xgb0 = study_xgb0.best_trial.params\n",
    "params_xgb0['eval_metric'] = 'rmse'\n",
    "params_xgb0['seed'] = 42\n",
    "params_xgb0"
   ]
  },
  {
   "cell_type": "code",
   "execution_count": 29,
   "metadata": {},
   "outputs": [
    {
     "name": "stdout",
     "output_type": "stream",
     "text": [
      "[02:13:58] WARNING: /home/conda/feedstock_root/build_artifacts/xgboost_1572314959925/work/src/learner.cc:686: Tree method is automatically selected to be 'approx' for faster speed. To use old behavior (exact greedy algorithm on single machine), set tree_method to 'exact'.\n"
     ]
    },
    {
     "data": {
      "text/plain": [
       "array([2.6438112, 1.7186092, 0.8908986, ..., 2.3611152, 5.1434426,\n",
       "       1.6270531], dtype=float32)"
      ]
     },
     "execution_count": 29,
     "metadata": {},
     "output_type": "execute_result"
    }
   ],
   "source": [
    "xg0 = predict_xgb(Xe_train_scaled, ye_train, Xe_val_scaled, ye_val, Xe_test_scaled, params_xgb0, '../objects/submission4/xgb0.pkl') # .txt')\n",
    "xg0"
   ]
  },
  {
   "cell_type": "code",
   "execution_count": 30,
   "metadata": {},
   "outputs": [
    {
     "data": {
      "text/plain": [
       "100"
      ]
     },
     "execution_count": 30,
     "metadata": {},
     "output_type": "execute_result"
    }
   ],
   "source": [
    "del lasso, val0, study_lgb0\n",
    "gc.collect()"
   ]
  },
  {
   "cell_type": "code",
   "execution_count": null,
   "metadata": {},
   "outputs": [],
   "source": []
  },
  {
   "cell_type": "code",
   "execution_count": null,
   "metadata": {},
   "outputs": [],
   "source": []
  },
  {
   "cell_type": "markdown",
   "metadata": {},
   "source": [
    "# Chilled water meter"
   ]
  },
  {
   "cell_type": "markdown",
   "metadata": {},
   "source": [
    "### Transform data"
   ]
  },
  {
   "cell_type": "code",
   "execution_count": 31,
   "metadata": {},
   "outputs": [
    {
     "name": "stderr",
     "output_type": "stream",
     "text": [
      "/home/tri/miniconda3/envs/minimal_ds/lib/python3.8/site-packages/sklearn/utils/validation.py:931: FutureWarning: Passing attributes to check_is_fitted is deprecated and will be removed in 0.23. The attributes argument is ignored.\n",
      "  warnings.warn(\"Passing attributes to check_is_fitted is deprecated\"\n"
     ]
    },
    {
     "name": "stdout",
     "output_type": "stream",
     "text": [
      "Train:  (2639152, 12) (2639152, 1)\n",
      "Validation:  (879718, 12) (879718, 1)\n",
      "Train:  (8724960, 12)\n"
     ]
    },
    {
     "data": {
      "text/html": [
       "<div>\n",
       "<style scoped>\n",
       "    .dataframe tbody tr th:only-of-type {\n",
       "        vertical-align: middle;\n",
       "    }\n",
       "\n",
       "    .dataframe tbody tr th {\n",
       "        vertical-align: top;\n",
       "    }\n",
       "\n",
       "    .dataframe thead th {\n",
       "        text-align: right;\n",
       "    }\n",
       "</style>\n",
       "<table border=\"1\" class=\"dataframe\">\n",
       "  <thead>\n",
       "    <tr style=\"text-align: right;\">\n",
       "      <th></th>\n",
       "      <th>building_id</th>\n",
       "      <th>dew_temperature</th>\n",
       "      <th>wind_speed</th>\n",
       "      <th>primary_use</th>\n",
       "      <th>square_feet</th>\n",
       "      <th>year_built</th>\n",
       "      <th>dayofyear</th>\n",
       "      <th>hour</th>\n",
       "      <th>wind_direction_y</th>\n",
       "      <th>is_weekend</th>\n",
       "      <th>country</th>\n",
       "      <th>is_holiday</th>\n",
       "    </tr>\n",
       "  </thead>\n",
       "  <tbody>\n",
       "    <tr>\n",
       "      <th>3054842</th>\n",
       "      <td>0.295110</td>\n",
       "      <td>-0.652177</td>\n",
       "      <td>-0.716347</td>\n",
       "      <td>0.758045</td>\n",
       "      <td>0.383649</td>\n",
       "      <td>-0.257998</td>\n",
       "      <td>1.245823</td>\n",
       "      <td>-0.088512</td>\n",
       "      <td>1.409013</td>\n",
       "      <td>-0.625362</td>\n",
       "      <td>-0.173847</td>\n",
       "      <td>-0.170259</td>\n",
       "    </tr>\n",
       "    <tr>\n",
       "      <th>1722336</th>\n",
       "      <td>0.817001</td>\n",
       "      <td>1.320539</td>\n",
       "      <td>0.043689</td>\n",
       "      <td>-1.578794</td>\n",
       "      <td>-0.856238</td>\n",
       "      <td>0.075476</td>\n",
       "      <td>-0.008720</td>\n",
       "      <td>-0.379102</td>\n",
       "      <td>-1.189395</td>\n",
       "      <td>-0.625362</td>\n",
       "      <td>-0.173847</td>\n",
       "      <td>-0.170259</td>\n",
       "    </tr>\n",
       "    <tr>\n",
       "      <th>511899</th>\n",
       "      <td>-1.397081</td>\n",
       "      <td>-0.760676</td>\n",
       "      <td>1.278746</td>\n",
       "      <td>0.611098</td>\n",
       "      <td>0.434406</td>\n",
       "      <td>0.408949</td>\n",
       "      <td>-1.213480</td>\n",
       "      <td>-1.250872</td>\n",
       "      <td>-1.526436</td>\n",
       "      <td>-0.625362</td>\n",
       "      <td>-0.173847</td>\n",
       "      <td>-0.170259</td>\n",
       "    </tr>\n",
       "    <tr>\n",
       "      <th>1159847</th>\n",
       "      <td>-1.891861</td>\n",
       "      <td>1.261357</td>\n",
       "      <td>0.281200</td>\n",
       "      <td>0.758045</td>\n",
       "      <td>-0.292965</td>\n",
       "      <td>1.687265</td>\n",
       "      <td>-0.526468</td>\n",
       "      <td>1.073849</td>\n",
       "      <td>1.508082</td>\n",
       "      <td>-0.625362</td>\n",
       "      <td>-0.173847</td>\n",
       "      <td>-0.170259</td>\n",
       "    </tr>\n",
       "    <tr>\n",
       "      <th>688211</th>\n",
       "      <td>0.277036</td>\n",
       "      <td>1.152858</td>\n",
       "      <td>0.518711</td>\n",
       "      <td>-1.578794</td>\n",
       "      <td>-0.386131</td>\n",
       "      <td>0.075476</td>\n",
       "      <td>-0.994432</td>\n",
       "      <td>-1.541463</td>\n",
       "      <td>0.761156</td>\n",
       "      <td>-0.625362</td>\n",
       "      <td>-0.173847</td>\n",
       "      <td>-0.170259</td>\n",
       "    </tr>\n",
       "  </tbody>\n",
       "</table>\n",
       "</div>"
      ],
      "text/plain": [
       "         building_id  dew_temperature  wind_speed  primary_use  square_feet  \\\n",
       "3054842     0.295110        -0.652177   -0.716347     0.758045     0.383649   \n",
       "1722336     0.817001         1.320539    0.043689    -1.578794    -0.856238   \n",
       "511899     -1.397081        -0.760676    1.278746     0.611098     0.434406   \n",
       "1159847    -1.891861         1.261357    0.281200     0.758045    -0.292965   \n",
       "688211      0.277036         1.152858    0.518711    -1.578794    -0.386131   \n",
       "\n",
       "         year_built  dayofyear      hour  wind_direction_y  is_weekend  \\\n",
       "3054842   -0.257998   1.245823 -0.088512          1.409013   -0.625362   \n",
       "1722336    0.075476  -0.008720 -0.379102         -1.189395   -0.625362   \n",
       "511899     0.408949  -1.213480 -1.250872         -1.526436   -0.625362   \n",
       "1159847    1.687265  -0.526468  1.073849          1.508082   -0.625362   \n",
       "688211     0.075476  -0.994432 -1.541463          0.761156   -0.625362   \n",
       "\n",
       "          country  is_holiday  \n",
       "3054842 -0.173847   -0.170259  \n",
       "1722336 -0.173847   -0.170259  \n",
       "511899  -0.173847   -0.170259  \n",
       "1159847 -0.173847   -0.170259  \n",
       "688211  -0.173847   -0.170259  "
      ]
     },
     "execution_count": 31,
     "metadata": {},
     "output_type": "execute_result"
    }
   ],
   "source": [
    "Xc_train_scaled, Xc_val_scaled, Xc_test_scaled, yc_train, yc_val = transform_data(train_df[1], test_df[1])\n",
    "Xc_train_scaled.head()"
   ]
  },
  {
   "cell_type": "code",
   "execution_count": null,
   "metadata": {},
   "outputs": [],
   "source": []
  },
  {
   "cell_type": "code",
   "execution_count": null,
   "metadata": {},
   "outputs": [],
   "source": []
  },
  {
   "cell_type": "markdown",
   "metadata": {},
   "source": [
    "### Lasso Regression"
   ]
  },
  {
   "cell_type": "code",
   "execution_count": 32,
   "metadata": {},
   "outputs": [
    {
     "name": "stdout",
     "output_type": "stream",
     "text": [
      "0.29020340657972443\n",
      "0.357727694438569\n"
     ]
    },
    {
     "data": {
      "text/plain": [
       "array([4.98783947, 4.05300896, 4.95738605, ..., 4.31064514, 4.15657049,\n",
       "       4.47412741])"
      ]
     },
     "execution_count": 32,
     "metadata": {},
     "output_type": "execute_result"
    }
   ],
   "source": [
    "lasso = Lasso(alpha=1e-6, random_state=42)\n",
    "lasso.fit(Xc_train_scaled, yc_train)\n",
    "\n",
    "val1 = lasso.predict(Xc_val_scaled)\n",
    "print(lasso.score(Xc_val_scaled, yc_val))\n",
    "print(np.sqrt(mean_squared_log_error(yc_val, val1)))\n",
    "\n",
    "lasso1 = lasso.predict(Xc_test_scaled)\n",
    "lasso1[lasso1 < 0] = 0\n",
    "lasso1"
   ]
  },
  {
   "cell_type": "code",
   "execution_count": null,
   "metadata": {},
   "outputs": [],
   "source": []
  },
  {
   "cell_type": "code",
   "execution_count": null,
   "metadata": {},
   "outputs": [],
   "source": []
  },
  {
   "cell_type": "markdown",
   "metadata": {},
   "source": [
    "### LightGBM"
   ]
  },
  {
   "cell_type": "code",
   "execution_count": 33,
   "metadata": {},
   "outputs": [
    {
     "data": {
      "text/plain": [
       "{'learning_rate': 0.020424864262841822,\n",
       " 'lambda_l1': 0.27986455703148144,\n",
       " 'lambda_l2': 7.08804479307531,\n",
       " 'max_depth': 32,\n",
       " 'num_leaves': 1293,\n",
       " 'min_data_in_leaf': 23,\n",
       " 'bagging_fraction': 0.9143657877950819,\n",
       " 'feature_fraction': 0.701556769695671}"
      ]
     },
     "execution_count": 33,
     "metadata": {},
     "output_type": "execute_result"
    }
   ],
   "source": [
    "study_lgb1 = joblib.load('../objects/chilledwater/study_lgb1.pkl')\n",
    "params_lgb1 = study_lgb1.best_trial.params\n",
    "params_lgb1"
   ]
  },
  {
   "cell_type": "code",
   "execution_count": 34,
   "metadata": {},
   "outputs": [
    {
     "data": {
      "text/plain": [
       "{'learning_rate': 0.020424864262841822,\n",
       " 'lambda_l1': 0.27986455703148144,\n",
       " 'lambda_l2': 7.08804479307531,\n",
       " 'max_depth': 32,\n",
       " 'num_leaves': 1293,\n",
       " 'min_data_in_leaf': 23,\n",
       " 'bagging_fraction': 0.9143657877950819,\n",
       " 'feature_fraction': 0.701556769695671,\n",
       " 'num_iterations': 10000,\n",
       " 'early_stopping_round': 20,\n",
       " 'metric': 'rmse',\n",
       " 'num_threads': -1,\n",
       " 'seed': 42}"
      ]
     },
     "execution_count": 34,
     "metadata": {},
     "output_type": "execute_result"
    }
   ],
   "source": [
    "params_lgb1['num_iterations'] = 10000\n",
    "params_lgb1['early_stopping_round'] = 20\n",
    "params_lgb1['metric'] = 'rmse'\n",
    "params_lgb1['num_threads'] = -1\n",
    "params_lgb1['seed'] = 42\n",
    "params_lgb1"
   ]
  },
  {
   "cell_type": "code",
   "execution_count": 35,
   "metadata": {},
   "outputs": [
    {
     "name": "stderr",
     "output_type": "stream",
     "text": [
      "/home/tri/miniconda3/envs/minimal_ds/lib/python3.8/site-packages/lightgbm/engine.py:148: UserWarning: Found `num_iterations` in params. Will use it instead of argument\n",
      "  warnings.warn(\"Found `{}` in params. Will use it instead of argument\".format(alias))\n",
      "/home/tri/miniconda3/envs/minimal_ds/lib/python3.8/site-packages/lightgbm/engine.py:153: UserWarning: Found `early_stopping_round` in params. Will use it instead of argument\n",
      "  warnings.warn(\"Found `{}` in params. Will use it instead of argument\".format(alias))\n"
     ]
    },
    {
     "data": {
      "text/plain": [
       "array([3.08155137, 0.23180519, 1.88365883, ..., 0.85868436, 0.37859159,\n",
       "       1.65446393])"
      ]
     },
     "execution_count": 35,
     "metadata": {},
     "output_type": "execute_result"
    }
   ],
   "source": [
    "lgbm1 = predict_lgb(Xc_train_scaled, yc_train, Xc_val_scaled, yc_val, Xc_test_scaled, params_lgb1, '../objects/submission4/lgb1.pkl') # .txt')\n",
    "lgbm1"
   ]
  },
  {
   "cell_type": "code",
   "execution_count": null,
   "metadata": {},
   "outputs": [],
   "source": []
  },
  {
   "cell_type": "code",
   "execution_count": null,
   "metadata": {},
   "outputs": [],
   "source": []
  },
  {
   "cell_type": "markdown",
   "metadata": {},
   "source": [
    "### XGBoost"
   ]
  },
  {
   "cell_type": "code",
   "execution_count": 36,
   "metadata": {},
   "outputs": [
    {
     "data": {
      "text/plain": [
       "{'grow_policy': 'depthwise',\n",
       " 'learning_rate': 0.03801178677708901,\n",
       " 'alpha': 0.051064916441743415,\n",
       " 'lambda': 0.890189928673286,\n",
       " 'gamma': 0.053083931710043705,\n",
       " 'max_depth': 16,\n",
       " 'max_leaves': 1131,\n",
       " 'subsample': 0.7245353487626778,\n",
       " 'colsample_bytree': 0.777530288110325,\n",
       " 'eval_metric': 'rmse',\n",
       " 'seed': 42}"
      ]
     },
     "execution_count": 36,
     "metadata": {},
     "output_type": "execute_result"
    }
   ],
   "source": [
    "study_xgb1 = joblib.load('../objects/chilledwater/study_xgb1.pkl')\n",
    "params_xgb1 = study_xgb1.best_trial.params\n",
    "params_xgb1['eval_metric'] = 'rmse'\n",
    "params_xgb1['seed'] = 42\n",
    "params_xgb1"
   ]
  },
  {
   "cell_type": "code",
   "execution_count": 37,
   "metadata": {},
   "outputs": [
    {
     "data": {
      "text/plain": [
       "array([3.1646638 , 0.80339533, 2.354431  , ..., 0.75884616, 0.2715187 ,\n",
       "       1.1792278 ], dtype=float32)"
      ]
     },
     "execution_count": 37,
     "metadata": {},
     "output_type": "execute_result"
    }
   ],
   "source": [
    "xg1 = predict_xgb(Xc_train_scaled, yc_train, Xc_val_scaled, yc_val, Xc_test_scaled, params_xgb1, '../objects/submission4/xgb1.pkl') # .txt')\n",
    "xg1"
   ]
  },
  {
   "cell_type": "code",
   "execution_count": 38,
   "metadata": {},
   "outputs": [
    {
     "data": {
      "text/plain": [
       "100"
      ]
     },
     "execution_count": 38,
     "metadata": {},
     "output_type": "execute_result"
    }
   ],
   "source": [
    "del lasso, val1, study_lgb1\n",
    "gc.collect()"
   ]
  },
  {
   "cell_type": "code",
   "execution_count": null,
   "metadata": {},
   "outputs": [],
   "source": []
  },
  {
   "cell_type": "code",
   "execution_count": null,
   "metadata": {},
   "outputs": [],
   "source": []
  },
  {
   "cell_type": "markdown",
   "metadata": {},
   "source": [
    "# Steam meter"
   ]
  },
  {
   "cell_type": "markdown",
   "metadata": {},
   "source": [
    "### Transform data"
   ]
  },
  {
   "cell_type": "code",
   "execution_count": 39,
   "metadata": {},
   "outputs": [
    {
     "name": "stderr",
     "output_type": "stream",
     "text": [
      "/home/tri/miniconda3/envs/minimal_ds/lib/python3.8/site-packages/sklearn/utils/validation.py:931: FutureWarning: Passing attributes to check_is_fitted is deprecated and will be removed in 0.23. The attributes argument is ignored.\n",
      "  warnings.warn(\"Passing attributes to check_is_fitted is deprecated\"\n"
     ]
    },
    {
     "name": "stdout",
     "output_type": "stream",
     "text": [
      "Train:  (1722036, 12) (1722036, 1)\n",
      "Validation:  (574013, 12) (574013, 1)\n",
      "Train:  (5676480, 12)\n"
     ]
    },
    {
     "data": {
      "text/html": [
       "<div>\n",
       "<style scoped>\n",
       "    .dataframe tbody tr th:only-of-type {\n",
       "        vertical-align: middle;\n",
       "    }\n",
       "\n",
       "    .dataframe tbody tr th {\n",
       "        vertical-align: top;\n",
       "    }\n",
       "\n",
       "    .dataframe thead th {\n",
       "        text-align: right;\n",
       "    }\n",
       "</style>\n",
       "<table border=\"1\" class=\"dataframe\">\n",
       "  <thead>\n",
       "    <tr style=\"text-align: right;\">\n",
       "      <th></th>\n",
       "      <th>building_id</th>\n",
       "      <th>dew_temperature</th>\n",
       "      <th>wind_speed</th>\n",
       "      <th>primary_use</th>\n",
       "      <th>square_feet</th>\n",
       "      <th>year_built</th>\n",
       "      <th>dayofyear</th>\n",
       "      <th>hour</th>\n",
       "      <th>wind_direction_y</th>\n",
       "      <th>is_weekend</th>\n",
       "      <th>country</th>\n",
       "      <th>is_holiday</th>\n",
       "    </tr>\n",
       "  </thead>\n",
       "  <tbody>\n",
       "    <tr>\n",
       "      <th>1227863</th>\n",
       "      <td>-0.055769</td>\n",
       "      <td>1.149265</td>\n",
       "      <td>0.198853</td>\n",
       "      <td>0.693481</td>\n",
       "      <td>-0.370458</td>\n",
       "      <td>0.253185</td>\n",
       "      <td>0.140020</td>\n",
       "      <td>-1.520262</td>\n",
       "      <td>0.321329</td>\n",
       "      <td>-0.631491</td>\n",
       "      <td>-0.181765</td>\n",
       "      <td>-0.177586</td>\n",
       "    </tr>\n",
       "    <tr>\n",
       "      <th>793790</th>\n",
       "      <td>-1.072452</td>\n",
       "      <td>1.051160</td>\n",
       "      <td>-0.024691</td>\n",
       "      <td>-1.856454</td>\n",
       "      <td>-0.815237</td>\n",
       "      <td>0.118055</td>\n",
       "      <td>-0.531292</td>\n",
       "      <td>-0.072679</td>\n",
       "      <td>-0.784003</td>\n",
       "      <td>-0.631491</td>\n",
       "      <td>-0.181765</td>\n",
       "      <td>-0.177586</td>\n",
       "    </tr>\n",
       "    <tr>\n",
       "      <th>2268147</th>\n",
       "      <td>-0.794255</td>\n",
       "      <td>0.649821</td>\n",
       "      <td>-1.410663</td>\n",
       "      <td>-0.188679</td>\n",
       "      <td>-0.675412</td>\n",
       "      <td>-0.152204</td>\n",
       "      <td>1.641147</td>\n",
       "      <td>-1.375504</td>\n",
       "      <td>0.036405</td>\n",
       "      <td>-0.631491</td>\n",
       "      <td>-0.181765</td>\n",
       "      <td>-0.177586</td>\n",
       "    </tr>\n",
       "    <tr>\n",
       "      <th>970560</th>\n",
       "      <td>-0.065885</td>\n",
       "      <td>-0.188533</td>\n",
       "      <td>0.869485</td>\n",
       "      <td>1.900406</td>\n",
       "      <td>0.542175</td>\n",
       "      <td>-0.354898</td>\n",
       "      <td>-0.270226</td>\n",
       "      <td>1.664420</td>\n",
       "      <td>0.321329</td>\n",
       "      <td>-0.631491</td>\n",
       "      <td>-0.181765</td>\n",
       "      <td>-0.177586</td>\n",
       "    </tr>\n",
       "    <tr>\n",
       "      <th>1921836</th>\n",
       "      <td>-1.224196</td>\n",
       "      <td>1.051160</td>\n",
       "      <td>-1.410663</td>\n",
       "      <td>-1.856454</td>\n",
       "      <td>0.355498</td>\n",
       "      <td>0.118055</td>\n",
       "      <td>1.174958</td>\n",
       "      <td>-1.665020</td>\n",
       "      <td>0.036405</td>\n",
       "      <td>-0.631491</td>\n",
       "      <td>-0.181765</td>\n",
       "      <td>-0.177586</td>\n",
       "    </tr>\n",
       "  </tbody>\n",
       "</table>\n",
       "</div>"
      ],
      "text/plain": [
       "         building_id  dew_temperature  wind_speed  primary_use  square_feet  \\\n",
       "1227863    -0.055769         1.149265    0.198853     0.693481    -0.370458   \n",
       "793790     -1.072452         1.051160   -0.024691    -1.856454    -0.815237   \n",
       "2268147    -0.794255         0.649821   -1.410663    -0.188679    -0.675412   \n",
       "970560     -0.065885        -0.188533    0.869485     1.900406     0.542175   \n",
       "1921836    -1.224196         1.051160   -1.410663    -1.856454     0.355498   \n",
       "\n",
       "         year_built  dayofyear      hour  wind_direction_y  is_weekend  \\\n",
       "1227863    0.253185   0.140020 -1.520262          0.321329   -0.631491   \n",
       "793790     0.118055  -0.531292 -0.072679         -0.784003   -0.631491   \n",
       "2268147   -0.152204   1.641147 -1.375504          0.036405   -0.631491   \n",
       "970560    -0.354898  -0.270226  1.664420          0.321329   -0.631491   \n",
       "1921836    0.118055   1.174958 -1.665020          0.036405   -0.631491   \n",
       "\n",
       "          country  is_holiday  \n",
       "1227863 -0.181765   -0.177586  \n",
       "793790  -0.181765   -0.177586  \n",
       "2268147 -0.181765   -0.177586  \n",
       "970560  -0.181765   -0.177586  \n",
       "1921836 -0.181765   -0.177586  "
      ]
     },
     "execution_count": 39,
     "metadata": {},
     "output_type": "execute_result"
    }
   ],
   "source": [
    "Xs_train_scaled, Xs_val_scaled, Xs_test_scaled, ys_train, ys_val = transform_data(train_df[2], test_df[2])\n",
    "Xs_train_scaled.head()"
   ]
  },
  {
   "cell_type": "code",
   "execution_count": null,
   "metadata": {},
   "outputs": [],
   "source": []
  },
  {
   "cell_type": "code",
   "execution_count": null,
   "metadata": {},
   "outputs": [],
   "source": []
  },
  {
   "cell_type": "markdown",
   "metadata": {},
   "source": [
    "### Lasso Regression"
   ]
  },
  {
   "cell_type": "code",
   "execution_count": 40,
   "metadata": {},
   "outputs": [
    {
     "name": "stdout",
     "output_type": "stream",
     "text": [
      "0.3473431466224191\n",
      "0.2689786952565921\n"
     ]
    },
    {
     "data": {
      "text/plain": [
       "array([5.30519067, 5.38990086, 5.42140252, ..., 5.96508901, 5.94411987,\n",
       "       6.20910549])"
      ]
     },
     "execution_count": 40,
     "metadata": {},
     "output_type": "execute_result"
    }
   ],
   "source": [
    "lasso = Lasso(alpha=1e-6, random_state=42)\n",
    "lasso.fit(Xs_train_scaled, ys_train)\n",
    "\n",
    "val2 = lasso.predict(Xs_val_scaled)\n",
    "print(lasso.score(Xs_val_scaled, ys_val))\n",
    "print(np.sqrt(mean_squared_log_error(ys_val, val2)))\n",
    "\n",
    "lasso2 = lasso.predict(Xs_test_scaled)\n",
    "lasso2[lasso2 < 0] = 0\n",
    "lasso2"
   ]
  },
  {
   "cell_type": "code",
   "execution_count": null,
   "metadata": {},
   "outputs": [],
   "source": []
  },
  {
   "cell_type": "code",
   "execution_count": null,
   "metadata": {},
   "outputs": [],
   "source": []
  },
  {
   "cell_type": "markdown",
   "metadata": {},
   "source": [
    "### LightGBM"
   ]
  },
  {
   "cell_type": "code",
   "execution_count": 41,
   "metadata": {},
   "outputs": [
    {
     "data": {
      "text/plain": [
       "{'learning_rate': 0.04854268157540762,\n",
       " 'lambda_l1': 0.0028266466239996284,\n",
       " 'lambda_l2': 0.00010211303918218761,\n",
       " 'max_depth': 56,\n",
       " 'num_leaves': 409,\n",
       " 'min_data_in_leaf': 8,\n",
       " 'bagging_fraction': 0.5012612103606688,\n",
       " 'feature_fraction': 0.8537936823847498}"
      ]
     },
     "execution_count": 41,
     "metadata": {},
     "output_type": "execute_result"
    }
   ],
   "source": [
    "study_lgb2 = joblib.load('../objects/steam/study_lgb2.pkl')\n",
    "params_lgb2 = study_lgb2.best_trial.params\n",
    "params_lgb2"
   ]
  },
  {
   "cell_type": "code",
   "execution_count": 42,
   "metadata": {},
   "outputs": [
    {
     "data": {
      "text/plain": [
       "{'learning_rate': 0.04854268157540762,\n",
       " 'lambda_l1': 0.0028266466239996284,\n",
       " 'lambda_l2': 0.00010211303918218761,\n",
       " 'max_depth': 56,\n",
       " 'num_leaves': 409,\n",
       " 'min_data_in_leaf': 8,\n",
       " 'bagging_fraction': 0.5012612103606688,\n",
       " 'feature_fraction': 0.8537936823847498,\n",
       " 'num_iterations': 10000,\n",
       " 'early_stopping_round': 20,\n",
       " 'metric': 'rmse',\n",
       " 'num_threads': -1,\n",
       " 'seed': 42}"
      ]
     },
     "execution_count": 42,
     "metadata": {},
     "output_type": "execute_result"
    }
   ],
   "source": [
    "params_lgb2['num_iterations'] = 10000\n",
    "params_lgb2['early_stopping_round'] = 20\n",
    "params_lgb2['metric'] = 'rmse'\n",
    "params_lgb2['num_threads'] = -1\n",
    "params_lgb2['seed'] = 42\n",
    "params_lgb2"
   ]
  },
  {
   "cell_type": "code",
   "execution_count": 43,
   "metadata": {},
   "outputs": [
    {
     "name": "stderr",
     "output_type": "stream",
     "text": [
      "/home/tri/miniconda3/envs/minimal_ds/lib/python3.8/site-packages/lightgbm/engine.py:148: UserWarning: Found `num_iterations` in params. Will use it instead of argument\n",
      "  warnings.warn(\"Found `{}` in params. Will use it instead of argument\".format(alias))\n",
      "/home/tri/miniconda3/envs/minimal_ds/lib/python3.8/site-packages/lightgbm/engine.py:153: UserWarning: Found `early_stopping_round` in params. Will use it instead of argument\n",
      "  warnings.warn(\"Found `{}` in params. Will use it instead of argument\".format(alias))\n"
     ]
    },
    {
     "data": {
      "text/plain": [
       "array([3.38614019, 5.26466672, 8.40859777, ..., 6.63733423, 6.46396314,\n",
       "       3.54213874])"
      ]
     },
     "execution_count": 43,
     "metadata": {},
     "output_type": "execute_result"
    }
   ],
   "source": [
    "lgbm2 = predict_lgb(Xs_train_scaled, ys_train, Xs_val_scaled, ys_val, Xs_test_scaled, params_lgb2, '../objects/submission4/lgb2.pkl') # .txt')\n",
    "lgbm2"
   ]
  },
  {
   "cell_type": "code",
   "execution_count": null,
   "metadata": {},
   "outputs": [],
   "source": []
  },
  {
   "cell_type": "code",
   "execution_count": null,
   "metadata": {},
   "outputs": [],
   "source": []
  },
  {
   "cell_type": "markdown",
   "metadata": {},
   "source": [
    "### XGBoost"
   ]
  },
  {
   "cell_type": "code",
   "execution_count": 44,
   "metadata": {},
   "outputs": [
    {
     "data": {
      "text/plain": [
       "{'grow_policy': 'depthwise',\n",
       " 'learning_rate': 0.045664576584020004,\n",
       " 'alpha': 1.9071087639650297,\n",
       " 'lambda': 0.00021496551872384197,\n",
       " 'gamma': 0.15536767802205387,\n",
       " 'max_depth': 59,\n",
       " 'max_leaves': 1626,\n",
       " 'subsample': 0.926581683911481,\n",
       " 'colsample_bytree': 0.8620824662132568,\n",
       " 'eval_metric': 'rmse',\n",
       " 'seed': 42}"
      ]
     },
     "execution_count": 44,
     "metadata": {},
     "output_type": "execute_result"
    }
   ],
   "source": [
    "study_xgb2 = joblib.load('../objects/steam/study_xgb2.pkl')\n",
    "params_xgb2 = study_xgb2.best_trial.params\n",
    "params_xgb2['eval_metric'] = 'rmse'\n",
    "params_xgb2['seed'] = 42\n",
    "params_xgb2"
   ]
  },
  {
   "cell_type": "code",
   "execution_count": 45,
   "metadata": {},
   "outputs": [
    {
     "data": {
      "text/plain": [
       "array([3.4984896, 5.135393 , 8.485529 , ..., 6.504014 , 6.383502 ,\n",
       "       3.4510038], dtype=float32)"
      ]
     },
     "execution_count": 45,
     "metadata": {},
     "output_type": "execute_result"
    }
   ],
   "source": [
    "xg2 = predict_xgb(Xs_train_scaled, ys_train, Xs_val_scaled, ys_val, Xs_test_scaled, params_xgb2, '../objects/submission4/xgb2.pkl') # .txt')\n",
    "xg2"
   ]
  },
  {
   "cell_type": "code",
   "execution_count": 46,
   "metadata": {},
   "outputs": [
    {
     "data": {
      "text/plain": [
       "100"
      ]
     },
     "execution_count": 46,
     "metadata": {},
     "output_type": "execute_result"
    }
   ],
   "source": [
    "del lasso, val2, study_lgb2\n",
    "gc.collect()"
   ]
  },
  {
   "cell_type": "code",
   "execution_count": null,
   "metadata": {},
   "outputs": [],
   "source": []
  },
  {
   "cell_type": "code",
   "execution_count": null,
   "metadata": {},
   "outputs": [],
   "source": []
  },
  {
   "cell_type": "markdown",
   "metadata": {},
   "source": [
    "# Hot water meter"
   ]
  },
  {
   "cell_type": "markdown",
   "metadata": {},
   "source": [
    "### Transform data"
   ]
  },
  {
   "cell_type": "code",
   "execution_count": 47,
   "metadata": {},
   "outputs": [
    {
     "name": "stderr",
     "output_type": "stream",
     "text": [
      "/home/tri/miniconda3/envs/minimal_ds/lib/python3.8/site-packages/sklearn/utils/validation.py:931: FutureWarning: Passing attributes to check_is_fitted is deprecated and will be removed in 0.23. The attributes argument is ignored.\n",
      "  warnings.warn(\"Passing attributes to check_is_fitted is deprecated\"\n"
     ]
    },
    {
     "name": "stdout",
     "output_type": "stream",
     "text": [
      "Train:  (689781, 12) (689781, 1)\n",
      "Validation:  (229927, 12) (229927, 1)\n",
      "Train:  (2540400, 12)\n"
     ]
    },
    {
     "data": {
      "text/html": [
       "<div>\n",
       "<style scoped>\n",
       "    .dataframe tbody tr th:only-of-type {\n",
       "        vertical-align: middle;\n",
       "    }\n",
       "\n",
       "    .dataframe tbody tr th {\n",
       "        vertical-align: top;\n",
       "    }\n",
       "\n",
       "    .dataframe thead th {\n",
       "        text-align: right;\n",
       "    }\n",
       "</style>\n",
       "<table border=\"1\" class=\"dataframe\">\n",
       "  <thead>\n",
       "    <tr style=\"text-align: right;\">\n",
       "      <th></th>\n",
       "      <th>building_id</th>\n",
       "      <th>dew_temperature</th>\n",
       "      <th>wind_speed</th>\n",
       "      <th>primary_use</th>\n",
       "      <th>square_feet</th>\n",
       "      <th>year_built</th>\n",
       "      <th>dayofyear</th>\n",
       "      <th>hour</th>\n",
       "      <th>wind_direction_y</th>\n",
       "      <th>is_weekend</th>\n",
       "      <th>country</th>\n",
       "      <th>is_holiday</th>\n",
       "    </tr>\n",
       "  </thead>\n",
       "  <tbody>\n",
       "    <tr>\n",
       "      <th>617696</th>\n",
       "      <td>0.902166</td>\n",
       "      <td>1.246184</td>\n",
       "      <td>0.467919</td>\n",
       "      <td>0.356687</td>\n",
       "      <td>-0.296929</td>\n",
       "      <td>-0.002246</td>\n",
       "      <td>0.601279</td>\n",
       "      <td>0.219848</td>\n",
       "      <td>-1.311659</td>\n",
       "      <td>-0.630965</td>\n",
       "      <td>-0.044778</td>\n",
       "      <td>-0.182612</td>\n",
       "    </tr>\n",
       "    <tr>\n",
       "      <th>559728</th>\n",
       "      <td>-1.234496</td>\n",
       "      <td>1.653144</td>\n",
       "      <td>0.707877</td>\n",
       "      <td>-1.973171</td>\n",
       "      <td>-0.896851</td>\n",
       "      <td>2.317122</td>\n",
       "      <td>0.348563</td>\n",
       "      <td>0.654835</td>\n",
       "      <td>1.222356</td>\n",
       "      <td>-0.630965</td>\n",
       "      <td>-0.044778</td>\n",
       "      <td>-0.182612</td>\n",
       "    </tr>\n",
       "    <tr>\n",
       "      <th>900844</th>\n",
       "      <td>0.914025</td>\n",
       "      <td>-0.488753</td>\n",
       "      <td>0.227961</td>\n",
       "      <td>2.023683</td>\n",
       "      <td>-1.007877</td>\n",
       "      <td>-0.499254</td>\n",
       "      <td>1.648246</td>\n",
       "      <td>0.219848</td>\n",
       "      <td>0.372354</td>\n",
       "      <td>1.584873</td>\n",
       "      <td>-0.044778</td>\n",
       "      <td>5.476081</td>\n",
       "    </tr>\n",
       "    <tr>\n",
       "      <th>230300</th>\n",
       "      <td>-1.372855</td>\n",
       "      <td>0.089559</td>\n",
       "      <td>0.467919</td>\n",
       "      <td>-0.291586</td>\n",
       "      <td>-0.583896</td>\n",
       "      <td>-0.941038</td>\n",
       "      <td>-0.896966</td>\n",
       "      <td>0.799831</td>\n",
       "      <td>0.613943</td>\n",
       "      <td>-0.630965</td>\n",
       "      <td>-2.259887</td>\n",
       "      <td>-0.182612</td>\n",
       "    </tr>\n",
       "    <tr>\n",
       "      <th>268936</th>\n",
       "      <td>-1.129738</td>\n",
       "      <td>-0.842166</td>\n",
       "      <td>-0.011996</td>\n",
       "      <td>1.456112</td>\n",
       "      <td>-0.901935</td>\n",
       "      <td>0.605207</td>\n",
       "      <td>-0.770608</td>\n",
       "      <td>0.654835</td>\n",
       "      <td>-0.367554</td>\n",
       "      <td>-0.630965</td>\n",
       "      <td>-0.044778</td>\n",
       "      <td>-0.182612</td>\n",
       "    </tr>\n",
       "  </tbody>\n",
       "</table>\n",
       "</div>"
      ],
      "text/plain": [
       "        building_id  dew_temperature  wind_speed  primary_use  square_feet  \\\n",
       "617696     0.902166         1.246184    0.467919     0.356687    -0.296929   \n",
       "559728    -1.234496         1.653144    0.707877    -1.973171    -0.896851   \n",
       "900844     0.914025        -0.488753    0.227961     2.023683    -1.007877   \n",
       "230300    -1.372855         0.089559    0.467919    -0.291586    -0.583896   \n",
       "268936    -1.129738        -0.842166   -0.011996     1.456112    -0.901935   \n",
       "\n",
       "        year_built  dayofyear      hour  wind_direction_y  is_weekend  \\\n",
       "617696   -0.002246   0.601279  0.219848         -1.311659   -0.630965   \n",
       "559728    2.317122   0.348563  0.654835          1.222356   -0.630965   \n",
       "900844   -0.499254   1.648246  0.219848          0.372354    1.584873   \n",
       "230300   -0.941038  -0.896966  0.799831          0.613943   -0.630965   \n",
       "268936    0.605207  -0.770608  0.654835         -0.367554   -0.630965   \n",
       "\n",
       "         country  is_holiday  \n",
       "617696 -0.044778   -0.182612  \n",
       "559728 -0.044778   -0.182612  \n",
       "900844 -0.044778    5.476081  \n",
       "230300 -2.259887   -0.182612  \n",
       "268936 -0.044778   -0.182612  "
      ]
     },
     "execution_count": 47,
     "metadata": {},
     "output_type": "execute_result"
    }
   ],
   "source": [
    "Xh_train_scaled, Xh_val_scaled, Xh_test_scaled, yh_train, yh_val = transform_data(train_df[3], test_df[3])\n",
    "Xh_train_scaled.head()"
   ]
  },
  {
   "cell_type": "code",
   "execution_count": null,
   "metadata": {},
   "outputs": [],
   "source": []
  },
  {
   "cell_type": "code",
   "execution_count": null,
   "metadata": {},
   "outputs": [],
   "source": []
  },
  {
   "cell_type": "markdown",
   "metadata": {},
   "source": [
    "### Lasso Regression"
   ]
  },
  {
   "cell_type": "code",
   "execution_count": 48,
   "metadata": {},
   "outputs": [
    {
     "name": "stdout",
     "output_type": "stream",
     "text": [
      "0.33942659336942604\n",
      "0.39089294274292796\n"
     ]
    },
    {
     "data": {
      "text/plain": [
       "array([3.51657327, 3.87649386, 3.70830505, ..., 5.6030112 , 5.83196928,\n",
       "       5.54659515])"
      ]
     },
     "execution_count": 48,
     "metadata": {},
     "output_type": "execute_result"
    }
   ],
   "source": [
    "lasso = Lasso(alpha=1e-6, random_state=42)\n",
    "lasso.fit(Xh_train_scaled, yh_train)\n",
    "\n",
    "val3 = lasso.predict(Xh_val_scaled)\n",
    "print(lasso.score(Xh_val_scaled, yh_val))\n",
    "print(np.sqrt(mean_squared_log_error(yh_val, val3)))\n",
    "\n",
    "lasso3 = lasso.predict(Xh_test_scaled)\n",
    "lasso3[lasso3 < 0] = 0\n",
    "lasso3"
   ]
  },
  {
   "cell_type": "code",
   "execution_count": null,
   "metadata": {},
   "outputs": [],
   "source": []
  },
  {
   "cell_type": "code",
   "execution_count": null,
   "metadata": {},
   "outputs": [],
   "source": []
  },
  {
   "cell_type": "markdown",
   "metadata": {},
   "source": [
    "### LightGBM"
   ]
  },
  {
   "cell_type": "code",
   "execution_count": 49,
   "metadata": {},
   "outputs": [
    {
     "data": {
      "text/plain": [
       "{'learning_rate': 0.023942434668217872,\n",
       " 'lambda_l1': 0.23828824891615835,\n",
       " 'lambda_l2': 0.00028375734074312625,\n",
       " 'max_depth': 58,\n",
       " 'num_leaves': 1581,\n",
       " 'min_data_in_leaf': 42,\n",
       " 'bagging_fraction': 0.500825513633077,\n",
       " 'feature_fraction': 0.9607308095583501}"
      ]
     },
     "execution_count": 49,
     "metadata": {},
     "output_type": "execute_result"
    }
   ],
   "source": [
    "study_lgb3 = joblib.load('../objects/hotwater/study_lgb3.pkl')\n",
    "params_lgb3 = study_lgb3.best_trial.params\n",
    "params_lgb3"
   ]
  },
  {
   "cell_type": "code",
   "execution_count": 50,
   "metadata": {},
   "outputs": [],
   "source": [
    "params_lgb3['num_iterations'] = 10000\n",
    "params_lgb3['early_stopping_round'] = 20\n",
    "params_lgb3['metric'] = 'rmse'\n",
    "params_lgb3['num_threads'] = -1\n",
    "params_lgb3['seed'] = 42"
   ]
  },
  {
   "cell_type": "code",
   "execution_count": 51,
   "metadata": {},
   "outputs": [
    {
     "name": "stderr",
     "output_type": "stream",
     "text": [
      "/home/tri/miniconda3/envs/minimal_ds/lib/python3.8/site-packages/lightgbm/engine.py:148: UserWarning: Found `num_iterations` in params. Will use it instead of argument\n",
      "  warnings.warn(\"Found `{}` in params. Will use it instead of argument\".format(alias))\n",
      "/home/tri/miniconda3/envs/minimal_ds/lib/python3.8/site-packages/lightgbm/engine.py:153: UserWarning: Found `early_stopping_round` in params. Will use it instead of argument\n",
      "  warnings.warn(\"Found `{}` in params. Will use it instead of argument\".format(alias))\n"
     ]
    },
    {
     "data": {
      "text/plain": [
       "array([2.27589531, 4.48015748, 4.68013297, ..., 8.35517495, 5.39646149,\n",
       "       8.31210349])"
      ]
     },
     "execution_count": 51,
     "metadata": {},
     "output_type": "execute_result"
    }
   ],
   "source": [
    "lgbm3 = predict_lgb(Xh_train_scaled, yh_train, Xh_val_scaled, yh_val, Xh_test_scaled, params_lgb3, '../objects/submission4/lgb3.pkl') # .txt')\n",
    "lgbm3"
   ]
  },
  {
   "cell_type": "code",
   "execution_count": null,
   "metadata": {},
   "outputs": [],
   "source": []
  },
  {
   "cell_type": "code",
   "execution_count": null,
   "metadata": {},
   "outputs": [],
   "source": []
  },
  {
   "cell_type": "markdown",
   "metadata": {},
   "source": [
    "### XGBoost"
   ]
  },
  {
   "cell_type": "code",
   "execution_count": 52,
   "metadata": {},
   "outputs": [
    {
     "data": {
      "text/plain": [
       "{'grow_policy': 'lossguide',\n",
       " 'learning_rate': 0.009806612868641755,\n",
       " 'alpha': 0.009923410545051567,\n",
       " 'lambda': 2.4314911765779557,\n",
       " 'gamma': 0.00182351994095809,\n",
       " 'max_depth': 51,\n",
       " 'max_leaves': 1225,\n",
       " 'subsample': 0.8446420358715253,\n",
       " 'colsample_bytree': 0.8798084029338699,\n",
       " 'eval_metric': 'rmse',\n",
       " 'seed': 42}"
      ]
     },
     "execution_count": 52,
     "metadata": {},
     "output_type": "execute_result"
    }
   ],
   "source": [
    "study_xgb3 = joblib.load('../objects/hotwater/study_xgb3.pkl')\n",
    "params_xgb3 = study_xgb3.best_trial.params\n",
    "params_xgb3['eval_metric'] = 'rmse'\n",
    "params_xgb3['seed'] = 42\n",
    "params_xgb3"
   ]
  },
  {
   "cell_type": "code",
   "execution_count": 53,
   "metadata": {},
   "outputs": [
    {
     "data": {
      "text/plain": [
       "array([2.6411998, 4.477911 , 4.4737277, ..., 8.3466   , 5.6615877,\n",
       "       8.247984 ], dtype=float32)"
      ]
     },
     "execution_count": 53,
     "metadata": {},
     "output_type": "execute_result"
    }
   ],
   "source": [
    "xg3 = predict_xgb(Xh_train_scaled, yh_train, Xh_val_scaled, yh_val, Xh_test_scaled, params_xgb3, '../objects/submission4/xgb3.pkl') # .txt')\n",
    "xg3"
   ]
  },
  {
   "cell_type": "code",
   "execution_count": 54,
   "metadata": {},
   "outputs": [
    {
     "data": {
      "text/plain": [
       "100"
      ]
     },
     "execution_count": 54,
     "metadata": {},
     "output_type": "execute_result"
    }
   ],
   "source": [
    "del lasso, val3, study_lgb3\n",
    "gc.collect()"
   ]
  },
  {
   "cell_type": "code",
   "execution_count": null,
   "metadata": {},
   "outputs": [],
   "source": []
  },
  {
   "cell_type": "code",
   "execution_count": null,
   "metadata": {},
   "outputs": [],
   "source": []
  },
  {
   "cell_type": "markdown",
   "metadata": {},
   "source": [
    "# Combine predictions"
   ]
  },
  {
   "cell_type": "code",
   "execution_count": 55,
   "metadata": {},
   "outputs": [
    {
     "name": "stdout",
     "output_type": "stream",
     "text": [
      "Test observations:  [24755760, 8724960, 5676480, 2540400]\n",
      "Lasso predictions:  [24755760, 8724960, 5676480, 2540400]\n",
      "LightGBM predictions:  [24755760, 8724960, 5676480, 2540400]\n",
      "XGBoost predictions:  [24755760, 8724960, 5676480, 2540400]\n"
     ]
    }
   ],
   "source": [
    "print('Test observations: ', [df.shape[0] for df in test_df])\n",
    "print('Lasso predictions: ', list(map(len, [lasso0, lasso1, lasso2, lasso3])))\n",
    "print('LightGBM predictions: ', list(map(len, [lgbm0, lgbm1, lgbm2, lgbm3])))\n",
    "print('XGBoost predictions: ', list(map(len, [xg0, xg1, xg2, xg3])))"
   ]
  },
  {
   "cell_type": "code",
   "execution_count": 56,
   "metadata": {},
   "outputs": [
    {
     "data": {
      "text/html": [
       "<div>\n",
       "<style scoped>\n",
       "    .dataframe tbody tr th:only-of-type {\n",
       "        vertical-align: middle;\n",
       "    }\n",
       "\n",
       "    .dataframe tbody tr th {\n",
       "        vertical-align: top;\n",
       "    }\n",
       "\n",
       "    .dataframe thead th {\n",
       "        text-align: right;\n",
       "    }\n",
       "</style>\n",
       "<table border=\"1\" class=\"dataframe\">\n",
       "  <thead>\n",
       "    <tr style=\"text-align: right;\">\n",
       "      <th></th>\n",
       "      <th>lasso</th>\n",
       "      <th>lgb</th>\n",
       "      <th>xgb</th>\n",
       "    </tr>\n",
       "  </thead>\n",
       "  <tbody>\n",
       "    <tr>\n",
       "      <th>0</th>\n",
       "      <td>3.621395</td>\n",
       "      <td>2.833017</td>\n",
       "      <td>2.643811</td>\n",
       "    </tr>\n",
       "    <tr>\n",
       "      <th>1</th>\n",
       "      <td>3.559833</td>\n",
       "      <td>1.716642</td>\n",
       "      <td>1.718609</td>\n",
       "    </tr>\n",
       "    <tr>\n",
       "      <th>2</th>\n",
       "      <td>3.489991</td>\n",
       "      <td>0.417940</td>\n",
       "      <td>0.890899</td>\n",
       "    </tr>\n",
       "    <tr>\n",
       "      <th>3</th>\n",
       "      <td>3.698655</td>\n",
       "      <td>3.209067</td>\n",
       "      <td>4.900446</td>\n",
       "    </tr>\n",
       "    <tr>\n",
       "      <th>4</th>\n",
       "      <td>4.188377</td>\n",
       "      <td>3.979461</td>\n",
       "      <td>3.308939</td>\n",
       "    </tr>\n",
       "    <tr>\n",
       "      <th>...</th>\n",
       "      <td>...</td>\n",
       "      <td>...</td>\n",
       "      <td>...</td>\n",
       "    </tr>\n",
       "    <tr>\n",
       "      <th>41697595</th>\n",
       "      <td>2.864940</td>\n",
       "      <td>1.633792</td>\n",
       "      <td>1.572824</td>\n",
       "    </tr>\n",
       "    <tr>\n",
       "      <th>41697596</th>\n",
       "      <td>3.878190</td>\n",
       "      <td>1.846834</td>\n",
       "      <td>1.828344</td>\n",
       "    </tr>\n",
       "    <tr>\n",
       "      <th>41697597</th>\n",
       "      <td>3.374456</td>\n",
       "      <td>2.299110</td>\n",
       "      <td>2.361115</td>\n",
       "    </tr>\n",
       "    <tr>\n",
       "      <th>41697598</th>\n",
       "      <td>3.910473</td>\n",
       "      <td>5.203402</td>\n",
       "      <td>5.143443</td>\n",
       "    </tr>\n",
       "    <tr>\n",
       "      <th>41697599</th>\n",
       "      <td>4.542476</td>\n",
       "      <td>1.663453</td>\n",
       "      <td>1.627053</td>\n",
       "    </tr>\n",
       "  </tbody>\n",
       "</table>\n",
       "<p>24755760 rows × 3 columns</p>\n",
       "</div>"
      ],
      "text/plain": [
       "             lasso       lgb       xgb\n",
       "0         3.621395  2.833017  2.643811\n",
       "1         3.559833  1.716642  1.718609\n",
       "2         3.489991  0.417940  0.890899\n",
       "3         3.698655  3.209067  4.900446\n",
       "4         4.188377  3.979461  3.308939\n",
       "...            ...       ...       ...\n",
       "41697595  2.864940  1.633792  1.572824\n",
       "41697596  3.878190  1.846834  1.828344\n",
       "41697597  3.374456  2.299110  2.361115\n",
       "41697598  3.910473  5.203402  5.143443\n",
       "41697599  4.542476  1.663453  1.627053\n",
       "\n",
       "[24755760 rows x 3 columns]"
      ]
     },
     "execution_count": 56,
     "metadata": {},
     "output_type": "execute_result"
    }
   ],
   "source": [
    "# Electricity meter\n",
    "pred0 = test_df[0][['building_id']].copy()\n",
    "pred0['lasso'] = lasso0\n",
    "pred0['lgb'] = lgbm0\n",
    "pred0['xgb'] = xg0\n",
    "pred0.drop('building_id', axis=1, inplace=True)\n",
    "pred0"
   ]
  },
  {
   "cell_type": "code",
   "execution_count": 57,
   "metadata": {},
   "outputs": [
    {
     "data": {
      "text/html": [
       "<div>\n",
       "<style scoped>\n",
       "    .dataframe tbody tr th:only-of-type {\n",
       "        vertical-align: middle;\n",
       "    }\n",
       "\n",
       "    .dataframe tbody tr th {\n",
       "        vertical-align: top;\n",
       "    }\n",
       "\n",
       "    .dataframe thead th {\n",
       "        text-align: right;\n",
       "    }\n",
       "</style>\n",
       "<table border=\"1\" class=\"dataframe\">\n",
       "  <thead>\n",
       "    <tr style=\"text-align: right;\">\n",
       "      <th></th>\n",
       "      <th>lasso</th>\n",
       "      <th>lgb</th>\n",
       "      <th>xgb</th>\n",
       "    </tr>\n",
       "  </thead>\n",
       "  <tbody>\n",
       "    <tr>\n",
       "      <th>8</th>\n",
       "      <td>4.987839</td>\n",
       "      <td>3.081551</td>\n",
       "      <td>3.164664</td>\n",
       "    </tr>\n",
       "    <tr>\n",
       "      <th>11</th>\n",
       "      <td>4.053009</td>\n",
       "      <td>0.231805</td>\n",
       "      <td>0.803395</td>\n",
       "    </tr>\n",
       "    <tr>\n",
       "      <th>16</th>\n",
       "      <td>4.957386</td>\n",
       "      <td>1.883659</td>\n",
       "      <td>2.354431</td>\n",
       "    </tr>\n",
       "    <tr>\n",
       "      <th>18</th>\n",
       "      <td>4.989375</td>\n",
       "      <td>1.811401</td>\n",
       "      <td>2.777094</td>\n",
       "    </tr>\n",
       "    <tr>\n",
       "      <th>20</th>\n",
       "      <td>4.075426</td>\n",
       "      <td>1.488554</td>\n",
       "      <td>2.215178</td>\n",
       "    </tr>\n",
       "    <tr>\n",
       "      <th>...</th>\n",
       "      <td>...</td>\n",
       "      <td>...</td>\n",
       "      <td>...</td>\n",
       "    </tr>\n",
       "    <tr>\n",
       "      <th>41697538</th>\n",
       "      <td>3.802885</td>\n",
       "      <td>3.592214</td>\n",
       "      <td>3.599005</td>\n",
       "    </tr>\n",
       "    <tr>\n",
       "      <th>41697541</th>\n",
       "      <td>4.016940</td>\n",
       "      <td>3.386084</td>\n",
       "      <td>3.408449</td>\n",
       "    </tr>\n",
       "    <tr>\n",
       "      <th>41697543</th>\n",
       "      <td>4.310645</td>\n",
       "      <td>0.858684</td>\n",
       "      <td>0.758846</td>\n",
       "    </tr>\n",
       "    <tr>\n",
       "      <th>41697545</th>\n",
       "      <td>4.156570</td>\n",
       "      <td>0.378592</td>\n",
       "      <td>0.271519</td>\n",
       "    </tr>\n",
       "    <tr>\n",
       "      <th>41697548</th>\n",
       "      <td>4.474127</td>\n",
       "      <td>1.654464</td>\n",
       "      <td>1.179228</td>\n",
       "    </tr>\n",
       "  </tbody>\n",
       "</table>\n",
       "<p>8724960 rows × 3 columns</p>\n",
       "</div>"
      ],
      "text/plain": [
       "             lasso       lgb       xgb\n",
       "8         4.987839  3.081551  3.164664\n",
       "11        4.053009  0.231805  0.803395\n",
       "16        4.957386  1.883659  2.354431\n",
       "18        4.989375  1.811401  2.777094\n",
       "20        4.075426  1.488554  2.215178\n",
       "...            ...       ...       ...\n",
       "41697538  3.802885  3.592214  3.599005\n",
       "41697541  4.016940  3.386084  3.408449\n",
       "41697543  4.310645  0.858684  0.758846\n",
       "41697545  4.156570  0.378592  0.271519\n",
       "41697548  4.474127  1.654464  1.179228\n",
       "\n",
       "[8724960 rows x 3 columns]"
      ]
     },
     "execution_count": 57,
     "metadata": {},
     "output_type": "execute_result"
    }
   ],
   "source": [
    "# Chilled water meter\n",
    "pred1 = test_df[1][['building_id']].copy()\n",
    "pred1['lasso'] = lasso1\n",
    "pred1['lgb'] = lgbm1\n",
    "pred1['xgb'] = xg1\n",
    "pred1.drop('building_id', axis=1, inplace=True)\n",
    "pred1"
   ]
  },
  {
   "cell_type": "code",
   "execution_count": 58,
   "metadata": {},
   "outputs": [
    {
     "data": {
      "text/html": [
       "<div>\n",
       "<style scoped>\n",
       "    .dataframe tbody tr th:only-of-type {\n",
       "        vertical-align: middle;\n",
       "    }\n",
       "\n",
       "    .dataframe tbody tr th {\n",
       "        vertical-align: top;\n",
       "    }\n",
       "\n",
       "    .dataframe thead th {\n",
       "        text-align: right;\n",
       "    }\n",
       "</style>\n",
       "<table border=\"1\" class=\"dataframe\">\n",
       "  <thead>\n",
       "    <tr style=\"text-align: right;\">\n",
       "      <th></th>\n",
       "      <th>lasso</th>\n",
       "      <th>lgb</th>\n",
       "      <th>xgb</th>\n",
       "    </tr>\n",
       "  </thead>\n",
       "  <tbody>\n",
       "    <tr>\n",
       "      <th>16340505</th>\n",
       "      <td>5.305191</td>\n",
       "      <td>3.386140</td>\n",
       "      <td>3.498490</td>\n",
       "    </tr>\n",
       "    <tr>\n",
       "      <th>16340509</th>\n",
       "      <td>5.389901</td>\n",
       "      <td>5.264667</td>\n",
       "      <td>5.135393</td>\n",
       "    </tr>\n",
       "    <tr>\n",
       "      <th>16340515</th>\n",
       "      <td>5.421403</td>\n",
       "      <td>8.408598</td>\n",
       "      <td>8.485529</td>\n",
       "    </tr>\n",
       "    <tr>\n",
       "      <th>16340517</th>\n",
       "      <td>5.555816</td>\n",
       "      <td>4.991623</td>\n",
       "      <td>5.132029</td>\n",
       "    </tr>\n",
       "    <tr>\n",
       "      <th>16340521</th>\n",
       "      <td>5.443900</td>\n",
       "      <td>5.751615</td>\n",
       "      <td>5.763429</td>\n",
       "    </tr>\n",
       "    <tr>\n",
       "      <th>...</th>\n",
       "      <td>...</td>\n",
       "      <td>...</td>\n",
       "      <td>...</td>\n",
       "    </tr>\n",
       "    <tr>\n",
       "      <th>41697581</th>\n",
       "      <td>5.586897</td>\n",
       "      <td>6.060405</td>\n",
       "      <td>6.014267</td>\n",
       "    </tr>\n",
       "    <tr>\n",
       "      <th>41697584</th>\n",
       "      <td>5.805106</td>\n",
       "      <td>7.263215</td>\n",
       "      <td>7.015000</td>\n",
       "    </tr>\n",
       "    <tr>\n",
       "      <th>41697586</th>\n",
       "      <td>5.965089</td>\n",
       "      <td>6.637334</td>\n",
       "      <td>6.504014</td>\n",
       "    </tr>\n",
       "    <tr>\n",
       "      <th>41697588</th>\n",
       "      <td>5.944120</td>\n",
       "      <td>6.463963</td>\n",
       "      <td>6.383502</td>\n",
       "    </tr>\n",
       "    <tr>\n",
       "      <th>41697593</th>\n",
       "      <td>6.209105</td>\n",
       "      <td>3.542139</td>\n",
       "      <td>3.451004</td>\n",
       "    </tr>\n",
       "  </tbody>\n",
       "</table>\n",
       "<p>5676480 rows × 3 columns</p>\n",
       "</div>"
      ],
      "text/plain": [
       "             lasso       lgb       xgb\n",
       "16340505  5.305191  3.386140  3.498490\n",
       "16340509  5.389901  5.264667  5.135393\n",
       "16340515  5.421403  8.408598  8.485529\n",
       "16340517  5.555816  4.991623  5.132029\n",
       "16340521  5.443900  5.751615  5.763429\n",
       "...            ...       ...       ...\n",
       "41697581  5.586897  6.060405  6.014267\n",
       "41697584  5.805106  7.263215  7.015000\n",
       "41697586  5.965089  6.637334  6.504014\n",
       "41697588  5.944120  6.463963  6.383502\n",
       "41697593  6.209105  3.542139  3.451004\n",
       "\n",
       "[5676480 rows x 3 columns]"
      ]
     },
     "execution_count": 58,
     "metadata": {},
     "output_type": "execute_result"
    }
   ],
   "source": [
    "# Steam meter\n",
    "pred2 = test_df[2][['building_id']].copy()\n",
    "pred2['lasso'] = lasso2\n",
    "pred2['lgb'] = lgbm2\n",
    "pred2['xgb'] = xg2\n",
    "pred2.drop('building_id', axis=1, inplace=True)\n",
    "pred2"
   ]
  },
  {
   "cell_type": "code",
   "execution_count": 59,
   "metadata": {},
   "outputs": [
    {
     "data": {
      "text/html": [
       "<div>\n",
       "<style scoped>\n",
       "    .dataframe tbody tr th:only-of-type {\n",
       "        vertical-align: middle;\n",
       "    }\n",
       "\n",
       "    .dataframe tbody tr th {\n",
       "        vertical-align: top;\n",
       "    }\n",
       "\n",
       "    .dataframe thead th {\n",
       "        text-align: right;\n",
       "    }\n",
       "</style>\n",
       "<table border=\"1\" class=\"dataframe\">\n",
       "  <thead>\n",
       "    <tr style=\"text-align: right;\">\n",
       "      <th></th>\n",
       "      <th>lasso</th>\n",
       "      <th>lgb</th>\n",
       "      <th>xgb</th>\n",
       "    </tr>\n",
       "  </thead>\n",
       "  <tbody>\n",
       "    <tr>\n",
       "      <th>2260082</th>\n",
       "      <td>3.516573</td>\n",
       "      <td>2.275895</td>\n",
       "      <td>2.641200</td>\n",
       "    </tr>\n",
       "    <tr>\n",
       "      <th>2260086</th>\n",
       "      <td>3.876494</td>\n",
       "      <td>4.480157</td>\n",
       "      <td>4.477911</td>\n",
       "    </tr>\n",
       "    <tr>\n",
       "      <th>2260090</th>\n",
       "      <td>3.708305</td>\n",
       "      <td>4.680133</td>\n",
       "      <td>4.473728</td>\n",
       "    </tr>\n",
       "    <tr>\n",
       "      <th>2260092</th>\n",
       "      <td>4.173233</td>\n",
       "      <td>3.400146</td>\n",
       "      <td>3.154571</td>\n",
       "    </tr>\n",
       "    <tr>\n",
       "      <th>2260094</th>\n",
       "      <td>4.439970</td>\n",
       "      <td>5.577205</td>\n",
       "      <td>5.219765</td>\n",
       "    </tr>\n",
       "    <tr>\n",
       "      <th>...</th>\n",
       "      <td>...</td>\n",
       "      <td>...</td>\n",
       "      <td>...</td>\n",
       "    </tr>\n",
       "    <tr>\n",
       "      <th>41696866</th>\n",
       "      <td>5.658201</td>\n",
       "      <td>8.332293</td>\n",
       "      <td>8.331269</td>\n",
       "    </tr>\n",
       "    <tr>\n",
       "      <th>41697101</th>\n",
       "      <td>5.888385</td>\n",
       "      <td>5.428286</td>\n",
       "      <td>5.620398</td>\n",
       "    </tr>\n",
       "    <tr>\n",
       "      <th>41697116</th>\n",
       "      <td>5.603011</td>\n",
       "      <td>8.355175</td>\n",
       "      <td>8.346600</td>\n",
       "    </tr>\n",
       "    <tr>\n",
       "      <th>41697351</th>\n",
       "      <td>5.831969</td>\n",
       "      <td>5.396461</td>\n",
       "      <td>5.661588</td>\n",
       "    </tr>\n",
       "    <tr>\n",
       "      <th>41697366</th>\n",
       "      <td>5.546595</td>\n",
       "      <td>8.312103</td>\n",
       "      <td>8.247984</td>\n",
       "    </tr>\n",
       "  </tbody>\n",
       "</table>\n",
       "<p>2540400 rows × 3 columns</p>\n",
       "</div>"
      ],
      "text/plain": [
       "             lasso       lgb       xgb\n",
       "2260082   3.516573  2.275895  2.641200\n",
       "2260086   3.876494  4.480157  4.477911\n",
       "2260090   3.708305  4.680133  4.473728\n",
       "2260092   4.173233  3.400146  3.154571\n",
       "2260094   4.439970  5.577205  5.219765\n",
       "...            ...       ...       ...\n",
       "41696866  5.658201  8.332293  8.331269\n",
       "41697101  5.888385  5.428286  5.620398\n",
       "41697116  5.603011  8.355175  8.346600\n",
       "41697351  5.831969  5.396461  5.661588\n",
       "41697366  5.546595  8.312103  8.247984\n",
       "\n",
       "[2540400 rows x 3 columns]"
      ]
     },
     "execution_count": 59,
     "metadata": {},
     "output_type": "execute_result"
    }
   ],
   "source": [
    "# Hot water meter\n",
    "pred3 = test_df[3][['building_id']].copy()\n",
    "pred3['lasso'] = lasso3\n",
    "pred3['lgb'] = lgbm3\n",
    "pred3['xgb'] = xg3\n",
    "pred3.drop('building_id', axis=1, inplace=True)\n",
    "pred3"
   ]
  },
  {
   "cell_type": "code",
   "execution_count": 60,
   "metadata": {},
   "outputs": [
    {
     "data": {
      "text/html": [
       "<div>\n",
       "<style scoped>\n",
       "    .dataframe tbody tr th:only-of-type {\n",
       "        vertical-align: middle;\n",
       "    }\n",
       "\n",
       "    .dataframe tbody tr th {\n",
       "        vertical-align: top;\n",
       "    }\n",
       "\n",
       "    .dataframe thead th {\n",
       "        text-align: right;\n",
       "    }\n",
       "</style>\n",
       "<table border=\"1\" class=\"dataframe\">\n",
       "  <thead>\n",
       "    <tr style=\"text-align: right;\">\n",
       "      <th></th>\n",
       "      <th>lasso</th>\n",
       "      <th>lgb</th>\n",
       "      <th>xgb</th>\n",
       "    </tr>\n",
       "  </thead>\n",
       "  <tbody>\n",
       "    <tr>\n",
       "      <th>0</th>\n",
       "      <td>3.621395</td>\n",
       "      <td>2.833017</td>\n",
       "      <td>2.643811</td>\n",
       "    </tr>\n",
       "    <tr>\n",
       "      <th>1</th>\n",
       "      <td>3.559833</td>\n",
       "      <td>1.716642</td>\n",
       "      <td>1.718609</td>\n",
       "    </tr>\n",
       "    <tr>\n",
       "      <th>2</th>\n",
       "      <td>3.489991</td>\n",
       "      <td>0.417940</td>\n",
       "      <td>0.890899</td>\n",
       "    </tr>\n",
       "    <tr>\n",
       "      <th>3</th>\n",
       "      <td>3.698655</td>\n",
       "      <td>3.209067</td>\n",
       "      <td>4.900446</td>\n",
       "    </tr>\n",
       "    <tr>\n",
       "      <th>4</th>\n",
       "      <td>4.188377</td>\n",
       "      <td>3.979461</td>\n",
       "      <td>3.308939</td>\n",
       "    </tr>\n",
       "    <tr>\n",
       "      <th>...</th>\n",
       "      <td>...</td>\n",
       "      <td>...</td>\n",
       "      <td>...</td>\n",
       "    </tr>\n",
       "    <tr>\n",
       "      <th>41697595</th>\n",
       "      <td>2.864940</td>\n",
       "      <td>1.633792</td>\n",
       "      <td>1.572824</td>\n",
       "    </tr>\n",
       "    <tr>\n",
       "      <th>41697596</th>\n",
       "      <td>3.878190</td>\n",
       "      <td>1.846834</td>\n",
       "      <td>1.828344</td>\n",
       "    </tr>\n",
       "    <tr>\n",
       "      <th>41697597</th>\n",
       "      <td>3.374456</td>\n",
       "      <td>2.299110</td>\n",
       "      <td>2.361115</td>\n",
       "    </tr>\n",
       "    <tr>\n",
       "      <th>41697598</th>\n",
       "      <td>3.910473</td>\n",
       "      <td>5.203402</td>\n",
       "      <td>5.143443</td>\n",
       "    </tr>\n",
       "    <tr>\n",
       "      <th>41697599</th>\n",
       "      <td>4.542476</td>\n",
       "      <td>1.663453</td>\n",
       "      <td>1.627053</td>\n",
       "    </tr>\n",
       "  </tbody>\n",
       "</table>\n",
       "<p>41697600 rows × 3 columns</p>\n",
       "</div>"
      ],
      "text/plain": [
       "             lasso       lgb       xgb\n",
       "0         3.621395  2.833017  2.643811\n",
       "1         3.559833  1.716642  1.718609\n",
       "2         3.489991  0.417940  0.890899\n",
       "3         3.698655  3.209067  4.900446\n",
       "4         4.188377  3.979461  3.308939\n",
       "...            ...       ...       ...\n",
       "41697595  2.864940  1.633792  1.572824\n",
       "41697596  3.878190  1.846834  1.828344\n",
       "41697597  3.374456  2.299110  2.361115\n",
       "41697598  3.910473  5.203402  5.143443\n",
       "41697599  4.542476  1.663453  1.627053\n",
       "\n",
       "[41697600 rows x 3 columns]"
      ]
     },
     "execution_count": 60,
     "metadata": {},
     "output_type": "execute_result"
    }
   ],
   "source": [
    "# Log-transformed predictions\n",
    "pred_transformed = pd.concat([pred0, pred1, pred2, pred3]).sort_index()\n",
    "pred_transformed"
   ]
  },
  {
   "cell_type": "code",
   "execution_count": 61,
   "metadata": {},
   "outputs": [
    {
     "data": {
      "text/plain": [
       "110"
      ]
     },
     "execution_count": 61,
     "metadata": {},
     "output_type": "execute_result"
    }
   ],
   "source": [
    "del pred0, pred1, pred2, pred3\n",
    "gc.collect()"
   ]
  },
  {
   "cell_type": "code",
   "execution_count": null,
   "metadata": {},
   "outputs": [],
   "source": []
  },
  {
   "cell_type": "code",
   "execution_count": null,
   "metadata": {},
   "outputs": [],
   "source": []
  },
  {
   "cell_type": "markdown",
   "metadata": {},
   "source": [
    "# Transform predictions back to normal scale (and units for site 0)"
   ]
  },
  {
   "cell_type": "code",
   "execution_count": 62,
   "metadata": {},
   "outputs": [
    {
     "data": {
      "text/html": [
       "<div>\n",
       "<style scoped>\n",
       "    .dataframe tbody tr th:only-of-type {\n",
       "        vertical-align: middle;\n",
       "    }\n",
       "\n",
       "    .dataframe tbody tr th {\n",
       "        vertical-align: top;\n",
       "    }\n",
       "\n",
       "    .dataframe thead th {\n",
       "        text-align: right;\n",
       "    }\n",
       "</style>\n",
       "<table border=\"1\" class=\"dataframe\">\n",
       "  <thead>\n",
       "    <tr style=\"text-align: right;\">\n",
       "      <th></th>\n",
       "      <th>row_id</th>\n",
       "      <th>lasso</th>\n",
       "      <th>lgb</th>\n",
       "      <th>xgb</th>\n",
       "    </tr>\n",
       "  </thead>\n",
       "  <tbody>\n",
       "    <tr>\n",
       "      <th>0</th>\n",
       "      <td>0</td>\n",
       "      <td>36.389707</td>\n",
       "      <td>15.996663</td>\n",
       "      <td>13.066713</td>\n",
       "    </tr>\n",
       "    <tr>\n",
       "      <th>1</th>\n",
       "      <td>1</td>\n",
       "      <td>34.157318</td>\n",
       "      <td>4.565810</td>\n",
       "      <td>4.576767</td>\n",
       "    </tr>\n",
       "    <tr>\n",
       "      <th>2</th>\n",
       "      <td>2</td>\n",
       "      <td>31.785666</td>\n",
       "      <td>0.518830</td>\n",
       "      <td>1.437319</td>\n",
       "    </tr>\n",
       "    <tr>\n",
       "      <th>3</th>\n",
       "      <td>3</td>\n",
       "      <td>39.392939</td>\n",
       "      <td>23.755989</td>\n",
       "      <td>133.349747</td>\n",
       "    </tr>\n",
       "    <tr>\n",
       "      <th>4</th>\n",
       "      <td>4</td>\n",
       "      <td>64.915707</td>\n",
       "      <td>52.488182</td>\n",
       "      <td>26.356098</td>\n",
       "    </tr>\n",
       "    <tr>\n",
       "      <th>...</th>\n",
       "      <td>...</td>\n",
       "      <td>...</td>\n",
       "      <td>...</td>\n",
       "      <td>...</td>\n",
       "    </tr>\n",
       "    <tr>\n",
       "      <th>41697595</th>\n",
       "      <td>41697595</td>\n",
       "      <td>16.547994</td>\n",
       "      <td>4.123265</td>\n",
       "      <td>3.820243</td>\n",
       "    </tr>\n",
       "    <tr>\n",
       "      <th>41697596</th>\n",
       "      <td>41697596</td>\n",
       "      <td>47.336626</td>\n",
       "      <td>5.339714</td>\n",
       "      <td>5.223573</td>\n",
       "    </tr>\n",
       "    <tr>\n",
       "      <th>41697597</th>\n",
       "      <td>41697597</td>\n",
       "      <td>28.208404</td>\n",
       "      <td>8.965310</td>\n",
       "      <td>9.602770</td>\n",
       "    </tr>\n",
       "    <tr>\n",
       "      <th>41697598</th>\n",
       "      <td>41697598</td>\n",
       "      <td>48.922581</td>\n",
       "      <td>180.890048</td>\n",
       "      <td>170.304489</td>\n",
       "    </tr>\n",
       "    <tr>\n",
       "      <th>41697599</th>\n",
       "      <td>41697599</td>\n",
       "      <td>92.923067</td>\n",
       "      <td>4.277500</td>\n",
       "      <td>4.088857</td>\n",
       "    </tr>\n",
       "  </tbody>\n",
       "</table>\n",
       "<p>41697600 rows × 4 columns</p>\n",
       "</div>"
      ],
      "text/plain": [
       "            row_id      lasso         lgb         xgb\n",
       "0                0  36.389707   15.996663   13.066713\n",
       "1                1  34.157318    4.565810    4.576767\n",
       "2                2  31.785666    0.518830    1.437319\n",
       "3                3  39.392939   23.755989  133.349747\n",
       "4                4  64.915707   52.488182   26.356098\n",
       "...            ...        ...         ...         ...\n",
       "41697595  41697595  16.547994    4.123265    3.820243\n",
       "41697596  41697596  47.336626    5.339714    5.223573\n",
       "41697597  41697597  28.208404    8.965310    9.602770\n",
       "41697598  41697598  48.922581  180.890048  170.304489\n",
       "41697599  41697599  92.923067    4.277500    4.088857\n",
       "\n",
       "[41697600 rows x 4 columns]"
      ]
     },
     "execution_count": 62,
     "metadata": {},
     "output_type": "execute_result"
    }
   ],
   "source": [
    "# Transform back to normal scale\n",
    "pred = pred_transformed.copy()\n",
    "pred['lasso'] = np.expm1(pred.lasso)\n",
    "pred['lgb'] = np.expm1(pred.lgb)\n",
    "pred['xgb'] = np.expm1(pred.xgb)\n",
    "pred.reset_index(inplace=True)\n",
    "pred.columns = ['row_id', 'lasso', 'lgb', 'xgb']\n",
    "pred"
   ]
  },
  {
   "cell_type": "code",
   "execution_count": 63,
   "metadata": {},
   "outputs": [
    {
     "data": {
      "text/html": [
       "<div>\n",
       "<style scoped>\n",
       "    .dataframe tbody tr th:only-of-type {\n",
       "        vertical-align: middle;\n",
       "    }\n",
       "\n",
       "    .dataframe tbody tr th {\n",
       "        vertical-align: top;\n",
       "    }\n",
       "\n",
       "    .dataframe thead th {\n",
       "        text-align: right;\n",
       "    }\n",
       "</style>\n",
       "<table border=\"1\" class=\"dataframe\">\n",
       "  <thead>\n",
       "    <tr style=\"text-align: right;\">\n",
       "      <th></th>\n",
       "      <th>row_id</th>\n",
       "      <th>site_id</th>\n",
       "      <th>meter</th>\n",
       "      <th>lasso</th>\n",
       "      <th>lgb</th>\n",
       "      <th>xgb</th>\n",
       "    </tr>\n",
       "  </thead>\n",
       "  <tbody>\n",
       "    <tr>\n",
       "      <th>0</th>\n",
       "      <td>0</td>\n",
       "      <td>0</td>\n",
       "      <td>0</td>\n",
       "      <td>36.389707</td>\n",
       "      <td>15.996663</td>\n",
       "      <td>13.066713</td>\n",
       "    </tr>\n",
       "    <tr>\n",
       "      <th>1</th>\n",
       "      <td>1</td>\n",
       "      <td>0</td>\n",
       "      <td>0</td>\n",
       "      <td>34.157318</td>\n",
       "      <td>4.565810</td>\n",
       "      <td>4.576767</td>\n",
       "    </tr>\n",
       "    <tr>\n",
       "      <th>2</th>\n",
       "      <td>2</td>\n",
       "      <td>0</td>\n",
       "      <td>0</td>\n",
       "      <td>31.785666</td>\n",
       "      <td>0.518830</td>\n",
       "      <td>1.437319</td>\n",
       "    </tr>\n",
       "    <tr>\n",
       "      <th>3</th>\n",
       "      <td>3</td>\n",
       "      <td>0</td>\n",
       "      <td>0</td>\n",
       "      <td>39.392939</td>\n",
       "      <td>23.755989</td>\n",
       "      <td>133.349747</td>\n",
       "    </tr>\n",
       "    <tr>\n",
       "      <th>4</th>\n",
       "      <td>4</td>\n",
       "      <td>0</td>\n",
       "      <td>0</td>\n",
       "      <td>64.915707</td>\n",
       "      <td>52.488182</td>\n",
       "      <td>26.356098</td>\n",
       "    </tr>\n",
       "    <tr>\n",
       "      <th>...</th>\n",
       "      <td>...</td>\n",
       "      <td>...</td>\n",
       "      <td>...</td>\n",
       "      <td>...</td>\n",
       "      <td>...</td>\n",
       "      <td>...</td>\n",
       "    </tr>\n",
       "    <tr>\n",
       "      <th>41697595</th>\n",
       "      <td>41697595</td>\n",
       "      <td>15</td>\n",
       "      <td>0</td>\n",
       "      <td>16.547994</td>\n",
       "      <td>4.123265</td>\n",
       "      <td>3.820243</td>\n",
       "    </tr>\n",
       "    <tr>\n",
       "      <th>41697596</th>\n",
       "      <td>41697596</td>\n",
       "      <td>15</td>\n",
       "      <td>0</td>\n",
       "      <td>47.336626</td>\n",
       "      <td>5.339714</td>\n",
       "      <td>5.223573</td>\n",
       "    </tr>\n",
       "    <tr>\n",
       "      <th>41697597</th>\n",
       "      <td>41697597</td>\n",
       "      <td>15</td>\n",
       "      <td>0</td>\n",
       "      <td>28.208404</td>\n",
       "      <td>8.965310</td>\n",
       "      <td>9.602770</td>\n",
       "    </tr>\n",
       "    <tr>\n",
       "      <th>41697598</th>\n",
       "      <td>41697598</td>\n",
       "      <td>15</td>\n",
       "      <td>0</td>\n",
       "      <td>48.922581</td>\n",
       "      <td>180.890048</td>\n",
       "      <td>170.304489</td>\n",
       "    </tr>\n",
       "    <tr>\n",
       "      <th>41697599</th>\n",
       "      <td>41697599</td>\n",
       "      <td>15</td>\n",
       "      <td>0</td>\n",
       "      <td>92.923067</td>\n",
       "      <td>4.277500</td>\n",
       "      <td>4.088857</td>\n",
       "    </tr>\n",
       "  </tbody>\n",
       "</table>\n",
       "<p>41697600 rows × 6 columns</p>\n",
       "</div>"
      ],
      "text/plain": [
       "            row_id  site_id  meter      lasso         lgb         xgb\n",
       "0                0        0      0  36.389707   15.996663   13.066713\n",
       "1                1        0      0  34.157318    4.565810    4.576767\n",
       "2                2        0      0  31.785666    0.518830    1.437319\n",
       "3                3        0      0  39.392939   23.755989  133.349747\n",
       "4                4        0      0  64.915707   52.488182   26.356098\n",
       "...            ...      ...    ...        ...         ...         ...\n",
       "41697595  41697595       15      0  16.547994    4.123265    3.820243\n",
       "41697596  41697596       15      0  47.336626    5.339714    5.223573\n",
       "41697597  41697597       15      0  28.208404    8.965310    9.602770\n",
       "41697598  41697598       15      0  48.922581  180.890048  170.304489\n",
       "41697599  41697599       15      0  92.923067    4.277500    4.088857\n",
       "\n",
       "[41697600 rows x 6 columns]"
      ]
     },
     "execution_count": 63,
     "metadata": {},
     "output_type": "execute_result"
    }
   ],
   "source": [
    "pred = pd.merge(mb[['row_id', 'site_id', 'meter']], pred, on='row_id', how='left')\n",
    "pred"
   ]
  },
  {
   "cell_type": "code",
   "execution_count": 64,
   "metadata": {},
   "outputs": [
    {
     "data": {
      "text/html": [
       "<div>\n",
       "<style scoped>\n",
       "    .dataframe tbody tr th:only-of-type {\n",
       "        vertical-align: middle;\n",
       "    }\n",
       "\n",
       "    .dataframe tbody tr th {\n",
       "        vertical-align: top;\n",
       "    }\n",
       "\n",
       "    .dataframe thead th {\n",
       "        text-align: right;\n",
       "    }\n",
       "</style>\n",
       "<table border=\"1\" class=\"dataframe\">\n",
       "  <thead>\n",
       "    <tr style=\"text-align: right;\">\n",
       "      <th></th>\n",
       "      <th>row_id</th>\n",
       "      <th>site_id</th>\n",
       "      <th>meter</th>\n",
       "      <th>lasso</th>\n",
       "      <th>lgb</th>\n",
       "      <th>xgb</th>\n",
       "    </tr>\n",
       "  </thead>\n",
       "  <tbody>\n",
       "    <tr>\n",
       "      <th>0</th>\n",
       "      <td>0</td>\n",
       "      <td>0</td>\n",
       "      <td>0</td>\n",
       "      <td>36.389707</td>\n",
       "      <td>15.996663</td>\n",
       "      <td>13.066713</td>\n",
       "    </tr>\n",
       "    <tr>\n",
       "      <th>1</th>\n",
       "      <td>1</td>\n",
       "      <td>0</td>\n",
       "      <td>0</td>\n",
       "      <td>34.157318</td>\n",
       "      <td>4.565810</td>\n",
       "      <td>4.576767</td>\n",
       "    </tr>\n",
       "    <tr>\n",
       "      <th>2</th>\n",
       "      <td>2</td>\n",
       "      <td>0</td>\n",
       "      <td>0</td>\n",
       "      <td>31.785666</td>\n",
       "      <td>0.518830</td>\n",
       "      <td>1.437319</td>\n",
       "    </tr>\n",
       "    <tr>\n",
       "      <th>3</th>\n",
       "      <td>3</td>\n",
       "      <td>0</td>\n",
       "      <td>0</td>\n",
       "      <td>39.392939</td>\n",
       "      <td>23.755989</td>\n",
       "      <td>133.349747</td>\n",
       "    </tr>\n",
       "    <tr>\n",
       "      <th>4</th>\n",
       "      <td>4</td>\n",
       "      <td>0</td>\n",
       "      <td>0</td>\n",
       "      <td>64.915707</td>\n",
       "      <td>52.488182</td>\n",
       "      <td>26.356098</td>\n",
       "    </tr>\n",
       "  </tbody>\n",
       "</table>\n",
       "</div>"
      ],
      "text/plain": [
       "   row_id  site_id  meter      lasso        lgb         xgb\n",
       "0       0        0      0  36.389707  15.996663   13.066713\n",
       "1       1        0      0  34.157318   4.565810    4.576767\n",
       "2       2        0      0  31.785666   0.518830    1.437319\n",
       "3       3        0      0  39.392939  23.755989  133.349747\n",
       "4       4        0      0  64.915707  52.488182   26.356098"
      ]
     },
     "execution_count": 64,
     "metadata": {},
     "output_type": "execute_result"
    }
   ],
   "source": [
    "# Site 0 meter 0 predictions in kWh\n",
    "pred[(pred.site_id == 0) & (pred.meter == 0)].head()"
   ]
  },
  {
   "cell_type": "code",
   "execution_count": 65,
   "metadata": {},
   "outputs": [
    {
     "data": {
      "text/html": [
       "<div>\n",
       "<style scoped>\n",
       "    .dataframe tbody tr th:only-of-type {\n",
       "        vertical-align: middle;\n",
       "    }\n",
       "\n",
       "    .dataframe tbody tr th {\n",
       "        vertical-align: top;\n",
       "    }\n",
       "\n",
       "    .dataframe thead th {\n",
       "        text-align: right;\n",
       "    }\n",
       "</style>\n",
       "<table border=\"1\" class=\"dataframe\">\n",
       "  <thead>\n",
       "    <tr style=\"text-align: right;\">\n",
       "      <th></th>\n",
       "      <th>row_id</th>\n",
       "      <th>site_id</th>\n",
       "      <th>meter</th>\n",
       "      <th>lasso</th>\n",
       "      <th>lgb</th>\n",
       "      <th>xgb</th>\n",
       "    </tr>\n",
       "  </thead>\n",
       "  <tbody>\n",
       "    <tr>\n",
       "      <th>0</th>\n",
       "      <td>0</td>\n",
       "      <td>0</td>\n",
       "      <td>0</td>\n",
       "      <td>124.154401</td>\n",
       "      <td>54.577415</td>\n",
       "      <td>44.581013</td>\n",
       "    </tr>\n",
       "    <tr>\n",
       "      <th>1</th>\n",
       "      <td>1</td>\n",
       "      <td>0</td>\n",
       "      <td>0</td>\n",
       "      <td>116.537939</td>\n",
       "      <td>15.577630</td>\n",
       "      <td>15.615013</td>\n",
       "    </tr>\n",
       "    <tr>\n",
       "      <th>2</th>\n",
       "      <td>2</td>\n",
       "      <td>0</td>\n",
       "      <td>0</td>\n",
       "      <td>108.446336</td>\n",
       "      <td>1.770143</td>\n",
       "      <td>4.903844</td>\n",
       "    </tr>\n",
       "    <tr>\n",
       "      <th>3</th>\n",
       "      <td>3</td>\n",
       "      <td>0</td>\n",
       "      <td>0</td>\n",
       "      <td>134.400830</td>\n",
       "      <td>81.050685</td>\n",
       "      <td>454.962646</td>\n",
       "    </tr>\n",
       "    <tr>\n",
       "      <th>4</th>\n",
       "      <td>4</td>\n",
       "      <td>0</td>\n",
       "      <td>0</td>\n",
       "      <td>221.479411</td>\n",
       "      <td>179.079178</td>\n",
       "      <td>89.921730</td>\n",
       "    </tr>\n",
       "  </tbody>\n",
       "</table>\n",
       "</div>"
      ],
      "text/plain": [
       "   row_id  site_id  meter       lasso         lgb         xgb\n",
       "0       0        0      0  124.154401   54.577415   44.581013\n",
       "1       1        0      0  116.537939   15.577630   15.615013\n",
       "2       2        0      0  108.446336    1.770143    4.903844\n",
       "3       3        0      0  134.400830   81.050685  454.962646\n",
       "4       4        0      0  221.479411  179.079178   89.921730"
      ]
     },
     "execution_count": 65,
     "metadata": {},
     "output_type": "execute_result"
    }
   ],
   "source": [
    "# Convert from kWh back to kBTU\n",
    "pred = udf.convert_readings(pred, site_num=0, meter_type=0, conversion='kwh_to_kbtu', reading_col='lasso')\n",
    "pred = udf.convert_readings(pred, site_num=0, meter_type=0, conversion='kwh_to_kbtu', reading_col='lgb')\n",
    "pred = udf.convert_readings(pred, site_num=0, meter_type=0, conversion='kwh_to_kbtu', reading_col='xgb')\n",
    "pred[(pred.site_id == 0) & (pred.meter == 0)].head()"
   ]
  },
  {
   "cell_type": "code",
   "execution_count": 66,
   "metadata": {},
   "outputs": [
    {
     "data": {
      "text/html": [
       "<div>\n",
       "<style scoped>\n",
       "    .dataframe tbody tr th:only-of-type {\n",
       "        vertical-align: middle;\n",
       "    }\n",
       "\n",
       "    .dataframe tbody tr th {\n",
       "        vertical-align: top;\n",
       "    }\n",
       "\n",
       "    .dataframe thead th {\n",
       "        text-align: right;\n",
       "    }\n",
       "</style>\n",
       "<table border=\"1\" class=\"dataframe\">\n",
       "  <thead>\n",
       "    <tr style=\"text-align: right;\">\n",
       "      <th></th>\n",
       "      <th>row_id</th>\n",
       "      <th>site_id</th>\n",
       "      <th>meter</th>\n",
       "      <th>lasso</th>\n",
       "      <th>lgb</th>\n",
       "      <th>xgb</th>\n",
       "    </tr>\n",
       "  </thead>\n",
       "  <tbody>\n",
       "    <tr>\n",
       "      <th>8</th>\n",
       "      <td>8</td>\n",
       "      <td>0</td>\n",
       "      <td>1</td>\n",
       "      <td>145.619306</td>\n",
       "      <td>20.792184</td>\n",
       "      <td>22.680782</td>\n",
       "    </tr>\n",
       "    <tr>\n",
       "      <th>11</th>\n",
       "      <td>11</td>\n",
       "      <td>0</td>\n",
       "      <td>1</td>\n",
       "      <td>56.570424</td>\n",
       "      <td>0.260874</td>\n",
       "      <td>1.233110</td>\n",
       "    </tr>\n",
       "    <tr>\n",
       "      <th>16</th>\n",
       "      <td>16</td>\n",
       "      <td>0</td>\n",
       "      <td>1</td>\n",
       "      <td>141.221549</td>\n",
       "      <td>5.577527</td>\n",
       "      <td>9.532133</td>\n",
       "    </tr>\n",
       "    <tr>\n",
       "      <th>18</th>\n",
       "      <td>18</td>\n",
       "      <td>0</td>\n",
       "      <td>1</td>\n",
       "      <td>145.844645</td>\n",
       "      <td>5.119013</td>\n",
       "      <td>15.072246</td>\n",
       "    </tr>\n",
       "    <tr>\n",
       "      <th>20</th>\n",
       "      <td>20</td>\n",
       "      <td>0</td>\n",
       "      <td>1</td>\n",
       "      <td>57.875563</td>\n",
       "      <td>3.430683</td>\n",
       "      <td>8.163044</td>\n",
       "    </tr>\n",
       "  </tbody>\n",
       "</table>\n",
       "</div>"
      ],
      "text/plain": [
       "    row_id  site_id  meter       lasso        lgb        xgb\n",
       "8        8        0      1  145.619306  20.792184  22.680782\n",
       "11      11        0      1   56.570424   0.260874   1.233110\n",
       "16      16        0      1  141.221549   5.577527   9.532133\n",
       "18      18        0      1  145.844645   5.119013  15.072246\n",
       "20      20        0      1   57.875563   3.430683   8.163044"
      ]
     },
     "execution_count": 66,
     "metadata": {},
     "output_type": "execute_result"
    }
   ],
   "source": [
    "# Site 0 meter 1 predictions in tons\n",
    "pred[(pred.site_id == 0) & (pred.meter == 1)].head()"
   ]
  },
  {
   "cell_type": "code",
   "execution_count": 67,
   "metadata": {},
   "outputs": [
    {
     "data": {
      "text/html": [
       "<div>\n",
       "<style scoped>\n",
       "    .dataframe tbody tr th:only-of-type {\n",
       "        vertical-align: middle;\n",
       "    }\n",
       "\n",
       "    .dataframe tbody tr th {\n",
       "        vertical-align: top;\n",
       "    }\n",
       "\n",
       "    .dataframe thead th {\n",
       "        text-align: right;\n",
       "    }\n",
       "</style>\n",
       "<table border=\"1\" class=\"dataframe\">\n",
       "  <thead>\n",
       "    <tr style=\"text-align: right;\">\n",
       "      <th></th>\n",
       "      <th>row_id</th>\n",
       "      <th>site_id</th>\n",
       "      <th>meter</th>\n",
       "      <th>lasso</th>\n",
       "      <th>lgb</th>\n",
       "      <th>xgb</th>\n",
       "    </tr>\n",
       "  </thead>\n",
       "  <tbody>\n",
       "    <tr>\n",
       "      <th>8</th>\n",
       "      <td>8</td>\n",
       "      <td>0</td>\n",
       "      <td>1</td>\n",
       "      <td>1747.431670</td>\n",
       "      <td>249.506208</td>\n",
       "      <td>272.169373</td>\n",
       "    </tr>\n",
       "    <tr>\n",
       "      <th>11</th>\n",
       "      <td>11</td>\n",
       "      <td>0</td>\n",
       "      <td>1</td>\n",
       "      <td>678.845088</td>\n",
       "      <td>3.130489</td>\n",
       "      <td>14.797322</td>\n",
       "    </tr>\n",
       "    <tr>\n",
       "      <th>16</th>\n",
       "      <td>16</td>\n",
       "      <td>0</td>\n",
       "      <td>1</td>\n",
       "      <td>1694.658589</td>\n",
       "      <td>66.930324</td>\n",
       "      <td>114.385597</td>\n",
       "    </tr>\n",
       "    <tr>\n",
       "      <th>18</th>\n",
       "      <td>18</td>\n",
       "      <td>0</td>\n",
       "      <td>1</td>\n",
       "      <td>1750.135745</td>\n",
       "      <td>61.428151</td>\n",
       "      <td>180.866943</td>\n",
       "    </tr>\n",
       "    <tr>\n",
       "      <th>20</th>\n",
       "      <td>20</td>\n",
       "      <td>0</td>\n",
       "      <td>1</td>\n",
       "      <td>694.506755</td>\n",
       "      <td>41.168198</td>\n",
       "      <td>97.956528</td>\n",
       "    </tr>\n",
       "  </tbody>\n",
       "</table>\n",
       "</div>"
      ],
      "text/plain": [
       "    row_id  site_id  meter        lasso         lgb         xgb\n",
       "8        8        0      1  1747.431670  249.506208  272.169373\n",
       "11      11        0      1   678.845088    3.130489   14.797322\n",
       "16      16        0      1  1694.658589   66.930324  114.385597\n",
       "18      18        0      1  1750.135745   61.428151  180.866943\n",
       "20      20        0      1   694.506755   41.168198   97.956528"
      ]
     },
     "execution_count": 67,
     "metadata": {},
     "output_type": "execute_result"
    }
   ],
   "source": [
    "# Convert from kWh back to kBTU\n",
    "pred = udf.convert_readings(pred, site_num=0, meter_type=1, conversion='ton_to_kbtu', reading_col='lasso')\n",
    "pred = udf.convert_readings(pred, site_num=0, meter_type=1, conversion='ton_to_kbtu', reading_col='lgb')\n",
    "pred = udf.convert_readings(pred, site_num=0, meter_type=1, conversion='ton_to_kbtu', reading_col='xgb')\n",
    "pred[(pred.site_id == 0) & (pred.meter == 1)].head()"
   ]
  },
  {
   "cell_type": "code",
   "execution_count": 68,
   "metadata": {},
   "outputs": [
    {
     "data": {
      "text/plain": [
       "110"
      ]
     },
     "execution_count": 68,
     "metadata": {},
     "output_type": "execute_result"
    }
   ],
   "source": [
    "del mb\n",
    "gc.collect()"
   ]
  },
  {
   "cell_type": "code",
   "execution_count": null,
   "metadata": {},
   "outputs": [],
   "source": []
  },
  {
   "cell_type": "code",
   "execution_count": null,
   "metadata": {},
   "outputs": [],
   "source": []
  },
  {
   "cell_type": "markdown",
   "metadata": {},
   "source": [
    "# Save Predictions"
   ]
  },
  {
   "cell_type": "code",
   "execution_count": 69,
   "metadata": {},
   "outputs": [
    {
     "data": {
      "text/html": [
       "<div>\n",
       "<style scoped>\n",
       "    .dataframe tbody tr th:only-of-type {\n",
       "        vertical-align: middle;\n",
       "    }\n",
       "\n",
       "    .dataframe tbody tr th {\n",
       "        vertical-align: top;\n",
       "    }\n",
       "\n",
       "    .dataframe thead th {\n",
       "        text-align: right;\n",
       "    }\n",
       "</style>\n",
       "<table border=\"1\" class=\"dataframe\">\n",
       "  <thead>\n",
       "    <tr style=\"text-align: right;\">\n",
       "      <th></th>\n",
       "      <th>row_id</th>\n",
       "      <th>site_id</th>\n",
       "      <th>meter</th>\n",
       "      <th>lasso</th>\n",
       "      <th>lgb</th>\n",
       "      <th>xgb</th>\n",
       "    </tr>\n",
       "  </thead>\n",
       "  <tbody>\n",
       "    <tr>\n",
       "      <th>count</th>\n",
       "      <td>4.169760e+07</td>\n",
       "      <td>4.169760e+07</td>\n",
       "      <td>4.169760e+07</td>\n",
       "      <td>4.169760e+07</td>\n",
       "      <td>4.169760e+07</td>\n",
       "      <td>4.169760e+07</td>\n",
       "    </tr>\n",
       "    <tr>\n",
       "      <th>mean</th>\n",
       "      <td>2.084880e+07</td>\n",
       "      <td>8.086134e+00</td>\n",
       "      <td>6.642857e-01</td>\n",
       "      <td>3.239290e+02</td>\n",
       "      <td>3.670009e+02</td>\n",
       "      <td>3.581980e+02</td>\n",
       "    </tr>\n",
       "    <tr>\n",
       "      <th>std</th>\n",
       "      <td>1.203706e+07</td>\n",
       "      <td>5.134712e+00</td>\n",
       "      <td>9.278067e-01</td>\n",
       "      <td>1.612918e+03</td>\n",
       "      <td>9.778432e+02</td>\n",
       "      <td>9.163020e+02</td>\n",
       "    </tr>\n",
       "    <tr>\n",
       "      <th>min</th>\n",
       "      <td>0.000000e+00</td>\n",
       "      <td>0.000000e+00</td>\n",
       "      <td>0.000000e+00</td>\n",
       "      <td>2.221449e+00</td>\n",
       "      <td>0.000000e+00</td>\n",
       "      <td>0.000000e+00</td>\n",
       "    </tr>\n",
       "    <tr>\n",
       "      <th>25%</th>\n",
       "      <td>1.042440e+07</td>\n",
       "      <td>3.000000e+00</td>\n",
       "      <td>0.000000e+00</td>\n",
       "      <td>3.956849e+01</td>\n",
       "      <td>2.649503e+01</td>\n",
       "      <td>2.609304e+01</td>\n",
       "    </tr>\n",
       "    <tr>\n",
       "      <th>50%</th>\n",
       "      <td>2.084880e+07</td>\n",
       "      <td>9.000000e+00</td>\n",
       "      <td>0.000000e+00</td>\n",
       "      <td>7.585253e+01</td>\n",
       "      <td>8.794283e+01</td>\n",
       "      <td>8.717337e+01</td>\n",
       "    </tr>\n",
       "    <tr>\n",
       "      <th>75%</th>\n",
       "      <td>3.127320e+07</td>\n",
       "      <td>1.300000e+01</td>\n",
       "      <td>1.000000e+00</td>\n",
       "      <td>1.832989e+02</td>\n",
       "      <td>2.809187e+02</td>\n",
       "      <td>2.794785e+02</td>\n",
       "    </tr>\n",
       "    <tr>\n",
       "      <th>max</th>\n",
       "      <td>4.169760e+07</td>\n",
       "      <td>1.500000e+01</td>\n",
       "      <td>3.000000e+00</td>\n",
       "      <td>1.468159e+05</td>\n",
       "      <td>3.074340e+04</td>\n",
       "      <td>2.448289e+04</td>\n",
       "    </tr>\n",
       "  </tbody>\n",
       "</table>\n",
       "</div>"
      ],
      "text/plain": [
       "             row_id       site_id         meter         lasso           lgb  \\\n",
       "count  4.169760e+07  4.169760e+07  4.169760e+07  4.169760e+07  4.169760e+07   \n",
       "mean   2.084880e+07  8.086134e+00  6.642857e-01  3.239290e+02  3.670009e+02   \n",
       "std    1.203706e+07  5.134712e+00  9.278067e-01  1.612918e+03  9.778432e+02   \n",
       "min    0.000000e+00  0.000000e+00  0.000000e+00  2.221449e+00  0.000000e+00   \n",
       "25%    1.042440e+07  3.000000e+00  0.000000e+00  3.956849e+01  2.649503e+01   \n",
       "50%    2.084880e+07  9.000000e+00  0.000000e+00  7.585253e+01  8.794283e+01   \n",
       "75%    3.127320e+07  1.300000e+01  1.000000e+00  1.832989e+02  2.809187e+02   \n",
       "max    4.169760e+07  1.500000e+01  3.000000e+00  1.468159e+05  3.074340e+04   \n",
       "\n",
       "                xgb  \n",
       "count  4.169760e+07  \n",
       "mean   3.581980e+02  \n",
       "std    9.163020e+02  \n",
       "min    0.000000e+00  \n",
       "25%    2.609304e+01  \n",
       "50%    8.717337e+01  \n",
       "75%    2.794785e+02  \n",
       "max    2.448289e+04  "
      ]
     },
     "execution_count": 69,
     "metadata": {},
     "output_type": "execute_result"
    }
   ],
   "source": [
    "pred.describe()"
   ]
  },
  {
   "cell_type": "code",
   "execution_count": 70,
   "metadata": {},
   "outputs": [
    {
     "data": {
      "text/html": [
       "<div>\n",
       "<style scoped>\n",
       "    .dataframe tbody tr th:only-of-type {\n",
       "        vertical-align: middle;\n",
       "    }\n",
       "\n",
       "    .dataframe tbody tr th {\n",
       "        vertical-align: top;\n",
       "    }\n",
       "\n",
       "    .dataframe thead th {\n",
       "        text-align: right;\n",
       "    }\n",
       "</style>\n",
       "<table border=\"1\" class=\"dataframe\">\n",
       "  <thead>\n",
       "    <tr style=\"text-align: right;\">\n",
       "      <th></th>\n",
       "      <th>row_id</th>\n",
       "      <th>site_id</th>\n",
       "      <th>meter</th>\n",
       "      <th>lasso</th>\n",
       "      <th>lgb</th>\n",
       "      <th>xgb</th>\n",
       "    </tr>\n",
       "  </thead>\n",
       "  <tbody>\n",
       "    <tr>\n",
       "      <th>0</th>\n",
       "      <td>0</td>\n",
       "      <td>0</td>\n",
       "      <td>0</td>\n",
       "      <td>124.154401</td>\n",
       "      <td>54.577415</td>\n",
       "      <td>44.581013</td>\n",
       "    </tr>\n",
       "    <tr>\n",
       "      <th>1</th>\n",
       "      <td>1</td>\n",
       "      <td>0</td>\n",
       "      <td>0</td>\n",
       "      <td>116.537939</td>\n",
       "      <td>15.577630</td>\n",
       "      <td>15.615013</td>\n",
       "    </tr>\n",
       "    <tr>\n",
       "      <th>2</th>\n",
       "      <td>2</td>\n",
       "      <td>0</td>\n",
       "      <td>0</td>\n",
       "      <td>108.446336</td>\n",
       "      <td>1.770143</td>\n",
       "      <td>4.903844</td>\n",
       "    </tr>\n",
       "    <tr>\n",
       "      <th>3</th>\n",
       "      <td>3</td>\n",
       "      <td>0</td>\n",
       "      <td>0</td>\n",
       "      <td>134.400830</td>\n",
       "      <td>81.050685</td>\n",
       "      <td>454.962646</td>\n",
       "    </tr>\n",
       "    <tr>\n",
       "      <th>4</th>\n",
       "      <td>4</td>\n",
       "      <td>0</td>\n",
       "      <td>0</td>\n",
       "      <td>221.479411</td>\n",
       "      <td>179.079178</td>\n",
       "      <td>89.921730</td>\n",
       "    </tr>\n",
       "    <tr>\n",
       "      <th>...</th>\n",
       "      <td>...</td>\n",
       "      <td>...</td>\n",
       "      <td>...</td>\n",
       "      <td>...</td>\n",
       "      <td>...</td>\n",
       "      <td>...</td>\n",
       "    </tr>\n",
       "    <tr>\n",
       "      <th>41697595</th>\n",
       "      <td>41697595</td>\n",
       "      <td>15</td>\n",
       "      <td>0</td>\n",
       "      <td>16.547994</td>\n",
       "      <td>4.123265</td>\n",
       "      <td>3.820243</td>\n",
       "    </tr>\n",
       "    <tr>\n",
       "      <th>41697596</th>\n",
       "      <td>41697596</td>\n",
       "      <td>15</td>\n",
       "      <td>0</td>\n",
       "      <td>47.336626</td>\n",
       "      <td>5.339714</td>\n",
       "      <td>5.223573</td>\n",
       "    </tr>\n",
       "    <tr>\n",
       "      <th>41697597</th>\n",
       "      <td>41697597</td>\n",
       "      <td>15</td>\n",
       "      <td>0</td>\n",
       "      <td>28.208404</td>\n",
       "      <td>8.965310</td>\n",
       "      <td>9.602770</td>\n",
       "    </tr>\n",
       "    <tr>\n",
       "      <th>41697598</th>\n",
       "      <td>41697598</td>\n",
       "      <td>15</td>\n",
       "      <td>0</td>\n",
       "      <td>48.922581</td>\n",
       "      <td>180.890048</td>\n",
       "      <td>170.304489</td>\n",
       "    </tr>\n",
       "    <tr>\n",
       "      <th>41697599</th>\n",
       "      <td>41697599</td>\n",
       "      <td>15</td>\n",
       "      <td>0</td>\n",
       "      <td>92.923067</td>\n",
       "      <td>4.277500</td>\n",
       "      <td>4.088857</td>\n",
       "    </tr>\n",
       "  </tbody>\n",
       "</table>\n",
       "<p>41697600 rows × 6 columns</p>\n",
       "</div>"
      ],
      "text/plain": [
       "            row_id  site_id  meter       lasso         lgb         xgb\n",
       "0                0        0      0  124.154401   54.577415   44.581013\n",
       "1                1        0      0  116.537939   15.577630   15.615013\n",
       "2                2        0      0  108.446336    1.770143    4.903844\n",
       "3                3        0      0  134.400830   81.050685  454.962646\n",
       "4                4        0      0  221.479411  179.079178   89.921730\n",
       "...            ...      ...    ...         ...         ...         ...\n",
       "41697595  41697595       15      0   16.547994    4.123265    3.820243\n",
       "41697596  41697596       15      0   47.336626    5.339714    5.223573\n",
       "41697597  41697597       15      0   28.208404    8.965310    9.602770\n",
       "41697598  41697598       15      0   48.922581  180.890048  170.304489\n",
       "41697599  41697599       15      0   92.923067    4.277500    4.088857\n",
       "\n",
       "[41697600 rows x 6 columns]"
      ]
     },
     "execution_count": 70,
     "metadata": {},
     "output_type": "execute_result"
    }
   ],
   "source": [
    "path = '../submissions/sub4/'\n",
    "pred.to_pickle(f'{path}preds.pkl')\n",
    "pred = pd.read_pickle(f'{path}preds.pkl')\n",
    "pred"
   ]
  },
  {
   "cell_type": "code",
   "execution_count": 71,
   "metadata": {},
   "outputs": [
    {
     "data": {
      "text/html": [
       "<div>\n",
       "<style scoped>\n",
       "    .dataframe tbody tr th:only-of-type {\n",
       "        vertical-align: middle;\n",
       "    }\n",
       "\n",
       "    .dataframe tbody tr th {\n",
       "        vertical-align: top;\n",
       "    }\n",
       "\n",
       "    .dataframe thead th {\n",
       "        text-align: right;\n",
       "    }\n",
       "</style>\n",
       "<table border=\"1\" class=\"dataframe\">\n",
       "  <thead>\n",
       "    <tr style=\"text-align: right;\">\n",
       "      <th></th>\n",
       "      <th>row_id</th>\n",
       "      <th>meter_reading</th>\n",
       "    </tr>\n",
       "  </thead>\n",
       "  <tbody>\n",
       "    <tr>\n",
       "      <th>0</th>\n",
       "      <td>0</td>\n",
       "      <td>0</td>\n",
       "    </tr>\n",
       "    <tr>\n",
       "      <th>1</th>\n",
       "      <td>1</td>\n",
       "      <td>0</td>\n",
       "    </tr>\n",
       "    <tr>\n",
       "      <th>2</th>\n",
       "      <td>2</td>\n",
       "      <td>0</td>\n",
       "    </tr>\n",
       "    <tr>\n",
       "      <th>3</th>\n",
       "      <td>3</td>\n",
       "      <td>0</td>\n",
       "    </tr>\n",
       "    <tr>\n",
       "      <th>4</th>\n",
       "      <td>4</td>\n",
       "      <td>0</td>\n",
       "    </tr>\n",
       "    <tr>\n",
       "      <th>...</th>\n",
       "      <td>...</td>\n",
       "      <td>...</td>\n",
       "    </tr>\n",
       "    <tr>\n",
       "      <th>41697595</th>\n",
       "      <td>41697595</td>\n",
       "      <td>0</td>\n",
       "    </tr>\n",
       "    <tr>\n",
       "      <th>41697596</th>\n",
       "      <td>41697596</td>\n",
       "      <td>0</td>\n",
       "    </tr>\n",
       "    <tr>\n",
       "      <th>41697597</th>\n",
       "      <td>41697597</td>\n",
       "      <td>0</td>\n",
       "    </tr>\n",
       "    <tr>\n",
       "      <th>41697598</th>\n",
       "      <td>41697598</td>\n",
       "      <td>0</td>\n",
       "    </tr>\n",
       "    <tr>\n",
       "      <th>41697599</th>\n",
       "      <td>41697599</td>\n",
       "      <td>0</td>\n",
       "    </tr>\n",
       "  </tbody>\n",
       "</table>\n",
       "<p>41697600 rows × 2 columns</p>\n",
       "</div>"
      ],
      "text/plain": [
       "            row_id  meter_reading\n",
       "0                0              0\n",
       "1                1              0\n",
       "2                2              0\n",
       "3                3              0\n",
       "4                4              0\n",
       "...            ...            ...\n",
       "41697595  41697595              0\n",
       "41697596  41697596              0\n",
       "41697597  41697597              0\n",
       "41697598  41697598              0\n",
       "41697599  41697599              0\n",
       "\n",
       "[41697600 rows x 2 columns]"
      ]
     },
     "execution_count": 71,
     "metadata": {},
     "output_type": "execute_result"
    }
   ],
   "source": [
    "submission"
   ]
  },
  {
   "cell_type": "code",
   "execution_count": 72,
   "metadata": {},
   "outputs": [
    {
     "data": {
      "text/html": [
       "<div>\n",
       "<style scoped>\n",
       "    .dataframe tbody tr th:only-of-type {\n",
       "        vertical-align: middle;\n",
       "    }\n",
       "\n",
       "    .dataframe tbody tr th {\n",
       "        vertical-align: top;\n",
       "    }\n",
       "\n",
       "    .dataframe thead th {\n",
       "        text-align: right;\n",
       "    }\n",
       "</style>\n",
       "<table border=\"1\" class=\"dataframe\">\n",
       "  <thead>\n",
       "    <tr style=\"text-align: right;\">\n",
       "      <th></th>\n",
       "      <th>row_id</th>\n",
       "      <th>meter_reading</th>\n",
       "    </tr>\n",
       "  </thead>\n",
       "  <tbody>\n",
       "    <tr>\n",
       "      <th>0</th>\n",
       "      <td>0</td>\n",
       "      <td>124.154401</td>\n",
       "    </tr>\n",
       "    <tr>\n",
       "      <th>1</th>\n",
       "      <td>1</td>\n",
       "      <td>116.537939</td>\n",
       "    </tr>\n",
       "    <tr>\n",
       "      <th>2</th>\n",
       "      <td>2</td>\n",
       "      <td>108.446336</td>\n",
       "    </tr>\n",
       "    <tr>\n",
       "      <th>3</th>\n",
       "      <td>3</td>\n",
       "      <td>134.400830</td>\n",
       "    </tr>\n",
       "    <tr>\n",
       "      <th>4</th>\n",
       "      <td>4</td>\n",
       "      <td>221.479411</td>\n",
       "    </tr>\n",
       "    <tr>\n",
       "      <th>...</th>\n",
       "      <td>...</td>\n",
       "      <td>...</td>\n",
       "    </tr>\n",
       "    <tr>\n",
       "      <th>41697595</th>\n",
       "      <td>41697595</td>\n",
       "      <td>16.547994</td>\n",
       "    </tr>\n",
       "    <tr>\n",
       "      <th>41697596</th>\n",
       "      <td>41697596</td>\n",
       "      <td>47.336626</td>\n",
       "    </tr>\n",
       "    <tr>\n",
       "      <th>41697597</th>\n",
       "      <td>41697597</td>\n",
       "      <td>28.208404</td>\n",
       "    </tr>\n",
       "    <tr>\n",
       "      <th>41697598</th>\n",
       "      <td>41697598</td>\n",
       "      <td>48.922581</td>\n",
       "    </tr>\n",
       "    <tr>\n",
       "      <th>41697599</th>\n",
       "      <td>41697599</td>\n",
       "      <td>92.923067</td>\n",
       "    </tr>\n",
       "  </tbody>\n",
       "</table>\n",
       "<p>41697600 rows × 2 columns</p>\n",
       "</div>"
      ],
      "text/plain": [
       "            row_id  meter_reading\n",
       "0                0     124.154401\n",
       "1                1     116.537939\n",
       "2                2     108.446336\n",
       "3                3     134.400830\n",
       "4                4     221.479411\n",
       "...            ...            ...\n",
       "41697595  41697595      16.547994\n",
       "41697596  41697596      47.336626\n",
       "41697597  41697597      28.208404\n",
       "41697598  41697598      48.922581\n",
       "41697599  41697599      92.923067\n",
       "\n",
       "[41697600 rows x 2 columns]"
      ]
     },
     "execution_count": 72,
     "metadata": {},
     "output_type": "execute_result"
    }
   ],
   "source": [
    "# Lasso predictions\n",
    "lasso_pred = submission.copy()\n",
    "lasso_pred['meter_reading'] = pred['lasso']\n",
    "lasso_pred"
   ]
  },
  {
   "cell_type": "code",
   "execution_count": 73,
   "metadata": {},
   "outputs": [
    {
     "data": {
      "text/html": [
       "<div>\n",
       "<style scoped>\n",
       "    .dataframe tbody tr th:only-of-type {\n",
       "        vertical-align: middle;\n",
       "    }\n",
       "\n",
       "    .dataframe tbody tr th {\n",
       "        vertical-align: top;\n",
       "    }\n",
       "\n",
       "    .dataframe thead th {\n",
       "        text-align: right;\n",
       "    }\n",
       "</style>\n",
       "<table border=\"1\" class=\"dataframe\">\n",
       "  <thead>\n",
       "    <tr style=\"text-align: right;\">\n",
       "      <th></th>\n",
       "      <th>row_id</th>\n",
       "      <th>meter_reading</th>\n",
       "    </tr>\n",
       "  </thead>\n",
       "  <tbody>\n",
       "    <tr>\n",
       "      <th>0</th>\n",
       "      <td>0</td>\n",
       "      <td>54.577415</td>\n",
       "    </tr>\n",
       "    <tr>\n",
       "      <th>1</th>\n",
       "      <td>1</td>\n",
       "      <td>15.577630</td>\n",
       "    </tr>\n",
       "    <tr>\n",
       "      <th>2</th>\n",
       "      <td>2</td>\n",
       "      <td>1.770143</td>\n",
       "    </tr>\n",
       "    <tr>\n",
       "      <th>3</th>\n",
       "      <td>3</td>\n",
       "      <td>81.050685</td>\n",
       "    </tr>\n",
       "    <tr>\n",
       "      <th>4</th>\n",
       "      <td>4</td>\n",
       "      <td>179.079178</td>\n",
       "    </tr>\n",
       "    <tr>\n",
       "      <th>...</th>\n",
       "      <td>...</td>\n",
       "      <td>...</td>\n",
       "    </tr>\n",
       "    <tr>\n",
       "      <th>41697595</th>\n",
       "      <td>41697595</td>\n",
       "      <td>4.123265</td>\n",
       "    </tr>\n",
       "    <tr>\n",
       "      <th>41697596</th>\n",
       "      <td>41697596</td>\n",
       "      <td>5.339714</td>\n",
       "    </tr>\n",
       "    <tr>\n",
       "      <th>41697597</th>\n",
       "      <td>41697597</td>\n",
       "      <td>8.965310</td>\n",
       "    </tr>\n",
       "    <tr>\n",
       "      <th>41697598</th>\n",
       "      <td>41697598</td>\n",
       "      <td>180.890048</td>\n",
       "    </tr>\n",
       "    <tr>\n",
       "      <th>41697599</th>\n",
       "      <td>41697599</td>\n",
       "      <td>4.277500</td>\n",
       "    </tr>\n",
       "  </tbody>\n",
       "</table>\n",
       "<p>41697600 rows × 2 columns</p>\n",
       "</div>"
      ],
      "text/plain": [
       "            row_id  meter_reading\n",
       "0                0      54.577415\n",
       "1                1      15.577630\n",
       "2                2       1.770143\n",
       "3                3      81.050685\n",
       "4                4     179.079178\n",
       "...            ...            ...\n",
       "41697595  41697595       4.123265\n",
       "41697596  41697596       5.339714\n",
       "41697597  41697597       8.965310\n",
       "41697598  41697598     180.890048\n",
       "41697599  41697599       4.277500\n",
       "\n",
       "[41697600 rows x 2 columns]"
      ]
     },
     "execution_count": 73,
     "metadata": {},
     "output_type": "execute_result"
    }
   ],
   "source": [
    "# Lasso predictions\n",
    "lgb_pred = submission.copy()\n",
    "lgb_pred['meter_reading'] = pred['lgb']\n",
    "lgb_pred"
   ]
  },
  {
   "cell_type": "code",
   "execution_count": 74,
   "metadata": {},
   "outputs": [
    {
     "data": {
      "text/html": [
       "<div>\n",
       "<style scoped>\n",
       "    .dataframe tbody tr th:only-of-type {\n",
       "        vertical-align: middle;\n",
       "    }\n",
       "\n",
       "    .dataframe tbody tr th {\n",
       "        vertical-align: top;\n",
       "    }\n",
       "\n",
       "    .dataframe thead th {\n",
       "        text-align: right;\n",
       "    }\n",
       "</style>\n",
       "<table border=\"1\" class=\"dataframe\">\n",
       "  <thead>\n",
       "    <tr style=\"text-align: right;\">\n",
       "      <th></th>\n",
       "      <th>row_id</th>\n",
       "      <th>meter_reading</th>\n",
       "    </tr>\n",
       "  </thead>\n",
       "  <tbody>\n",
       "    <tr>\n",
       "      <th>0</th>\n",
       "      <td>0</td>\n",
       "      <td>44.581013</td>\n",
       "    </tr>\n",
       "    <tr>\n",
       "      <th>1</th>\n",
       "      <td>1</td>\n",
       "      <td>15.615013</td>\n",
       "    </tr>\n",
       "    <tr>\n",
       "      <th>2</th>\n",
       "      <td>2</td>\n",
       "      <td>4.903844</td>\n",
       "    </tr>\n",
       "    <tr>\n",
       "      <th>3</th>\n",
       "      <td>3</td>\n",
       "      <td>454.962646</td>\n",
       "    </tr>\n",
       "    <tr>\n",
       "      <th>4</th>\n",
       "      <td>4</td>\n",
       "      <td>89.921730</td>\n",
       "    </tr>\n",
       "    <tr>\n",
       "      <th>...</th>\n",
       "      <td>...</td>\n",
       "      <td>...</td>\n",
       "    </tr>\n",
       "    <tr>\n",
       "      <th>41697595</th>\n",
       "      <td>41697595</td>\n",
       "      <td>3.820243</td>\n",
       "    </tr>\n",
       "    <tr>\n",
       "      <th>41697596</th>\n",
       "      <td>41697596</td>\n",
       "      <td>5.223573</td>\n",
       "    </tr>\n",
       "    <tr>\n",
       "      <th>41697597</th>\n",
       "      <td>41697597</td>\n",
       "      <td>9.602770</td>\n",
       "    </tr>\n",
       "    <tr>\n",
       "      <th>41697598</th>\n",
       "      <td>41697598</td>\n",
       "      <td>170.304489</td>\n",
       "    </tr>\n",
       "    <tr>\n",
       "      <th>41697599</th>\n",
       "      <td>41697599</td>\n",
       "      <td>4.088857</td>\n",
       "    </tr>\n",
       "  </tbody>\n",
       "</table>\n",
       "<p>41697600 rows × 2 columns</p>\n",
       "</div>"
      ],
      "text/plain": [
       "            row_id  meter_reading\n",
       "0                0      44.581013\n",
       "1                1      15.615013\n",
       "2                2       4.903844\n",
       "3                3     454.962646\n",
       "4                4      89.921730\n",
       "...            ...            ...\n",
       "41697595  41697595       3.820243\n",
       "41697596  41697596       5.223573\n",
       "41697597  41697597       9.602770\n",
       "41697598  41697598     170.304489\n",
       "41697599  41697599       4.088857\n",
       "\n",
       "[41697600 rows x 2 columns]"
      ]
     },
     "execution_count": 74,
     "metadata": {},
     "output_type": "execute_result"
    }
   ],
   "source": [
    "# Lasso predictions\n",
    "xgb_pred = submission.copy()\n",
    "xgb_pred['meter_reading'] = pred['xgb']\n",
    "xgb_pred"
   ]
  },
  {
   "cell_type": "code",
   "execution_count": 75,
   "metadata": {},
   "outputs": [
    {
     "data": {
      "text/html": [
       "<div>\n",
       "<style scoped>\n",
       "    .dataframe tbody tr th:only-of-type {\n",
       "        vertical-align: middle;\n",
       "    }\n",
       "\n",
       "    .dataframe tbody tr th {\n",
       "        vertical-align: top;\n",
       "    }\n",
       "\n",
       "    .dataframe thead th {\n",
       "        text-align: right;\n",
       "    }\n",
       "</style>\n",
       "<table border=\"1\" class=\"dataframe\">\n",
       "  <thead>\n",
       "    <tr style=\"text-align: right;\">\n",
       "      <th></th>\n",
       "      <th>row_id</th>\n",
       "      <th>meter_reading</th>\n",
       "    </tr>\n",
       "  </thead>\n",
       "  <tbody>\n",
       "    <tr>\n",
       "      <th>0</th>\n",
       "      <td>0</td>\n",
       "      <td>124.154401</td>\n",
       "    </tr>\n",
       "    <tr>\n",
       "      <th>1</th>\n",
       "      <td>1</td>\n",
       "      <td>116.537939</td>\n",
       "    </tr>\n",
       "    <tr>\n",
       "      <th>2</th>\n",
       "      <td>2</td>\n",
       "      <td>108.446336</td>\n",
       "    </tr>\n",
       "    <tr>\n",
       "      <th>3</th>\n",
       "      <td>3</td>\n",
       "      <td>134.400830</td>\n",
       "    </tr>\n",
       "    <tr>\n",
       "      <th>4</th>\n",
       "      <td>4</td>\n",
       "      <td>221.479411</td>\n",
       "    </tr>\n",
       "    <tr>\n",
       "      <th>...</th>\n",
       "      <td>...</td>\n",
       "      <td>...</td>\n",
       "    </tr>\n",
       "    <tr>\n",
       "      <th>41697595</th>\n",
       "      <td>41697595</td>\n",
       "      <td>16.547994</td>\n",
       "    </tr>\n",
       "    <tr>\n",
       "      <th>41697596</th>\n",
       "      <td>41697596</td>\n",
       "      <td>47.336626</td>\n",
       "    </tr>\n",
       "    <tr>\n",
       "      <th>41697597</th>\n",
       "      <td>41697597</td>\n",
       "      <td>28.208404</td>\n",
       "    </tr>\n",
       "    <tr>\n",
       "      <th>41697598</th>\n",
       "      <td>41697598</td>\n",
       "      <td>48.922581</td>\n",
       "    </tr>\n",
       "    <tr>\n",
       "      <th>41697599</th>\n",
       "      <td>41697599</td>\n",
       "      <td>92.923067</td>\n",
       "    </tr>\n",
       "  </tbody>\n",
       "</table>\n",
       "<p>41697600 rows × 2 columns</p>\n",
       "</div>"
      ],
      "text/plain": [
       "            row_id  meter_reading\n",
       "0                0     124.154401\n",
       "1                1     116.537939\n",
       "2                2     108.446336\n",
       "3                3     134.400830\n",
       "4                4     221.479411\n",
       "...            ...            ...\n",
       "41697595  41697595      16.547994\n",
       "41697596  41697596      47.336626\n",
       "41697597  41697597      28.208404\n",
       "41697598  41697598      48.922581\n",
       "41697599  41697599      92.923067\n",
       "\n",
       "[41697600 rows x 2 columns]"
      ]
     },
     "execution_count": 75,
     "metadata": {},
     "output_type": "execute_result"
    }
   ],
   "source": [
    "lasso_pred.to_csv(f'{path}l1r.csv', index=False)\n",
    "lasso_pred = pd.read_csv(f'{path}l1r.csv')\n",
    "lasso_pred"
   ]
  },
  {
   "cell_type": "code",
   "execution_count": 76,
   "metadata": {},
   "outputs": [
    {
     "data": {
      "text/html": [
       "<div>\n",
       "<style scoped>\n",
       "    .dataframe tbody tr th:only-of-type {\n",
       "        vertical-align: middle;\n",
       "    }\n",
       "\n",
       "    .dataframe tbody tr th {\n",
       "        vertical-align: top;\n",
       "    }\n",
       "\n",
       "    .dataframe thead th {\n",
       "        text-align: right;\n",
       "    }\n",
       "</style>\n",
       "<table border=\"1\" class=\"dataframe\">\n",
       "  <thead>\n",
       "    <tr style=\"text-align: right;\">\n",
       "      <th></th>\n",
       "      <th>row_id</th>\n",
       "      <th>meter_reading</th>\n",
       "    </tr>\n",
       "  </thead>\n",
       "  <tbody>\n",
       "    <tr>\n",
       "      <th>0</th>\n",
       "      <td>0</td>\n",
       "      <td>54.577415</td>\n",
       "    </tr>\n",
       "    <tr>\n",
       "      <th>1</th>\n",
       "      <td>1</td>\n",
       "      <td>15.577630</td>\n",
       "    </tr>\n",
       "    <tr>\n",
       "      <th>2</th>\n",
       "      <td>2</td>\n",
       "      <td>1.770143</td>\n",
       "    </tr>\n",
       "    <tr>\n",
       "      <th>3</th>\n",
       "      <td>3</td>\n",
       "      <td>81.050685</td>\n",
       "    </tr>\n",
       "    <tr>\n",
       "      <th>4</th>\n",
       "      <td>4</td>\n",
       "      <td>179.079178</td>\n",
       "    </tr>\n",
       "    <tr>\n",
       "      <th>...</th>\n",
       "      <td>...</td>\n",
       "      <td>...</td>\n",
       "    </tr>\n",
       "    <tr>\n",
       "      <th>41697595</th>\n",
       "      <td>41697595</td>\n",
       "      <td>4.123265</td>\n",
       "    </tr>\n",
       "    <tr>\n",
       "      <th>41697596</th>\n",
       "      <td>41697596</td>\n",
       "      <td>5.339714</td>\n",
       "    </tr>\n",
       "    <tr>\n",
       "      <th>41697597</th>\n",
       "      <td>41697597</td>\n",
       "      <td>8.965310</td>\n",
       "    </tr>\n",
       "    <tr>\n",
       "      <th>41697598</th>\n",
       "      <td>41697598</td>\n",
       "      <td>180.890048</td>\n",
       "    </tr>\n",
       "    <tr>\n",
       "      <th>41697599</th>\n",
       "      <td>41697599</td>\n",
       "      <td>4.277500</td>\n",
       "    </tr>\n",
       "  </tbody>\n",
       "</table>\n",
       "<p>41697600 rows × 2 columns</p>\n",
       "</div>"
      ],
      "text/plain": [
       "            row_id  meter_reading\n",
       "0                0      54.577415\n",
       "1                1      15.577630\n",
       "2                2       1.770143\n",
       "3                3      81.050685\n",
       "4                4     179.079178\n",
       "...            ...            ...\n",
       "41697595  41697595       4.123265\n",
       "41697596  41697596       5.339714\n",
       "41697597  41697597       8.965310\n",
       "41697598  41697598     180.890048\n",
       "41697599  41697599       4.277500\n",
       "\n",
       "[41697600 rows x 2 columns]"
      ]
     },
     "execution_count": 76,
     "metadata": {},
     "output_type": "execute_result"
    }
   ],
   "source": [
    "lgb_pred.to_csv(f'{path}lgb.csv', index=False)\n",
    "lgb_pred = pd.read_csv(f'{path}lgb.csv')\n",
    "lgb_pred"
   ]
  },
  {
   "cell_type": "code",
   "execution_count": 77,
   "metadata": {},
   "outputs": [
    {
     "data": {
      "text/html": [
       "<div>\n",
       "<style scoped>\n",
       "    .dataframe tbody tr th:only-of-type {\n",
       "        vertical-align: middle;\n",
       "    }\n",
       "\n",
       "    .dataframe tbody tr th {\n",
       "        vertical-align: top;\n",
       "    }\n",
       "\n",
       "    .dataframe thead th {\n",
       "        text-align: right;\n",
       "    }\n",
       "</style>\n",
       "<table border=\"1\" class=\"dataframe\">\n",
       "  <thead>\n",
       "    <tr style=\"text-align: right;\">\n",
       "      <th></th>\n",
       "      <th>row_id</th>\n",
       "      <th>meter_reading</th>\n",
       "    </tr>\n",
       "  </thead>\n",
       "  <tbody>\n",
       "    <tr>\n",
       "      <th>0</th>\n",
       "      <td>0</td>\n",
       "      <td>44.581013</td>\n",
       "    </tr>\n",
       "    <tr>\n",
       "      <th>1</th>\n",
       "      <td>1</td>\n",
       "      <td>15.615013</td>\n",
       "    </tr>\n",
       "    <tr>\n",
       "      <th>2</th>\n",
       "      <td>2</td>\n",
       "      <td>4.903844</td>\n",
       "    </tr>\n",
       "    <tr>\n",
       "      <th>3</th>\n",
       "      <td>3</td>\n",
       "      <td>454.962650</td>\n",
       "    </tr>\n",
       "    <tr>\n",
       "      <th>4</th>\n",
       "      <td>4</td>\n",
       "      <td>89.921730</td>\n",
       "    </tr>\n",
       "    <tr>\n",
       "      <th>...</th>\n",
       "      <td>...</td>\n",
       "      <td>...</td>\n",
       "    </tr>\n",
       "    <tr>\n",
       "      <th>41697595</th>\n",
       "      <td>41697595</td>\n",
       "      <td>3.820243</td>\n",
       "    </tr>\n",
       "    <tr>\n",
       "      <th>41697596</th>\n",
       "      <td>41697596</td>\n",
       "      <td>5.223573</td>\n",
       "    </tr>\n",
       "    <tr>\n",
       "      <th>41697597</th>\n",
       "      <td>41697597</td>\n",
       "      <td>9.602770</td>\n",
       "    </tr>\n",
       "    <tr>\n",
       "      <th>41697598</th>\n",
       "      <td>41697598</td>\n",
       "      <td>170.304490</td>\n",
       "    </tr>\n",
       "    <tr>\n",
       "      <th>41697599</th>\n",
       "      <td>41697599</td>\n",
       "      <td>4.088857</td>\n",
       "    </tr>\n",
       "  </tbody>\n",
       "</table>\n",
       "<p>41697600 rows × 2 columns</p>\n",
       "</div>"
      ],
      "text/plain": [
       "            row_id  meter_reading\n",
       "0                0      44.581013\n",
       "1                1      15.615013\n",
       "2                2       4.903844\n",
       "3                3     454.962650\n",
       "4                4      89.921730\n",
       "...            ...            ...\n",
       "41697595  41697595       3.820243\n",
       "41697596  41697596       5.223573\n",
       "41697597  41697597       9.602770\n",
       "41697598  41697598     170.304490\n",
       "41697599  41697599       4.088857\n",
       "\n",
       "[41697600 rows x 2 columns]"
      ]
     },
     "execution_count": 77,
     "metadata": {},
     "output_type": "execute_result"
    }
   ],
   "source": [
    "xgb_pred.to_csv(f'{path}xgb.csv', index=False)\n",
    "xgb_pred = pd.read_csv(f'{path}xgb.csv')\n",
    "xgb_pred"
   ]
  },
  {
   "cell_type": "markdown",
   "metadata": {},
   "source": [
    "### Test RMSLE:\n",
    "##### Lasso regression:  (Public),  (Private)\n",
    "##### LightGBM:  (Public),  (Private)\n",
    "##### XGBoost:  (Public),  (Private)"
   ]
  },
  {
   "cell_type": "code",
   "execution_count": null,
   "metadata": {},
   "outputs": [],
   "source": []
  },
  {
   "cell_type": "code",
   "execution_count": null,
   "metadata": {},
   "outputs": [],
   "source": []
  },
  {
   "cell_type": "markdown",
   "metadata": {},
   "source": [
    "# Combine LightGBM and XGBoost predictions"
   ]
  },
  {
   "cell_type": "code",
   "execution_count": 8,
   "metadata": {},
   "outputs": [
    {
     "data": {
      "text/html": [
       "<div>\n",
       "<style scoped>\n",
       "    .dataframe tbody tr th:only-of-type {\n",
       "        vertical-align: middle;\n",
       "    }\n",
       "\n",
       "    .dataframe tbody tr th {\n",
       "        vertical-align: top;\n",
       "    }\n",
       "\n",
       "    .dataframe thead th {\n",
       "        text-align: right;\n",
       "    }\n",
       "</style>\n",
       "<table border=\"1\" class=\"dataframe\">\n",
       "  <thead>\n",
       "    <tr style=\"text-align: right;\">\n",
       "      <th></th>\n",
       "      <th>row_id</th>\n",
       "      <th>lgb</th>\n",
       "      <th>xgb</th>\n",
       "    </tr>\n",
       "  </thead>\n",
       "  <tbody>\n",
       "    <tr>\n",
       "      <th>0</th>\n",
       "      <td>0</td>\n",
       "      <td>54.809699</td>\n",
       "      <td>51.882465</td>\n",
       "    </tr>\n",
       "    <tr>\n",
       "      <th>1</th>\n",
       "      <td>1</td>\n",
       "      <td>17.976733</td>\n",
       "      <td>16.754257</td>\n",
       "    </tr>\n",
       "    <tr>\n",
       "      <th>2</th>\n",
       "      <td>2</td>\n",
       "      <td>1.477563</td>\n",
       "      <td>3.712897</td>\n",
       "    </tr>\n",
       "    <tr>\n",
       "      <th>3</th>\n",
       "      <td>3</td>\n",
       "      <td>71.624491</td>\n",
       "      <td>373.013920</td>\n",
       "    </tr>\n",
       "    <tr>\n",
       "      <th>4</th>\n",
       "      <td>4</td>\n",
       "      <td>142.167250</td>\n",
       "      <td>117.079580</td>\n",
       "    </tr>\n",
       "  </tbody>\n",
       "</table>\n",
       "</div>"
      ],
      "text/plain": [
       "   row_id         lgb         xgb\n",
       "0       0   54.809699   51.882465\n",
       "1       1   17.976733   16.754257\n",
       "2       2    1.477563    3.712897\n",
       "3       3   71.624491  373.013920\n",
       "4       4  142.167250  117.079580"
      ]
     },
     "execution_count": 8,
     "metadata": {},
     "output_type": "execute_result"
    }
   ],
   "source": [
    "xl = pd.merge(lgb_pred, xgb_pred, on='row_id', how='left')\n",
    "xl.columns = ['row_id', 'lgb', 'xgb']\n",
    "xl.head()"
   ]
  },
  {
   "cell_type": "code",
   "execution_count": 11,
   "metadata": {},
   "outputs": [
    {
     "data": {
      "text/html": [
       "<div>\n",
       "<style scoped>\n",
       "    .dataframe tbody tr th:only-of-type {\n",
       "        vertical-align: middle;\n",
       "    }\n",
       "\n",
       "    .dataframe tbody tr th {\n",
       "        vertical-align: top;\n",
       "    }\n",
       "\n",
       "    .dataframe thead th {\n",
       "        text-align: right;\n",
       "    }\n",
       "</style>\n",
       "<table border=\"1\" class=\"dataframe\">\n",
       "  <thead>\n",
       "    <tr style=\"text-align: right;\">\n",
       "      <th></th>\n",
       "      <th>row_id</th>\n",
       "      <th>lgb</th>\n",
       "      <th>xgb</th>\n",
       "      <th>xl55</th>\n",
       "    </tr>\n",
       "  </thead>\n",
       "  <tbody>\n",
       "    <tr>\n",
       "      <th>0</th>\n",
       "      <td>0</td>\n",
       "      <td>54.809699</td>\n",
       "      <td>51.882465</td>\n",
       "      <td>53.346082</td>\n",
       "    </tr>\n",
       "    <tr>\n",
       "      <th>1</th>\n",
       "      <td>1</td>\n",
       "      <td>17.976733</td>\n",
       "      <td>16.754257</td>\n",
       "      <td>17.365495</td>\n",
       "    </tr>\n",
       "    <tr>\n",
       "      <th>2</th>\n",
       "      <td>2</td>\n",
       "      <td>1.477563</td>\n",
       "      <td>3.712897</td>\n",
       "      <td>2.595230</td>\n",
       "    </tr>\n",
       "    <tr>\n",
       "      <th>3</th>\n",
       "      <td>3</td>\n",
       "      <td>71.624491</td>\n",
       "      <td>373.013920</td>\n",
       "      <td>222.319205</td>\n",
       "    </tr>\n",
       "    <tr>\n",
       "      <th>4</th>\n",
       "      <td>4</td>\n",
       "      <td>142.167250</td>\n",
       "      <td>117.079580</td>\n",
       "      <td>129.623415</td>\n",
       "    </tr>\n",
       "  </tbody>\n",
       "</table>\n",
       "</div>"
      ],
      "text/plain": [
       "   row_id         lgb         xgb        xl55\n",
       "0       0   54.809699   51.882465   53.346082\n",
       "1       1   17.976733   16.754257   17.365495\n",
       "2       2    1.477563    3.712897    2.595230\n",
       "3       3   71.624491  373.013920  222.319205\n",
       "4       4  142.167250  117.079580  129.623415"
      ]
     },
     "execution_count": 11,
     "metadata": {},
     "output_type": "execute_result"
    }
   ],
   "source": [
    "xl['xl55'] = xl[['lgb', 'xgb']].mean(axis=1)\n",
    "xl['xl46'] = (xl.lgb * 0.4) + (xl.xgb * 0.6)\n",
    "xl['xl2575'] = (xl.lgb * 0.25) + (xl.xgb * 0.75)\n",
    "xl.head()"
   ]
  },
  {
   "cell_type": "code",
   "execution_count": 16,
   "metadata": {},
   "outputs": [
    {
     "data": {
      "text/html": [
       "<div>\n",
       "<style scoped>\n",
       "    .dataframe tbody tr th:only-of-type {\n",
       "        vertical-align: middle;\n",
       "    }\n",
       "\n",
       "    .dataframe tbody tr th {\n",
       "        vertical-align: top;\n",
       "    }\n",
       "\n",
       "    .dataframe thead th {\n",
       "        text-align: right;\n",
       "    }\n",
       "</style>\n",
       "<table border=\"1\" class=\"dataframe\">\n",
       "  <thead>\n",
       "    <tr style=\"text-align: right;\">\n",
       "      <th></th>\n",
       "      <th>row_id</th>\n",
       "      <th>meter_reading</th>\n",
       "    </tr>\n",
       "  </thead>\n",
       "  <tbody>\n",
       "    <tr>\n",
       "      <th>0</th>\n",
       "      <td>0</td>\n",
       "      <td>53.346082</td>\n",
       "    </tr>\n",
       "    <tr>\n",
       "      <th>1</th>\n",
       "      <td>1</td>\n",
       "      <td>17.365495</td>\n",
       "    </tr>\n",
       "    <tr>\n",
       "      <th>2</th>\n",
       "      <td>2</td>\n",
       "      <td>2.595230</td>\n",
       "    </tr>\n",
       "    <tr>\n",
       "      <th>3</th>\n",
       "      <td>3</td>\n",
       "      <td>222.319205</td>\n",
       "    </tr>\n",
       "    <tr>\n",
       "      <th>4</th>\n",
       "      <td>4</td>\n",
       "      <td>129.623415</td>\n",
       "    </tr>\n",
       "    <tr>\n",
       "      <th>...</th>\n",
       "      <td>...</td>\n",
       "      <td>...</td>\n",
       "    </tr>\n",
       "    <tr>\n",
       "      <th>41697595</th>\n",
       "      <td>41697595</td>\n",
       "      <td>4.897745</td>\n",
       "    </tr>\n",
       "    <tr>\n",
       "      <th>41697596</th>\n",
       "      <td>41697596</td>\n",
       "      <td>5.232897</td>\n",
       "    </tr>\n",
       "    <tr>\n",
       "      <th>41697597</th>\n",
       "      <td>41697597</td>\n",
       "      <td>7.730367</td>\n",
       "    </tr>\n",
       "    <tr>\n",
       "      <th>41697598</th>\n",
       "      <td>41697598</td>\n",
       "      <td>172.912913</td>\n",
       "    </tr>\n",
       "    <tr>\n",
       "      <th>41697599</th>\n",
       "      <td>41697599</td>\n",
       "      <td>4.040385</td>\n",
       "    </tr>\n",
       "  </tbody>\n",
       "</table>\n",
       "<p>41697600 rows × 2 columns</p>\n",
       "</div>"
      ],
      "text/plain": [
       "            row_id  meter_reading\n",
       "0                0      53.346082\n",
       "1                1      17.365495\n",
       "2                2       2.595230\n",
       "3                3     222.319205\n",
       "4                4     129.623415\n",
       "...            ...            ...\n",
       "41697595  41697595       4.897745\n",
       "41697596  41697596       5.232897\n",
       "41697597  41697597       7.730367\n",
       "41697598  41697598     172.912913\n",
       "41697599  41697599       4.040385\n",
       "\n",
       "[41697600 rows x 2 columns]"
      ]
     },
     "execution_count": 16,
     "metadata": {},
     "output_type": "execute_result"
    }
   ],
   "source": [
    "xl1 = xl[['row_id', 'xl55']]\n",
    "xl1.columns = ['row_id', 'meter_reading']\n",
    "\n",
    "xl1.to_csv(f'{path}xl1.csv', index=False)\n",
    "xl1 = pd.read_csv(f'{path}xl1.csv')\n",
    "xl1"
   ]
  },
  {
   "cell_type": "code",
   "execution_count": 17,
   "metadata": {},
   "outputs": [
    {
     "data": {
      "text/html": [
       "<div>\n",
       "<style scoped>\n",
       "    .dataframe tbody tr th:only-of-type {\n",
       "        vertical-align: middle;\n",
       "    }\n",
       "\n",
       "    .dataframe tbody tr th {\n",
       "        vertical-align: top;\n",
       "    }\n",
       "\n",
       "    .dataframe thead th {\n",
       "        text-align: right;\n",
       "    }\n",
       "</style>\n",
       "<table border=\"1\" class=\"dataframe\">\n",
       "  <thead>\n",
       "    <tr style=\"text-align: right;\">\n",
       "      <th></th>\n",
       "      <th>row_id</th>\n",
       "      <th>meter_reading</th>\n",
       "    </tr>\n",
       "  </thead>\n",
       "  <tbody>\n",
       "    <tr>\n",
       "      <th>0</th>\n",
       "      <td>0</td>\n",
       "      <td>53.053358</td>\n",
       "    </tr>\n",
       "    <tr>\n",
       "      <th>1</th>\n",
       "      <td>1</td>\n",
       "      <td>17.243247</td>\n",
       "    </tr>\n",
       "    <tr>\n",
       "      <th>2</th>\n",
       "      <td>2</td>\n",
       "      <td>2.818763</td>\n",
       "    </tr>\n",
       "    <tr>\n",
       "      <th>3</th>\n",
       "      <td>3</td>\n",
       "      <td>252.458148</td>\n",
       "    </tr>\n",
       "    <tr>\n",
       "      <th>4</th>\n",
       "      <td>4</td>\n",
       "      <td>127.114648</td>\n",
       "    </tr>\n",
       "    <tr>\n",
       "      <th>...</th>\n",
       "      <td>...</td>\n",
       "      <td>...</td>\n",
       "    </tr>\n",
       "    <tr>\n",
       "      <th>41697595</th>\n",
       "      <td>41697595</td>\n",
       "      <td>4.863569</td>\n",
       "    </tr>\n",
       "    <tr>\n",
       "      <th>41697596</th>\n",
       "      <td>41697596</td>\n",
       "      <td>5.207736</td>\n",
       "    </tr>\n",
       "    <tr>\n",
       "      <th>41697597</th>\n",
       "      <td>41697597</td>\n",
       "      <td>7.822719</td>\n",
       "    </tr>\n",
       "    <tr>\n",
       "      <th>41697598</th>\n",
       "      <td>41697598</td>\n",
       "      <td>172.888550</td>\n",
       "    </tr>\n",
       "    <tr>\n",
       "      <th>41697599</th>\n",
       "      <td>41697599</td>\n",
       "      <td>4.060803</td>\n",
       "    </tr>\n",
       "  </tbody>\n",
       "</table>\n",
       "<p>41697600 rows × 2 columns</p>\n",
       "</div>"
      ],
      "text/plain": [
       "            row_id  meter_reading\n",
       "0                0      53.053358\n",
       "1                1      17.243247\n",
       "2                2       2.818763\n",
       "3                3     252.458148\n",
       "4                4     127.114648\n",
       "...            ...            ...\n",
       "41697595  41697595       4.863569\n",
       "41697596  41697596       5.207736\n",
       "41697597  41697597       7.822719\n",
       "41697598  41697598     172.888550\n",
       "41697599  41697599       4.060803\n",
       "\n",
       "[41697600 rows x 2 columns]"
      ]
     },
     "execution_count": 17,
     "metadata": {},
     "output_type": "execute_result"
    }
   ],
   "source": [
    "xl2 = xl[['row_id', 'xl46']]\n",
    "xl2.columns = ['row_id', 'meter_reading']\n",
    "\n",
    "xl2.to_csv(f'{path}xl2.csv', index=False)\n",
    "xl2 = pd.read_csv(f'{path}xl2.csv')\n",
    "xl2"
   ]
  },
  {
   "cell_type": "code",
   "execution_count": 18,
   "metadata": {},
   "outputs": [
    {
     "data": {
      "text/html": [
       "<div>\n",
       "<style scoped>\n",
       "    .dataframe tbody tr th:only-of-type {\n",
       "        vertical-align: middle;\n",
       "    }\n",
       "\n",
       "    .dataframe tbody tr th {\n",
       "        vertical-align: top;\n",
       "    }\n",
       "\n",
       "    .dataframe thead th {\n",
       "        text-align: right;\n",
       "    }\n",
       "</style>\n",
       "<table border=\"1\" class=\"dataframe\">\n",
       "  <thead>\n",
       "    <tr style=\"text-align: right;\">\n",
       "      <th></th>\n",
       "      <th>row_id</th>\n",
       "      <th>meter_reading</th>\n",
       "    </tr>\n",
       "  </thead>\n",
       "  <tbody>\n",
       "    <tr>\n",
       "      <th>0</th>\n",
       "      <td>0</td>\n",
       "      <td>52.614273</td>\n",
       "    </tr>\n",
       "    <tr>\n",
       "      <th>1</th>\n",
       "      <td>1</td>\n",
       "      <td>17.059876</td>\n",
       "    </tr>\n",
       "    <tr>\n",
       "      <th>2</th>\n",
       "      <td>2</td>\n",
       "      <td>3.154063</td>\n",
       "    </tr>\n",
       "    <tr>\n",
       "      <th>3</th>\n",
       "      <td>3</td>\n",
       "      <td>297.666563</td>\n",
       "    </tr>\n",
       "    <tr>\n",
       "      <th>4</th>\n",
       "      <td>4</td>\n",
       "      <td>123.351498</td>\n",
       "    </tr>\n",
       "    <tr>\n",
       "      <th>...</th>\n",
       "      <td>...</td>\n",
       "      <td>...</td>\n",
       "    </tr>\n",
       "    <tr>\n",
       "      <th>41697595</th>\n",
       "      <td>41697595</td>\n",
       "      <td>4.812304</td>\n",
       "    </tr>\n",
       "    <tr>\n",
       "      <th>41697596</th>\n",
       "      <td>41697596</td>\n",
       "      <td>5.169994</td>\n",
       "    </tr>\n",
       "    <tr>\n",
       "      <th>41697597</th>\n",
       "      <td>41697597</td>\n",
       "      <td>7.961248</td>\n",
       "    </tr>\n",
       "    <tr>\n",
       "      <th>41697598</th>\n",
       "      <td>41697598</td>\n",
       "      <td>172.852006</td>\n",
       "    </tr>\n",
       "    <tr>\n",
       "      <th>41697599</th>\n",
       "      <td>41697599</td>\n",
       "      <td>4.091430</td>\n",
       "    </tr>\n",
       "  </tbody>\n",
       "</table>\n",
       "<p>41697600 rows × 2 columns</p>\n",
       "</div>"
      ],
      "text/plain": [
       "            row_id  meter_reading\n",
       "0                0      52.614273\n",
       "1                1      17.059876\n",
       "2                2       3.154063\n",
       "3                3     297.666563\n",
       "4                4     123.351498\n",
       "...            ...            ...\n",
       "41697595  41697595       4.812304\n",
       "41697596  41697596       5.169994\n",
       "41697597  41697597       7.961248\n",
       "41697598  41697598     172.852006\n",
       "41697599  41697599       4.091430\n",
       "\n",
       "[41697600 rows x 2 columns]"
      ]
     },
     "execution_count": 18,
     "metadata": {},
     "output_type": "execute_result"
    }
   ],
   "source": [
    "xl3 = xl[['row_id', 'xl2575']]\n",
    "xl3.columns = ['row_id', 'meter_reading']\n",
    "\n",
    "xl3.to_csv(f'{path}xl3.csv', index=False)\n",
    "xl3 = pd.read_csv(f'{path}xl3.csv')\n",
    "xl3"
   ]
  },
  {
   "cell_type": "code",
   "execution_count": null,
   "metadata": {},
   "outputs": [],
   "source": []
  },
  {
   "cell_type": "code",
   "execution_count": null,
   "metadata": {},
   "outputs": [],
   "source": []
  }
 ],
 "metadata": {
  "kernelspec": {
   "display_name": "Python 3",
   "language": "python",
   "name": "python3"
  },
  "language_info": {
   "codemirror_mode": {
    "name": "ipython",
    "version": 3
   },
   "file_extension": ".py",
   "mimetype": "text/x-python",
   "name": "python",
   "nbconvert_exporter": "python",
   "pygments_lexer": "ipython3",
   "version": "3.8.0"
  }
 },
 "nbformat": 4,
 "nbformat_minor": 4
}
